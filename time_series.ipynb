{
  "nbformat": 4,
  "nbformat_minor": 0,
  "metadata": {
    "colab": {
      "name": "time_series.ipynb",
      "provenance": [],
      "collapsed_sections": [],
      "authorship_tag": "ABX9TyOV2PvwFTg+YxZ/4JscWk2I",
      "include_colab_link": true
    },
    "kernelspec": {
      "name": "python3",
      "display_name": "Python 3"
    }
  },
  "cells": [
    {
      "cell_type": "markdown",
      "metadata": {
        "id": "view-in-github",
        "colab_type": "text"
      },
      "source": [
        "<a href=\"https://colab.research.google.com/github/rochinha23/Curso-Data-Science-e-Machine-Learning-com-Estatistica-e-Python/blob/main/time_series.ipynb\" target=\"_parent\"><img src=\"https://colab.research.google.com/assets/colab-badge.svg\" alt=\"Open In Colab\"/></a>"
      ]
    },
    {
      "cell_type": "markdown",
      "metadata": {
        "id": "idZBSAK4Lj0k"
      },
      "source": [
        "**Time Series** modulo especifico para trabalhar com tempo,hora, data..."
      ]
    },
    {
      "cell_type": "markdown",
      "metadata": {
        "id": "6WU-iObVLo_k"
      },
      "source": [
        "**importar pandas, numpy e matplotlib**"
      ]
    },
    {
      "cell_type": "code",
      "metadata": {
        "id": "CCniY8PHLXE4"
      },
      "source": [
        "import pandas as pd\r\n",
        "import numpy as np\r\n",
        "import matplotlib.pyplot as plt\r\n",
        "%matplotlib inline"
      ],
      "execution_count": 1,
      "outputs": []
    },
    {
      "cell_type": "markdown",
      "metadata": {
        "id": "xhnBzYJSMAG7"
      },
      "source": [
        "**datatime**"
      ]
    },
    {
      "cell_type": "code",
      "metadata": {
        "id": "KS-5nmdSMliK"
      },
      "source": [
        "import datetime"
      ],
      "execution_count": 2,
      "outputs": []
    },
    {
      "cell_type": "markdown",
      "metadata": {
        "id": "YNBa97KZMzY3"
      },
      "source": [
        "**Locale**"
      ]
    },
    {
      "cell_type": "code",
      "metadata": {
        "colab": {
          "base_uri": "https://localhost:8080/",
          "height": 299
        },
        "id": "jdRkj0ijM0NX",
        "outputId": "f5239a0e-601b-4c64-f9cd-66c7489920d6"
      },
      "source": [
        "import locale\r\n",
        "locale.setlocale(locale.LC_ALL, 'pt-BR')"
      ],
      "execution_count": 44,
      "outputs": [
        {
          "output_type": "error",
          "ename": "Error",
          "evalue": "ignored",
          "traceback": [
            "\u001b[0;31m---------------------------------------------------------------------------\u001b[0m",
            "\u001b[0;31mError\u001b[0m                                     Traceback (most recent call last)",
            "\u001b[0;32m<ipython-input-44-550c053d8380>\u001b[0m in \u001b[0;36m<module>\u001b[0;34m()\u001b[0m\n\u001b[1;32m      1\u001b[0m \u001b[0;32mimport\u001b[0m \u001b[0mlocale\u001b[0m\u001b[0;34m\u001b[0m\u001b[0;34m\u001b[0m\u001b[0m\n\u001b[0;32m----> 2\u001b[0;31m \u001b[0mlocale\u001b[0m\u001b[0;34m.\u001b[0m\u001b[0msetlocale\u001b[0m\u001b[0;34m(\u001b[0m\u001b[0mlocale\u001b[0m\u001b[0;34m.\u001b[0m\u001b[0mLC_ALL\u001b[0m\u001b[0;34m,\u001b[0m \u001b[0;34m'pt-BR'\u001b[0m\u001b[0;34m)\u001b[0m\u001b[0;34m\u001b[0m\u001b[0;34m\u001b[0m\u001b[0m\n\u001b[0m",
            "\u001b[0;32m/usr/lib/python3.6/locale.py\u001b[0m in \u001b[0;36msetlocale\u001b[0;34m(category, locale)\u001b[0m\n\u001b[1;32m    596\u001b[0m         \u001b[0;31m# convert to string\u001b[0m\u001b[0;34m\u001b[0m\u001b[0;34m\u001b[0m\u001b[0;34m\u001b[0m\u001b[0m\n\u001b[1;32m    597\u001b[0m         \u001b[0mlocale\u001b[0m \u001b[0;34m=\u001b[0m \u001b[0mnormalize\u001b[0m\u001b[0;34m(\u001b[0m\u001b[0m_build_localename\u001b[0m\u001b[0;34m(\u001b[0m\u001b[0mlocale\u001b[0m\u001b[0;34m)\u001b[0m\u001b[0;34m)\u001b[0m\u001b[0;34m\u001b[0m\u001b[0;34m\u001b[0m\u001b[0m\n\u001b[0;32m--> 598\u001b[0;31m     \u001b[0;32mreturn\u001b[0m \u001b[0m_setlocale\u001b[0m\u001b[0;34m(\u001b[0m\u001b[0mcategory\u001b[0m\u001b[0;34m,\u001b[0m \u001b[0mlocale\u001b[0m\u001b[0;34m)\u001b[0m\u001b[0;34m\u001b[0m\u001b[0;34m\u001b[0m\u001b[0m\n\u001b[0m\u001b[1;32m    599\u001b[0m \u001b[0;34m\u001b[0m\u001b[0m\n\u001b[1;32m    600\u001b[0m \u001b[0;32mdef\u001b[0m \u001b[0mresetlocale\u001b[0m\u001b[0;34m(\u001b[0m\u001b[0mcategory\u001b[0m\u001b[0;34m=\u001b[0m\u001b[0mLC_ALL\u001b[0m\u001b[0;34m)\u001b[0m\u001b[0;34m:\u001b[0m\u001b[0;34m\u001b[0m\u001b[0;34m\u001b[0m\u001b[0m\n",
            "\u001b[0;31mError\u001b[0m: unsupported locale setting"
          ]
        }
      ]
    },
    {
      "cell_type": "markdown",
      "metadata": {
        "id": "rvk5tWphM910"
      },
      "source": [
        "**Data e Hora atual(Now)**"
      ]
    },
    {
      "cell_type": "code",
      "metadata": {
        "colab": {
          "base_uri": "https://localhost:8080/"
        },
        "id": "anmMRGQLM-Ig",
        "outputId": "7f67e741-bbc4-4a2c-9096-8daa7cccf5a6"
      },
      "source": [
        "datetime.datetime.now()"
      ],
      "execution_count": 4,
      "outputs": [
        {
          "output_type": "execute_result",
          "data": {
            "text/plain": [
              "datetime.datetime(2020, 12, 11, 19, 9, 13, 13819)"
            ]
          },
          "metadata": {
            "tags": []
          },
          "execution_count": 4
        }
      ]
    },
    {
      "cell_type": "code",
      "metadata": {
        "colab": {
          "base_uri": "https://localhost:8080/"
        },
        "id": "Kn9IZxe7NWDa",
        "outputId": "96b38883-cd5f-4618-933c-9d160919185a"
      },
      "source": [
        "print(datetime.datetime.now())"
      ],
      "execution_count": 5,
      "outputs": [
        {
          "output_type": "stream",
          "text": [
            "2020-12-11 19:09:57.446972\n"
          ],
          "name": "stdout"
        }
      ]
    },
    {
      "cell_type": "markdown",
      "metadata": {
        "id": "ofsklhvhNof4"
      },
      "source": [
        "**Diferença de tempo(Timedelta)**"
      ]
    },
    {
      "cell_type": "code",
      "metadata": {
        "id": "jnJ34YIhNm-L"
      },
      "source": [
        "antes = datetime.datetime.now()"
      ],
      "execution_count": 6,
      "outputs": []
    },
    {
      "cell_type": "code",
      "metadata": {
        "id": "SZiOXja2Ntx1"
      },
      "source": [
        "depois = datetime.datetime.now()"
      ],
      "execution_count": 7,
      "outputs": []
    },
    {
      "cell_type": "code",
      "metadata": {
        "id": "WvhE4a0DNt-a"
      },
      "source": [
        "diferenca = depois - antes"
      ],
      "execution_count": 12,
      "outputs": []
    },
    {
      "cell_type": "code",
      "metadata": {
        "colab": {
          "base_uri": "https://localhost:8080/"
        },
        "id": "lwnbN3djOEtM",
        "outputId": "5c24e37e-9ede-401d-8c15-7994670b200e"
      },
      "source": [
        "diferenca"
      ],
      "execution_count": 13,
      "outputs": [
        {
          "output_type": "execute_result",
          "data": {
            "text/plain": [
              "datetime.timedelta(0, 24, 869938)"
            ]
          },
          "metadata": {
            "tags": []
          },
          "execution_count": 13
        }
      ]
    },
    {
      "cell_type": "code",
      "metadata": {
        "colab": {
          "base_uri": "https://localhost:8080/"
        },
        "id": "c8cD8DcuOYkE",
        "outputId": "37929e6f-29cb-4dd3-b2c6-2edd5fbe2523"
      },
      "source": [
        "diferenca.seconds"
      ],
      "execution_count": 14,
      "outputs": [
        {
          "output_type": "execute_result",
          "data": {
            "text/plain": [
              "24"
            ]
          },
          "metadata": {
            "tags": []
          },
          "execution_count": 14
        }
      ]
    },
    {
      "cell_type": "code",
      "metadata": {
        "colab": {
          "base_uri": "https://localhost:8080/"
        },
        "id": "gvWd9yr0OvjH",
        "outputId": "3c371558-ca94-4f78-bb36-5f165ae860cd"
      },
      "source": [
        "datetime.timedelta(10)"
      ],
      "execution_count": 15,
      "outputs": [
        {
          "output_type": "execute_result",
          "data": {
            "text/plain": [
              "datetime.timedelta(10)"
            ]
          },
          "metadata": {
            "tags": []
          },
          "execution_count": 15
        }
      ]
    },
    {
      "cell_type": "markdown",
      "metadata": {
        "id": "yPj43a4lOknE"
      },
      "source": [
        "**String para data hora (Strptime)**"
      ]
    },
    {
      "cell_type": "code",
      "metadata": {
        "colab": {
          "base_uri": "https://localhost:8080/",
          "height": 35
        },
        "id": "RNTAUa-MOs78",
        "outputId": "8aece97b-2d73-40c6-f7dd-3084fc757c82"
      },
      "source": [
        "str_data_hora = '18-12-2020 13:26:35'\r\n",
        "str_data_hora"
      ],
      "execution_count": 23,
      "outputs": [
        {
          "output_type": "execute_result",
          "data": {
            "application/vnd.google.colaboratory.intrinsic+json": {
              "type": "string"
            },
            "text/plain": [
              "'18-12-2020 13:26:35'"
            ]
          },
          "metadata": {
            "tags": []
          },
          "execution_count": 23
        }
      ]
    },
    {
      "cell_type": "code",
      "metadata": {
        "id": "72JDErDiWopl"
      },
      "source": [
        "convertida_para_datetime = datetime.datetime.strptime(str_data_hora, '%d-%m-%Y %H:%M:%S' )"
      ],
      "execution_count": 24,
      "outputs": []
    },
    {
      "cell_type": "code",
      "metadata": {
        "colab": {
          "base_uri": "https://localhost:8080/"
        },
        "id": "gCuFozNjWpe8",
        "outputId": "493a1b78-07b0-45d1-9fab-51bc8116dd42"
      },
      "source": [
        "convertida_para_datetime"
      ],
      "execution_count": 25,
      "outputs": [
        {
          "output_type": "execute_result",
          "data": {
            "text/plain": [
              "datetime.datetime(2020, 12, 18, 13, 26, 35)"
            ]
          },
          "metadata": {
            "tags": []
          },
          "execution_count": 25
        }
      ]
    },
    {
      "cell_type": "code",
      "metadata": {
        "colab": {
          "base_uri": "https://localhost:8080/"
        },
        "id": "nAk0XUqAXtOK",
        "outputId": "94348710-fb70-411b-a035-97a57296ff50"
      },
      "source": [
        "print(convertida_para_datetime)"
      ],
      "execution_count": 26,
      "outputs": [
        {
          "output_type": "stream",
          "text": [
            "2020-12-18 13:26:35\n"
          ],
          "name": "stdout"
        }
      ]
    },
    {
      "cell_type": "markdown",
      "metadata": {
        "id": "_RFDbaNgYU9y"
      },
      "source": [
        "**String para data hora (Strptime)**"
      ]
    },
    {
      "cell_type": "code",
      "metadata": {
        "id": "q7pVNDc1Ycy0"
      },
      "source": [
        "str_data = '18-12-2020'"
      ],
      "execution_count": 27,
      "outputs": []
    },
    {
      "cell_type": "code",
      "metadata": {
        "id": "H_ch0hA5YslK"
      },
      "source": [
        "data = datetime.datetime.strptime(str_data, '%d-%m-%Y').date()"
      ],
      "execution_count": 30,
      "outputs": []
    },
    {
      "cell_type": "code",
      "metadata": {
        "colab": {
          "base_uri": "https://localhost:8080/"
        },
        "id": "x3iEgC_VYtBH",
        "outputId": "e402e9e3-6c19-4a2f-ccb0-6ad0b8221b8a"
      },
      "source": [
        "data"
      ],
      "execution_count": 31,
      "outputs": [
        {
          "output_type": "execute_result",
          "data": {
            "text/plain": [
              "datetime.date(2020, 12, 18)"
            ]
          },
          "metadata": {
            "tags": []
          },
          "execution_count": 31
        }
      ]
    },
    {
      "cell_type": "code",
      "metadata": {
        "colab": {
          "base_uri": "https://localhost:8080/"
        },
        "id": "gTUEvcU7ZGqY",
        "outputId": "33ea636c-e4dd-44d4-e18a-5b18bf5255ec"
      },
      "source": [
        "print(data)"
      ],
      "execution_count": 32,
      "outputs": [
        {
          "output_type": "stream",
          "text": [
            "2020-12-18\n"
          ],
          "name": "stdout"
        }
      ]
    },
    {
      "cell_type": "markdown",
      "metadata": {
        "id": "bJt8mpi4ZMSn"
      },
      "source": [
        "**Conversão de String para Tempo (Strptime)**"
      ]
    },
    {
      "cell_type": "code",
      "metadata": {
        "id": "t193BnxxZd0b"
      },
      "source": [
        "str_tempo = '17:03:56'"
      ],
      "execution_count": 33,
      "outputs": []
    },
    {
      "cell_type": "code",
      "metadata": {
        "id": "P6GLdVEzZtrr"
      },
      "source": [
        "tempo = datetime.datetime.strptime(str_tempo, '%H:%M:%S').time()"
      ],
      "execution_count": 34,
      "outputs": []
    },
    {
      "cell_type": "code",
      "metadata": {
        "colab": {
          "base_uri": "https://localhost:8080/"
        },
        "id": "1-yjSRloZuti",
        "outputId": "553e1310-5360-4550-d235-05043622dde9"
      },
      "source": [
        "tempo"
      ],
      "execution_count": 35,
      "outputs": [
        {
          "output_type": "execute_result",
          "data": {
            "text/plain": [
              "datetime.time(17, 3, 56)"
            ]
          },
          "metadata": {
            "tags": []
          },
          "execution_count": 35
        }
      ]
    },
    {
      "cell_type": "code",
      "metadata": {
        "colab": {
          "base_uri": "https://localhost:8080/"
        },
        "id": "udgmIE5QZvT_",
        "outputId": "4f100206-5554-4c18-b2ec-9121651f6b3c"
      },
      "source": [
        "print(tempo)"
      ],
      "execution_count": 36,
      "outputs": [
        {
          "output_type": "stream",
          "text": [
            "17:03:56\n"
          ],
          "name": "stdout"
        }
      ]
    },
    {
      "cell_type": "markdown",
      "metadata": {
        "id": "Hozc5waWa4WN"
      },
      "source": [
        "**Periodos de tempos(Freq)**"
      ]
    },
    {
      "cell_type": "code",
      "metadata": {
        "id": "TPpkNFr7a-Ng"
      },
      "source": [
        "start = '01/01/2020'\r\n",
        "end = '31/12/2020'"
      ],
      "execution_count": 37,
      "outputs": []
    },
    {
      "cell_type": "code",
      "metadata": {
        "colab": {
          "base_uri": "https://localhost:8080/"
        },
        "id": "GCjnW-PVbQ8c",
        "outputId": "89317485-8f1f-45b0-91dc-b904e925b452"
      },
      "source": [
        "x=pd.date_range(start, end, freq='MS').strftime('%d/%b/%y')\r\n",
        "x"
      ],
      "execution_count": 41,
      "outputs": [
        {
          "output_type": "execute_result",
          "data": {
            "text/plain": [
              "Index(['01/Jan/20', '01/Feb/20', '01/Mar/20', '01/Apr/20', '01/May/20',\n",
              "       '01/Jun/20', '01/Jul/20', '01/Aug/20', '01/Sep/20', '01/Oct/20',\n",
              "       '01/Nov/20', '01/Dec/20'],\n",
              "      dtype='object')"
            ]
          },
          "metadata": {
            "tags": []
          },
          "execution_count": 41
        }
      ]
    },
    {
      "cell_type": "code",
      "metadata": {
        "colab": {
          "base_uri": "https://localhost:8080/"
        },
        "id": "YXT7TgVUbpoo",
        "outputId": "a3ac0cfe-e3b1-4c13-d368-8a904509177c"
      },
      "source": [
        "len(x)"
      ],
      "execution_count": 40,
      "outputs": [
        {
          "output_type": "execute_result",
          "data": {
            "text/plain": [
              "12"
            ]
          },
          "metadata": {
            "tags": []
          },
          "execution_count": 40
        }
      ]
    },
    {
      "cell_type": "markdown",
      "metadata": {
        "id": "VRXpEAarcjPm"
      },
      "source": [
        "**Plot**"
      ]
    },
    {
      "cell_type": "code",
      "metadata": {
        "id": "4__Hxde8cqJo"
      },
      "source": [
        ""
      ],
      "execution_count": null,
      "outputs": []
    }
  ]
}