{
  "nbformat": 4,
  "nbformat_minor": 0,
  "metadata": {
    "colab": {
      "name": "listas_tuplas_sets.ipynb",
      "provenance": [],
      "collapsed_sections": [],
      "authorship_tag": "ABX9TyPJ6RQSu0XVcyIAS3QZITot",
      "include_colab_link": true
    },
    "kernelspec": {
      "name": "python3",
      "display_name": "Python 3"
    }
  },
  "cells": [
    {
      "cell_type": "markdown",
      "metadata": {
        "id": "view-in-github",
        "colab_type": "text"
      },
      "source": [
        "<a href=\"https://colab.research.google.com/github/rochinha23/Curso-Data-Science-e-Machine-Learning-com-Estatistica-e-Python/blob/main/listas_tuplas_sets.ipynb\" target=\"_parent\"><img src=\"https://colab.research.google.com/assets/colab-badge.svg\" alt=\"Open In Colab\"/></a>"
      ]
    },
    {
      "cell_type": "code",
      "metadata": {
        "id": "CY9kfavPPn5B"
      },
      "source": [
        "n1 = 1\n",
        "n2 = 5\n",
        "n3 = 6\n",
        "n4 = 3\n",
        "n5 = 8"
      ],
      "execution_count": 4,
      "outputs": []
    },
    {
      "cell_type": "code",
      "metadata": {
        "colab": {
          "base_uri": "https://localhost:8080/"
        },
        "id": "gfQHSvAtQHuk",
        "outputId": "5525d3c7-bf05-470b-a6f5-da16d2716899"
      },
      "source": [
        "(n1+n2+n3+n4+n5)/5 #calculando a media das notas"
      ],
      "execution_count": 5,
      "outputs": [
        {
          "output_type": "execute_result",
          "data": {
            "text/plain": [
              "4.6"
            ]
          },
          "metadata": {
            "tags": []
          },
          "execution_count": 5
        }
      ]
    },
    {
      "cell_type": "markdown",
      "metadata": {
        "id": "Z_9Pqsb_QYBH"
      },
      "source": [
        "**Listas**"
      ]
    },
    {
      "cell_type": "code",
      "metadata": {
        "id": "had1b35_Qse_"
      },
      "source": [
        "notas = [2,3,5,9,8,9,2,4,5]"
      ],
      "execution_count": 19,
      "outputs": []
    },
    {
      "cell_type": "code",
      "metadata": {
        "id": "VUay9YnARv7m"
      },
      "source": [
        "notas.append(10)"
      ],
      "execution_count": 23,
      "outputs": []
    },
    {
      "cell_type": "code",
      "metadata": {
        "colab": {
          "base_uri": "https://localhost:8080/"
        },
        "id": "a_4JjPioRMTP",
        "outputId": "ffcb4156-d5cc-42e5-c5df-b469512888f7"
      },
      "source": [
        "sum(notas)"
      ],
      "execution_count": 24,
      "outputs": [
        {
          "output_type": "execute_result",
          "data": {
            "text/plain": [
              "57"
            ]
          },
          "metadata": {
            "tags": []
          },
          "execution_count": 24
        }
      ]
    },
    {
      "cell_type": "code",
      "metadata": {
        "colab": {
          "base_uri": "https://localhost:8080/"
        },
        "id": "K0alsCUuRVi-",
        "outputId": "f07dd6ea-15ab-40e8-d1f4-95627fd44290"
      },
      "source": [
        "len(notas)"
      ],
      "execution_count": 25,
      "outputs": [
        {
          "output_type": "execute_result",
          "data": {
            "text/plain": [
              "10"
            ]
          },
          "metadata": {
            "tags": []
          },
          "execution_count": 25
        }
      ]
    },
    {
      "cell_type": "code",
      "metadata": {
        "colab": {
          "base_uri": "https://localhost:8080/"
        },
        "id": "BBtflG8TRiEg",
        "outputId": "6d15b157-7f94-475f-9be0-b80a94309c71"
      },
      "source": [
        "media = sum(notas)/len(notas)\n",
        "media"
      ],
      "execution_count": 26,
      "outputs": [
        {
          "output_type": "execute_result",
          "data": {
            "text/plain": [
              "5.7"
            ]
          },
          "metadata": {
            "tags": []
          },
          "execution_count": 26
        }
      ]
    },
    {
      "cell_type": "markdown",
      "metadata": {
        "id": "Ok3FxLhWSA_f"
      },
      "source": [
        "**Tuplas**"
      ]
    },
    {
      "cell_type": "code",
      "metadata": {
        "id": "9qccjxlASDND"
      },
      "source": [
        "notas_tuplas = (3,5,6,1)"
      ],
      "execution_count": 27,
      "outputs": []
    },
    {
      "cell_type": "code",
      "metadata": {
        "id": "Je4pDcT6SIus"
      },
      "source": [
        "notas_tuplas = notas_tuplas + (7,)"
      ],
      "execution_count": 28,
      "outputs": []
    },
    {
      "cell_type": "code",
      "metadata": {
        "colab": {
          "base_uri": "https://localhost:8080/"
        },
        "id": "f1ZvkxCeSPn-",
        "outputId": "0e485923-b9e7-4983-91bd-83b52c13f7a4"
      },
      "source": [
        "notas_tuplas"
      ],
      "execution_count": 29,
      "outputs": [
        {
          "output_type": "execute_result",
          "data": {
            "text/plain": [
              "(3, 5, 6, 1, 7)"
            ]
          },
          "metadata": {
            "tags": []
          },
          "execution_count": 29
        }
      ]
    },
    {
      "cell_type": "code",
      "metadata": {
        "id": "A-Zqsr6lSTH1"
      },
      "source": [
        "notas_tuplas += (8,)"
      ],
      "execution_count": 31,
      "outputs": []
    },
    {
      "cell_type": "code",
      "metadata": {
        "colab": {
          "base_uri": "https://localhost:8080/"
        },
        "id": "jSy82IzaSeHv",
        "outputId": "a5ed97d6-6945-496e-b855-968c22aeddd1"
      },
      "source": [
        "notas_tuplas"
      ],
      "execution_count": 32,
      "outputs": [
        {
          "output_type": "execute_result",
          "data": {
            "text/plain": [
              "(3, 5, 6, 1, 7, 8, 8)"
            ]
          },
          "metadata": {
            "tags": []
          },
          "execution_count": 32
        }
      ]
    },
    {
      "cell_type": "markdown",
      "metadata": {
        "id": "HGuRG4U9SjEY"
      },
      "source": [
        "**Sets**"
      ]
    },
    {
      "cell_type": "code",
      "metadata": {
        "id": "jfiiPNOcSlUL"
      },
      "source": [
        "set_notas = {3,3,5,9,7,8} #não recebe valores duplicados e coloca em ordem"
      ],
      "execution_count": 36,
      "outputs": []
    },
    {
      "cell_type": "code",
      "metadata": {
        "colab": {
          "base_uri": "https://localhost:8080/"
        },
        "id": "no3x3ke-S8dT",
        "outputId": "5509de0e-a1b3-4cf6-cd3c-c9ead47a0cc5"
      },
      "source": [
        "set_notas"
      ],
      "execution_count": 37,
      "outputs": [
        {
          "output_type": "execute_result",
          "data": {
            "text/plain": [
              "{3, 5, 7, 8, 9}"
            ]
          },
          "metadata": {
            "tags": []
          },
          "execution_count": 37
        }
      ]
    },
    {
      "cell_type": "code",
      "metadata": {
        "id": "2gDkZRMyTKoP"
      },
      "source": [
        "set_notas.add(10)"
      ],
      "execution_count": 38,
      "outputs": []
    },
    {
      "cell_type": "code",
      "metadata": {
        "colab": {
          "base_uri": "https://localhost:8080/"
        },
        "id": "GZqwWAUqTO3A",
        "outputId": "63c62b76-aeda-438a-895e-8956d74185ae"
      },
      "source": [
        "set_notas"
      ],
      "execution_count": 39,
      "outputs": [
        {
          "output_type": "execute_result",
          "data": {
            "text/plain": [
              "{3, 5, 7, 8, 9, 10}"
            ]
          },
          "metadata": {
            "tags": []
          },
          "execution_count": 39
        }
      ]
    }
  ]
}