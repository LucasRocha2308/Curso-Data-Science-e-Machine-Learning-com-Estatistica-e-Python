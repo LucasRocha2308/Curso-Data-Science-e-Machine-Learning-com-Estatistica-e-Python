{
  "nbformat": 4,
  "nbformat_minor": 0,
  "metadata": {
    "kernelspec": {
      "display_name": "Python 3",
      "language": "python",
      "name": "python3"
    },
    "language_info": {
      "codemirror_mode": {
        "name": "ipython",
        "version": 3
      },
      "file_extension": ".py",
      "mimetype": "text/x-python",
      "name": "python",
      "nbconvert_exporter": "python",
      "pygments_lexer": "ipython3",
      "version": "3.7.3"
    },
    "colab": {
      "name": "Tipos de ML.ipynb",
      "provenance": [],
      "include_colab_link": true
    }
  },
  "cells": [
    {
      "cell_type": "markdown",
      "metadata": {
        "id": "view-in-github",
        "colab_type": "text"
      },
      "source": [
        "<a href=\"https://colab.research.google.com/github/rochinha23/Curso-Data-Science-e-Machine-Learning-com-Estatistica-e-Python/blob/main/Tipos_de_ML.ipynb\" target=\"_parent\"><img src=\"https://colab.research.google.com/assets/colab-badge.svg\" alt=\"Open In Colab\"/></a>"
      ]
    },
    {
      "cell_type": "markdown",
      "metadata": {
        "id": "WIKfDVTC0k81"
      },
      "source": [
        "# Aprendizagem Supervisionada\n",
        "* Definição: ensinamos a máquina usando rótulos\n",
        "* Tipos de Problemas: Regressão e Classificação.\n",
        "* Tipos de Dados: Dados rotulados\n",
        "* Treino(Aprendizagem): Supervisão externa\n",
        "* Usabilidade: Prever ou estimar resultados\n",
        "* Abordagem: Entrada (Input) rotulado e Saída (Output) conhecida\n",
        "* Feedback: Direto (Saída conhecida)\n",
        "* Algoritmos: \n",
        "    * Linear Regression\n",
        "    * Logistic Regression\n",
        "    * Support Vector Machine\n",
        "    * K Nearest Neighbour\n",
        "    * Random Forest"
      ]
    },
    {
      "cell_type": "markdown",
      "metadata": {
        "id": "ehEybaU50k86"
      },
      "source": [
        "# Aprendizagem Não-Supervisionada\n",
        "* Definição: a máquina aprende sozinha sem nenhuma supervisão\n",
        "* Tipos de Problemas: Associação e Clustering (Agrupamentos)\n",
        "* Tipos de Dados: Dados não-rotulados \n",
        "* Treino(Aprendizagem): Nenhuma Supervisão\n",
        "* Usabilidade: Descobrir padrões e associações\n",
        "* Abordagem: Entender padrões e descobrir a saída (output)\n",
        "* Feedback: Nenhum\n",
        "* Algoritmos:\n",
        "    * K-Means\n",
        "    * Apriori\n",
        "    * C-Means"
      ]
    },
    {
      "cell_type": "markdown",
      "metadata": {
        "id": "d_gTNmA60k88"
      },
      "source": [
        "# Aprendizagem Reinforçada\n",
        "* Definição: o agente (máquina) interage com o ambiente produzindo ações que dão a ele **punições** e **recompensas**\n",
        "* Tipos de Problemas: Labirintos\n",
        "* Tipos de Dados: Nenhum Dado Pré-definido\n",
        "* Treino(Aprendizagem): Nenhuma supervisão\n",
        "* Usabilidade: Aprender uma série de ações \n",
        "* Abordagem: Método de Tentativa e Erro \n",
        "* Feedback: Recompensa x Punições\n",
        "* Algoritmos:\n",
        "    * Q-Learning\n",
        "    * SARSA"
      ]
    },
    {
      "cell_type": "markdown",
      "metadata": {
        "id": "LNaNEFYb0k89"
      },
      "source": [
        "Fonte (em inglês): https://www.youtube.com/watch?v=xtOg44r6dsE"
      ]
    }
  ]
}