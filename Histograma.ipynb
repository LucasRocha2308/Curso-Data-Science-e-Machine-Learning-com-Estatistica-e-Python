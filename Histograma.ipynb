{
  "nbformat": 4,
  "nbformat_minor": 0,
  "metadata": {
    "colab": {
      "name": "Histograma.ipynb",
      "provenance": [],
      "collapsed_sections": [],
      "authorship_tag": "ABX9TyMAPZhAZwN5qmkIInbxbpLU",
      "include_colab_link": true
    },
    "kernelspec": {
      "name": "python3",
      "display_name": "Python 3"
    }
  },
  "cells": [
    {
      "cell_type": "markdown",
      "metadata": {
        "id": "view-in-github",
        "colab_type": "text"
      },
      "source": [
        "<a href=\"https://colab.research.google.com/github/rochinha23/Curso-Data-Science-e-Machine-Learning-com-Estatistica-e-Python/blob/main/Histograma.ipynb\" target=\"_parent\"><img src=\"https://colab.research.google.com/assets/colab-badge.svg\" alt=\"Open In Colab\"/></a>"
      ]
    },
    {
      "cell_type": "code",
      "metadata": {
        "id": "KiSZEh5d8A7M"
      },
      "source": [
        "import pandas as pd\r\n",
        "import matplotlib.pyplot as plt"
      ],
      "execution_count": 1,
      "outputs": []
    },
    {
      "cell_type": "code",
      "metadata": {
        "id": "Bnjfy5wsEW5w"
      },
      "source": [
        "#km = pd.Series([4,6,6,7,11,13,18,18,21,24,26,27,35,36,36,42,43,45,49])"
      ],
      "execution_count": 4,
      "outputs": []
    },
    {
      "cell_type": "code",
      "metadata": {
        "id": "7pm0QbStOxIl"
      },
      "source": [
        "#lista = km.values"
      ],
      "execution_count": 21,
      "outputs": []
    },
    {
      "cell_type": "code",
      "metadata": {
        "colab": {
          "base_uri": "https://localhost:8080/"
        },
        "id": "NDojcYX9O1yz",
        "outputId": "781615a4-2316-4419-dfc8-a3e54e6e58aa"
      },
      "source": [
        "#menor_valor = lista[0]"
      ],
      "execution_count": 22,
      "outputs": [
        {
          "output_type": "execute_result",
          "data": {
            "text/plain": [
              "4"
            ]
          },
          "metadata": {
            "tags": []
          },
          "execution_count": 22
        }
      ]
    },
    {
      "cell_type": "code",
      "metadata": {
        "colab": {
          "base_uri": "https://localhost:8080/"
        },
        "id": "Vb_9X92AO5Le",
        "outputId": "5223b690-21d9-428b-f2a4-5afa4b3b1d2c"
      },
      "source": [
        "#maior_valor = lista[-1]"
      ],
      "execution_count": 23,
      "outputs": [
        {
          "output_type": "execute_result",
          "data": {
            "text/plain": [
              "49"
            ]
          },
          "metadata": {
            "tags": []
          },
          "execution_count": 23
        }
      ]
    },
    {
      "cell_type": "code",
      "metadata": {
        "colab": {
          "base_uri": "https://localhost:8080/"
        },
        "id": "0R1xHYI3FKDw",
        "outputId": "3a1f690c-c760-4d34-f31e-99ddf88c0058"
      },
      "source": [
        "#(49-4)/5 #tamanho do intervalo"
      ],
      "execution_count": 8,
      "outputs": [
        {
          "output_type": "execute_result",
          "data": {
            "text/plain": [
              "9.0"
            ]
          },
          "metadata": {
            "tags": []
          },
          "execution_count": 8
        }
      ]
    },
    {
      "cell_type": "code",
      "metadata": {
        "id": "zveQdsBEFa7-"
      },
      "source": [
        "#ticks = [4,13,22,31,40,49]"
      ],
      "execution_count": 10,
      "outputs": []
    },
    {
      "cell_type": "code",
      "metadata": {
        "colab": {
          "base_uri": "https://localhost:8080/",
          "height": 295
        },
        "id": "o9pis_zWEm-W",
        "outputId": "4187c1d7-67d2-4261-bfc7-4a9d6e6f4483"
      },
      "source": [
        "#barras = 5\r\n",
        "#km.plot.hist(bins=barras,rwidth=0.95)\r\n",
        "#plt.xticks(ticks)\r\n",
        "#plt.title('Distância de casa para trabalho ')\r\n",
        "#plt.xlabel('km')\r\n",
        "#plt.ylabel('frequencia')\r\n",
        "#plt.grid(axis='y')\r\n",
        "#plt.show()"
      ],
      "execution_count": 33,
      "outputs": [
        {
          "output_type": "display_data",
          "data": {
            "image/png": "[encoded data removed]",
            "text/plain": [
              "<Figure size 432x288 with 1 Axes>"
            ]
          },
          "metadata": {
            "tags": [],
            "needs_background": "light"
          }
        }
      ]
    },
    {
      "cell_type": "code",
      "metadata": {
        "id": "9hKxOfBaSk6r"
      },
      "source": [
        "km = pd.Series([4,6,6,7,11,13,18,18,21,24,26,27,35,36,36,42,43,45,49])"
      ],
      "execution_count": 39,
      "outputs": []
    },
    {
      "cell_type": "code",
      "metadata": {
        "colab": {
          "base_uri": "https://localhost:8080/",
          "height": 295
        },
        "id": "_jhbCOpXRJD6",
        "outputId": "50d58db5-ae99-4e80-bb0e-bd79e260b831"
      },
      "source": [
        "lista = km.values\r\n",
        "barras = 6\r\n",
        "km.plot.hist(bins=barras,rwidth=0.95)\r\n",
        "ticks = calcula_ticks(lista,barras)\r\n",
        "plt.xticks(ticks)\r\n",
        "plt.title('Distância de casa para trabalho ')\r\n",
        "plt.xlabel('km')\r\n",
        "plt.ylabel('frequencia')\r\n",
        "plt.grid(axis='y')\r\n",
        "plt.show()"
      ],
      "execution_count": 41,
      "outputs": [
        {
          "output_type": "display_data",
          "data": {
            "image/png": "[encoded data removed]",
            "text/plain": [
              "<Figure size 432x288 with 1 Axes>"
            ]
          },
          "metadata": {
            "tags": [],
            "needs_background": "light"
          }
        }
      ]
    },
    {
      "cell_type": "code",
      "metadata": {
        "id": "rZT6HzgASuGX"
      },
      "source": [
        "def calcula_ticks(lista,barras):\r\n",
        "  menor_valor = lista[0]\r\n",
        "  maior_valor = lista[-1]\r\n",
        "  intervalo = (maior_valor - menor_valor)/barras\r\n",
        "  ticks = [menor_valor]\r\n",
        "  ultimo = menor_valor + intervalo\r\n",
        "  ticks.append(ultimo)\r\n",
        "  for x in range(barras-1):\r\n",
        "    ultimo += intervalo\r\n",
        "    ticks.append(ultimo)\r\n",
        "  return ticks"
      ],
      "execution_count": 38,
      "outputs": []
    }
  ]
}