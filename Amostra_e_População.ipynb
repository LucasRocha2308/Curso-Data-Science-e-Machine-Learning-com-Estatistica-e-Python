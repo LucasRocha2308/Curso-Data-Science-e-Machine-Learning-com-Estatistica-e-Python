{
  "nbformat": 4,
  "nbformat_minor": 0,
  "metadata": {
    "colab": {
      "name": "Amostra e População.ipynb",
      "provenance": [],
      "collapsed_sections": [],
      "authorship_tag": "ABX9TyPm1+hMW9WqofzvXOgOvvcg",
      "include_colab_link": true
    },
    "kernelspec": {
      "name": "python3",
      "display_name": "Python 3"
    }
  },
  "cells": [
    {
      "cell_type": "markdown",
      "metadata": {
        "id": "view-in-github",
        "colab_type": "text"
      },
      "source": [
        "<a href=\"https://colab.research.google.com/github/rochinha23/Curso-Data-Science-e-Machine-Learning-com-Estatistica-e-Python/blob/main/Amostra_e_Popula%C3%A7%C3%A3o.ipynb\" target=\"_parent\"><img src=\"https://colab.research.google.com/assets/colab-badge.svg\" alt=\"Open In Colab\"/></a>"
      ]
    },
    {
      "cell_type": "markdown",
      "metadata": {
        "id": "D9Ran7fKqrZ4"
      },
      "source": [
        "**População**\r\n",
        "\r\n",
        "Tudo ou todos. Um grupo de pessoas ou objetos incluidos num estudos ex.:pessoas, empresas, animais ..."
      ]
    },
    {
      "cell_type": "markdown",
      "metadata": {
        "id": "uA8ocCrBxSz0"
      },
      "source": [
        "**Amostra**\r\n",
        "Uma pequena porção ou parte deuma população\r\n",
        "\r\n",
        "Podem ser:\r\n",
        "Representativa\r\n",
        "Tendenciosa\r\n",
        "\r\n",
        "**Parâmetro** Caracteristica da População\r\n",
        "**Estatística** Caracteristica da Amostra\r\n"
      ]
    },
    {
      "cell_type": "markdown",
      "metadata": {
        "id": "VdDwwyXLxbWS"
      },
      "source": [
        "**Notação Estatística**\r\n",
        "\r\n",
        "N -> População\r\n",
        "\r\n",
        "n -> Amostra\r\n",
        "\r\n"
      ]
    },
    {
      "cell_type": "markdown",
      "metadata": {
        "id": "i-j67oZ8ykXx"
      },
      "source": [
        "**Tipos de dados e niveis de mensuração**"
      ]
    },
    {
      "cell_type": "markdown",
      "metadata": {
        "id": "n9CN13wsy4T4"
      },
      "source": [
        "**Tipos de dados**\r\n",
        " Categorico (ex: tipo de carro, cor)\r\n",
        "\r\n",
        " Numerico:\r\n",
        "\r\n",
        "  discreto (ex:número de comodos de uma casa, quantidade de filhos, numeros de sapatos, numeros inteiros)\r\n",
        " \r\n",
        " Continuo (ex:altura, peso, numeros decimais)"
      ]
    },
    {
      "cell_type": "markdown",
      "metadata": {
        "id": "h1S1JwCnz4y3"
      },
      "source": [
        "**Níveis de mensuração**\r\n",
        "\r\n",
        "    Qualitativo\r\n",
        "        Nominal: Categorias, sem numeros(cor, sim/não, rótulo, genero...)\r\n",
        "        Ordinal: Ordem importa ex (posição numa corrida, top 5 seriados de comedia)\r\n",
        "\r\n",
        "    Quantitativo\r\n",
        "        Intervalar (ex:temperatura)\r\n",
        "        Razão (ex: pontuação num teste, idade, quantidade de filhos\r\n",
        "    "
      ]
    },
    {
      "cell_type": "markdown",
      "metadata": {
        "id": "_1XeAE1N21XJ"
      },
      "source": [
        "**Tecnicas de amostragens**\r\n",
        "\r\n",
        "Regra #1\r\n",
        "\r\n",
        "Amostra precisa ser representativa da população, aleatoria(para não ser tendenciosa)\r\n",
        "\r\n",
        "**Métodos de amostragem aleatoria**\r\n",
        "\r\n",
        "    Simples: (seleção puramente aleatoria)\r\n",
        "\r\n",
        "    Estratificada: (Divide População em grupos e seleciona a proporção de cada grupo na amostra)\r\n",
        "\r\n",
        "    Por Conglomerado: (Divide população em grupo e seleciona todos os individuos de um grupo aleatoriamente)\r\n",
        "\r\n",
        "    Sistematica: (Seleciona-se o 1º individuo de forma aleatoria e escolhe-se todo enesimo apos o ultimo selecionado até voltar ao 1º)\r\n",
        "\r\n",
        "    Por Conveniência: (não aleatoria) (seleciona-se individuos que estão prontamente disponiveis)\r\n"
      ]
    }
  ]
}