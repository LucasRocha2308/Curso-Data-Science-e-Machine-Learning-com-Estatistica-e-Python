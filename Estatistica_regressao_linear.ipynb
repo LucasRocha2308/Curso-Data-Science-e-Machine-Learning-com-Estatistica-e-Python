{
  "nbformat": 4,
  "nbformat_minor": 0,
  "metadata": {
    "colab": {
      "name": "Estatistica_regressao_linear.ipynb",
      "provenance": [],
      "collapsed_sections": [],
      "authorship_tag": "ABX9TyPX2mTCBBksRhH0Cy4wIC33",
      "include_colab_link": true
    },
    "kernelspec": {
      "name": "python3",
      "display_name": "Python 3"
    }
  },
  "cells": [
    {
      "cell_type": "markdown",
      "metadata": {
        "id": "view-in-github",
        "colab_type": "text"
      },
      "source": [
        "<a href=\"https://colab.research.google.com/github/rochinha23/Curso-Data-Science-e-Machine-Learning-com-Estatistica-e-Python/blob/main/Estatistica_regressao_linear.ipynb\" target=\"_parent\"><img src=\"https://colab.research.google.com/assets/colab-badge.svg\" alt=\"Open In Colab\"/></a>"
      ]
    },
    {
      "cell_type": "markdown",
      "metadata": {
        "id": "LMQO1IktT9Et"
      },
      "source": [
        "**Regressão linear** equação que estima um y atraves do x"
      ]
    },
    {
      "cell_type": "markdown",
      "metadata": {
        "id": "glcd8ZZQUjex"
      },
      "source": [
        "**Importar pandas e matplotlib**"
      ]
    },
    {
      "cell_type": "code",
      "metadata": {
        "id": "FkXTTw6RQt_L"
      },
      "source": [
        "import pandas as pd\r\n",
        "import matplotlib.pyplot as plt"
      ],
      "execution_count": 1,
      "outputs": []
    },
    {
      "cell_type": "markdown",
      "metadata": {
        "id": "vMRuVEOtT-ee"
      },
      "source": [
        "**Criar um Data Frame de faturamento mensal de 12 meses**"
      ]
    },
    {
      "cell_type": "code",
      "metadata": {
        "id": "ZYDw06_yT-tR"
      },
      "source": [
        "faturamento = [25,38,29,115,82,114,120,160,153,190,239,175]"
      ],
      "execution_count": 2,
      "outputs": []
    },
    {
      "cell_type": "code",
      "metadata": {
        "id": "6X3C738_WRWH"
      },
      "source": [
        "mes = list(range(1,13))"
      ],
      "execution_count": 3,
      "outputs": []
    },
    {
      "cell_type": "code",
      "metadata": {
        "id": "L2gUJZFYWoa9"
      },
      "source": [
        "data_dict = {'mes': mes, 'faturamento': faturamento}"
      ],
      "execution_count": 4,
      "outputs": []
    },
    {
      "cell_type": "code",
      "metadata": {
        "colab": {
          "base_uri": "https://localhost:8080/"
        },
        "id": "3mNXEV4CW9Wh",
        "outputId": "2c3ad09a-c25b-487e-9f02-630e5c946efc"
      },
      "source": [
        "data_dict"
      ],
      "execution_count": 5,
      "outputs": [
        {
          "output_type": "execute_result",
          "data": {
            "text/plain": [
              "{'faturamento': [25, 38, 29, 115, 82, 114, 120, 160, 153, 190, 239, 175],\n",
              " 'mes': [1, 2, 3, 4, 5, 6, 7, 8, 9, 10, 11, 12]}"
            ]
          },
          "metadata": {
            "tags": []
          },
          "execution_count": 5
        }
      ]
    },
    {
      "cell_type": "code",
      "metadata": {
        "id": "PU4Am5wZXTtv"
      },
      "source": [
        "data = pd.DataFrame.from_dict(data_dict)"
      ],
      "execution_count": 6,
      "outputs": []
    },
    {
      "cell_type": "code",
      "metadata": {
        "colab": {
          "base_uri": "https://localhost:8080/",
          "height": 421
        },
        "id": "4pWBeIMbXhOe",
        "outputId": "97b6ed50-d33e-4e2f-fe86-664f2ee43446"
      },
      "source": [
        "data"
      ],
      "execution_count": 7,
      "outputs": [
        {
          "output_type": "execute_result",
          "data": {
            "text/html": [
              "<div>\n",
              "<style scoped>\n",
              "    .dataframe tbody tr th:only-of-type {\n",
              "        vertical-align: middle;\n",
              "    }\n",
              "\n",
              "    .dataframe tbody tr th {\n",
              "        vertical-align: top;\n",
              "    }\n",
              "\n",
              "    .dataframe thead th {\n",
              "        text-align: right;\n",
              "    }\n",
              "</style>\n",
              "<table border=\"1\" class=\"dataframe\">\n",
              "  <thead>\n",
              "    <tr style=\"text-align: right;\">\n",
              "      <th></th>\n",
              "      <th>mes</th>\n",
              "      <th>faturamento</th>\n",
              "    </tr>\n",
              "  </thead>\n",
              "  <tbody>\n",
              "    <tr>\n",
              "      <th>0</th>\n",
              "      <td>1</td>\n",
              "      <td>25</td>\n",
              "    </tr>\n",
              "    <tr>\n",
              "      <th>1</th>\n",
              "      <td>2</td>\n",
              "      <td>38</td>\n",
              "    </tr>\n",
              "    <tr>\n",
              "      <th>2</th>\n",
              "      <td>3</td>\n",
              "      <td>29</td>\n",
              "    </tr>\n",
              "    <tr>\n",
              "      <th>3</th>\n",
              "      <td>4</td>\n",
              "      <td>115</td>\n",
              "    </tr>\n",
              "    <tr>\n",
              "      <th>4</th>\n",
              "      <td>5</td>\n",
              "      <td>82</td>\n",
              "    </tr>\n",
              "    <tr>\n",
              "      <th>5</th>\n",
              "      <td>6</td>\n",
              "      <td>114</td>\n",
              "    </tr>\n",
              "    <tr>\n",
              "      <th>6</th>\n",
              "      <td>7</td>\n",
              "      <td>120</td>\n",
              "    </tr>\n",
              "    <tr>\n",
              "      <th>7</th>\n",
              "      <td>8</td>\n",
              "      <td>160</td>\n",
              "    </tr>\n",
              "    <tr>\n",
              "      <th>8</th>\n",
              "      <td>9</td>\n",
              "      <td>153</td>\n",
              "    </tr>\n",
              "    <tr>\n",
              "      <th>9</th>\n",
              "      <td>10</td>\n",
              "      <td>190</td>\n",
              "    </tr>\n",
              "    <tr>\n",
              "      <th>10</th>\n",
              "      <td>11</td>\n",
              "      <td>239</td>\n",
              "    </tr>\n",
              "    <tr>\n",
              "      <th>11</th>\n",
              "      <td>12</td>\n",
              "      <td>175</td>\n",
              "    </tr>\n",
              "  </tbody>\n",
              "</table>\n",
              "</div>"
            ],
            "text/plain": [
              "    mes  faturamento\n",
              "0     1           25\n",
              "1     2           38\n",
              "2     3           29\n",
              "3     4          115\n",
              "4     5           82\n",
              "5     6          114\n",
              "6     7          120\n",
              "7     8          160\n",
              "8     9          153\n",
              "9    10          190\n",
              "10   11          239\n",
              "11   12          175"
            ]
          },
          "metadata": {
            "tags": []
          },
          "execution_count": 7
        }
      ]
    },
    {
      "cell_type": "markdown",
      "metadata": {
        "id": "n6CiG5P8T-85"
      },
      "source": [
        "**Visualizar dados em Gráfico de dispersão**"
      ]
    },
    {
      "cell_type": "code",
      "metadata": {
        "id": "DS-KJ-rcT_Iz"
      },
      "source": [
        "x = data['mes']\r\n",
        "y = data['faturamento']\r\n"
      ],
      "execution_count": 8,
      "outputs": []
    },
    {
      "cell_type": "code",
      "metadata": {
        "colab": {
          "base_uri": "https://localhost:8080/",
          "height": 265
        },
        "id": "OxTe5BiJYWvR",
        "outputId": "7e92082f-9805-4653-c0ba-d8b6d14cb321"
      },
      "source": [
        "plt.scatter(x,y)\r\n",
        "plt.show()"
      ],
      "execution_count": 9,
      "outputs": [
        {
          "output_type": "display_data",
          "data": {
            "image/png": "[encoded data removed]",
            "text/plain": [
              "<Figure size 432x288 with 1 Axes>"
            ]
          },
          "metadata": {
            "tags": [],
            "needs_background": "light"
          }
        }
      ]
    },
    {
      "cell_type": "code",
      "metadata": {
        "colab": {
          "base_uri": "https://localhost:8080/",
          "height": 111
        },
        "id": "86TYLY6oZlRg",
        "outputId": "e3d95020-aad1-45c7-cfcd-7d366d69c1d2"
      },
      "source": [
        "data[['mes','faturamento']].corr()"
      ],
      "execution_count": 10,
      "outputs": [
        {
          "output_type": "execute_result",
          "data": {
            "text/html": [
              "<div>\n",
              "<style scoped>\n",
              "    .dataframe tbody tr th:only-of-type {\n",
              "        vertical-align: middle;\n",
              "    }\n",
              "\n",
              "    .dataframe tbody tr th {\n",
              "        vertical-align: top;\n",
              "    }\n",
              "\n",
              "    .dataframe thead th {\n",
              "        text-align: right;\n",
              "    }\n",
              "</style>\n",
              "<table border=\"1\" class=\"dataframe\">\n",
              "  <thead>\n",
              "    <tr style=\"text-align: right;\">\n",
              "      <th></th>\n",
              "      <th>mes</th>\n",
              "      <th>faturamento</th>\n",
              "    </tr>\n",
              "  </thead>\n",
              "  <tbody>\n",
              "    <tr>\n",
              "      <th>mes</th>\n",
              "      <td>1.000000</td>\n",
              "      <td>0.935045</td>\n",
              "    </tr>\n",
              "    <tr>\n",
              "      <th>faturamento</th>\n",
              "      <td>0.935045</td>\n",
              "      <td>1.000000</td>\n",
              "    </tr>\n",
              "  </tbody>\n",
              "</table>\n",
              "</div>"
            ],
            "text/plain": [
              "                  mes  faturamento\n",
              "mes          1.000000     0.935045\n",
              "faturamento  0.935045     1.000000"
            ]
          },
          "metadata": {
            "tags": []
          },
          "execution_count": 10
        }
      ]
    },
    {
      "cell_type": "markdown",
      "metadata": {
        "id": "ifkkaf2lZ-yf"
      },
      "source": [
        "![image.png](data:image/png;base64,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)"
      ]
    },
    {
      "cell_type": "markdown",
      "metadata": {
        "id": "Uv87Sm14aANI"
      },
      "source": [
        "n = numero de observações\r\n"
      ]
    },
    {
      "cell_type": "markdown",
      "metadata": {
        "id": "V15rzNwTbM7X"
      },
      "source": [
        "encontrando o valor de **m**"
      ]
    },
    {
      "cell_type": "code",
      "metadata": {
        "id": "1vHSJkqjbLXY"
      },
      "source": [
        "somatorioX = x.sum()"
      ],
      "execution_count": 11,
      "outputs": []
    },
    {
      "cell_type": "code",
      "metadata": {
        "id": "kuwqtRNgbgN0"
      },
      "source": [
        "somatorioY = y.sum()"
      ],
      "execution_count": 12,
      "outputs": []
    },
    {
      "cell_type": "code",
      "metadata": {
        "colab": {
          "base_uri": "https://localhost:8080/"
        },
        "id": "0NYEM7yYbg-o",
        "outputId": "3f59b7dc-0bff-409c-8be1-6c47a0f604f6"
      },
      "source": [
        "x*y"
      ],
      "execution_count": 13,
      "outputs": [
        {
          "output_type": "execute_result",
          "data": {
            "text/plain": [
              "0       25\n",
              "1       76\n",
              "2       87\n",
              "3      460\n",
              "4      410\n",
              "5      684\n",
              "6      840\n",
              "7     1280\n",
              "8     1377\n",
              "9     1900\n",
              "10    2629\n",
              "11    2100\n",
              "dtype: int64"
            ]
          },
          "metadata": {
            "tags": []
          },
          "execution_count": 13
        }
      ]
    },
    {
      "cell_type": "code",
      "metadata": {
        "colab": {
          "base_uri": "https://localhost:8080/"
        },
        "id": "L19fPjLcbhLU",
        "outputId": "3e0bf437-d634-4459-81eb-a6a68a2af0e9"
      },
      "source": [
        "x**2"
      ],
      "execution_count": 14,
      "outputs": [
        {
          "output_type": "execute_result",
          "data": {
            "text/plain": [
              "0       1\n",
              "1       4\n",
              "2       9\n",
              "3      16\n",
              "4      25\n",
              "5      36\n",
              "6      49\n",
              "7      64\n",
              "8      81\n",
              "9     100\n",
              "10    121\n",
              "11    144\n",
              "Name: mes, dtype: int64"
            ]
          },
          "metadata": {
            "tags": []
          },
          "execution_count": 14
        }
      ]
    },
    {
      "cell_type": "code",
      "metadata": {
        "id": "-hnWlnXPb8dZ"
      },
      "source": [
        "somatorioXY = (x*y).sum()"
      ],
      "execution_count": 15,
      "outputs": []
    },
    {
      "cell_type": "code",
      "metadata": {
        "id": "EA2GXQkgb8n7"
      },
      "source": [
        "somatorioXquadrado = (x**2).sum()"
      ],
      "execution_count": 16,
      "outputs": []
    },
    {
      "cell_type": "code",
      "metadata": {
        "colab": {
          "base_uri": "https://localhost:8080/"
        },
        "id": "lV-AwKFmcNuc",
        "outputId": "30d9abd9-0280-4aac-ad6b-c7413161a1c7"
      },
      "source": [
        "n = len(data['mes'])\r\n",
        "n"
      ],
      "execution_count": 17,
      "outputs": [
        {
          "output_type": "execute_result",
          "data": {
            "text/plain": [
              "12"
            ]
          },
          "metadata": {
            "tags": []
          },
          "execution_count": 17
        }
      ]
    },
    {
      "cell_type": "code",
      "metadata": {
        "id": "RVA3p-P9b8uM"
      },
      "source": [
        "m = ((n*somatorioXY) - (somatorioX*somatorioY))/ ((n*somatorioXquadrado) - ((somatorioX)**2) )"
      ],
      "execution_count": 18,
      "outputs": []
    },
    {
      "cell_type": "code",
      "metadata": {
        "colab": {
          "base_uri": "https://localhost:8080/"
        },
        "id": "dcLT4yCXdT5r",
        "outputId": "71849a07-eee0-4402-829b-603d56e8e32a"
      },
      "source": [
        "m.round(4)"
      ],
      "execution_count": 19,
      "outputs": [
        {
          "output_type": "execute_result",
          "data": {
            "text/plain": [
              "17.5385"
            ]
          },
          "metadata": {
            "tags": []
          },
          "execution_count": 19
        }
      ]
    },
    {
      "cell_type": "markdown",
      "metadata": {
        "id": "UQIaTDESdsF9"
      },
      "source": [
        "encontrando o valor de **b**"
      ]
    },
    {
      "cell_type": "code",
      "metadata": {
        "id": "y2Hs4lU4dvzi"
      },
      "source": [
        "b = (somatorioY - (m*somatorioX))/n"
      ],
      "execution_count": 20,
      "outputs": []
    },
    {
      "cell_type": "code",
      "metadata": {
        "colab": {
          "base_uri": "https://localhost:8080/"
        },
        "id": "hUoRbB6md8Ci",
        "outputId": "020e5382-99b3-45b0-81a0-6cc2337fe2e2"
      },
      "source": [
        "b.round()"
      ],
      "execution_count": 21,
      "outputs": [
        {
          "output_type": "execute_result",
          "data": {
            "text/plain": [
              "6.0"
            ]
          },
          "metadata": {
            "tags": []
          },
          "execution_count": 21
        }
      ]
    },
    {
      "cell_type": "markdown",
      "metadata": {
        "id": "AId4Umc2eOY5"
      },
      "source": [
        "**Modelo Preditivo**\r\n",
        "\r\n",
        "Criar modelo preditivo para prever (ou estimar) o rendimento de qualquer mês\r\n",
        "\r\n",
        "y = mx + b"
      ]
    },
    {
      "cell_type": "code",
      "metadata": {
        "id": "gOnhF9U4edQg"
      },
      "source": [
        "xpred = 24"
      ],
      "execution_count": 22,
      "outputs": []
    },
    {
      "cell_type": "code",
      "metadata": {
        "id": "YZGis1sdekqE"
      },
      "source": [
        "ypred = m*xpred + b"
      ],
      "execution_count": 23,
      "outputs": []
    },
    {
      "cell_type": "code",
      "metadata": {
        "colab": {
          "base_uri": "https://localhost:8080/"
        },
        "id": "-5XG8ScGepBS",
        "outputId": "65715322-9a44-4547-cf86-4cff99238fe4"
      },
      "source": [
        "ypred"
      ],
      "execution_count": 24,
      "outputs": [
        {
          "output_type": "execute_result",
          "data": {
            "text/plain": [
              "426.92307692307696"
            ]
          },
          "metadata": {
            "tags": []
          },
          "execution_count": 24
        }
      ]
    },
    {
      "cell_type": "markdown",
      "metadata": {
        "id": "z9pyAczXfF-j"
      },
      "source": [
        "**Predições para os 12 meses**\r\n",
        "\r\n",
        "Criar uma lista contendo as predições para cada um dos 12 meses"
      ]
    },
    {
      "cell_type": "code",
      "metadata": {
        "id": "GODxTdKsgZ3l"
      },
      "source": [
        "xpred1a12 = 1\r\n",
        "listapred1ao12 = []\r\n",
        "for _ in range(1,13):\r\n",
        "  ypred1ao12 = m*xpred1a12 + b\r\n",
        "  listapred1ao12.append(ypred1ao12)\r\n",
        "  xpred1a12+=1"
      ],
      "execution_count": 25,
      "outputs": []
    },
    {
      "cell_type": "code",
      "metadata": {
        "colab": {
          "base_uri": "https://localhost:8080/"
        },
        "id": "lUDjMF2khIgN",
        "outputId": "2f194e85-8dd5-4749-c57f-b63e9627e4b2"
      },
      "source": [
        "listapred1ao12"
      ],
      "execution_count": 26,
      "outputs": [
        {
          "output_type": "execute_result",
          "data": {
            "text/plain": [
              "[23.538461538461522,\n",
              " 41.07692307692306,\n",
              " 58.6153846153846,\n",
              " 76.15384615384615,\n",
              " 93.6923076923077,\n",
              " 111.23076923076923,\n",
              " 128.76923076923075,\n",
              " 146.3076923076923,\n",
              " 163.84615384615384,\n",
              " 181.3846153846154,\n",
              " 198.9230769230769,\n",
              " 216.46153846153845]"
            ]
          },
          "metadata": {
            "tags": []
          },
          "execution_count": 26
        }
      ]
    },
    {
      "cell_type": "markdown",
      "metadata": {
        "id": "Nk7cowkJhUv_"
      },
      "source": [
        "**Predições para os meses 13 ao 24**\r\n",
        "\r\n",
        "Criar uma lista contendo as predições para cada um dos 12 meses"
      ]
    },
    {
      "cell_type": "code",
      "metadata": {
        "id": "S2KPcEKxfcjL"
      },
      "source": [
        "xpred = 13\r\n",
        "listapred13ao24 = []\r\n",
        "for _ in range(13, 25):\r\n",
        "  ypred = m*xpred + b\r\n",
        "  listapred13ao24.append(ypred)\r\n",
        "  xpred+=1"
      ],
      "execution_count": 27,
      "outputs": []
    },
    {
      "cell_type": "code",
      "metadata": {
        "colab": {
          "base_uri": "https://localhost:8080/"
        },
        "id": "GPPDFlMggJUd",
        "outputId": "8ff2b04b-df5b-4924-b024-830f68c70aa7"
      },
      "source": [
        "listapred13ao24"
      ],
      "execution_count": 28,
      "outputs": [
        {
          "output_type": "execute_result",
          "data": {
            "text/plain": [
              "[234.0,\n",
              " 251.53846153846152,\n",
              " 269.0769230769231,\n",
              " 286.61538461538464,\n",
              " 304.1538461538462,\n",
              " 321.69230769230774,\n",
              " 339.2307692307693,\n",
              " 356.76923076923083,\n",
              " 374.3076923076923,\n",
              " 391.84615384615387,\n",
              " 409.3846153846154,\n",
              " 426.92307692307696]"
            ]
          },
          "metadata": {
            "tags": []
          },
          "execution_count": 28
        }
      ]
    },
    {
      "cell_type": "markdown",
      "metadata": {
        "id": "_nCxl9UChkY9"
      },
      "source": [
        "**Inserir predições no DataFrame**"
      ]
    },
    {
      "cell_type": "code",
      "metadata": {
        "id": "IhNCU99HhpyC"
      },
      "source": [
        "data['predições'] = listapred1ao12"
      ],
      "execution_count": 29,
      "outputs": []
    },
    {
      "cell_type": "code",
      "metadata": {
        "colab": {
          "base_uri": "https://localhost:8080/",
          "height": 421
        },
        "id": "9UIzxZGth2tq",
        "outputId": "7d20ee34-2ba9-4d95-d749-c355883b87d4"
      },
      "source": [
        "data"
      ],
      "execution_count": 30,
      "outputs": [
        {
          "output_type": "execute_result",
          "data": {
            "text/html": [
              "<div>\n",
              "<style scoped>\n",
              "    .dataframe tbody tr th:only-of-type {\n",
              "        vertical-align: middle;\n",
              "    }\n",
              "\n",
              "    .dataframe tbody tr th {\n",
              "        vertical-align: top;\n",
              "    }\n",
              "\n",
              "    .dataframe thead th {\n",
              "        text-align: right;\n",
              "    }\n",
              "</style>\n",
              "<table border=\"1\" class=\"dataframe\">\n",
              "  <thead>\n",
              "    <tr style=\"text-align: right;\">\n",
              "      <th></th>\n",
              "      <th>mes</th>\n",
              "      <th>faturamento</th>\n",
              "      <th>predições</th>\n",
              "    </tr>\n",
              "  </thead>\n",
              "  <tbody>\n",
              "    <tr>\n",
              "      <th>0</th>\n",
              "      <td>1</td>\n",
              "      <td>25</td>\n",
              "      <td>23.538462</td>\n",
              "    </tr>\n",
              "    <tr>\n",
              "      <th>1</th>\n",
              "      <td>2</td>\n",
              "      <td>38</td>\n",
              "      <td>41.076923</td>\n",
              "    </tr>\n",
              "    <tr>\n",
              "      <th>2</th>\n",
              "      <td>3</td>\n",
              "      <td>29</td>\n",
              "      <td>58.615385</td>\n",
              "    </tr>\n",
              "    <tr>\n",
              "      <th>3</th>\n",
              "      <td>4</td>\n",
              "      <td>115</td>\n",
              "      <td>76.153846</td>\n",
              "    </tr>\n",
              "    <tr>\n",
              "      <th>4</th>\n",
              "      <td>5</td>\n",
              "      <td>82</td>\n",
              "      <td>93.692308</td>\n",
              "    </tr>\n",
              "    <tr>\n",
              "      <th>5</th>\n",
              "      <td>6</td>\n",
              "      <td>114</td>\n",
              "      <td>111.230769</td>\n",
              "    </tr>\n",
              "    <tr>\n",
              "      <th>6</th>\n",
              "      <td>7</td>\n",
              "      <td>120</td>\n",
              "      <td>128.769231</td>\n",
              "    </tr>\n",
              "    <tr>\n",
              "      <th>7</th>\n",
              "      <td>8</td>\n",
              "      <td>160</td>\n",
              "      <td>146.307692</td>\n",
              "    </tr>\n",
              "    <tr>\n",
              "      <th>8</th>\n",
              "      <td>9</td>\n",
              "      <td>153</td>\n",
              "      <td>163.846154</td>\n",
              "    </tr>\n",
              "    <tr>\n",
              "      <th>9</th>\n",
              "      <td>10</td>\n",
              "      <td>190</td>\n",
              "      <td>181.384615</td>\n",
              "    </tr>\n",
              "    <tr>\n",
              "      <th>10</th>\n",
              "      <td>11</td>\n",
              "      <td>239</td>\n",
              "      <td>198.923077</td>\n",
              "    </tr>\n",
              "    <tr>\n",
              "      <th>11</th>\n",
              "      <td>12</td>\n",
              "      <td>175</td>\n",
              "      <td>216.461538</td>\n",
              "    </tr>\n",
              "  </tbody>\n",
              "</table>\n",
              "</div>"
            ],
            "text/plain": [
              "    mes  faturamento   predições\n",
              "0     1           25   23.538462\n",
              "1     2           38   41.076923\n",
              "2     3           29   58.615385\n",
              "3     4          115   76.153846\n",
              "4     5           82   93.692308\n",
              "5     6          114  111.230769\n",
              "6     7          120  128.769231\n",
              "7     8          160  146.307692\n",
              "8     9          153  163.846154\n",
              "9    10          190  181.384615\n",
              "10   11          239  198.923077\n",
              "11   12          175  216.461538"
            ]
          },
          "metadata": {
            "tags": []
          },
          "execution_count": 30
        }
      ]
    },
    {
      "cell_type": "markdown",
      "metadata": {
        "id": "whzATF8ViK6x"
      },
      "source": [
        "**Visualizar Regressão Linear**"
      ]
    },
    {
      "cell_type": "code",
      "metadata": {
        "colab": {
          "base_uri": "https://localhost:8080/",
          "height": 282
        },
        "id": "y2UembpGiPqU",
        "outputId": "99df44a6-15ee-4b6b-9f3c-7b95ebfab8e9"
      },
      "source": [
        "plt.scatter(x,y)\r\n",
        "plt.plot(x,data['predições'],color='red')"
      ],
      "execution_count": 31,
      "outputs": [
        {
          "output_type": "execute_result",
          "data": {
            "text/plain": [
              "[<matplotlib.lines.Line2D at 0x7f017e613978>]"
            ]
          },
          "metadata": {
            "tags": []
          },
          "execution_count": 31
        },
        {
          "output_type": "display_data",
          "data": {
            "image/png": "[encoded data removed]",
            "text/plain": [
              "<Figure size 432x288 with 1 Axes>"
            ]
          },
          "metadata": {
            "tags": [],
            "needs_background": "light"
          }
        }
      ]
    },
    {
      "cell_type": "markdown",
      "metadata": {
        "id": "fYQMWX90NZF7"
      },
      "source": [
        "**Coeficiente de determinação - R-quadrado (R^2)**\r\n",
        "\r\n",
        "![image.png](data:image/png;base64,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)"
      ]
    },
    {
      "cell_type": "markdown",
      "metadata": {
        "id": "dp5uSGE3OXss"
      },
      "source": [
        "R-quadrado vai dar um valor % de qual bem o modelo se adequa as dados que estamos aplicando"
      ]
    },
    {
      "cell_type": "markdown",
      "metadata": {
        "id": "sVW26Fx3NrGN"
      },
      "source": [
        "**Calcular soma quadrática dos residuos(SQres)**"
      ]
    },
    {
      "cell_type": "code",
      "metadata": {
        "id": "3SGUkkYBNsur"
      },
      "source": [
        "data['residuos'] = y - listapred1ao12"
      ],
      "execution_count": 32,
      "outputs": []
    },
    {
      "cell_type": "code",
      "metadata": {
        "colab": {
          "base_uri": "https://localhost:8080/"
        },
        "id": "BtOpctQhPYDd",
        "outputId": "7a8ac097-02ff-40bf-d248-bd87e9ec9bea"
      },
      "source": [
        "SQres = (data['residuos']**2).sum()\r\n",
        "SQres"
      ],
      "execution_count": 33,
      "outputs": [
        {
          "output_type": "execute_result",
          "data": {
            "text/plain": [
              "6323.538461538462"
            ]
          },
          "metadata": {
            "tags": []
          },
          "execution_count": 33
        }
      ]
    },
    {
      "cell_type": "markdown",
      "metadata": {
        "id": "aXsAF211Nsj9"
      },
      "source": [
        "**Calcular soma quadrática total (SQtot)**"
      ]
    },
    {
      "cell_type": "code",
      "metadata": {
        "colab": {
          "base_uri": "https://localhost:8080/"
        },
        "id": "zyq5UDDvNvI0",
        "outputId": "30962ffd-e73b-4ab1-abc8-ec0e5b7c5cda"
      },
      "source": [
        "media = data['faturamento'].mean()\r\n",
        "media"
      ],
      "execution_count": 34,
      "outputs": [
        {
          "output_type": "execute_result",
          "data": {
            "text/plain": [
              "120.0"
            ]
          },
          "metadata": {
            "tags": []
          },
          "execution_count": 34
        }
      ]
    },
    {
      "cell_type": "code",
      "metadata": {
        "colab": {
          "base_uri": "https://localhost:8080/",
          "height": 421
        },
        "id": "bTc6MFZpQTdp",
        "outputId": "f53a739d-8cdb-46dd-cb74-581b71c4e037"
      },
      "source": [
        "data['faturamento medio'] = media\r\n",
        "data"
      ],
      "execution_count": 35,
      "outputs": [
        {
          "output_type": "execute_result",
          "data": {
            "text/html": [
              "<div>\n",
              "<style scoped>\n",
              "    .dataframe tbody tr th:only-of-type {\n",
              "        vertical-align: middle;\n",
              "    }\n",
              "\n",
              "    .dataframe tbody tr th {\n",
              "        vertical-align: top;\n",
              "    }\n",
              "\n",
              "    .dataframe thead th {\n",
              "        text-align: right;\n",
              "    }\n",
              "</style>\n",
              "<table border=\"1\" class=\"dataframe\">\n",
              "  <thead>\n",
              "    <tr style=\"text-align: right;\">\n",
              "      <th></th>\n",
              "      <th>mes</th>\n",
              "      <th>faturamento</th>\n",
              "      <th>predições</th>\n",
              "      <th>residuos</th>\n",
              "      <th>faturamento medio</th>\n",
              "    </tr>\n",
              "  </thead>\n",
              "  <tbody>\n",
              "    <tr>\n",
              "      <th>0</th>\n",
              "      <td>1</td>\n",
              "      <td>25</td>\n",
              "      <td>23.538462</td>\n",
              "      <td>1.461538</td>\n",
              "      <td>120.0</td>\n",
              "    </tr>\n",
              "    <tr>\n",
              "      <th>1</th>\n",
              "      <td>2</td>\n",
              "      <td>38</td>\n",
              "      <td>41.076923</td>\n",
              "      <td>-3.076923</td>\n",
              "      <td>120.0</td>\n",
              "    </tr>\n",
              "    <tr>\n",
              "      <th>2</th>\n",
              "      <td>3</td>\n",
              "      <td>29</td>\n",
              "      <td>58.615385</td>\n",
              "      <td>-29.615385</td>\n",
              "      <td>120.0</td>\n",
              "    </tr>\n",
              "    <tr>\n",
              "      <th>3</th>\n",
              "      <td>4</td>\n",
              "      <td>115</td>\n",
              "      <td>76.153846</td>\n",
              "      <td>38.846154</td>\n",
              "      <td>120.0</td>\n",
              "    </tr>\n",
              "    <tr>\n",
              "      <th>4</th>\n",
              "      <td>5</td>\n",
              "      <td>82</td>\n",
              "      <td>93.692308</td>\n",
              "      <td>-11.692308</td>\n",
              "      <td>120.0</td>\n",
              "    </tr>\n",
              "    <tr>\n",
              "      <th>5</th>\n",
              "      <td>6</td>\n",
              "      <td>114</td>\n",
              "      <td>111.230769</td>\n",
              "      <td>2.769231</td>\n",
              "      <td>120.0</td>\n",
              "    </tr>\n",
              "    <tr>\n",
              "      <th>6</th>\n",
              "      <td>7</td>\n",
              "      <td>120</td>\n",
              "      <td>128.769231</td>\n",
              "      <td>-8.769231</td>\n",
              "      <td>120.0</td>\n",
              "    </tr>\n",
              "    <tr>\n",
              "      <th>7</th>\n",
              "      <td>8</td>\n",
              "      <td>160</td>\n",
              "      <td>146.307692</td>\n",
              "      <td>13.692308</td>\n",
              "      <td>120.0</td>\n",
              "    </tr>\n",
              "    <tr>\n",
              "      <th>8</th>\n",
              "      <td>9</td>\n",
              "      <td>153</td>\n",
              "      <td>163.846154</td>\n",
              "      <td>-10.846154</td>\n",
              "      <td>120.0</td>\n",
              "    </tr>\n",
              "    <tr>\n",
              "      <th>9</th>\n",
              "      <td>10</td>\n",
              "      <td>190</td>\n",
              "      <td>181.384615</td>\n",
              "      <td>8.615385</td>\n",
              "      <td>120.0</td>\n",
              "    </tr>\n",
              "    <tr>\n",
              "      <th>10</th>\n",
              "      <td>11</td>\n",
              "      <td>239</td>\n",
              "      <td>198.923077</td>\n",
              "      <td>40.076923</td>\n",
              "      <td>120.0</td>\n",
              "    </tr>\n",
              "    <tr>\n",
              "      <th>11</th>\n",
              "      <td>12</td>\n",
              "      <td>175</td>\n",
              "      <td>216.461538</td>\n",
              "      <td>-41.461538</td>\n",
              "      <td>120.0</td>\n",
              "    </tr>\n",
              "  </tbody>\n",
              "</table>\n",
              "</div>"
            ],
            "text/plain": [
              "    mes  faturamento   predições   residuos  faturamento medio\n",
              "0     1           25   23.538462   1.461538              120.0\n",
              "1     2           38   41.076923  -3.076923              120.0\n",
              "2     3           29   58.615385 -29.615385              120.0\n",
              "3     4          115   76.153846  38.846154              120.0\n",
              "4     5           82   93.692308 -11.692308              120.0\n",
              "5     6          114  111.230769   2.769231              120.0\n",
              "6     7          120  128.769231  -8.769231              120.0\n",
              "7     8          160  146.307692  13.692308              120.0\n",
              "8     9          153  163.846154 -10.846154              120.0\n",
              "9    10          190  181.384615   8.615385              120.0\n",
              "10   11          239  198.923077  40.076923              120.0\n",
              "11   12          175  216.461538 -41.461538              120.0"
            ]
          },
          "metadata": {
            "tags": []
          },
          "execution_count": 35
        }
      ]
    },
    {
      "cell_type": "code",
      "metadata": {
        "colab": {
          "base_uri": "https://localhost:8080/"
        },
        "id": "fiJOlkZmQhKN",
        "outputId": "6d06a840-048d-4651-9439-8d8402446e38"
      },
      "source": [
        "SQtot = ((data['faturamento'] - data['faturamento medio'])**2).sum()\r\n",
        "SQtot"
      ],
      "execution_count": 36,
      "outputs": [
        {
          "output_type": "execute_result",
          "data": {
            "text/plain": [
              "50310.0"
            ]
          },
          "metadata": {
            "tags": []
          },
          "execution_count": 36
        }
      ]
    },
    {
      "cell_type": "code",
      "metadata": {
        "colab": {
          "base_uri": "https://localhost:8080/",
          "height": 282
        },
        "id": "TAIjF3z4RiM_",
        "outputId": "b21529c8-c0cb-4230-d610-8d1dffaa2aa7"
      },
      "source": [
        "plt.scatter(x,y)\r\n",
        "plt.plot(x,data['faturamento medio'],color='red')"
      ],
      "execution_count": 37,
      "outputs": [
        {
          "output_type": "execute_result",
          "data": {
            "text/plain": [
              "[<matplotlib.lines.Line2D at 0x7f017ce6e7b8>]"
            ]
          },
          "metadata": {
            "tags": []
          },
          "execution_count": 37
        },
        {
          "output_type": "display_data",
          "data": {
            "image/png": "[encoded data removed]",
            "text/plain": [
              "<Figure size 432x288 with 1 Axes>"
            ]
          },
          "metadata": {
            "tags": [],
            "needs_background": "light"
          }
        }
      ]
    },
    {
      "cell_type": "markdown",
      "metadata": {
        "id": "Pg1P0WVpN6Al"
      },
      "source": [
        "**Calcular R-quadrado**"
      ]
    },
    {
      "cell_type": "code",
      "metadata": {
        "colab": {
          "base_uri": "https://localhost:8080/"
        },
        "id": "-lgA5ThPNr3p",
        "outputId": "7b50ccf5-1a01-426c-b8d1-45598d7ebed6"
      },
      "source": [
        "Rquadrado = 1-SQres/SQtot\r\n",
        "Rquadrado.round(4)"
      ],
      "execution_count": 38,
      "outputs": [
        {
          "output_type": "execute_result",
          "data": {
            "text/plain": [
              "0.8743"
            ]
          },
          "metadata": {
            "tags": []
          },
          "execution_count": 38
        }
      ]
    },
    {
      "cell_type": "markdown",
      "metadata": {
        "id": "Uvh6NK1WSnYF"
      },
      "source": [
        "![image.png](data:image/png;base64,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)"
      ]
    },
    {
      "cell_type": "code",
      "metadata": {
        "colab": {
          "base_uri": "https://localhost:8080/"
        },
        "id": "mNBFazbTTAGP",
        "outputId": "3c0cd9c4-fcff-46f5-b7a6-138e93d63e4e"
      },
      "source": [
        "(data['residuos']**2).sum()"
      ],
      "execution_count": 39,
      "outputs": [
        {
          "output_type": "execute_result",
          "data": {
            "text/plain": [
              "6323.538461538462"
            ]
          },
          "metadata": {
            "tags": []
          },
          "execution_count": 39
        }
      ]
    },
    {
      "cell_type": "code",
      "metadata": {
        "id": "oDUTtcBaTfDu"
      },
      "source": [
        "import numpy as np\r\n"
      ],
      "execution_count": 40,
      "outputs": []
    },
    {
      "cell_type": "code",
      "metadata": {
        "id": "JyiPRgatTBwt"
      },
      "source": [
        "rmse = np.sqrt(SQres/len(data))"
      ],
      "execution_count": 41,
      "outputs": []
    },
    {
      "cell_type": "code",
      "metadata": {
        "colab": {
          "base_uri": "https://localhost:8080/"
        },
        "id": "-UOL2pjoT4lr",
        "outputId": "f7a7a0f0-f570-41f3-d03d-4263eaa617b4"
      },
      "source": [
        "rmse.round(4) #quanto menor este valor melhor é como se fosse o desvio padrão da regressão linear"
      ],
      "execution_count": 42,
      "outputs": [
        {
          "output_type": "execute_result",
          "data": {
            "text/plain": [
              "22.9556"
            ]
          },
          "metadata": {
            "tags": []
          },
          "execution_count": 42
        }
      ]
    },
    {
      "cell_type": "markdown",
      "metadata": {
        "id": "5YKyke_fUOh-"
      },
      "source": [
        "**Regra empirica 68-95-99.7**"
      ]
    },
    {
      "cell_type": "code",
      "metadata": {
        "id": "DsPsamh8UTvC"
      },
      "source": [
        "um_acima = listapred1ao12 + rmse\r\n",
        "um_abaixo = listapred1ao12 - rmse"
      ],
      "execution_count": 43,
      "outputs": []
    },
    {
      "cell_type": "code",
      "metadata": {
        "id": "iG3nkth8UUtI"
      },
      "source": [
        "dois_acima = listapred1ao12 + 2*rmse\r\n",
        "dois_abaixo = listapred1ao12 - 2*rmse"
      ],
      "execution_count": 44,
      "outputs": []
    },
    {
      "cell_type": "code",
      "metadata": {
        "id": "JsOHvGwbVFt2"
      },
      "source": [
        "tres_acima = listapred1ao12 + 3*rmse\r\n",
        "tres_abaixo = listapred1ao12 - 3*rmse"
      ],
      "execution_count": 45,
      "outputs": []
    },
    {
      "cell_type": "markdown",
      "metadata": {
        "id": "tWyukJbcVken"
      },
      "source": [
        "**Um desvio padrão 68%**"
      ]
    },
    {
      "cell_type": "code",
      "metadata": {
        "colab": {
          "base_uri": "https://localhost:8080/",
          "height": 285
        },
        "id": "V1qg4AzKVqXj",
        "outputId": "a8de03e7-ece3-4926-e405-11f96421fc3e"
      },
      "source": [
        "plt.scatter(x,y)\r\n",
        "plt.plot(x,listapred1ao12,color='red')\r\n",
        "plt.plot(x,um_acima,color='purple')\r\n",
        "plt.plot(x,um_abaixo,color='purple')"
      ],
      "execution_count": 46,
      "outputs": [
        {
          "output_type": "execute_result",
          "data": {
            "text/plain": [
              "[<matplotlib.lines.Line2D at 0x7f017ce07a20>]"
            ]
          },
          "metadata": {
            "tags": []
          },
          "execution_count": 46
        },
        {
          "output_type": "display_data",
          "data": {
            "image/png": "[encoded data removed]",
            "text/plain": [
              "<Figure size 432x288 with 1 Axes>"
            ]
          },
          "metadata": {
            "tags": [],
            "needs_background": "light"
          }
        }
      ]
    },
    {
      "cell_type": "markdown",
      "metadata": {
        "id": "F1F_Y5LtVrDn"
      },
      "source": [
        "**Dois desvios padrão 95%**"
      ]
    },
    {
      "cell_type": "code",
      "metadata": {
        "colab": {
          "base_uri": "https://localhost:8080/",
          "height": 282
        },
        "id": "nCZg5H-YVrNh",
        "outputId": "125565d7-1805-46c3-b127-e5993da21065"
      },
      "source": [
        "plt.scatter(x,y)\r\n",
        "plt.plot(x,listapred1ao12,color='red')\r\n",
        "plt.plot(x,um_acima,color='purple')\r\n",
        "plt.plot(x,um_abaixo,color='purple')\r\n",
        "plt.plot(x,dois_acima,color='green')\r\n",
        "plt.plot(x,dois_abaixo,color='green')"
      ],
      "execution_count": 47,
      "outputs": [
        {
          "output_type": "execute_result",
          "data": {
            "text/plain": [
              "[<matplotlib.lines.Line2D at 0x7f017cd7e2b0>]"
            ]
          },
          "metadata": {
            "tags": []
          },
          "execution_count": 47
        },
        {
          "output_type": "display_data",
          "data": {
            "image/png": "[encoded data removed]",
            "text/plain": [
              "<Figure size 432x288 with 1 Axes>"
            ]
          },
          "metadata": {
            "tags": [],
            "needs_background": "light"
          }
        }
      ]
    },
    {
      "cell_type": "markdown",
      "metadata": {
        "id": "YyzChB0zVree"
      },
      "source": [
        "**Três desvios padrão 99.7%**"
      ]
    },
    {
      "cell_type": "code",
      "metadata": {
        "colab": {
          "base_uri": "https://localhost:8080/",
          "height": 285
        },
        "id": "sSw880AhVroi",
        "outputId": "6332fea7-0454-4fba-8bea-4e2dac56df33"
      },
      "source": [
        "plt.scatter(x,y)\r\n",
        "plt.plot(x,listapred1ao12,color='red')\r\n",
        "plt.plot(x,um_acima,color='purple')\r\n",
        "plt.plot(x,um_abaixo,color='purple')\r\n",
        "plt.plot(x,dois_acima,color='green')\r\n",
        "plt.plot(x,dois_abaixo,color='green')\r\n",
        "plt.plot(x,tres_acima,color='blue')\r\n",
        "plt.plot(x,tres_abaixo,color='blue')"
      ],
      "execution_count": 48,
      "outputs": [
        {
          "output_type": "execute_result",
          "data": {
            "text/plain": [
              "[<matplotlib.lines.Line2D at 0x7f017ccf2668>]"
            ]
          },
          "metadata": {
            "tags": []
          },
          "execution_count": 48
        },
        {
          "output_type": "display_data",
          "data": {
            "image/png": "[encoded data removed]",
            "text/plain": [
              "<Figure size 432x288 with 1 Axes>"
            ]
          },
          "metadata": {
            "tags": [],
            "needs_background": "light"
          }
        }
      ]
    },
    {
      "cell_type": "markdown",
      "metadata": {
        "id": "IF06ojuf4Bp3"
      },
      "source": [
        "**Regressão Linear - Statsmodels**"
      ]
    },
    {
      "cell_type": "markdown",
      "metadata": {
        "id": "5XOXvt_a4CMp"
      },
      "source": [
        "**Importando Statsmodels**"
      ]
    },
    {
      "cell_type": "code",
      "metadata": {
        "colab": {
          "base_uri": "https://localhost:8080/"
        },
        "id": "bh7-E3_34Cdh",
        "outputId": "6d7bc67b-c78c-47f7-d560-db742acc51b6"
      },
      "source": [
        "import statsmodels.api as sm"
      ],
      "execution_count": 49,
      "outputs": [
        {
          "output_type": "stream",
          "text": [
            "/usr/local/lib/python3.6/dist-packages/statsmodels/tools/_testing.py:19: FutureWarning: pandas.util.testing is deprecated. Use the functions in the public API at pandas.testing instead.\n",
            "  import pandas.util.testing as tm\n"
          ],
          "name": "stderr"
        }
      ]
    },
    {
      "cell_type": "markdown",
      "metadata": {
        "id": "2IfIhP-Q4Cs7"
      },
      "source": [
        "**Definir x e y**"
      ]
    },
    {
      "cell_type": "code",
      "metadata": {
        "id": "xGhiwsh04C8n"
      },
      "source": [
        "x = data['mes']\r\n",
        "y = data['faturamento']"
      ],
      "execution_count": 50,
      "outputs": []
    },
    {
      "cell_type": "code",
      "metadata": {
        "colab": {
          "base_uri": "https://localhost:8080/"
        },
        "id": "yiySU9xPCu49",
        "outputId": "24fff5d2-041e-4b4f-cf41-304ec9b9e3dd"
      },
      "source": [
        "y"
      ],
      "execution_count": 52,
      "outputs": [
        {
          "output_type": "execute_result",
          "data": {
            "text/plain": [
              "0      25\n",
              "1      38\n",
              "2      29\n",
              "3     115\n",
              "4      82\n",
              "5     114\n",
              "6     120\n",
              "7     160\n",
              "8     153\n",
              "9     190\n",
              "10    239\n",
              "11    175\n",
              "Name: faturamento, dtype: int64"
            ]
          },
          "metadata": {
            "tags": []
          },
          "execution_count": 52
        }
      ]
    },
    {
      "cell_type": "markdown",
      "metadata": {
        "id": "v7Tl87Vh4DM8"
      },
      "source": [
        "**Adicionar constante**"
      ]
    },
    {
      "cell_type": "code",
      "metadata": {
        "id": "pU0rnEUS4DXT"
      },
      "source": [
        "x = sm.add_constant(x.values)"
      ],
      "execution_count": 54,
      "outputs": []
    },
    {
      "cell_type": "code",
      "metadata": {
        "colab": {
          "base_uri": "https://localhost:8080/"
        },
        "id": "hmjuTu1KDJaM",
        "outputId": "40b97efc-f760-4f50-bed2-9baa0e6daa2c"
      },
      "source": [
        "x"
      ],
      "execution_count": 55,
      "outputs": [
        {
          "output_type": "execute_result",
          "data": {
            "text/plain": [
              "array([[ 1.,  1.],\n",
              "       [ 1.,  2.],\n",
              "       [ 1.,  3.],\n",
              "       [ 1.,  4.],\n",
              "       [ 1.,  5.],\n",
              "       [ 1.,  6.],\n",
              "       [ 1.,  7.],\n",
              "       [ 1.,  8.],\n",
              "       [ 1.,  9.],\n",
              "       [ 1., 10.],\n",
              "       [ 1., 11.],\n",
              "       [ 1., 12.]])"
            ]
          },
          "metadata": {
            "tags": []
          },
          "execution_count": 55
        }
      ]
    },
    {
      "cell_type": "markdown",
      "metadata": {
        "id": "XBRl8QgaCVTO"
      },
      "source": [
        "**Treinar Modelo**"
      ]
    },
    {
      "cell_type": "code",
      "metadata": {
        "id": "I345lRcPCVlS"
      },
      "source": [
        "modelo = sm.OLS(y,x).fit() #fit é para se adequar aos nossos dados"
      ],
      "execution_count": 56,
      "outputs": []
    },
    {
      "cell_type": "markdown",
      "metadata": {
        "id": "83jwS2IqCVz5"
      },
      "source": [
        "**Gerar predição**"
      ]
    },
    {
      "cell_type": "code",
      "metadata": {
        "id": "U7rn3bGPCV_A"
      },
      "source": [
        "sm_pred = modelo.predict()"
      ],
      "execution_count": 57,
      "outputs": []
    },
    {
      "cell_type": "code",
      "metadata": {
        "colab": {
          "base_uri": "https://localhost:8080/"
        },
        "id": "Cw_MzqBQD7dn",
        "outputId": "a4eff048-2594-4a68-a00c-d427672deb7e"
      },
      "source": [
        "np.array(listapred1ao12) #previsão feita manualmente "
      ],
      "execution_count": 60,
      "outputs": [
        {
          "output_type": "execute_result",
          "data": {
            "text/plain": [
              "array([ 23.53846154,  41.07692308,  58.61538462,  76.15384615,\n",
              "        93.69230769, 111.23076923, 128.76923077, 146.30769231,\n",
              "       163.84615385, 181.38461538, 198.92307692, 216.46153846])"
            ]
          },
          "metadata": {
            "tags": []
          },
          "execution_count": 60
        }
      ]
    },
    {
      "cell_type": "code",
      "metadata": {
        "colab": {
          "base_uri": "https://localhost:8080/"
        },
        "id": "gniPJ00sD0me",
        "outputId": "b62ec284-98a7-489f-e64c-e4561e94efc2"
      },
      "source": [
        "sm_pred #previsão feita automaticamente"
      ],
      "execution_count": 58,
      "outputs": [
        {
          "output_type": "execute_result",
          "data": {
            "text/plain": [
              "array([ 23.53846154,  41.07692308,  58.61538462,  76.15384615,\n",
              "        93.69230769, 111.23076923, 128.76923077, 146.30769231,\n",
              "       163.84615385, 181.38461538, 198.92307692, 216.46153846])"
            ]
          },
          "metadata": {
            "tags": []
          },
          "execution_count": 58
        }
      ]
    },
    {
      "cell_type": "markdown",
      "metadata": {
        "id": "aysbwtibFi_-"
      },
      "source": [
        "**Verificar parâmetros de perfomance do modelo preditivo**"
      ]
    },
    {
      "cell_type": "code",
      "metadata": {
        "colab": {
          "base_uri": "https://localhost:8080/",
          "height": 498
        },
        "id": "6IRRw2V0FjSc",
        "outputId": "9920000c-32a5-4e14-d24c-99689b9f458d"
      },
      "source": [
        "modelo.summary()"
      ],
      "execution_count": 61,
      "outputs": [
        {
          "output_type": "stream",
          "text": [
            "/usr/local/lib/python3.6/dist-packages/scipy/stats/stats.py:1535: UserWarning: kurtosistest only valid for n>=20 ... continuing anyway, n=12\n",
            "  \"anyway, n=%i\" % int(n))\n"
          ],
          "name": "stderr"
        },
        {
          "output_type": "execute_result",
          "data": {
            "text/html": [
              "<table class=\"simpletable\">\n",
              "<caption>OLS Regression Results</caption>\n",
              "<tr>\n",
              "  <th>Dep. Variable:</th>       <td>faturamento</td>   <th>  R-squared:         </th> <td>   0.874</td>\n",
              "</tr>\n",
              "<tr>\n",
              "  <th>Model:</th>                   <td>OLS</td>       <th>  Adj. R-squared:    </th> <td>   0.862</td>\n",
              "</tr>\n",
              "<tr>\n",
              "  <th>Method:</th>             <td>Least Squares</td>  <th>  F-statistic:       </th> <td>   69.56</td>\n",
              "</tr>\n",
              "<tr>\n",
              "  <th>Date:</th>             <td>Thu, 17 Dec 2020</td> <th>  Prob (F-statistic):</th> <td>8.16e-06</td>\n",
              "</tr>\n",
              "<tr>\n",
              "  <th>Time:</th>                 <td>19:05:34</td>     <th>  Log-Likelihood:    </th> <td> -54.630</td>\n",
              "</tr>\n",
              "<tr>\n",
              "  <th>No. Observations:</th>      <td>    12</td>      <th>  AIC:               </th> <td>   113.3</td>\n",
              "</tr>\n",
              "<tr>\n",
              "  <th>Df Residuals:</th>          <td>    10</td>      <th>  BIC:               </th> <td>   114.2</td>\n",
              "</tr>\n",
              "<tr>\n",
              "  <th>Df Model:</th>              <td>     1</td>      <th>                     </th>     <td> </td>   \n",
              "</tr>\n",
              "<tr>\n",
              "  <th>Covariance Type:</th>      <td>nonrobust</td>    <th>                     </th>     <td> </td>   \n",
              "</tr>\n",
              "</table>\n",
              "<table class=\"simpletable\">\n",
              "<tr>\n",
              "    <td></td>       <th>coef</th>     <th>std err</th>      <th>t</th>      <th>P>|t|</th>  <th>[0.025</th>    <th>0.975]</th>  \n",
              "</tr>\n",
              "<tr>\n",
              "  <th>const</th> <td>    6.0000</td> <td>   15.477</td> <td>    0.388</td> <td> 0.706</td> <td>  -28.484</td> <td>   40.484</td>\n",
              "</tr>\n",
              "<tr>\n",
              "  <th>x1</th>    <td>   17.5385</td> <td>    2.103</td> <td>    8.340</td> <td> 0.000</td> <td>   12.853</td> <td>   22.224</td>\n",
              "</tr>\n",
              "</table>\n",
              "<table class=\"simpletable\">\n",
              "<tr>\n",
              "  <th>Omnibus:</th>       <td> 0.197</td> <th>  Durbin-Watson:     </th> <td>   2.757</td>\n",
              "</tr>\n",
              "<tr>\n",
              "  <th>Prob(Omnibus):</th> <td> 0.906</td> <th>  Jarque-Bera (JB):  </th> <td>   0.142</td>\n",
              "</tr>\n",
              "<tr>\n",
              "  <th>Skew:</th>          <td> 0.175</td> <th>  Prob(JB):          </th> <td>   0.932</td>\n",
              "</tr>\n",
              "<tr>\n",
              "  <th>Kurtosis:</th>      <td> 2.599</td> <th>  Cond. No.          </th> <td>    15.9</td>\n",
              "</tr>\n",
              "</table><br/><br/>Warnings:<br/>[1] Standard Errors assume that the covariance matrix of the errors is correctly specified."
            ],
            "text/plain": [
              "<class 'statsmodels.iolib.summary.Summary'>\n",
              "\"\"\"\n",
              "                            OLS Regression Results                            \n",
              "==============================================================================\n",
              "Dep. Variable:            faturamento   R-squared:                       0.874\n",
              "Model:                            OLS   Adj. R-squared:                  0.862\n",
              "Method:                 Least Squares   F-statistic:                     69.56\n",
              "Date:                Thu, 17 Dec 2020   Prob (F-statistic):           8.16e-06\n",
              "Time:                        19:05:34   Log-Likelihood:                -54.630\n",
              "No. Observations:                  12   AIC:                             113.3\n",
              "Df Residuals:                      10   BIC:                             114.2\n",
              "Df Model:                           1                                         \n",
              "Covariance Type:            nonrobust                                         \n",
              "==============================================================================\n",
              "                 coef    std err          t      P>|t|      [0.025      0.975]\n",
              "------------------------------------------------------------------------------\n",
              "const          6.0000     15.477      0.388      0.706     -28.484      40.484\n",
              "x1            17.5385      2.103      8.340      0.000      12.853      22.224\n",
              "==============================================================================\n",
              "Omnibus:                        0.197   Durbin-Watson:                   2.757\n",
              "Prob(Omnibus):                  0.906   Jarque-Bera (JB):                0.142\n",
              "Skew:                           0.175   Prob(JB):                        0.932\n",
              "Kurtosis:                       2.599   Cond. No.                         15.9\n",
              "==============================================================================\n",
              "\n",
              "Warnings:\n",
              "[1] Standard Errors assume that the covariance matrix of the errors is correctly specified.\n",
              "\"\"\""
            ]
          },
          "metadata": {
            "tags": []
          },
          "execution_count": 61
        }
      ]
    },
    {
      "cell_type": "markdown",
      "metadata": {
        "id": "y6JqVJIIFjo8"
      },
      "source": [
        "**RMSE**"
      ]
    },
    {
      "cell_type": "code",
      "metadata": {
        "id": "oAK3EmM_Fj1O"
      },
      "source": [
        "from statsmodels.tools.eval_measures import rmse"
      ],
      "execution_count": 62,
      "outputs": []
    },
    {
      "cell_type": "code",
      "metadata": {
        "colab": {
          "base_uri": "https://localhost:8080/"
        },
        "id": "X8Pa05YTG5KE",
        "outputId": "e3e01447-ac1a-4b51-b387-36bc95ac602f"
      },
      "source": [
        "rmse(y,sm_pred).round(4)"
      ],
      "execution_count": 64,
      "outputs": [
        {
          "output_type": "execute_result",
          "data": {
            "text/plain": [
              "22.9556"
            ]
          },
          "metadata": {
            "tags": []
          },
          "execution_count": 64
        }
      ]
    },
    {
      "cell_type": "markdown",
      "metadata": {
        "id": "BuO611vpHPlB"
      },
      "source": [
        "**Regressão Linear - Sklearn**"
      ]
    },
    {
      "cell_type": "markdown",
      "metadata": {
        "id": "VOivpOKaHQXf"
      },
      "source": [
        "**Importar sklearn**"
      ]
    },
    {
      "cell_type": "code",
      "metadata": {
        "id": "uA-fjHDJHQqx"
      },
      "source": [
        "from sklearn import linear_model"
      ],
      "execution_count": 65,
      "outputs": []
    },
    {
      "cell_type": "markdown",
      "metadata": {
        "id": "q6851YJ9HQ8u"
      },
      "source": [
        "**Instanciar Modelo de regressão linear**"
      ]
    },
    {
      "cell_type": "code",
      "metadata": {
        "id": "RL_ibKwvHRfY"
      },
      "source": [
        "lm = linear_model.LinearRegression()"
      ],
      "execution_count": 66,
      "outputs": []
    },
    {
      "cell_type": "markdown",
      "metadata": {
        "id": "7atWOWQqHR3M"
      },
      "source": [
        "**Reshape x (remodelar x)**\r\n",
        "\r\n",
        "Se x não possuir múltiplas variáveis, sklearn solicita que modifiquemos o formato"
      ]
    },
    {
      "cell_type": "code",
      "metadata": {
        "id": "taRzQxIiHSH4"
      },
      "source": [
        "x = data['mes']\r\n",
        "y = data['faturamento']"
      ],
      "execution_count": 68,
      "outputs": []
    },
    {
      "cell_type": "code",
      "metadata": {
        "id": "Y4SSQ2ZgIi_Q"
      },
      "source": [
        "x = np.array(x).reshape(-1,1) #este é o formato que o sklearn precisa para funcionar"
      ],
      "execution_count": 71,
      "outputs": []
    },
    {
      "cell_type": "markdown",
      "metadata": {
        "id": "EK5JBTmnHSbj"
      },
      "source": [
        "**Treinar Modelo**"
      ]
    },
    {
      "cell_type": "code",
      "metadata": {
        "id": "pgBb3yKjHSo_"
      },
      "source": [
        "sk_modelo = lm.fit(x,y)"
      ],
      "execution_count": 72,
      "outputs": []
    },
    {
      "cell_type": "markdown",
      "metadata": {
        "id": "d4B-9qa_H3gx"
      },
      "source": [
        "**Gerar predições**"
      ]
    },
    {
      "cell_type": "code",
      "metadata": {
        "id": "5rqwhAWSH4Rv"
      },
      "source": [
        "skpred = sk_modelo.predict(x)"
      ],
      "execution_count": 73,
      "outputs": []
    },
    {
      "cell_type": "code",
      "metadata": {
        "colab": {
          "base_uri": "https://localhost:8080/"
        },
        "id": "noAc94CEJPQP",
        "outputId": "f8e9aa8f-4cb9-4740-f126-69937ba0d14e"
      },
      "source": [
        "np.array(sm_pred)"
      ],
      "execution_count": 76,
      "outputs": [
        {
          "output_type": "execute_result",
          "data": {
            "text/plain": [
              "array([ 23.53846154,  41.07692308,  58.61538462,  76.15384615,\n",
              "        93.69230769, 111.23076923, 128.76923077, 146.30769231,\n",
              "       163.84615385, 181.38461538, 198.92307692, 216.46153846])"
            ]
          },
          "metadata": {
            "tags": []
          },
          "execution_count": 76
        }
      ]
    },
    {
      "cell_type": "code",
      "metadata": {
        "colab": {
          "base_uri": "https://localhost:8080/"
        },
        "id": "Uq6iUaJyJgY1",
        "outputId": "3530c87c-6c09-4de5-8b75-567448d8c945"
      },
      "source": [
        "np.array(listapred1ao12)"
      ],
      "execution_count": 77,
      "outputs": [
        {
          "output_type": "execute_result",
          "data": {
            "text/plain": [
              "array([ 23.53846154,  41.07692308,  58.61538462,  76.15384615,\n",
              "        93.69230769, 111.23076923, 128.76923077, 146.30769231,\n",
              "       163.84615385, 181.38461538, 198.92307692, 216.46153846])"
            ]
          },
          "metadata": {
            "tags": []
          },
          "execution_count": 77
        }
      ]
    },
    {
      "cell_type": "code",
      "metadata": {
        "colab": {
          "base_uri": "https://localhost:8080/"
        },
        "id": "9b5QE_k8JRV2",
        "outputId": "db18acc4-c705-4695-db24-b3abf1691293"
      },
      "source": [
        "skpred"
      ],
      "execution_count": 74,
      "outputs": [
        {
          "output_type": "execute_result",
          "data": {
            "text/plain": [
              "array([ 23.53846154,  41.07692308,  58.61538462,  76.15384615,\n",
              "        93.69230769, 111.23076923, 128.76923077, 146.30769231,\n",
              "       163.84615385, 181.38461538, 198.92307692, 216.46153846])"
            ]
          },
          "metadata": {
            "tags": []
          },
          "execution_count": 74
        }
      ]
    },
    {
      "cell_type": "markdown",
      "metadata": {
        "id": "-AkcNs7DJzrv"
      },
      "source": [
        "**R^2**"
      ]
    },
    {
      "cell_type": "code",
      "metadata": {
        "colab": {
          "base_uri": "https://localhost:8080/"
        },
        "id": "uVMvPApHJz0X",
        "outputId": "e27b945a-9aa9-45ff-b5ce-db3c151a3953"
      },
      "source": [
        "lm.score(x,y)"
      ],
      "execution_count": 78,
      "outputs": [
        {
          "output_type": "execute_result",
          "data": {
            "text/plain": [
              "0.8743085179578917"
            ]
          },
          "metadata": {
            "tags": []
          },
          "execution_count": 78
        }
      ]
    },
    {
      "cell_type": "markdown",
      "metadata": {
        "id": "kPlZaGHAJ0X0"
      },
      "source": [
        "**m**"
      ]
    },
    {
      "cell_type": "code",
      "metadata": {
        "colab": {
          "base_uri": "https://localhost:8080/"
        },
        "id": "NJIx63AOJ0lh",
        "outputId": "dc7fbf1c-3167-4187-c75d-122852d2b02a"
      },
      "source": [
        "lm.coef_"
      ],
      "execution_count": 79,
      "outputs": [
        {
          "output_type": "execute_result",
          "data": {
            "text/plain": [
              "array([17.53846154])"
            ]
          },
          "metadata": {
            "tags": []
          },
          "execution_count": 79
        }
      ]
    },
    {
      "cell_type": "markdown",
      "metadata": {
        "id": "x7xG6TTzKUK1"
      },
      "source": [
        "**b**"
      ]
    },
    {
      "cell_type": "code",
      "metadata": {
        "colab": {
          "base_uri": "https://localhost:8080/"
        },
        "id": "JHUvCyLVKUbH",
        "outputId": "3e8aaf9c-4d02-404e-e851-219971b1711f"
      },
      "source": [
        "lm.intercept_"
      ],
      "execution_count": 80,
      "outputs": [
        {
          "output_type": "execute_result",
          "data": {
            "text/plain": [
              "6.000000000000028"
            ]
          },
          "metadata": {
            "tags": []
          },
          "execution_count": 80
        }
      ]
    },
    {
      "cell_type": "markdown",
      "metadata": {
        "id": "INORw9ynKgkB"
      },
      "source": [
        "**RMSE**"
      ]
    },
    {
      "cell_type": "code",
      "metadata": {
        "id": "_djBFv1EKgyW"
      },
      "source": [
        "from sklearn.metrics import mean_squared_error"
      ],
      "execution_count": 81,
      "outputs": []
    },
    {
      "cell_type": "code",
      "metadata": {
        "id": "l6GixJVQKtLO"
      },
      "source": [
        "mse = mean_squared_error(y,skpred)"
      ],
      "execution_count": 82,
      "outputs": []
    },
    {
      "cell_type": "code",
      "metadata": {
        "colab": {
          "base_uri": "https://localhost:8080/"
        },
        "id": "PElnw1YeK2ri",
        "outputId": "0e3097cd-2b85-4d43-cd68-893498f5ab22"
      },
      "source": [
        "np.sqrt(mse)"
      ],
      "execution_count": 83,
      "outputs": [
        {
          "output_type": "execute_result",
          "data": {
            "text/plain": [
              "22.95564284574794"
            ]
          },
          "metadata": {
            "tags": []
          },
          "execution_count": 83
        }
      ]
    },
    {
      "cell_type": "markdown",
      "metadata": {
        "id": "wGNOlr5oLENK"
      },
      "source": [
        "**Todas Predições**"
      ]
    },
    {
      "cell_type": "markdown",
      "metadata": {
        "id": "JmyUIJloLEwp"
      },
      "source": [
        "**Calculado Manualmente**"
      ]
    },
    {
      "cell_type": "code",
      "metadata": {
        "colab": {
          "base_uri": "https://localhost:8080/"
        },
        "id": "WjEGIo29LE8U",
        "outputId": "9a9de9cb-07f9-4f41-a55b-9b056013f5da"
      },
      "source": [
        "np.array(listapred1ao12)"
      ],
      "execution_count": 85,
      "outputs": [
        {
          "output_type": "execute_result",
          "data": {
            "text/plain": [
              "array([ 23.53846154,  41.07692308,  58.61538462,  76.15384615,\n",
              "        93.69230769, 111.23076923, 128.76923077, 146.30769231,\n",
              "       163.84615385, 181.38461538, 198.92307692, 216.46153846])"
            ]
          },
          "metadata": {
            "tags": []
          },
          "execution_count": 85
        }
      ]
    },
    {
      "cell_type": "markdown",
      "metadata": {
        "id": "HZtfaZNtLFHk"
      },
      "source": [
        "**Calcualdo via Statsmodel**"
      ]
    },
    {
      "cell_type": "code",
      "metadata": {
        "colab": {
          "base_uri": "https://localhost:8080/"
        },
        "id": "dYPYuHeaLFRY",
        "outputId": "11e5f314-91bc-4aeb-9415-cba960536f96"
      },
      "source": [
        "np.array(sm_pred)"
      ],
      "execution_count": 86,
      "outputs": [
        {
          "output_type": "execute_result",
          "data": {
            "text/plain": [
              "array([ 23.53846154,  41.07692308,  58.61538462,  76.15384615,\n",
              "        93.69230769, 111.23076923, 128.76923077, 146.30769231,\n",
              "       163.84615385, 181.38461538, 198.92307692, 216.46153846])"
            ]
          },
          "metadata": {
            "tags": []
          },
          "execution_count": 86
        }
      ]
    },
    {
      "cell_type": "markdown",
      "metadata": {
        "id": "aejoql0OLFZ3"
      },
      "source": [
        "**Calculado via Sklearn**"
      ]
    },
    {
      "cell_type": "code",
      "metadata": {
        "colab": {
          "base_uri": "https://localhost:8080/"
        },
        "id": "sPtF_uYpLFkg",
        "outputId": "e6f72d16-5c1c-437d-9909-8c3c44843527"
      },
      "source": [
        "skpred"
      ],
      "execution_count": 87,
      "outputs": [
        {
          "output_type": "execute_result",
          "data": {
            "text/plain": [
              "array([ 23.53846154,  41.07692308,  58.61538462,  76.15384615,\n",
              "        93.69230769, 111.23076923, 128.76923077, 146.30769231,\n",
              "       163.84615385, 181.38461538, 198.92307692, 216.46153846])"
            ]
          },
          "metadata": {
            "tags": []
          },
          "execution_count": 87
        }
      ]
    }
  ]
}