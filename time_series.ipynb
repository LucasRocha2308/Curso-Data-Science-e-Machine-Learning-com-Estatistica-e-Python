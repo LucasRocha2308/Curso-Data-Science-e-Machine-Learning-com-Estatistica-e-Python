{
  "nbformat": 4,
  "nbformat_minor": 0,
  "metadata": {
    "colab": {
      "name": "time_series.ipynb",
      "provenance": [],
      "collapsed_sections": [],
      "authorship_tag": "ABX9TyNnJNk5hBJz4jV7Uc6wTzWK",
      "include_colab_link": true
    },
    "kernelspec": {
      "name": "python3",
      "display_name": "Python 3"
    }
  },
  "cells": [
    {
      "cell_type": "markdown",
      "metadata": {
        "id": "view-in-github",
        "colab_type": "text"
      },
      "source": [
        "<a href=\"https://colab.research.google.com/github/rochinha23/Curso-Data-Science-e-Machine-Learning-com-Estatistica-e-Python/blob/main/time_series.ipynb\" target=\"_parent\"><img src=\"https://colab.research.google.com/assets/colab-badge.svg\" alt=\"Open In Colab\"/></a>"
      ]
    },
    {
      "cell_type": "markdown",
      "metadata": {
        "id": "idZBSAK4Lj0k"
      },
      "source": [
        "**Time Series** modulo especifico para trabalhar com tempo,hora, data..."
      ]
    },
    {
      "cell_type": "markdown",
      "metadata": {
        "id": "6WU-iObVLo_k"
      },
      "source": [
        "**importar pandas, numpy e matplotlib**"
      ]
    },
    {
      "cell_type": "code",
      "metadata": {
        "id": "CCniY8PHLXE4"
      },
      "source": [
        "import pandas as pd\r\n",
        "import numpy as np\r\n",
        "import matplotlib.pyplot as plt\r\n",
        "%matplotlib inline"
      ],
      "execution_count": 1,
      "outputs": []
    },
    {
      "cell_type": "markdown",
      "metadata": {
        "id": "xhnBzYJSMAG7"
      },
      "source": [
        "**datatime**"
      ]
    },
    {
      "cell_type": "code",
      "metadata": {
        "id": "KS-5nmdSMliK"
      },
      "source": [
        "import datetime"
      ],
      "execution_count": 2,
      "outputs": []
    },
    {
      "cell_type": "markdown",
      "metadata": {
        "id": "YNBa97KZMzY3"
      },
      "source": [
        "**Locale**"
      ]
    },
    {
      "cell_type": "code",
      "metadata": {
        "id": "jdRkj0ijM0NX"
      },
      "source": [
        "#import locale\r\n",
        "#locale.setlocale(locale.LC_ALL, 'pt-BR')"
      ],
      "execution_count": 3,
      "outputs": []
    },
    {
      "cell_type": "markdown",
      "metadata": {
        "id": "rvk5tWphM910"
      },
      "source": [
        "**Data e Hora atual(Now)**"
      ]
    },
    {
      "cell_type": "code",
      "metadata": {
        "colab": {
          "base_uri": "https://localhost:8080/"
        },
        "id": "anmMRGQLM-Ig",
        "outputId": "5685746a-36fb-4316-b077-d5542155582b"
      },
      "source": [
        "datetime.datetime.now()"
      ],
      "execution_count": 4,
      "outputs": [
        {
          "output_type": "execute_result",
          "data": {
            "text/plain": [
              "datetime.datetime(2020, 12, 13, 14, 46, 32, 427084)"
            ]
          },
          "metadata": {
            "tags": []
          },
          "execution_count": 4
        }
      ]
    },
    {
      "cell_type": "code",
      "metadata": {
        "colab": {
          "base_uri": "https://localhost:8080/"
        },
        "id": "Kn9IZxe7NWDa",
        "outputId": "75004a8e-2ece-43ec-ee6b-b4747e23e8b8"
      },
      "source": [
        "print(datetime.datetime.now())"
      ],
      "execution_count": 5,
      "outputs": [
        {
          "output_type": "stream",
          "text": [
            "2020-12-13 14:46:32.438753\n"
          ],
          "name": "stdout"
        }
      ]
    },
    {
      "cell_type": "markdown",
      "metadata": {
        "id": "ofsklhvhNof4"
      },
      "source": [
        "**Diferença de tempo(Timedelta)**"
      ]
    },
    {
      "cell_type": "code",
      "metadata": {
        "id": "jnJ34YIhNm-L"
      },
      "source": [
        "antes = datetime.datetime.now()"
      ],
      "execution_count": 6,
      "outputs": []
    },
    {
      "cell_type": "code",
      "metadata": {
        "id": "SZiOXja2Ntx1"
      },
      "source": [
        "depois = datetime.datetime.now()"
      ],
      "execution_count": 7,
      "outputs": []
    },
    {
      "cell_type": "code",
      "metadata": {
        "id": "WvhE4a0DNt-a"
      },
      "source": [
        "diferenca = depois - antes"
      ],
      "execution_count": 8,
      "outputs": []
    },
    {
      "cell_type": "code",
      "metadata": {
        "colab": {
          "base_uri": "https://localhost:8080/"
        },
        "id": "lwnbN3djOEtM",
        "outputId": "dd32402f-2409-4341-cc2d-ff54c4de98f8"
      },
      "source": [
        "diferenca"
      ],
      "execution_count": 9,
      "outputs": [
        {
          "output_type": "execute_result",
          "data": {
            "text/plain": [
              "datetime.timedelta(0, 0, 7721)"
            ]
          },
          "metadata": {
            "tags": []
          },
          "execution_count": 9
        }
      ]
    },
    {
      "cell_type": "code",
      "metadata": {
        "colab": {
          "base_uri": "https://localhost:8080/"
        },
        "id": "c8cD8DcuOYkE",
        "outputId": "19c8506e-1191-4819-dfc0-b8b583597f18"
      },
      "source": [
        "diferenca.seconds"
      ],
      "execution_count": 10,
      "outputs": [
        {
          "output_type": "execute_result",
          "data": {
            "text/plain": [
              "0"
            ]
          },
          "metadata": {
            "tags": []
          },
          "execution_count": 10
        }
      ]
    },
    {
      "cell_type": "code",
      "metadata": {
        "colab": {
          "base_uri": "https://localhost:8080/"
        },
        "id": "gvWd9yr0OvjH",
        "outputId": "8b1c72c7-ca79-43a7-8bdc-a96fc23d9557"
      },
      "source": [
        "datetime.timedelta(10)"
      ],
      "execution_count": 11,
      "outputs": [
        {
          "output_type": "execute_result",
          "data": {
            "text/plain": [
              "datetime.timedelta(10)"
            ]
          },
          "metadata": {
            "tags": []
          },
          "execution_count": 11
        }
      ]
    },
    {
      "cell_type": "markdown",
      "metadata": {
        "id": "yPj43a4lOknE"
      },
      "source": [
        "**String para data hora (Strptime)**"
      ]
    },
    {
      "cell_type": "code",
      "metadata": {
        "colab": {
          "base_uri": "https://localhost:8080/",
          "height": 35
        },
        "id": "RNTAUa-MOs78",
        "outputId": "618d3891-d9ec-4e55-8a71-c3a6c295c1f1"
      },
      "source": [
        "str_data_hora = '18-12-2020 13:26:35'\r\n",
        "str_data_hora"
      ],
      "execution_count": 12,
      "outputs": [
        {
          "output_type": "execute_result",
          "data": {
            "application/vnd.google.colaboratory.intrinsic+json": {
              "type": "string"
            },
            "text/plain": [
              "'18-12-2020 13:26:35'"
            ]
          },
          "metadata": {
            "tags": []
          },
          "execution_count": 12
        }
      ]
    },
    {
      "cell_type": "code",
      "metadata": {
        "id": "72JDErDiWopl"
      },
      "source": [
        "convertida_para_datetime = datetime.datetime.strptime(str_data_hora, '%d-%m-%Y %H:%M:%S' )"
      ],
      "execution_count": 13,
      "outputs": []
    },
    {
      "cell_type": "code",
      "metadata": {
        "colab": {
          "base_uri": "https://localhost:8080/"
        },
        "id": "gCuFozNjWpe8",
        "outputId": "66c0311c-a0b5-4f85-cadc-a8a0f2c420e3"
      },
      "source": [
        "convertida_para_datetime"
      ],
      "execution_count": 14,
      "outputs": [
        {
          "output_type": "execute_result",
          "data": {
            "text/plain": [
              "datetime.datetime(2020, 12, 18, 13, 26, 35)"
            ]
          },
          "metadata": {
            "tags": []
          },
          "execution_count": 14
        }
      ]
    },
    {
      "cell_type": "code",
      "metadata": {
        "colab": {
          "base_uri": "https://localhost:8080/"
        },
        "id": "nAk0XUqAXtOK",
        "outputId": "c908934a-67a8-4a0a-ce3e-5e7476b03669"
      },
      "source": [
        "print(convertida_para_datetime)"
      ],
      "execution_count": 15,
      "outputs": [
        {
          "output_type": "stream",
          "text": [
            "2020-12-18 13:26:35\n"
          ],
          "name": "stdout"
        }
      ]
    },
    {
      "cell_type": "markdown",
      "metadata": {
        "id": "_RFDbaNgYU9y"
      },
      "source": [
        "**String para data hora (Strptime)**"
      ]
    },
    {
      "cell_type": "code",
      "metadata": {
        "id": "q7pVNDc1Ycy0"
      },
      "source": [
        "str_data = '18-12-2020'"
      ],
      "execution_count": 16,
      "outputs": []
    },
    {
      "cell_type": "code",
      "metadata": {
        "id": "H_ch0hA5YslK"
      },
      "source": [
        "data = datetime.datetime.strptime(str_data, '%d-%m-%Y').date()"
      ],
      "execution_count": 17,
      "outputs": []
    },
    {
      "cell_type": "code",
      "metadata": {
        "colab": {
          "base_uri": "https://localhost:8080/"
        },
        "id": "x3iEgC_VYtBH",
        "outputId": "6055c1e2-bc7a-4c45-8cbe-18a68b98d77b"
      },
      "source": [
        "data"
      ],
      "execution_count": 18,
      "outputs": [
        {
          "output_type": "execute_result",
          "data": {
            "text/plain": [
              "datetime.date(2020, 12, 18)"
            ]
          },
          "metadata": {
            "tags": []
          },
          "execution_count": 18
        }
      ]
    },
    {
      "cell_type": "code",
      "metadata": {
        "colab": {
          "base_uri": "https://localhost:8080/"
        },
        "id": "gTUEvcU7ZGqY",
        "outputId": "aaefb0dd-0b91-4da3-afef-048deca33445"
      },
      "source": [
        "print(data)"
      ],
      "execution_count": 19,
      "outputs": [
        {
          "output_type": "stream",
          "text": [
            "2020-12-18\n"
          ],
          "name": "stdout"
        }
      ]
    },
    {
      "cell_type": "markdown",
      "metadata": {
        "id": "bJt8mpi4ZMSn"
      },
      "source": [
        "**Conversão de String para Tempo (Strptime)**"
      ]
    },
    {
      "cell_type": "code",
      "metadata": {
        "id": "t193BnxxZd0b"
      },
      "source": [
        "str_tempo = '17:03:56'"
      ],
      "execution_count": 20,
      "outputs": []
    },
    {
      "cell_type": "code",
      "metadata": {
        "id": "P6GLdVEzZtrr"
      },
      "source": [
        "tempo = datetime.datetime.strptime(str_tempo, '%H:%M:%S').time()"
      ],
      "execution_count": 21,
      "outputs": []
    },
    {
      "cell_type": "code",
      "metadata": {
        "colab": {
          "base_uri": "https://localhost:8080/"
        },
        "id": "1-yjSRloZuti",
        "outputId": "c8610907-5b3e-4793-f321-f8d2ceee7688"
      },
      "source": [
        "tempo"
      ],
      "execution_count": 22,
      "outputs": [
        {
          "output_type": "execute_result",
          "data": {
            "text/plain": [
              "datetime.time(17, 3, 56)"
            ]
          },
          "metadata": {
            "tags": []
          },
          "execution_count": 22
        }
      ]
    },
    {
      "cell_type": "code",
      "metadata": {
        "colab": {
          "base_uri": "https://localhost:8080/"
        },
        "id": "udgmIE5QZvT_",
        "outputId": "8c38cd23-7bc1-44bb-87da-fe5842277dbb"
      },
      "source": [
        "print(tempo)"
      ],
      "execution_count": 23,
      "outputs": [
        {
          "output_type": "stream",
          "text": [
            "17:03:56\n"
          ],
          "name": "stdout"
        }
      ]
    },
    {
      "cell_type": "markdown",
      "metadata": {
        "id": "Hozc5waWa4WN"
      },
      "source": [
        "**Periodos de tempos(Freq)**"
      ]
    },
    {
      "cell_type": "code",
      "metadata": {
        "id": "TPpkNFr7a-Ng"
      },
      "source": [
        "start = '01/01/2020'\r\n",
        "end = '31/12/2020'"
      ],
      "execution_count": 24,
      "outputs": []
    },
    {
      "cell_type": "code",
      "metadata": {
        "colab": {
          "base_uri": "https://localhost:8080/"
        },
        "id": "GCjnW-PVbQ8c",
        "outputId": "ed8fc25b-09a4-4a3d-880e-bbbe1d78b234"
      },
      "source": [
        "x=pd.date_range(start, end, freq='MS').strftime('%b')\r\n",
        "x"
      ],
      "execution_count": 25,
      "outputs": [
        {
          "output_type": "execute_result",
          "data": {
            "text/plain": [
              "Index(['Jan', 'Feb', 'Mar', 'Apr', 'May', 'Jun', 'Jul', 'Aug', 'Sep', 'Oct',\n",
              "       'Nov', 'Dec'],\n",
              "      dtype='object')"
            ]
          },
          "metadata": {
            "tags": []
          },
          "execution_count": 25
        }
      ]
    },
    {
      "cell_type": "code",
      "metadata": {
        "colab": {
          "base_uri": "https://localhost:8080/"
        },
        "id": "YXT7TgVUbpoo",
        "outputId": "734d29a5-021f-4d0b-da96-56bf59a5c172"
      },
      "source": [
        "len(x)"
      ],
      "execution_count": 26,
      "outputs": [
        {
          "output_type": "execute_result",
          "data": {
            "text/plain": [
              "12"
            ]
          },
          "metadata": {
            "tags": []
          },
          "execution_count": 26
        }
      ]
    },
    {
      "cell_type": "markdown",
      "metadata": {
        "id": "VRXpEAarcjPm"
      },
      "source": [
        "**Plot**"
      ]
    },
    {
      "cell_type": "code",
      "metadata": {
        "id": "4__Hxde8cqJo",
        "colab": {
          "base_uri": "https://localhost:8080/"
        },
        "outputId": "e71156b3-106d-4091-cd12-49694891ecb4"
      },
      "source": [
        "y = np.random.normal(10,1,12)# 12 elementos | com media 10 | e desvio padrão 1\r\n",
        "y"
      ],
      "execution_count": 27,
      "outputs": [
        {
          "output_type": "execute_result",
          "data": {
            "text/plain": [
              "array([ 8.66869561,  8.91768819,  9.75705713,  9.64669169,  9.11321539,\n",
              "       10.51402258, 12.49830738,  8.54862338, 10.63838099, 10.708023  ,\n",
              "       10.13881435,  8.28291026])"
            ]
          },
          "metadata": {
            "tags": []
          },
          "execution_count": 27
        }
      ]
    },
    {
      "cell_type": "code",
      "metadata": {
        "colab": {
          "base_uri": "https://localhost:8080/",
          "height": 362
        },
        "id": "hB8-_aWbLGQr",
        "outputId": "27fe3ef2-348f-4348-e795-2a08c9876be5"
      },
      "source": [
        "f, ax = plt.subplots(dpi=100)\r\n",
        "plt.plot(x,y)\r\n",
        "f.auto    #gira automaticamente os elementos do xlabel\r\n",
        "plt.show()"
      ],
      "execution_count": 28,
      "outputs": [
        {
          "output_type": "display_data",
          "data": {
            "image/png": "[encoded data removed]",
            "text/plain": [
              "<Figure size 600x400 with 1 Axes>"
            ]
          },
          "metadata": {
            "tags": [],
            "needs_background": "light"
          }
        }
      ]
    }
  ]
}