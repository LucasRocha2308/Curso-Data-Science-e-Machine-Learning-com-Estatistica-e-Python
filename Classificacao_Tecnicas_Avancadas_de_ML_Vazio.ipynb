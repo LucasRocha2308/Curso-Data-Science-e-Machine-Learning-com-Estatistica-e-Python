{
  "nbformat": 4,
  "nbformat_minor": 0,
  "metadata": {
    "kernelspec": {
      "display_name": "Python 3",
      "language": "python",
      "name": "python3"
    },
    "language_info": {
      "codemirror_mode": {
        "name": "ipython",
        "version": 3
      },
      "file_extension": ".py",
      "mimetype": "text/x-python",
      "name": "python",
      "nbconvert_exporter": "python",
      "pygments_lexer": "ipython3",
      "version": "3.7.3"
    },
    "colab": {
      "name": "Classificacao Tecnicas Avancadas de ML - Vazio.ipynb",
      "provenance": [],
      "collapsed_sections": [
        "oBI9TI7vCQ1j",
        "UafCEAXECQ1m",
        "ds6MjAy8CQ1p",
        "RYE1Lee7CQ1r",
        "6oF8NFfyCQ1v",
        "NILCF8xOCQ1x",
        "l_1AdRI1CQ1y",
        "PVegWyYXCQ1z",
        "HxVXhF72CQ10",
        "dzZzqou3CQ12",
        "0opCzKnECQ12",
        "591iKeJqCQ14",
        "IF0TGnt2CQ17",
        "wMpxpYuLCQ18",
        "Aa9JG3CxCQ1_",
        "nOeHvV9tCQ2A",
        "BJ_QS2vmCQ2D",
        "Tg2umwhGCQ2E",
        "1zosOs8vCQ2F",
        "t8U6n4eBCQ2G",
        "kPm5cNZuCQ2G",
        "64KfgwO9CQ2H",
        "Gr70oNA8CQ2I",
        "HU7GjwD4CQ2K",
        "CTYAYNKfCQ2L",
        "OYr9rx0QCQ2M",
        "lKvFTAApCQ2N",
        "_YGFS3LpCQ2P",
        "pN0Yw2ttCQ2V",
        "gEE0iMQfCQ2X",
        "MpU0jf3cCQ2Y",
        "YzRBStokCQ2Z",
        "wItI4aw5CQ2b",
        "t9gB6FceCQ2m"
      ],
      "include_colab_link": true
    }
  },
  "cells": [
    {
      "cell_type": "markdown",
      "metadata": {
        "id": "view-in-github",
        "colab_type": "text"
      },
      "source": [
        "<a href=\"https://colab.research.google.com/github/rochinha23/Curso-Data-Science-e-Machine-Learning-com-Estatistica-e-Python/blob/main/Classificacao_Tecnicas_Avancadas_de_ML_Vazio.ipynb\" target=\"_parent\"><img src=\"https://colab.research.google.com/assets/colab-badge.svg\" alt=\"Open In Colab\"/></a>"
      ]
    },
    {
      "cell_type": "markdown",
      "metadata": {
        "id": "1n861Iu7CQz7"
      },
      "source": [
        " <a name=\"topo\"></a>"
      ]
    },
    {
      "cell_type": "markdown",
      "metadata": {
        "id": "e0K13BWoCQ0A"
      },
      "source": [
        "# Sumário\n",
        "\n",
        "1. [O Naufrágio do Titanic](#titanic)\n",
        "2. [Análise Exploratória de Dados (AED)](#aed)  \n",
        "3. [Visualização de Dados](#vidados)\n",
        "4. [Engenharia de Recursos](#engenharia)\n",
        "5. [Machine Learning](#ml)\n",
        "6. [Validação Cruzada _(Cross-Validation)_](#cv)\n",
        "7. [Matriz de Confusão](#matrix)\n",
        "8. [Curvas ROC e AUC](#rocauc)\n",
        "9. [Customização de Hyper-Parâmetros](#hyperparam)\n",
        "10. [Ensembling](#ensembling)\n",
        "11. [Importância de Recursos](#fimportance)\n",
        "12. [Submissão](#submissao)             "
      ]
    },
    {
      "cell_type": "markdown",
      "metadata": {
        "id": "U7LAPYCECQ0C"
      },
      "source": [
        " <a name=\"titanic\"></a>"
      ]
    },
    {
      "cell_type": "markdown",
      "metadata": {
        "id": "Zq-vHOs9CQ0C"
      },
      "source": [
        "# O Naufrágio do Titanic\n",
        "<img src=\"titanic.jpg\" width=100%>\n",
        "\n",
        "O naufrágio do Titanic é um dos mais infames naufrágios da história.\n",
        "\n",
        "Em 15 de abril de 1912, durante sua viagem inaugural, o amplamente considerado \"inafundável\" RMS Titanic afundou após colidir com um iceberg. Infelizmente, não havia barcos salva-vidas suficientes para todos a bordo, resultando na morte de 1502 dos 2224 passageiros e tripulantes.\n",
        "\n",
        "Embora houvesse algum elemento de sorte envolvido na sobrevivência, parece que alguns grupos de pessoas eram mais propensos a sobreviver do que outros.\n",
        "\n",
        "Nesse desafio, pedimos que você construa um modelo preditivo que responda à pergunta: “que tipo de pessoas têm maior probabilidade de sobreviver?” Usando dados de passageiros (por exemplo, nome, idade, sexo, classe socioeconômica etc.).\n",
        "\n",
        "Página da Competição: https://www.kaggle.com/c/titanic\n",
        "\n",
        "Fontes de Consulta: \n",
        "* https://www.kaggle.com/startupsci/titanic-data-science-solutions\n",
        "* https://www.kaggle.com/ash316/eda-to-prediction-dietanic\n",
        "* https://www.kaggle.com/arthurtok/introduction-to-ensembling-stacking-in-python\n",
        "* https://www.kaggle.com/ldfreeman3/a-data-science-framework-to-achieve-99-accuracy\n",
        "* https://www.kaggle.com/cdeotte/titanic-using-name-only-0-81818\n",
        "* https://www.kaggle.com/cdeotte/titantic-mega-model-0-84210\n",
        "* https://www.kaggle.com/cdeotte/titanic-wcg-xgboost-0-84688\n",
        "* https://towardsdatascience.com/beyond-accuracy-precision-and-recall-3da06bea9f6c\n",
        "* https://www.kaggle.com/reisel/save-the-families\n",
        "* https://www.kaggle.com/gunesevitan/advanced-feature-engineering-tutorial-with-titanic\n",
        "<br>\n",
        "\n",
        "[início](#topo)"
      ]
    },
    {
      "cell_type": "markdown",
      "metadata": {
        "id": "Mht2YQXACQ0E"
      },
      "source": [
        " <a name=\"aed\"></a>"
      ]
    },
    {
      "cell_type": "markdown",
      "metadata": {
        "id": "EUKTf6WfCQ0E"
      },
      "source": [
        "## Análise Exploratória de Dados (AED)\n",
        "Esse passo é essencial, pois é através dele que iremos construir um entendimento intuitivo dos dados, entender como os parâmetros estão relacionados, procurar e encontrar tendências e relações entre diferentes parâmetros.\n",
        "\n",
        "<br>\n",
        "\n",
        "[início](#topo)"
      ]
    },
    {
      "cell_type": "markdown",
      "metadata": {
        "id": "a84sapu1CQ0F"
      },
      "source": [
        "### Importar bibliotecas"
      ]
    },
    {
      "cell_type": "code",
      "metadata": {
        "id": "wgRPkjKPCQ0G"
      },
      "source": [
        "import pandas as pd\r\n",
        "import numpy as np\r\n",
        "import seaborn as sns\r\n",
        "import matplotlib.pyplot as plt\r\n",
        "%matplotlib inline\r\n",
        "\r\n",
        "import io\r\n",
        "\r\n",
        "import warnings\r\n",
        "warnings.filterwarnings('ignore')\r\n"
      ],
      "execution_count": 1,
      "outputs": []
    },
    {
      "cell_type": "markdown",
      "metadata": {
        "id": "muZt9LjYCQ0H"
      },
      "source": [
        "### Ler train e test"
      ]
    },
    {
      "cell_type": "code",
      "metadata": {
        "colab": {
          "resources": {
            "http://localhost:8080/nbextensions/google.colab/files.js": {
              "data": "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",
              "ok": true,
              "headers": [
                [
                  "content-type",
                  "application/javascript"
                ]
              ],
              "status": 200,
              "status_text": ""
            }
          },
          "base_uri": "https://localhost:8080/",
          "height": 72
        },
        "id": "API-_WehCQ0I",
        "outputId": "1ac2005a-246b-4bfe-cbce-f5d6f6d57a00"
      },
      "source": [
        "from google.colab import files\r\n",
        "uploaded = files.upload()"
      ],
      "execution_count": 2,
      "outputs": [
        {
          "output_type": "display_data",
          "data": {
            "text/html": [
              "\n",
              "     <input type=\"file\" id=\"files-facc0edd-5f3a-4a13-baf3-539df11b15e6\" name=\"files[]\" multiple disabled\n",
              "        style=\"border:none\" />\n",
              "     <output id=\"result-facc0edd-5f3a-4a13-baf3-539df11b15e6\">\n",
              "      Upload widget is only available when the cell has been executed in the\n",
              "      current browser session. Please rerun this cell to enable.\n",
              "      </output>\n",
              "      <script src=\"/nbextensions/google.colab/files.js\"></script> "
            ],
            "text/plain": [
              "<IPython.core.display.HTML object>"
            ]
          },
          "metadata": {
            "tags": []
          }
        },
        {
          "output_type": "stream",
          "text": [
            "Saving train.csv to train.csv\n"
          ],
          "name": "stdout"
        }
      ]
    },
    {
      "cell_type": "code",
      "metadata": {
        "colab": {
          "resources": {
            "http://localhost:8080/nbextensions/google.colab/files.js": {
              "data": "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",
              "ok": true,
              "headers": [
                [
                  "content-type",
                  "application/javascript"
                ]
              ],
              "status": 200,
              "status_text": ""
            }
          },
          "base_uri": "https://localhost:8080/",
          "height": 72
        },
        "id": "93c6xX4CDrYw",
        "outputId": "2116ae9f-ee3a-41e4-aab7-7b084306a45e"
      },
      "source": [
        "from google.colab import files\r\n",
        "uploaded2 = files.upload()"
      ],
      "execution_count": 3,
      "outputs": [
        {
          "output_type": "display_data",
          "data": {
            "text/html": [
              "\n",
              "     <input type=\"file\" id=\"files-be5e875a-e2a5-4e04-ad51-7f4966de9422\" name=\"files[]\" multiple disabled\n",
              "        style=\"border:none\" />\n",
              "     <output id=\"result-be5e875a-e2a5-4e04-ad51-7f4966de9422\">\n",
              "      Upload widget is only available when the cell has been executed in the\n",
              "      current browser session. Please rerun this cell to enable.\n",
              "      </output>\n",
              "      <script src=\"/nbextensions/google.colab/files.js\"></script> "
            ],
            "text/plain": [
              "<IPython.core.display.HTML object>"
            ]
          },
          "metadata": {
            "tags": []
          }
        },
        {
          "output_type": "stream",
          "text": [
            "Saving test.csv to test.csv\n"
          ],
          "name": "stdout"
        }
      ]
    },
    {
      "cell_type": "code",
      "metadata": {
        "id": "NFVkN0UIDsBL"
      },
      "source": [
        "train = pd.read_csv('train.csv')"
      ],
      "execution_count": 4,
      "outputs": []
    },
    {
      "cell_type": "code",
      "metadata": {
        "id": "lO8VF1gwDsKB"
      },
      "source": [
        "test = pd.read_csv('test.csv')"
      ],
      "execution_count": 5,
      "outputs": []
    },
    {
      "cell_type": "markdown",
      "metadata": {
        "id": "KT2wAuI1CQ0I"
      },
      "source": [
        "### transformar definir o Id do Passageiro como Index"
      ]
    },
    {
      "cell_type": "code",
      "metadata": {
        "colab": {
          "base_uri": "https://localhost:8080/",
          "height": 496
        },
        "id": "18t6JlSsCQ0J",
        "outputId": "00b9bda0-6db2-4f43-f074-ea8820b658f6"
      },
      "source": [
        "train.head()"
      ],
      "execution_count": 6,
      "outputs": [
        {
          "output_type": "execute_result",
          "data": {
            "text/html": [
              "<div>\n",
              "<style scoped>\n",
              "    .dataframe tbody tr th:only-of-type {\n",
              "        vertical-align: middle;\n",
              "    }\n",
              "\n",
              "    .dataframe tbody tr th {\n",
              "        vertical-align: top;\n",
              "    }\n",
              "\n",
              "    .dataframe thead th {\n",
              "        text-align: right;\n",
              "    }\n",
              "</style>\n",
              "<table border=\"1\" class=\"dataframe\">\n",
              "  <thead>\n",
              "    <tr style=\"text-align: right;\">\n",
              "      <th></th>\n",
              "      <th>PassengerId</th>\n",
              "      <th>Survived</th>\n",
              "      <th>Pclass</th>\n",
              "      <th>Name</th>\n",
              "      <th>Sex</th>\n",
              "      <th>Age</th>\n",
              "      <th>SibSp</th>\n",
              "      <th>Parch</th>\n",
              "      <th>Ticket</th>\n",
              "      <th>Fare</th>\n",
              "      <th>Cabin</th>\n",
              "      <th>Embarked</th>\n",
              "    </tr>\n",
              "  </thead>\n",
              "  <tbody>\n",
              "    <tr>\n",
              "      <th>0</th>\n",
              "      <td>1</td>\n",
              "      <td>0</td>\n",
              "      <td>3</td>\n",
              "      <td>Braund, Mr. Owen Harris</td>\n",
              "      <td>male</td>\n",
              "      <td>22.0</td>\n",
              "      <td>1</td>\n",
              "      <td>0</td>\n",
              "      <td>A/5 21171</td>\n",
              "      <td>7.2500</td>\n",
              "      <td>NaN</td>\n",
              "      <td>S</td>\n",
              "    </tr>\n",
              "    <tr>\n",
              "      <th>1</th>\n",
              "      <td>2</td>\n",
              "      <td>1</td>\n",
              "      <td>1</td>\n",
              "      <td>Cumings, Mrs. John Bradley (Florence Briggs Th...</td>\n",
              "      <td>female</td>\n",
              "      <td>38.0</td>\n",
              "      <td>1</td>\n",
              "      <td>0</td>\n",
              "      <td>PC 17599</td>\n",
              "      <td>71.2833</td>\n",
              "      <td>C85</td>\n",
              "      <td>C</td>\n",
              "    </tr>\n",
              "    <tr>\n",
              "      <th>2</th>\n",
              "      <td>3</td>\n",
              "      <td>1</td>\n",
              "      <td>3</td>\n",
              "      <td>Heikkinen, Miss. Laina</td>\n",
              "      <td>female</td>\n",
              "      <td>26.0</td>\n",
              "      <td>0</td>\n",
              "      <td>0</td>\n",
              "      <td>STON/O2. 3101282</td>\n",
              "      <td>7.9250</td>\n",
              "      <td>NaN</td>\n",
              "      <td>S</td>\n",
              "    </tr>\n",
              "    <tr>\n",
              "      <th>3</th>\n",
              "      <td>4</td>\n",
              "      <td>1</td>\n",
              "      <td>1</td>\n",
              "      <td>Futrelle, Mrs. Jacques Heath (Lily May Peel)</td>\n",
              "      <td>female</td>\n",
              "      <td>35.0</td>\n",
              "      <td>1</td>\n",
              "      <td>0</td>\n",
              "      <td>113803</td>\n",
              "      <td>53.1000</td>\n",
              "      <td>C123</td>\n",
              "      <td>S</td>\n",
              "    </tr>\n",
              "    <tr>\n",
              "      <th>4</th>\n",
              "      <td>5</td>\n",
              "      <td>0</td>\n",
              "      <td>3</td>\n",
              "      <td>Allen, Mr. William Henry</td>\n",
              "      <td>male</td>\n",
              "      <td>35.0</td>\n",
              "      <td>0</td>\n",
              "      <td>0</td>\n",
              "      <td>373450</td>\n",
              "      <td>8.0500</td>\n",
              "      <td>NaN</td>\n",
              "      <td>S</td>\n",
              "    </tr>\n",
              "  </tbody>\n",
              "</table>\n",
              "</div>"
            ],
            "text/plain": [
              "   PassengerId  Survived  Pclass  ...     Fare Cabin  Embarked\n",
              "0            1         0       3  ...   7.2500   NaN         S\n",
              "1            2         1       1  ...  71.2833   C85         C\n",
              "2            3         1       3  ...   7.9250   NaN         S\n",
              "3            4         1       1  ...  53.1000  C123         S\n",
              "4            5         0       3  ...   8.0500   NaN         S\n",
              "\n",
              "[5 rows x 12 columns]"
            ]
          },
          "metadata": {
            "tags": []
          },
          "execution_count": 6
        }
      ]
    },
    {
      "cell_type": "code",
      "metadata": {
        "id": "KZGS9TilELzz"
      },
      "source": [
        "train.set_index('PassengerId', inplace=True)"
      ],
      "execution_count": 7,
      "outputs": []
    },
    {
      "cell_type": "code",
      "metadata": {
        "id": "_s_MrahcCQ0J"
      },
      "source": [
        "test.set_index('PassengerId',inplace=True)"
      ],
      "execution_count": 8,
      "outputs": []
    },
    {
      "cell_type": "markdown",
      "metadata": {
        "id": "YB1o8DKBCQ0K"
      },
      "source": [
        "### Verificar shape dos dois"
      ]
    },
    {
      "cell_type": "code",
      "metadata": {
        "colab": {
          "base_uri": "https://localhost:8080/"
        },
        "id": "7dZjsB4dCQ0L",
        "outputId": "0d3e77d9-732b-4702-81ac-76e7cdf5eace"
      },
      "source": [
        "train.shape, test.shape"
      ],
      "execution_count": 9,
      "outputs": [
        {
          "output_type": "execute_result",
          "data": {
            "text/plain": [
              "((891, 11), (418, 10))"
            ]
          },
          "metadata": {
            "tags": []
          },
          "execution_count": 9
        }
      ]
    },
    {
      "cell_type": "code",
      "metadata": {
        "colab": {
          "base_uri": "https://localhost:8080/",
          "height": 895
        },
        "id": "LbElcyC1CQ0L",
        "outputId": "ebb844df-1930-452d-a28f-fc7c59ed3a3e"
      },
      "source": [
        "data = pd.concat([train,test], sort=True)\r\n",
        "data"
      ],
      "execution_count": 10,
      "outputs": [
        {
          "output_type": "execute_result",
          "data": {
            "text/html": [
              "<div>\n",
              "<style scoped>\n",
              "    .dataframe tbody tr th:only-of-type {\n",
              "        vertical-align: middle;\n",
              "    }\n",
              "\n",
              "    .dataframe tbody tr th {\n",
              "        vertical-align: top;\n",
              "    }\n",
              "\n",
              "    .dataframe thead th {\n",
              "        text-align: right;\n",
              "    }\n",
              "</style>\n",
              "<table border=\"1\" class=\"dataframe\">\n",
              "  <thead>\n",
              "    <tr style=\"text-align: right;\">\n",
              "      <th></th>\n",
              "      <th>Age</th>\n",
              "      <th>Cabin</th>\n",
              "      <th>Embarked</th>\n",
              "      <th>Fare</th>\n",
              "      <th>Name</th>\n",
              "      <th>Parch</th>\n",
              "      <th>Pclass</th>\n",
              "      <th>Sex</th>\n",
              "      <th>SibSp</th>\n",
              "      <th>Survived</th>\n",
              "      <th>Ticket</th>\n",
              "    </tr>\n",
              "    <tr>\n",
              "      <th>PassengerId</th>\n",
              "      <th></th>\n",
              "      <th></th>\n",
              "      <th></th>\n",
              "      <th></th>\n",
              "      <th></th>\n",
              "      <th></th>\n",
              "      <th></th>\n",
              "      <th></th>\n",
              "      <th></th>\n",
              "      <th></th>\n",
              "      <th></th>\n",
              "    </tr>\n",
              "  </thead>\n",
              "  <tbody>\n",
              "    <tr>\n",
              "      <th>1</th>\n",
              "      <td>22.0</td>\n",
              "      <td>NaN</td>\n",
              "      <td>S</td>\n",
              "      <td>7.2500</td>\n",
              "      <td>Braund, Mr. Owen Harris</td>\n",
              "      <td>0</td>\n",
              "      <td>3</td>\n",
              "      <td>male</td>\n",
              "      <td>1</td>\n",
              "      <td>0.0</td>\n",
              "      <td>A/5 21171</td>\n",
              "    </tr>\n",
              "    <tr>\n",
              "      <th>2</th>\n",
              "      <td>38.0</td>\n",
              "      <td>C85</td>\n",
              "      <td>C</td>\n",
              "      <td>71.2833</td>\n",
              "      <td>Cumings, Mrs. John Bradley (Florence Briggs Th...</td>\n",
              "      <td>0</td>\n",
              "      <td>1</td>\n",
              "      <td>female</td>\n",
              "      <td>1</td>\n",
              "      <td>1.0</td>\n",
              "      <td>PC 17599</td>\n",
              "    </tr>\n",
              "    <tr>\n",
              "      <th>3</th>\n",
              "      <td>26.0</td>\n",
              "      <td>NaN</td>\n",
              "      <td>S</td>\n",
              "      <td>7.9250</td>\n",
              "      <td>Heikkinen, Miss. Laina</td>\n",
              "      <td>0</td>\n",
              "      <td>3</td>\n",
              "      <td>female</td>\n",
              "      <td>0</td>\n",
              "      <td>1.0</td>\n",
              "      <td>STON/O2. 3101282</td>\n",
              "    </tr>\n",
              "    <tr>\n",
              "      <th>4</th>\n",
              "      <td>35.0</td>\n",
              "      <td>C123</td>\n",
              "      <td>S</td>\n",
              "      <td>53.1000</td>\n",
              "      <td>Futrelle, Mrs. Jacques Heath (Lily May Peel)</td>\n",
              "      <td>0</td>\n",
              "      <td>1</td>\n",
              "      <td>female</td>\n",
              "      <td>1</td>\n",
              "      <td>1.0</td>\n",
              "      <td>113803</td>\n",
              "    </tr>\n",
              "    <tr>\n",
              "      <th>5</th>\n",
              "      <td>35.0</td>\n",
              "      <td>NaN</td>\n",
              "      <td>S</td>\n",
              "      <td>8.0500</td>\n",
              "      <td>Allen, Mr. William Henry</td>\n",
              "      <td>0</td>\n",
              "      <td>3</td>\n",
              "      <td>male</td>\n",
              "      <td>0</td>\n",
              "      <td>0.0</td>\n",
              "      <td>373450</td>\n",
              "    </tr>\n",
              "    <tr>\n",
              "      <th>...</th>\n",
              "      <td>...</td>\n",
              "      <td>...</td>\n",
              "      <td>...</td>\n",
              "      <td>...</td>\n",
              "      <td>...</td>\n",
              "      <td>...</td>\n",
              "      <td>...</td>\n",
              "      <td>...</td>\n",
              "      <td>...</td>\n",
              "      <td>...</td>\n",
              "      <td>...</td>\n",
              "    </tr>\n",
              "    <tr>\n",
              "      <th>1305</th>\n",
              "      <td>NaN</td>\n",
              "      <td>NaN</td>\n",
              "      <td>S</td>\n",
              "      <td>8.0500</td>\n",
              "      <td>Spector, Mr. Woolf</td>\n",
              "      <td>0</td>\n",
              "      <td>3</td>\n",
              "      <td>male</td>\n",
              "      <td>0</td>\n",
              "      <td>NaN</td>\n",
              "      <td>A.5. 3236</td>\n",
              "    </tr>\n",
              "    <tr>\n",
              "      <th>1306</th>\n",
              "      <td>39.0</td>\n",
              "      <td>C105</td>\n",
              "      <td>C</td>\n",
              "      <td>108.9000</td>\n",
              "      <td>Oliva y Ocana, Dona. Fermina</td>\n",
              "      <td>0</td>\n",
              "      <td>1</td>\n",
              "      <td>female</td>\n",
              "      <td>0</td>\n",
              "      <td>NaN</td>\n",
              "      <td>PC 17758</td>\n",
              "    </tr>\n",
              "    <tr>\n",
              "      <th>1307</th>\n",
              "      <td>38.5</td>\n",
              "      <td>NaN</td>\n",
              "      <td>S</td>\n",
              "      <td>7.2500</td>\n",
              "      <td>Saether, Mr. Simon Sivertsen</td>\n",
              "      <td>0</td>\n",
              "      <td>3</td>\n",
              "      <td>male</td>\n",
              "      <td>0</td>\n",
              "      <td>NaN</td>\n",
              "      <td>SOTON/O.Q. 3101262</td>\n",
              "    </tr>\n",
              "    <tr>\n",
              "      <th>1308</th>\n",
              "      <td>NaN</td>\n",
              "      <td>NaN</td>\n",
              "      <td>S</td>\n",
              "      <td>8.0500</td>\n",
              "      <td>Ware, Mr. Frederick</td>\n",
              "      <td>0</td>\n",
              "      <td>3</td>\n",
              "      <td>male</td>\n",
              "      <td>0</td>\n",
              "      <td>NaN</td>\n",
              "      <td>359309</td>\n",
              "    </tr>\n",
              "    <tr>\n",
              "      <th>1309</th>\n",
              "      <td>NaN</td>\n",
              "      <td>NaN</td>\n",
              "      <td>C</td>\n",
              "      <td>22.3583</td>\n",
              "      <td>Peter, Master. Michael J</td>\n",
              "      <td>1</td>\n",
              "      <td>3</td>\n",
              "      <td>male</td>\n",
              "      <td>1</td>\n",
              "      <td>NaN</td>\n",
              "      <td>2668</td>\n",
              "    </tr>\n",
              "  </tbody>\n",
              "</table>\n",
              "<p>1309 rows × 11 columns</p>\n",
              "</div>"
            ],
            "text/plain": [
              "              Age Cabin Embarked  ...  SibSp Survived              Ticket\n",
              "PassengerId                       ...                                    \n",
              "1            22.0   NaN        S  ...      1      0.0           A/5 21171\n",
              "2            38.0   C85        C  ...      1      1.0            PC 17599\n",
              "3            26.0   NaN        S  ...      0      1.0    STON/O2. 3101282\n",
              "4            35.0  C123        S  ...      1      1.0              113803\n",
              "5            35.0   NaN        S  ...      0      0.0              373450\n",
              "...           ...   ...      ...  ...    ...      ...                 ...\n",
              "1305          NaN   NaN        S  ...      0      NaN           A.5. 3236\n",
              "1306         39.0  C105        C  ...      0      NaN            PC 17758\n",
              "1307         38.5   NaN        S  ...      0      NaN  SOTON/O.Q. 3101262\n",
              "1308          NaN   NaN        S  ...      0      NaN              359309\n",
              "1309          NaN   NaN        C  ...      1      NaN                2668\n",
              "\n",
              "[1309 rows x 11 columns]"
            ]
          },
          "metadata": {
            "tags": []
          },
          "execution_count": 10
        }
      ]
    },
    {
      "cell_type": "markdown",
      "metadata": {
        "id": "vrutFTj0CQ0M"
      },
      "source": [
        "### Traduzir Colunas"
      ]
    },
    {
      "cell_type": "code",
      "metadata": {
        "colab": {
          "base_uri": "https://localhost:8080/"
        },
        "id": "yTrr0NuFCQ0N",
        "outputId": "9c56f455-06e4-4a3b-cf57-5ecbecc35533"
      },
      "source": [
        "data.columns"
      ],
      "execution_count": 11,
      "outputs": [
        {
          "output_type": "execute_result",
          "data": {
            "text/plain": [
              "Index(['Age', 'Cabin', 'Embarked', 'Fare', 'Name', 'Parch', 'Pclass', 'Sex',\n",
              "       'SibSp', 'Survived', 'Ticket'],\n",
              "      dtype='object')"
            ]
          },
          "metadata": {
            "tags": []
          },
          "execution_count": 11
        }
      ]
    },
    {
      "cell_type": "code",
      "metadata": {
        "id": "h_QRQqDGCQ0N"
      },
      "source": [
        "data.columns = ['Idade', 'Cabine', 'Embarque', 'Tarifa', 'Nome', 'PaisFilhos', 'Classe', \r\n",
        "                'Sexo', 'IrmaosConjuge', 'Sobreviveu', 'Bilhete']"
      ],
      "execution_count": 12,
      "outputs": []
    },
    {
      "cell_type": "code",
      "metadata": {
        "colab": {
          "base_uri": "https://localhost:8080/",
          "height": 527
        },
        "id": "m911CjJ0CQ0O",
        "outputId": "2c73e1a9-d8cf-4980-b775-1d5fb3791b92"
      },
      "source": [
        "data.head()"
      ],
      "execution_count": 13,
      "outputs": [
        {
          "output_type": "execute_result",
          "data": {
            "text/html": [
              "<div>\n",
              "<style scoped>\n",
              "    .dataframe tbody tr th:only-of-type {\n",
              "        vertical-align: middle;\n",
              "    }\n",
              "\n",
              "    .dataframe tbody tr th {\n",
              "        vertical-align: top;\n",
              "    }\n",
              "\n",
              "    .dataframe thead th {\n",
              "        text-align: right;\n",
              "    }\n",
              "</style>\n",
              "<table border=\"1\" class=\"dataframe\">\n",
              "  <thead>\n",
              "    <tr style=\"text-align: right;\">\n",
              "      <th></th>\n",
              "      <th>Idade</th>\n",
              "      <th>Cabine</th>\n",
              "      <th>Embarque</th>\n",
              "      <th>Tarifa</th>\n",
              "      <th>Nome</th>\n",
              "      <th>PaisFilhos</th>\n",
              "      <th>Classe</th>\n",
              "      <th>Sexo</th>\n",
              "      <th>IrmaosConjuge</th>\n",
              "      <th>Sobreviveu</th>\n",
              "      <th>Bilhete</th>\n",
              "    </tr>\n",
              "    <tr>\n",
              "      <th>PassengerId</th>\n",
              "      <th></th>\n",
              "      <th></th>\n",
              "      <th></th>\n",
              "      <th></th>\n",
              "      <th></th>\n",
              "      <th></th>\n",
              "      <th></th>\n",
              "      <th></th>\n",
              "      <th></th>\n",
              "      <th></th>\n",
              "      <th></th>\n",
              "    </tr>\n",
              "  </thead>\n",
              "  <tbody>\n",
              "    <tr>\n",
              "      <th>1</th>\n",
              "      <td>22.0</td>\n",
              "      <td>NaN</td>\n",
              "      <td>S</td>\n",
              "      <td>7.2500</td>\n",
              "      <td>Braund, Mr. Owen Harris</td>\n",
              "      <td>0</td>\n",
              "      <td>3</td>\n",
              "      <td>male</td>\n",
              "      <td>1</td>\n",
              "      <td>0.0</td>\n",
              "      <td>A/5 21171</td>\n",
              "    </tr>\n",
              "    <tr>\n",
              "      <th>2</th>\n",
              "      <td>38.0</td>\n",
              "      <td>C85</td>\n",
              "      <td>C</td>\n",
              "      <td>71.2833</td>\n",
              "      <td>Cumings, Mrs. John Bradley (Florence Briggs Th...</td>\n",
              "      <td>0</td>\n",
              "      <td>1</td>\n",
              "      <td>female</td>\n",
              "      <td>1</td>\n",
              "      <td>1.0</td>\n",
              "      <td>PC 17599</td>\n",
              "    </tr>\n",
              "    <tr>\n",
              "      <th>3</th>\n",
              "      <td>26.0</td>\n",
              "      <td>NaN</td>\n",
              "      <td>S</td>\n",
              "      <td>7.9250</td>\n",
              "      <td>Heikkinen, Miss. Laina</td>\n",
              "      <td>0</td>\n",
              "      <td>3</td>\n",
              "      <td>female</td>\n",
              "      <td>0</td>\n",
              "      <td>1.0</td>\n",
              "      <td>STON/O2. 3101282</td>\n",
              "    </tr>\n",
              "    <tr>\n",
              "      <th>4</th>\n",
              "      <td>35.0</td>\n",
              "      <td>C123</td>\n",
              "      <td>S</td>\n",
              "      <td>53.1000</td>\n",
              "      <td>Futrelle, Mrs. Jacques Heath (Lily May Peel)</td>\n",
              "      <td>0</td>\n",
              "      <td>1</td>\n",
              "      <td>female</td>\n",
              "      <td>1</td>\n",
              "      <td>1.0</td>\n",
              "      <td>113803</td>\n",
              "    </tr>\n",
              "    <tr>\n",
              "      <th>5</th>\n",
              "      <td>35.0</td>\n",
              "      <td>NaN</td>\n",
              "      <td>S</td>\n",
              "      <td>8.0500</td>\n",
              "      <td>Allen, Mr. William Henry</td>\n",
              "      <td>0</td>\n",
              "      <td>3</td>\n",
              "      <td>male</td>\n",
              "      <td>0</td>\n",
              "      <td>0.0</td>\n",
              "      <td>373450</td>\n",
              "    </tr>\n",
              "  </tbody>\n",
              "</table>\n",
              "</div>"
            ],
            "text/plain": [
              "             Idade Cabine Embarque  ...  IrmaosConjuge Sobreviveu           Bilhete\n",
              "PassengerId                         ...                                            \n",
              "1             22.0    NaN        S  ...              1        0.0         A/5 21171\n",
              "2             38.0    C85        C  ...              1        1.0          PC 17599\n",
              "3             26.0    NaN        S  ...              0        1.0  STON/O2. 3101282\n",
              "4             35.0   C123        S  ...              1        1.0            113803\n",
              "5             35.0    NaN        S  ...              0        0.0            373450\n",
              "\n",
              "[5 rows x 11 columns]"
            ]
          },
          "metadata": {
            "tags": []
          },
          "execution_count": 13
        }
      ]
    },
    {
      "cell_type": "markdown",
      "metadata": {
        "id": "yBf6R_bqCQ0O"
      },
      "source": [
        " <a name=\"mapsex\"></a>"
      ]
    },
    {
      "cell_type": "markdown",
      "metadata": {
        "id": "Fct_4Bx8CQ0P"
      },
      "source": [
        "### Mapear Sexo para \"homem\" e \"mulher\""
      ]
    },
    {
      "cell_type": "code",
      "metadata": {
        "id": "3KTrL4cuCQ0Q"
      },
      "source": [
        "sexo = {'male': 'homem', 'female': 'mulher'}"
      ],
      "execution_count": 14,
      "outputs": []
    },
    {
      "cell_type": "code",
      "metadata": {
        "id": "M8pylibuCQ0Q"
      },
      "source": [
        "data['Sexo'] = data['Sexo'].map(sexo)"
      ],
      "execution_count": 15,
      "outputs": []
    },
    {
      "cell_type": "code",
      "metadata": {
        "colab": {
          "base_uri": "https://localhost:8080/",
          "height": 527
        },
        "id": "8eyNxTjVGkLI",
        "outputId": "a9ea92fb-b81a-4515-84a8-c47d90e0504f"
      },
      "source": [
        "data.head()"
      ],
      "execution_count": 16,
      "outputs": [
        {
          "output_type": "execute_result",
          "data": {
            "text/html": [
              "<div>\n",
              "<style scoped>\n",
              "    .dataframe tbody tr th:only-of-type {\n",
              "        vertical-align: middle;\n",
              "    }\n",
              "\n",
              "    .dataframe tbody tr th {\n",
              "        vertical-align: top;\n",
              "    }\n",
              "\n",
              "    .dataframe thead th {\n",
              "        text-align: right;\n",
              "    }\n",
              "</style>\n",
              "<table border=\"1\" class=\"dataframe\">\n",
              "  <thead>\n",
              "    <tr style=\"text-align: right;\">\n",
              "      <th></th>\n",
              "      <th>Idade</th>\n",
              "      <th>Cabine</th>\n",
              "      <th>Embarque</th>\n",
              "      <th>Tarifa</th>\n",
              "      <th>Nome</th>\n",
              "      <th>PaisFilhos</th>\n",
              "      <th>Classe</th>\n",
              "      <th>Sexo</th>\n",
              "      <th>IrmaosConjuge</th>\n",
              "      <th>Sobreviveu</th>\n",
              "      <th>Bilhete</th>\n",
              "    </tr>\n",
              "    <tr>\n",
              "      <th>PassengerId</th>\n",
              "      <th></th>\n",
              "      <th></th>\n",
              "      <th></th>\n",
              "      <th></th>\n",
              "      <th></th>\n",
              "      <th></th>\n",
              "      <th></th>\n",
              "      <th></th>\n",
              "      <th></th>\n",
              "      <th></th>\n",
              "      <th></th>\n",
              "    </tr>\n",
              "  </thead>\n",
              "  <tbody>\n",
              "    <tr>\n",
              "      <th>1</th>\n",
              "      <td>22.0</td>\n",
              "      <td>NaN</td>\n",
              "      <td>S</td>\n",
              "      <td>7.2500</td>\n",
              "      <td>Braund, Mr. Owen Harris</td>\n",
              "      <td>0</td>\n",
              "      <td>3</td>\n",
              "      <td>homem</td>\n",
              "      <td>1</td>\n",
              "      <td>0.0</td>\n",
              "      <td>A/5 21171</td>\n",
              "    </tr>\n",
              "    <tr>\n",
              "      <th>2</th>\n",
              "      <td>38.0</td>\n",
              "      <td>C85</td>\n",
              "      <td>C</td>\n",
              "      <td>71.2833</td>\n",
              "      <td>Cumings, Mrs. John Bradley (Florence Briggs Th...</td>\n",
              "      <td>0</td>\n",
              "      <td>1</td>\n",
              "      <td>mulher</td>\n",
              "      <td>1</td>\n",
              "      <td>1.0</td>\n",
              "      <td>PC 17599</td>\n",
              "    </tr>\n",
              "    <tr>\n",
              "      <th>3</th>\n",
              "      <td>26.0</td>\n",
              "      <td>NaN</td>\n",
              "      <td>S</td>\n",
              "      <td>7.9250</td>\n",
              "      <td>Heikkinen, Miss. Laina</td>\n",
              "      <td>0</td>\n",
              "      <td>3</td>\n",
              "      <td>mulher</td>\n",
              "      <td>0</td>\n",
              "      <td>1.0</td>\n",
              "      <td>STON/O2. 3101282</td>\n",
              "    </tr>\n",
              "    <tr>\n",
              "      <th>4</th>\n",
              "      <td>35.0</td>\n",
              "      <td>C123</td>\n",
              "      <td>S</td>\n",
              "      <td>53.1000</td>\n",
              "      <td>Futrelle, Mrs. Jacques Heath (Lily May Peel)</td>\n",
              "      <td>0</td>\n",
              "      <td>1</td>\n",
              "      <td>mulher</td>\n",
              "      <td>1</td>\n",
              "      <td>1.0</td>\n",
              "      <td>113803</td>\n",
              "    </tr>\n",
              "    <tr>\n",
              "      <th>5</th>\n",
              "      <td>35.0</td>\n",
              "      <td>NaN</td>\n",
              "      <td>S</td>\n",
              "      <td>8.0500</td>\n",
              "      <td>Allen, Mr. William Henry</td>\n",
              "      <td>0</td>\n",
              "      <td>3</td>\n",
              "      <td>homem</td>\n",
              "      <td>0</td>\n",
              "      <td>0.0</td>\n",
              "      <td>373450</td>\n",
              "    </tr>\n",
              "  </tbody>\n",
              "</table>\n",
              "</div>"
            ],
            "text/plain": [
              "             Idade Cabine Embarque  ...  IrmaosConjuge Sobreviveu           Bilhete\n",
              "PassengerId                         ...                                            \n",
              "1             22.0    NaN        S  ...              1        0.0         A/5 21171\n",
              "2             38.0    C85        C  ...              1        1.0          PC 17599\n",
              "3             26.0    NaN        S  ...              0        1.0  STON/O2. 3101282\n",
              "4             35.0   C123        S  ...              1        1.0            113803\n",
              "5             35.0    NaN        S  ...              0        0.0            373450\n",
              "\n",
              "[5 rows x 11 columns]"
            ]
          },
          "metadata": {
            "tags": []
          },
          "execution_count": 16
        }
      ]
    },
    {
      "cell_type": "markdown",
      "metadata": {
        "id": "Q8UgPCO0CQ0R"
      },
      "source": [
        " <a name=\"portembarque\"></a>"
      ]
    },
    {
      "cell_type": "markdown",
      "metadata": {
        "id": "P0grUctQCQ0S"
      },
      "source": [
        " <a name=\"paracat\"></a>"
      ]
    },
    {
      "cell_type": "markdown",
      "metadata": {
        "id": "Tvc931LACQ0S"
      },
      "source": [
        "### Parâmetros Categóricos  <a name=\"nom\"></a>\n",
        "* ### Nominais"
      ]
    },
    {
      "cell_type": "code",
      "metadata": {
        "colab": {
          "base_uri": "https://localhost:8080/"
        },
        "id": "wc662_2SCQ0T",
        "outputId": "012bcb45-f039-4151-be30-c2841a2c009d"
      },
      "source": [
        "data.info()"
      ],
      "execution_count": 17,
      "outputs": [
        {
          "output_type": "stream",
          "text": [
            "<class 'pandas.core.frame.DataFrame'>\n",
            "Int64Index: 1309 entries, 1 to 1309\n",
            "Data columns (total 11 columns):\n",
            " #   Column         Non-Null Count  Dtype  \n",
            "---  ------         --------------  -----  \n",
            " 0   Idade          1046 non-null   float64\n",
            " 1   Cabine         295 non-null    object \n",
            " 2   Embarque       1307 non-null   object \n",
            " 3   Tarifa         1308 non-null   float64\n",
            " 4   Nome           1309 non-null   object \n",
            " 5   PaisFilhos     1309 non-null   int64  \n",
            " 6   Classe         1309 non-null   int64  \n",
            " 7   Sexo           1309 non-null   object \n",
            " 8   IrmaosConjuge  1309 non-null   int64  \n",
            " 9   Sobreviveu     891 non-null    float64\n",
            " 10  Bilhete        1309 non-null   object \n",
            "dtypes: float64(3), int64(3), object(5)\n",
            "memory usage: 122.7+ KB\n"
          ],
          "name": "stdout"
        }
      ]
    },
    {
      "cell_type": "code",
      "metadata": {
        "id": "HzUq6O9mCQ0T"
      },
      "source": [
        "#Sexo, Embarque, Sobreviveu"
      ],
      "execution_count": 18,
      "outputs": []
    },
    {
      "cell_type": "markdown",
      "metadata": {
        "id": "kbW8SMQrCQ0T"
      },
      "source": [
        " <a name=\"ord\"></a>"
      ]
    },
    {
      "cell_type": "markdown",
      "metadata": {
        "id": "6MhQpFqjCQ0U"
      },
      "source": [
        "* ### Ordinais"
      ]
    },
    {
      "cell_type": "code",
      "metadata": {
        "id": "AWvCnrz2CQ0U"
      },
      "source": [
        "#Classe"
      ],
      "execution_count": 19,
      "outputs": []
    },
    {
      "cell_type": "markdown",
      "metadata": {
        "id": "UkAHymO9CQ0U"
      },
      "source": [
        " <a name=\"paranum\"></a>"
      ]
    },
    {
      "cell_type": "markdown",
      "metadata": {
        "id": "KcTWvYbnCQ0V"
      },
      "source": [
        "### Parâmetros Numéricos  <a name=\"cont\"></a>\n",
        "* ### Contínuos"
      ]
    },
    {
      "cell_type": "code",
      "metadata": {
        "id": "ZwB9BC7-CQ0V"
      },
      "source": [
        "# Idade, Tarifa"
      ],
      "execution_count": 20,
      "outputs": []
    },
    {
      "cell_type": "markdown",
      "metadata": {
        "id": "FH5MsmYhCQ0W"
      },
      "source": [
        " <a name=\"disc\"></a>"
      ]
    },
    {
      "cell_type": "markdown",
      "metadata": {
        "id": "IicWjFrwCQ0W"
      },
      "source": [
        "* ### Discretos"
      ]
    },
    {
      "cell_type": "code",
      "metadata": {
        "id": "9U0qWGJ7CQ0W"
      },
      "source": [
        "#IrmaosConjuge, PaisFilhos"
      ],
      "execution_count": 21,
      "outputs": []
    },
    {
      "cell_type": "markdown",
      "metadata": {
        "id": "yAkwJYnFCQ0X"
      },
      "source": [
        " <a name=\"paraalfa\"></a>"
      ]
    },
    {
      "cell_type": "markdown",
      "metadata": {
        "id": "vnYs7FtrCQ0X"
      },
      "source": [
        "### Parâmetros Alfanuméricos"
      ]
    },
    {
      "cell_type": "code",
      "metadata": {
        "id": "wQCLCkJ0CQ0X"
      },
      "source": [
        "#Bilhete"
      ],
      "execution_count": 22,
      "outputs": []
    },
    {
      "cell_type": "markdown",
      "metadata": {
        "id": "lEy9VtBdCQ0Y"
      },
      "source": [
        " <a name=\"missing\"></a>"
      ]
    },
    {
      "cell_type": "markdown",
      "metadata": {
        "id": "HHXwFejmCQ0Y"
      },
      "source": [
        "### Dados incompletos (faltando dados)"
      ]
    },
    {
      "cell_type": "code",
      "metadata": {
        "colab": {
          "base_uri": "https://localhost:8080/"
        },
        "id": "OkEUIWTQCQ0Z",
        "outputId": "9b97b50b-485e-4812-d1fc-5a833377fc7f"
      },
      "source": [
        "data.isnull().sum()"
      ],
      "execution_count": 23,
      "outputs": [
        {
          "output_type": "execute_result",
          "data": {
            "text/plain": [
              "Idade             263\n",
              "Cabine           1014\n",
              "Embarque            2\n",
              "Tarifa              1\n",
              "Nome                0\n",
              "PaisFilhos          0\n",
              "Classe              0\n",
              "Sexo                0\n",
              "IrmaosConjuge       0\n",
              "Sobreviveu        418\n",
              "Bilhete             0\n",
              "dtype: int64"
            ]
          },
          "metadata": {
            "tags": []
          },
          "execution_count": 23
        }
      ]
    },
    {
      "cell_type": "markdown",
      "metadata": {
        "id": "OtpvNEM4CQ0Z"
      },
      "source": [
        "<a name=\"numinfo\"></a>"
      ]
    },
    {
      "cell_type": "markdown",
      "metadata": {
        "id": "oSSQqpGLCQ0a"
      },
      "source": [
        "### Preencher Embarque com Moda"
      ]
    },
    {
      "cell_type": "code",
      "metadata": {
        "colab": {
          "base_uri": "https://localhost:8080/",
          "height": 35
        },
        "id": "ZYoC7m0kCQ0a",
        "outputId": "20d0dc7c-4bef-487c-9ad6-76e0c5e19e48"
      },
      "source": [
        "moda_embarque  = data['Embarque'].mode()[0]\r\n",
        "moda_embarque"
      ],
      "execution_count": 24,
      "outputs": [
        {
          "output_type": "execute_result",
          "data": {
            "application/vnd.google.colaboratory.intrinsic+json": {
              "type": "string"
            },
            "text/plain": [
              "'S'"
            ]
          },
          "metadata": {
            "tags": []
          },
          "execution_count": 24
        }
      ]
    },
    {
      "cell_type": "code",
      "metadata": {
        "id": "fVucEh_uCQ0b"
      },
      "source": [
        "data['Embarque'].fillna(moda_embarque, inplace=True)"
      ],
      "execution_count": 25,
      "outputs": []
    },
    {
      "cell_type": "markdown",
      "metadata": {
        "id": "X-9hc5odCQ0c"
      },
      "source": [
        "### Informações Gerais (Parâmetros Numéricos)"
      ]
    },
    {
      "cell_type": "code",
      "metadata": {
        "colab": {
          "base_uri": "https://localhost:8080/",
          "height": 317
        },
        "id": "6Jg6fXhVCQ0c",
        "outputId": "2193b0fa-a535-4f41-eb50-1cf42cce9e9f"
      },
      "source": [
        "data.describe()"
      ],
      "execution_count": 26,
      "outputs": [
        {
          "output_type": "execute_result",
          "data": {
            "text/html": [
              "<div>\n",
              "<style scoped>\n",
              "    .dataframe tbody tr th:only-of-type {\n",
              "        vertical-align: middle;\n",
              "    }\n",
              "\n",
              "    .dataframe tbody tr th {\n",
              "        vertical-align: top;\n",
              "    }\n",
              "\n",
              "    .dataframe thead th {\n",
              "        text-align: right;\n",
              "    }\n",
              "</style>\n",
              "<table border=\"1\" class=\"dataframe\">\n",
              "  <thead>\n",
              "    <tr style=\"text-align: right;\">\n",
              "      <th></th>\n",
              "      <th>Idade</th>\n",
              "      <th>Tarifa</th>\n",
              "      <th>PaisFilhos</th>\n",
              "      <th>Classe</th>\n",
              "      <th>IrmaosConjuge</th>\n",
              "      <th>Sobreviveu</th>\n",
              "    </tr>\n",
              "  </thead>\n",
              "  <tbody>\n",
              "    <tr>\n",
              "      <th>count</th>\n",
              "      <td>1046.000000</td>\n",
              "      <td>1308.000000</td>\n",
              "      <td>1309.000000</td>\n",
              "      <td>1309.000000</td>\n",
              "      <td>1309.000000</td>\n",
              "      <td>891.000000</td>\n",
              "    </tr>\n",
              "    <tr>\n",
              "      <th>mean</th>\n",
              "      <td>29.881138</td>\n",
              "      <td>33.295479</td>\n",
              "      <td>0.385027</td>\n",
              "      <td>2.294882</td>\n",
              "      <td>0.498854</td>\n",
              "      <td>0.383838</td>\n",
              "    </tr>\n",
              "    <tr>\n",
              "      <th>std</th>\n",
              "      <td>14.413493</td>\n",
              "      <td>51.758668</td>\n",
              "      <td>0.865560</td>\n",
              "      <td>0.837836</td>\n",
              "      <td>1.041658</td>\n",
              "      <td>0.486592</td>\n",
              "    </tr>\n",
              "    <tr>\n",
              "      <th>min</th>\n",
              "      <td>0.170000</td>\n",
              "      <td>0.000000</td>\n",
              "      <td>0.000000</td>\n",
              "      <td>1.000000</td>\n",
              "      <td>0.000000</td>\n",
              "      <td>0.000000</td>\n",
              "    </tr>\n",
              "    <tr>\n",
              "      <th>25%</th>\n",
              "      <td>21.000000</td>\n",
              "      <td>7.895800</td>\n",
              "      <td>0.000000</td>\n",
              "      <td>2.000000</td>\n",
              "      <td>0.000000</td>\n",
              "      <td>0.000000</td>\n",
              "    </tr>\n",
              "    <tr>\n",
              "      <th>50%</th>\n",
              "      <td>28.000000</td>\n",
              "      <td>14.454200</td>\n",
              "      <td>0.000000</td>\n",
              "      <td>3.000000</td>\n",
              "      <td>0.000000</td>\n",
              "      <td>0.000000</td>\n",
              "    </tr>\n",
              "    <tr>\n",
              "      <th>75%</th>\n",
              "      <td>39.000000</td>\n",
              "      <td>31.275000</td>\n",
              "      <td>0.000000</td>\n",
              "      <td>3.000000</td>\n",
              "      <td>1.000000</td>\n",
              "      <td>1.000000</td>\n",
              "    </tr>\n",
              "    <tr>\n",
              "      <th>max</th>\n",
              "      <td>80.000000</td>\n",
              "      <td>512.329200</td>\n",
              "      <td>9.000000</td>\n",
              "      <td>3.000000</td>\n",
              "      <td>8.000000</td>\n",
              "      <td>1.000000</td>\n",
              "    </tr>\n",
              "  </tbody>\n",
              "</table>\n",
              "</div>"
            ],
            "text/plain": [
              "             Idade       Tarifa  ...  IrmaosConjuge  Sobreviveu\n",
              "count  1046.000000  1308.000000  ...    1309.000000  891.000000\n",
              "mean     29.881138    33.295479  ...       0.498854    0.383838\n",
              "std      14.413493    51.758668  ...       1.041658    0.486592\n",
              "min       0.170000     0.000000  ...       0.000000    0.000000\n",
              "25%      21.000000     7.895800  ...       0.000000    0.000000\n",
              "50%      28.000000    14.454200  ...       0.000000    0.000000\n",
              "75%      39.000000    31.275000  ...       1.000000    1.000000\n",
              "max      80.000000   512.329200  ...       8.000000    1.000000\n",
              "\n",
              "[8 rows x 6 columns]"
            ]
          },
          "metadata": {
            "tags": []
          },
          "execution_count": 26
        }
      ]
    },
    {
      "cell_type": "markdown",
      "metadata": {
        "id": "3bsajXZOCQ0d"
      },
      "source": [
        " <a name=\"catinfo\"></a>"
      ]
    },
    {
      "cell_type": "markdown",
      "metadata": {
        "id": "XEwlxTTZCQ0d"
      },
      "source": [
        "### Informações Gerais de Parâmetros Categóricos"
      ]
    },
    {
      "cell_type": "code",
      "metadata": {
        "colab": {
          "base_uri": "https://localhost:8080/",
          "height": 173
        },
        "id": "9LMkoOEyCQ0d",
        "outputId": "eda02547-206a-456f-d7ea-f4fcf3cab937"
      },
      "source": [
        "data.describe(include=['O'])"
      ],
      "execution_count": 27,
      "outputs": [
        {
          "output_type": "execute_result",
          "data": {
            "text/html": [
              "<div>\n",
              "<style scoped>\n",
              "    .dataframe tbody tr th:only-of-type {\n",
              "        vertical-align: middle;\n",
              "    }\n",
              "\n",
              "    .dataframe tbody tr th {\n",
              "        vertical-align: top;\n",
              "    }\n",
              "\n",
              "    .dataframe thead th {\n",
              "        text-align: right;\n",
              "    }\n",
              "</style>\n",
              "<table border=\"1\" class=\"dataframe\">\n",
              "  <thead>\n",
              "    <tr style=\"text-align: right;\">\n",
              "      <th></th>\n",
              "      <th>Cabine</th>\n",
              "      <th>Embarque</th>\n",
              "      <th>Nome</th>\n",
              "      <th>Sexo</th>\n",
              "      <th>Bilhete</th>\n",
              "    </tr>\n",
              "  </thead>\n",
              "  <tbody>\n",
              "    <tr>\n",
              "      <th>count</th>\n",
              "      <td>295</td>\n",
              "      <td>1309</td>\n",
              "      <td>1309</td>\n",
              "      <td>1309</td>\n",
              "      <td>1309</td>\n",
              "    </tr>\n",
              "    <tr>\n",
              "      <th>unique</th>\n",
              "      <td>186</td>\n",
              "      <td>3</td>\n",
              "      <td>1307</td>\n",
              "      <td>2</td>\n",
              "      <td>929</td>\n",
              "    </tr>\n",
              "    <tr>\n",
              "      <th>top</th>\n",
              "      <td>C23 C25 C27</td>\n",
              "      <td>S</td>\n",
              "      <td>Kelly, Mr. James</td>\n",
              "      <td>homem</td>\n",
              "      <td>CA. 2343</td>\n",
              "    </tr>\n",
              "    <tr>\n",
              "      <th>freq</th>\n",
              "      <td>6</td>\n",
              "      <td>916</td>\n",
              "      <td>2</td>\n",
              "      <td>843</td>\n",
              "      <td>11</td>\n",
              "    </tr>\n",
              "  </tbody>\n",
              "</table>\n",
              "</div>"
            ],
            "text/plain": [
              "             Cabine Embarque              Nome   Sexo   Bilhete\n",
              "count           295     1309              1309   1309      1309\n",
              "unique          186        3              1307      2       929\n",
              "top     C23 C25 C27        S  Kelly, Mr. James  homem  CA. 2343\n",
              "freq              6      916                 2    843        11"
            ]
          },
          "metadata": {
            "tags": []
          },
          "execution_count": 27
        }
      ]
    },
    {
      "cell_type": "markdown",
      "metadata": {
        "id": "JT4X3j_iCQ0e"
      },
      "source": [
        " <a name=\"infoamostra\"></a>"
      ]
    },
    {
      "cell_type": "markdown",
      "metadata": {
        "id": "N1Gj0VoyCQ0e"
      },
      "source": [
        "## Informações da Amostra\n",
        "\n",
        "<br>\n",
        "\n",
        "[início](#topo)"
      ]
    },
    {
      "cell_type": "markdown",
      "metadata": {
        "id": "5cmdsSFWCQ0f"
      },
      "source": [
        "### Tamanho da Amostra"
      ]
    },
    {
      "cell_type": "code",
      "metadata": {
        "colab": {
          "base_uri": "https://localhost:8080/"
        },
        "id": "5qZeC0sGCQ0f",
        "outputId": "8c16f068-9615-4610-cd8a-47bec3e581be"
      },
      "source": [
        "len(data)"
      ],
      "execution_count": 28,
      "outputs": [
        {
          "output_type": "execute_result",
          "data": {
            "text/plain": [
              "1309"
            ]
          },
          "metadata": {
            "tags": []
          },
          "execution_count": 28
        }
      ]
    },
    {
      "cell_type": "markdown",
      "metadata": {
        "id": "nU6JlV0SCQ0g"
      },
      "source": [
        "### Proporção Total da Amostra em relação à População"
      ]
    },
    {
      "cell_type": "code",
      "metadata": {
        "colab": {
          "base_uri": "https://localhost:8080/"
        },
        "id": "qMbd5TMECQ0g",
        "outputId": "8726412e-9a5a-4840-dd4a-408c3b9c7655"
      },
      "source": [
        "len(train)/2224"
      ],
      "execution_count": 29,
      "outputs": [
        {
          "output_type": "execute_result",
          "data": {
            "text/plain": [
              "0.4006294964028777"
            ]
          },
          "metadata": {
            "tags": []
          },
          "execution_count": 29
        }
      ]
    },
    {
      "cell_type": "markdown",
      "metadata": {
        "id": "XXWSb_lSCQ0g"
      },
      "source": [
        "### Proporção de Sobreviventes (População)"
      ]
    },
    {
      "cell_type": "code",
      "metadata": {
        "colab": {
          "base_uri": "https://localhost:8080/"
        },
        "id": "h6c3Z8QdCQ0h",
        "outputId": "1d65f46b-8874-4350-8374-4cb92b37f9a7"
      },
      "source": [
        "1-1502/2224"
      ],
      "execution_count": 30,
      "outputs": [
        {
          "output_type": "execute_result",
          "data": {
            "text/plain": [
              "0.32464028776978415"
            ]
          },
          "metadata": {
            "tags": []
          },
          "execution_count": 30
        }
      ]
    },
    {
      "cell_type": "markdown",
      "metadata": {
        "id": "4JguCse6CQ0h"
      },
      "source": [
        "### Proporção de Sobreviventes (Amostra)"
      ]
    },
    {
      "cell_type": "code",
      "metadata": {
        "colab": {
          "base_uri": "https://localhost:8080/"
        },
        "id": "zOGjjJURCQ0i",
        "outputId": "92314e38-9306-4893-8ccb-8ad8aa8596bc"
      },
      "source": [
        "342/len(train)"
      ],
      "execution_count": 31,
      "outputs": [
        {
          "output_type": "execute_result",
          "data": {
            "text/plain": [
              "0.3838383838383838"
            ]
          },
          "metadata": {
            "tags": []
          },
          "execution_count": 31
        }
      ]
    },
    {
      "cell_type": "code",
      "metadata": {
        "id": "zE0nsin7CQ0i"
      },
      "source": [
        ""
      ],
      "execution_count": 31,
      "outputs": []
    },
    {
      "cell_type": "markdown",
      "metadata": {
        "id": "nwlwi0X2CQ0i"
      },
      "source": [
        " <a name=\"agrupamentos\"></a>"
      ]
    },
    {
      "cell_type": "markdown",
      "metadata": {
        "id": "KAHP1GRgCQ0j"
      },
      "source": [
        "# Agrupamentos\n",
        "\n",
        "<br>\n",
        "\n",
        "[início](#topo)"
      ]
    },
    {
      "cell_type": "markdown",
      "metadata": {
        "id": "APpBV2o3CQ0j"
      },
      "source": [
        "### Agrupar Classe x Sobrevivência"
      ]
    },
    {
      "cell_type": "code",
      "metadata": {
        "colab": {
          "base_uri": "https://localhost:8080/",
          "height": 173
        },
        "id": "4fCKjpWcCQ0j",
        "outputId": "e9160edb-b894-4b03-dddd-7f0682959e57"
      },
      "source": [
        "data[['Classe', 'Sobreviveu']].groupby(['Classe'])\\\r\n",
        ".mean().sort_values(by='Sobreviveu', ascending=False)"
      ],
      "execution_count": 32,
      "outputs": [
        {
          "output_type": "execute_result",
          "data": {
            "text/html": [
              "<div>\n",
              "<style scoped>\n",
              "    .dataframe tbody tr th:only-of-type {\n",
              "        vertical-align: middle;\n",
              "    }\n",
              "\n",
              "    .dataframe tbody tr th {\n",
              "        vertical-align: top;\n",
              "    }\n",
              "\n",
              "    .dataframe thead th {\n",
              "        text-align: right;\n",
              "    }\n",
              "</style>\n",
              "<table border=\"1\" class=\"dataframe\">\n",
              "  <thead>\n",
              "    <tr style=\"text-align: right;\">\n",
              "      <th></th>\n",
              "      <th>Sobreviveu</th>\n",
              "    </tr>\n",
              "    <tr>\n",
              "      <th>Classe</th>\n",
              "      <th></th>\n",
              "    </tr>\n",
              "  </thead>\n",
              "  <tbody>\n",
              "    <tr>\n",
              "      <th>1</th>\n",
              "      <td>0.629630</td>\n",
              "    </tr>\n",
              "    <tr>\n",
              "      <th>2</th>\n",
              "      <td>0.472826</td>\n",
              "    </tr>\n",
              "    <tr>\n",
              "      <th>3</th>\n",
              "      <td>0.242363</td>\n",
              "    </tr>\n",
              "  </tbody>\n",
              "</table>\n",
              "</div>"
            ],
            "text/plain": [
              "        Sobreviveu\n",
              "Classe            \n",
              "1         0.629630\n",
              "2         0.472826\n",
              "3         0.242363"
            ]
          },
          "metadata": {
            "tags": []
          },
          "execution_count": 32
        }
      ]
    },
    {
      "cell_type": "markdown",
      "metadata": {
        "id": "yFKAVo-xCQ0k"
      },
      "source": [
        "* Passageiros de Primeira Classe são muito mais propensos a sobreviver do que de Segunda e Terceira Classe\n",
        "* Passageiros de Segunda Classe são menos propensos a sobreviver do que de Primeira Classe, mas são mais propensos a sobreviver do que de Terceira Classe"
      ]
    },
    {
      "cell_type": "markdown",
      "metadata": {
        "id": "ZjcG6A1FCQ0k"
      },
      "source": [
        "### Agrupar Sexo x Sobrevivência"
      ]
    },
    {
      "cell_type": "code",
      "metadata": {
        "colab": {
          "base_uri": "https://localhost:8080/",
          "height": 142
        },
        "id": "lL-oK09ZCQ0l",
        "outputId": "8e38ff1a-a9a5-44e3-ffa7-074faa7050f0"
      },
      "source": [
        "data[['Sexo', 'Sobreviveu']].groupby(['Sexo'])\\\r\n",
        ".mean().sort_values(by='Sobreviveu', ascending=False)"
      ],
      "execution_count": 33,
      "outputs": [
        {
          "output_type": "execute_result",
          "data": {
            "text/html": [
              "<div>\n",
              "<style scoped>\n",
              "    .dataframe tbody tr th:only-of-type {\n",
              "        vertical-align: middle;\n",
              "    }\n",
              "\n",
              "    .dataframe tbody tr th {\n",
              "        vertical-align: top;\n",
              "    }\n",
              "\n",
              "    .dataframe thead th {\n",
              "        text-align: right;\n",
              "    }\n",
              "</style>\n",
              "<table border=\"1\" class=\"dataframe\">\n",
              "  <thead>\n",
              "    <tr style=\"text-align: right;\">\n",
              "      <th></th>\n",
              "      <th>Sobreviveu</th>\n",
              "    </tr>\n",
              "    <tr>\n",
              "      <th>Sexo</th>\n",
              "      <th></th>\n",
              "    </tr>\n",
              "  </thead>\n",
              "  <tbody>\n",
              "    <tr>\n",
              "      <th>mulher</th>\n",
              "      <td>0.742038</td>\n",
              "    </tr>\n",
              "    <tr>\n",
              "      <th>homem</th>\n",
              "      <td>0.188908</td>\n",
              "    </tr>\n",
              "  </tbody>\n",
              "</table>\n",
              "</div>"
            ],
            "text/plain": [
              "        Sobreviveu\n",
              "Sexo              \n",
              "mulher    0.742038\n",
              "homem     0.188908"
            ]
          },
          "metadata": {
            "tags": []
          },
          "execution_count": 33
        }
      ]
    },
    {
      "cell_type": "markdown",
      "metadata": {
        "id": "zKywlhzrCQ0l"
      },
      "source": [
        "* 74% das mulheres sobreviveram em contraste com 18,89% dos homens da nossa amostra"
      ]
    },
    {
      "cell_type": "markdown",
      "metadata": {
        "id": "qey4HL5gCQ0l"
      },
      "source": [
        "### Agrupar IrmaosConjuge x Sobrevivência"
      ]
    },
    {
      "cell_type": "code",
      "metadata": {
        "colab": {
          "base_uri": "https://localhost:8080/",
          "height": 297
        },
        "id": "SJtIN6cWCQ0m",
        "outputId": "ea77ce08-f8a5-486c-e7a6-8fdf45524ddb"
      },
      "source": [
        "data[['IrmaosConjuge', 'Sobreviveu']].groupby(['IrmaosConjuge'])\\\r\n",
        ".mean().sort_values(by='Sobreviveu', ascending=False)"
      ],
      "execution_count": 34,
      "outputs": [
        {
          "output_type": "execute_result",
          "data": {
            "text/html": [
              "<div>\n",
              "<style scoped>\n",
              "    .dataframe tbody tr th:only-of-type {\n",
              "        vertical-align: middle;\n",
              "    }\n",
              "\n",
              "    .dataframe tbody tr th {\n",
              "        vertical-align: top;\n",
              "    }\n",
              "\n",
              "    .dataframe thead th {\n",
              "        text-align: right;\n",
              "    }\n",
              "</style>\n",
              "<table border=\"1\" class=\"dataframe\">\n",
              "  <thead>\n",
              "    <tr style=\"text-align: right;\">\n",
              "      <th></th>\n",
              "      <th>Sobreviveu</th>\n",
              "    </tr>\n",
              "    <tr>\n",
              "      <th>IrmaosConjuge</th>\n",
              "      <th></th>\n",
              "    </tr>\n",
              "  </thead>\n",
              "  <tbody>\n",
              "    <tr>\n",
              "      <th>1</th>\n",
              "      <td>0.535885</td>\n",
              "    </tr>\n",
              "    <tr>\n",
              "      <th>2</th>\n",
              "      <td>0.464286</td>\n",
              "    </tr>\n",
              "    <tr>\n",
              "      <th>0</th>\n",
              "      <td>0.345395</td>\n",
              "    </tr>\n",
              "    <tr>\n",
              "      <th>3</th>\n",
              "      <td>0.250000</td>\n",
              "    </tr>\n",
              "    <tr>\n",
              "      <th>4</th>\n",
              "      <td>0.166667</td>\n",
              "    </tr>\n",
              "    <tr>\n",
              "      <th>5</th>\n",
              "      <td>0.000000</td>\n",
              "    </tr>\n",
              "    <tr>\n",
              "      <th>8</th>\n",
              "      <td>0.000000</td>\n",
              "    </tr>\n",
              "  </tbody>\n",
              "</table>\n",
              "</div>"
            ],
            "text/plain": [
              "               Sobreviveu\n",
              "IrmaosConjuge            \n",
              "1                0.535885\n",
              "2                0.464286\n",
              "0                0.345395\n",
              "3                0.250000\n",
              "4                0.166667\n",
              "5                0.000000\n",
              "8                0.000000"
            ]
          },
          "metadata": {
            "tags": []
          },
          "execution_count": 34
        }
      ]
    },
    {
      "cell_type": "markdown",
      "metadata": {
        "id": "mFGKnzRLCQ0m"
      },
      "source": [
        "### Agrupar PaisFilhos x Sobrevivência"
      ]
    },
    {
      "cell_type": "code",
      "metadata": {
        "colab": {
          "base_uri": "https://localhost:8080/",
          "height": 328
        },
        "id": "hBf_KrxHCQ0n",
        "outputId": "51a503be-92dc-4953-d091-6214799f7f14"
      },
      "source": [
        "data[['PaisFilhos', 'Sobreviveu']].groupby(['PaisFilhos'])\\\r\n",
        ".mean().sort_values(by='Sobreviveu', ascending=False)"
      ],
      "execution_count": 35,
      "outputs": [
        {
          "output_type": "execute_result",
          "data": {
            "text/html": [
              "<div>\n",
              "<style scoped>\n",
              "    .dataframe tbody tr th:only-of-type {\n",
              "        vertical-align: middle;\n",
              "    }\n",
              "\n",
              "    .dataframe tbody tr th {\n",
              "        vertical-align: top;\n",
              "    }\n",
              "\n",
              "    .dataframe thead th {\n",
              "        text-align: right;\n",
              "    }\n",
              "</style>\n",
              "<table border=\"1\" class=\"dataframe\">\n",
              "  <thead>\n",
              "    <tr style=\"text-align: right;\">\n",
              "      <th></th>\n",
              "      <th>Sobreviveu</th>\n",
              "    </tr>\n",
              "    <tr>\n",
              "      <th>PaisFilhos</th>\n",
              "      <th></th>\n",
              "    </tr>\n",
              "  </thead>\n",
              "  <tbody>\n",
              "    <tr>\n",
              "      <th>3</th>\n",
              "      <td>0.600000</td>\n",
              "    </tr>\n",
              "    <tr>\n",
              "      <th>1</th>\n",
              "      <td>0.550847</td>\n",
              "    </tr>\n",
              "    <tr>\n",
              "      <th>2</th>\n",
              "      <td>0.500000</td>\n",
              "    </tr>\n",
              "    <tr>\n",
              "      <th>0</th>\n",
              "      <td>0.343658</td>\n",
              "    </tr>\n",
              "    <tr>\n",
              "      <th>5</th>\n",
              "      <td>0.200000</td>\n",
              "    </tr>\n",
              "    <tr>\n",
              "      <th>4</th>\n",
              "      <td>0.000000</td>\n",
              "    </tr>\n",
              "    <tr>\n",
              "      <th>6</th>\n",
              "      <td>0.000000</td>\n",
              "    </tr>\n",
              "    <tr>\n",
              "      <th>9</th>\n",
              "      <td>NaN</td>\n",
              "    </tr>\n",
              "  </tbody>\n",
              "</table>\n",
              "</div>"
            ],
            "text/plain": [
              "            Sobreviveu\n",
              "PaisFilhos            \n",
              "3             0.600000\n",
              "1             0.550847\n",
              "2             0.500000\n",
              "0             0.343658\n",
              "5             0.200000\n",
              "4             0.000000\n",
              "6             0.000000\n",
              "9                  NaN"
            ]
          },
          "metadata": {
            "tags": []
          },
          "execution_count": 35
        }
      ]
    },
    {
      "cell_type": "markdown",
      "metadata": {
        "id": "9rIuX3wnCQ0n"
      },
      "source": [
        "### Correlação de IrmaosConjuge e PaisFilhos"
      ]
    },
    {
      "cell_type": "code",
      "metadata": {
        "colab": {
          "base_uri": "https://localhost:8080/",
          "height": 111
        },
        "id": "J8_MU6EnCQ0n",
        "outputId": "ab0afa57-67b5-4ded-ba25-4a8280dfe449"
      },
      "source": [
        "data[['IrmaosConjuge', 'PaisFilhos']].corr()"
      ],
      "execution_count": 36,
      "outputs": [
        {
          "output_type": "execute_result",
          "data": {
            "text/html": [
              "<div>\n",
              "<style scoped>\n",
              "    .dataframe tbody tr th:only-of-type {\n",
              "        vertical-align: middle;\n",
              "    }\n",
              "\n",
              "    .dataframe tbody tr th {\n",
              "        vertical-align: top;\n",
              "    }\n",
              "\n",
              "    .dataframe thead th {\n",
              "        text-align: right;\n",
              "    }\n",
              "</style>\n",
              "<table border=\"1\" class=\"dataframe\">\n",
              "  <thead>\n",
              "    <tr style=\"text-align: right;\">\n",
              "      <th></th>\n",
              "      <th>IrmaosConjuge</th>\n",
              "      <th>PaisFilhos</th>\n",
              "    </tr>\n",
              "  </thead>\n",
              "  <tbody>\n",
              "    <tr>\n",
              "      <th>IrmaosConjuge</th>\n",
              "      <td>1.000000</td>\n",
              "      <td>0.373587</td>\n",
              "    </tr>\n",
              "    <tr>\n",
              "      <th>PaisFilhos</th>\n",
              "      <td>0.373587</td>\n",
              "      <td>1.000000</td>\n",
              "    </tr>\n",
              "  </tbody>\n",
              "</table>\n",
              "</div>"
            ],
            "text/plain": [
              "               IrmaosConjuge  PaisFilhos\n",
              "IrmaosConjuge       1.000000    0.373587\n",
              "PaisFilhos          0.373587    1.000000"
            ]
          },
          "metadata": {
            "tags": []
          },
          "execution_count": 36
        }
      ]
    },
    {
      "cell_type": "markdown",
      "metadata": {
        "id": "RteHcC2nCQ0o"
      },
      "source": [
        "* IrmaosConjuge e PaisFilhos não possuem uma correlação muito forte. Talvez seja o caso juntá-los como um único recurso depois"
      ]
    },
    {
      "cell_type": "markdown",
      "metadata": {
        "id": "ocEklvv4CQ0o"
      },
      "source": [
        " <a name=\"vidados\"></a>"
      ]
    },
    {
      "cell_type": "markdown",
      "metadata": {
        "id": "5HBGHgmiCQ0p"
      },
      "source": [
        "# Visualização de Dados\n",
        "Observar os dados de forma visual para averiguar as suposições feitas até agora\n",
        "\n",
        "<br>\n",
        "\n",
        "[início](#topo)"
      ]
    },
    {
      "cell_type": "markdown",
      "metadata": {
        "id": "SSgnyyLbCQ0q"
      },
      "source": [
        "### Gráfico de Barras e Pizza de Sobreviventes"
      ]
    },
    {
      "cell_type": "code",
      "metadata": {
        "colab": {
          "base_uri": "https://localhost:8080/",
          "height": 367
        },
        "id": "A-cH2DYX18gh",
        "outputId": "72b6c3ed-23ac-4636-c550-21a5bce5f126"
      },
      "source": [
        "f,ax=plt.subplots(1,2,figsize=(10,5))\r\n",
        "data['Sobreviveu'].value_counts().plot.pie(explode=[0,0.05],autopct='%0.2f%%',ax=ax[0])\r\n",
        "ax[0].set_title('Sobreviveu')\r\n",
        "ax[0].set_ylabel('')\r\n",
        "sns.countplot('Sobreviveu',data=data,ax=ax[1])\r\n",
        "ax[1].set_title('Sobreviveu')\r\n",
        "ax[1].set_ylabel('')"
      ],
      "execution_count": 37,
      "outputs": [
        {
          "output_type": "execute_result",
          "data": {
            "text/plain": [
              "Text(0, 0.5, '')"
            ]
          },
          "metadata": {
            "tags": []
          },
          "execution_count": 37
        },
        {
          "output_type": "display_data",
          "data": {
            "image/png": "[encoded data removed]",
            "text/plain": [
              "<Figure size 720x360 with 2 Axes>"
            ]
          },
          "metadata": {
            "tags": [],
            "needs_background": "light"
          }
        }
      ]
    },
    {
      "cell_type": "markdown",
      "metadata": {
        "id": "UhucuEQACQ0r"
      },
      "source": [
        "## Sobrevivência Por Sexo"
      ]
    },
    {
      "cell_type": "code",
      "metadata": {
        "id": "oXd4E4_8CQ0r",
        "colab": {
          "base_uri": "https://localhost:8080/"
        },
        "outputId": "281e3f59-f458-44c2-8c12-29060d0d14a7"
      },
      "source": [
        "data.groupby(['Sexo','Sobreviveu'])['Sobreviveu'].count()"
      ],
      "execution_count": 38,
      "outputs": [
        {
          "output_type": "execute_result",
          "data": {
            "text/plain": [
              "Sexo    Sobreviveu\n",
              "homem   0.0           468\n",
              "        1.0           109\n",
              "mulher  0.0            81\n",
              "        1.0           233\n",
              "Name: Sobreviveu, dtype: int64"
            ]
          },
          "metadata": {
            "tags": []
          },
          "execution_count": 38
        }
      ]
    },
    {
      "cell_type": "code",
      "metadata": {
        "id": "wvFFm7p_CQ0s",
        "colab": {
          "base_uri": "https://localhost:8080/"
        },
        "outputId": "b5aae6a0-185f-46ff-96e2-885307470d5f"
      },
      "source": [
        "data.loc[data['Sexo']=='mulher']['Sobreviveu'].value_counts()"
      ],
      "execution_count": 39,
      "outputs": [
        {
          "output_type": "execute_result",
          "data": {
            "text/plain": [
              "1.0    233\n",
              "0.0     81\n",
              "Name: Sobreviveu, dtype: int64"
            ]
          },
          "metadata": {
            "tags": []
          },
          "execution_count": 39
        }
      ]
    },
    {
      "cell_type": "markdown",
      "metadata": {
        "id": "-hT7CTJJCQ0s"
      },
      "source": [
        "<a name=\"barrassob\"></a>"
      ]
    },
    {
      "cell_type": "markdown",
      "metadata": {
        "id": "n3pOxt5BCQ0t"
      },
      "source": [
        "### Gráfico de Barras de Sobreviventes por Sexo"
      ]
    },
    {
      "cell_type": "code",
      "metadata": {
        "id": "kY3BVPkvCQ0t",
        "colab": {
          "base_uri": "https://localhost:8080/",
          "height": 296
        },
        "outputId": "7380ca9f-4dc7-481a-c410-90d0352469eb"
      },
      "source": [
        "sns.countplot('Sexo',hue='Sobreviveu',data=data)"
      ],
      "execution_count": 40,
      "outputs": [
        {
          "output_type": "execute_result",
          "data": {
            "text/plain": [
              "<matplotlib.axes._subplots.AxesSubplot at 0x7f992cd45978>"
            ]
          },
          "metadata": {
            "tags": []
          },
          "execution_count": 40
        },
        {
          "output_type": "display_data",
          "data": {
            "image/png": "[encoded data removed]",
            "text/plain": [
              "<Figure size 432x288 with 1 Axes>"
            ]
          },
          "metadata": {
            "tags": [],
            "needs_background": "light"
          }
        }
      ]
    },
    {
      "cell_type": "markdown",
      "metadata": {
        "id": "O19sF_v8CQ0t"
      },
      "source": [
        "<a name=\"histidsob\"></a>"
      ]
    },
    {
      "cell_type": "markdown",
      "metadata": {
        "id": "5F5AljbdCQ0u"
      },
      "source": [
        "### Histograma de Idade x Sobreviveu"
      ]
    },
    {
      "cell_type": "code",
      "metadata": {
        "id": "s6EJ3oJXCQ0u",
        "colab": {
          "base_uri": "https://localhost:8080/",
          "height": 242
        },
        "outputId": "49e79653-7d5b-443c-e7df-74e8a9bcda39"
      },
      "source": [
        "g = sns.FacetGrid(data, col='Sobreviveu')\r\n",
        "g.map(plt.hist, 'Idade', bins=18)"
      ],
      "execution_count": 41,
      "outputs": [
        {
          "output_type": "execute_result",
          "data": {
            "text/plain": [
              "<seaborn.axisgrid.FacetGrid at 0x7f992cd459b0>"
            ]
          },
          "metadata": {
            "tags": []
          },
          "execution_count": 41
        },
        {
          "output_type": "display_data",
          "data": {
            "image/png": "[encoded data removed]",
            "text/plain": [
              "<Figure size 432x216 with 2 Axes>"
            ]
          },
          "metadata": {
            "tags": [],
            "needs_background": "light"
          }
        }
      ]
    },
    {
      "cell_type": "markdown",
      "metadata": {
        "id": "kCECJOjWCQ0u"
      },
      "source": [
        "* Crianças sobreviveram mais\n",
        "* Passageiro mais idoso sobreviveu\n",
        "* A maioria dos passageiros estão na faixa de 18-35 anos (E a maioria não sobreviveu)"
      ]
    },
    {
      "cell_type": "markdown",
      "metadata": {
        "id": "BhNaq5apCQ0v"
      },
      "source": [
        "<a name=\"histclassidsob\"></a>"
      ]
    },
    {
      "cell_type": "markdown",
      "metadata": {
        "id": "yZ5DqwoFCQ0v"
      },
      "source": [
        "### Histograma de Idade x Classe x Sobreviveu com FacetGrid"
      ]
    },
    {
      "cell_type": "code",
      "metadata": {
        "id": "MwxNflVnCQ0w",
        "colab": {
          "base_uri": "https://localhost:8080/",
          "height": 485
        },
        "outputId": "27deca0a-6826-4459-cdaf-61eec2e5e39c"
      },
      "source": [
        "grid = sns.FacetGrid(data, col='Sobreviveu', row='Classe', size=2.2, aspect=1.6)\r\n",
        "grid.map(plt.hist, 'Idade', alpha=0.7, bins=20)\r\n",
        "grid.add_legend();\r\n"
      ],
      "execution_count": 42,
      "outputs": [
        {
          "output_type": "display_data",
          "data": {
            "image/png": "[encoded data removed]",
            "text/plain": [
              "<Figure size 514.88x475.2 with 6 Axes>"
            ]
          },
          "metadata": {
            "tags": [],
            "needs_background": "light"
          }
        }
      ]
    },
    {
      "cell_type": "markdown",
      "metadata": {
        "id": "oq_mOy_HCQ0w"
      },
      "source": [
        "<a name=\"chancesporto\"></a>"
      ]
    },
    {
      "cell_type": "markdown",
      "metadata": {
        "id": "b-ptf042CQ0x"
      },
      "source": [
        "### Chances de Sobrevivência por Porto de Embarque"
      ]
    },
    {
      "cell_type": "code",
      "metadata": {
        "id": "S-RfEEpGCQ0x",
        "colab": {
          "base_uri": "https://localhost:8080/",
          "height": 255
        },
        "outputId": "a2a4d986-0135-4ff3-f50a-ab64847a8999"
      },
      "source": [
        "sns.catplot('Embarque','Sobreviveu',data=data, kind='point')\r\n",
        "fig=plt.gcf()\r\n",
        "fig.set_size_inches(6,3)"
      ],
      "execution_count": 43,
      "outputs": [
        {
          "output_type": "display_data",
          "data": {
            "image/png": "[encoded data removed]",
            "text/plain": [
              "<Figure size 432x216 with 1 Axes>"
            ]
          },
          "metadata": {
            "tags": [],
            "needs_background": "light"
          }
        }
      ]
    },
    {
      "cell_type": "markdown",
      "metadata": {
        "id": "_mHWnnYBCQ0x"
      },
      "source": [
        "<a name=\"pointplotembarque\"></a>"
      ]
    },
    {
      "cell_type": "markdown",
      "metadata": {
        "id": "LbK4-jZBCQ0y"
      },
      "source": [
        "### Embarque x Classe x Sobreviveu"
      ]
    },
    {
      "cell_type": "code",
      "metadata": {
        "id": "OGwvWdYWCQ0y",
        "colab": {
          "base_uri": "https://localhost:8080/",
          "height": 502
        },
        "outputId": "69e54675-4593-46cb-a885-0491b8681571"
      },
      "source": [
        "grid = sns.FacetGrid(data, row='Embarque', size=2.2, aspect=1.6)\r\n",
        "grid.map(sns.pointplot, 'Classe', 'Sobreviveu', 'Sexo', palette='deep')\r\n",
        "grid.add_legend()"
      ],
      "execution_count": 44,
      "outputs": [
        {
          "output_type": "execute_result",
          "data": {
            "text/plain": [
              "<seaborn.axisgrid.FacetGrid at 0x7f9923512978>"
            ]
          },
          "metadata": {
            "tags": []
          },
          "execution_count": 44
        },
        {
          "output_type": "display_data",
          "data": {
            "image/png": "[encoded data removed]",
            "text/plain": [
              "<Figure size 327.19x475.2 with 3 Axes>"
            ]
          },
          "metadata": {
            "tags": [],
            "needs_background": "light"
          }
        }
      ]
    },
    {
      "cell_type": "markdown",
      "metadata": {
        "id": "WvnclogrCQ0z"
      },
      "source": [
        "### Agrupar mulheres por sobrevivência"
      ]
    },
    {
      "cell_type": "code",
      "metadata": {
        "id": "zpU3UFiPCQ0z",
        "colab": {
          "base_uri": "https://localhost:8080/",
          "height": 142
        },
        "outputId": "9bcf4818-7ad5-4c40-d919-d6edf1b92cc1"
      },
      "source": [
        "data.loc[data['Sexo']=='mulher'].groupby('Sobreviveu').mean()"
      ],
      "execution_count": 45,
      "outputs": [
        {
          "output_type": "execute_result",
          "data": {
            "text/html": [
              "<div>\n",
              "<style scoped>\n",
              "    .dataframe tbody tr th:only-of-type {\n",
              "        vertical-align: middle;\n",
              "    }\n",
              "\n",
              "    .dataframe tbody tr th {\n",
              "        vertical-align: top;\n",
              "    }\n",
              "\n",
              "    .dataframe thead th {\n",
              "        text-align: right;\n",
              "    }\n",
              "</style>\n",
              "<table border=\"1\" class=\"dataframe\">\n",
              "  <thead>\n",
              "    <tr style=\"text-align: right;\">\n",
              "      <th></th>\n",
              "      <th>Idade</th>\n",
              "      <th>Tarifa</th>\n",
              "      <th>PaisFilhos</th>\n",
              "      <th>Classe</th>\n",
              "      <th>IrmaosConjuge</th>\n",
              "    </tr>\n",
              "    <tr>\n",
              "      <th>Sobreviveu</th>\n",
              "      <th></th>\n",
              "      <th></th>\n",
              "      <th></th>\n",
              "      <th></th>\n",
              "      <th></th>\n",
              "    </tr>\n",
              "  </thead>\n",
              "  <tbody>\n",
              "    <tr>\n",
              "      <th>0.0</th>\n",
              "      <td>25.046875</td>\n",
              "      <td>23.024385</td>\n",
              "      <td>1.037037</td>\n",
              "      <td>2.851852</td>\n",
              "      <td>1.209877</td>\n",
              "    </tr>\n",
              "    <tr>\n",
              "      <th>1.0</th>\n",
              "      <td>28.847716</td>\n",
              "      <td>51.938573</td>\n",
              "      <td>0.515021</td>\n",
              "      <td>1.918455</td>\n",
              "      <td>0.515021</td>\n",
              "    </tr>\n",
              "  </tbody>\n",
              "</table>\n",
              "</div>"
            ],
            "text/plain": [
              "                Idade     Tarifa  PaisFilhos    Classe  IrmaosConjuge\n",
              "Sobreviveu                                                           \n",
              "0.0         25.046875  23.024385    1.037037  2.851852       1.209877\n",
              "1.0         28.847716  51.938573    0.515021  1.918455       0.515021"
            ]
          },
          "metadata": {
            "tags": []
          },
          "execution_count": 45
        }
      ]
    },
    {
      "cell_type": "markdown",
      "metadata": {
        "id": "JPDbvfImCQ0z"
      },
      "source": [
        "### Agrupar homens por sobrevivência"
      ]
    },
    {
      "cell_type": "code",
      "metadata": {
        "id": "uD-GXiDLCQ00",
        "colab": {
          "base_uri": "https://localhost:8080/",
          "height": 142
        },
        "outputId": "101b9437-cdbc-40cd-bd19-8f32934c1aa7"
      },
      "source": [
        "data.loc[data['Sexo']=='homem'].groupby('Sobreviveu').mean()"
      ],
      "execution_count": 46,
      "outputs": [
        {
          "output_type": "execute_result",
          "data": {
            "text/html": [
              "<div>\n",
              "<style scoped>\n",
              "    .dataframe tbody tr th:only-of-type {\n",
              "        vertical-align: middle;\n",
              "    }\n",
              "\n",
              "    .dataframe tbody tr th {\n",
              "        vertical-align: top;\n",
              "    }\n",
              "\n",
              "    .dataframe thead th {\n",
              "        text-align: right;\n",
              "    }\n",
              "</style>\n",
              "<table border=\"1\" class=\"dataframe\">\n",
              "  <thead>\n",
              "    <tr style=\"text-align: right;\">\n",
              "      <th></th>\n",
              "      <th>Idade</th>\n",
              "      <th>Tarifa</th>\n",
              "      <th>PaisFilhos</th>\n",
              "      <th>Classe</th>\n",
              "      <th>IrmaosConjuge</th>\n",
              "    </tr>\n",
              "    <tr>\n",
              "      <th>Sobreviveu</th>\n",
              "      <th></th>\n",
              "      <th></th>\n",
              "      <th></th>\n",
              "      <th></th>\n",
              "      <th></th>\n",
              "    </tr>\n",
              "  </thead>\n",
              "  <tbody>\n",
              "    <tr>\n",
              "      <th>0.0</th>\n",
              "      <td>31.618056</td>\n",
              "      <td>21.960993</td>\n",
              "      <td>0.207265</td>\n",
              "      <td>2.476496</td>\n",
              "      <td>0.440171</td>\n",
              "    </tr>\n",
              "    <tr>\n",
              "      <th>1.0</th>\n",
              "      <td>27.276022</td>\n",
              "      <td>40.821484</td>\n",
              "      <td>0.357798</td>\n",
              "      <td>2.018349</td>\n",
              "      <td>0.385321</td>\n",
              "    </tr>\n",
              "  </tbody>\n",
              "</table>\n",
              "</div>"
            ],
            "text/plain": [
              "                Idade     Tarifa  PaisFilhos    Classe  IrmaosConjuge\n",
              "Sobreviveu                                                           \n",
              "0.0         31.618056  21.960993    0.207265  2.476496       0.440171\n",
              "1.0         27.276022  40.821484    0.357798  2.018349       0.385321"
            ]
          },
          "metadata": {
            "tags": []
          },
          "execution_count": 46
        }
      ]
    },
    {
      "cell_type": "markdown",
      "metadata": {
        "id": "V4hAOi58CQ00"
      },
      "source": [
        "<a name=\"graficobarras\"></a>"
      ]
    },
    {
      "cell_type": "markdown",
      "metadata": {
        "id": "_7XY3FQPCQ01"
      },
      "source": [
        "### Gráfico de Barras Sexo x Tarifa por Sexo\n",
        "\n",
        "<br>\n",
        "\n",
        "[início](#topo)"
      ]
    },
    {
      "cell_type": "code",
      "metadata": {
        "id": "OXnJaeArCQ01",
        "colab": {
          "base_uri": "https://localhost:8080/",
          "height": 296
        },
        "outputId": "3469c533-04b8-4c14-8e52-89d846c1c614"
      },
      "source": [
        "sns.barplot('Sexo','Tarifa',hue='Sobreviveu',data=data)"
      ],
      "execution_count": 47,
      "outputs": [
        {
          "output_type": "execute_result",
          "data": {
            "text/plain": [
              "<matplotlib.axes._subplots.AxesSubplot at 0x7f992314e5c0>"
            ]
          },
          "metadata": {
            "tags": []
          },
          "execution_count": 47
        },
        {
          "output_type": "display_data",
          "data": {
            "image/png": "[encoded data removed]",
            "text/plain": [
              "<Figure size 432x288 with 1 Axes>"
            ]
          },
          "metadata": {
            "tags": [],
            "needs_background": "light"
          }
        }
      ]
    },
    {
      "cell_type": "markdown",
      "metadata": {
        "id": "ClMaSgYsCQ01"
      },
      "source": [
        "<a name=\"graficobarrassex\"></a>"
      ]
    },
    {
      "cell_type": "markdown",
      "metadata": {
        "id": "5ok3dt-ACQ02"
      },
      "source": [
        "### Gráfico de Barras Sexo x Tarifa x Embarque x Sobreviveu"
      ]
    },
    {
      "cell_type": "code",
      "metadata": {
        "id": "apZFu0b-CQ02",
        "colab": {
          "base_uri": "https://localhost:8080/",
          "height": 502
        },
        "outputId": "a3ac0dd1-6556-4e21-a0be-5e9e84e59337"
      },
      "source": [
        "grid = sns.FacetGrid(data, row='Embarque', col='Sobreviveu', size=2.2, aspect=1.6)\r\n",
        "grid.map(sns.barplot, 'Sexo', 'Tarifa', alpha=0.7, ci=None)\r\n",
        "grid.add_legend()"
      ],
      "execution_count": 48,
      "outputs": [
        {
          "output_type": "execute_result",
          "data": {
            "text/plain": [
              "<seaborn.axisgrid.FacetGrid at 0x7f99230c1c50>"
            ]
          },
          "metadata": {
            "tags": []
          },
          "execution_count": 48
        },
        {
          "output_type": "display_data",
          "data": {
            "image/png": "[encoded data removed]",
            "text/plain": [
              "<Figure size 514.88x475.2 with 6 Axes>"
            ]
          },
          "metadata": {
            "tags": [],
            "needs_background": "light"
          }
        }
      ]
    },
    {
      "cell_type": "markdown",
      "metadata": {
        "id": "a-px05LPCQ03"
      },
      "source": [
        "<a name=\"pizza\"></a>"
      ]
    },
    {
      "cell_type": "markdown",
      "metadata": {
        "id": "1V0Lgh23CQ03"
      },
      "source": [
        "### Crosstab de Sobrevivência por Classe"
      ]
    },
    {
      "cell_type": "code",
      "metadata": {
        "id": "wgev3-QICQ03",
        "colab": {
          "base_uri": "https://localhost:8080/",
          "height": 124
        },
        "outputId": "18edc350-542e-47c9-8ee3-cf00709a56ff"
      },
      "source": [
        "pd.crosstab(data['Sobreviveu'],data['Classe'],margins=True)\\\r\n",
        ".style.background_gradient(cmap='OrRd')"
      ],
      "execution_count": 49,
      "outputs": [
        {
          "output_type": "execute_result",
          "data": {
            "text/html": [
              "<style  type=\"text/css\" >\n",
              "#T_f9c11a3e_5699_11eb_89fb_0242ac1c0002row0_col0,#T_f9c11a3e_5699_11eb_89fb_0242ac1c0002row1_col1,#T_f9c11a3e_5699_11eb_89fb_0242ac1c0002row1_col2,#T_f9c11a3e_5699_11eb_89fb_0242ac1c0002row1_col3{\n",
              "            background-color:  #fff7ec;\n",
              "            color:  #000000;\n",
              "        }#T_f9c11a3e_5699_11eb_89fb_0242ac1c0002row0_col1{\n",
              "            background-color:  #feebcf;\n",
              "            color:  #000000;\n",
              "        }#T_f9c11a3e_5699_11eb_89fb_0242ac1c0002row0_col2{\n",
              "            background-color:  #e44d35;\n",
              "            color:  #000000;\n",
              "        }#T_f9c11a3e_5699_11eb_89fb_0242ac1c0002row0_col3{\n",
              "            background-color:  #fdba83;\n",
              "            color:  #000000;\n",
              "        }#T_f9c11a3e_5699_11eb_89fb_0242ac1c0002row1_col0{\n",
              "            background-color:  #fdad77;\n",
              "            color:  #000000;\n",
              "        }#T_f9c11a3e_5699_11eb_89fb_0242ac1c0002row2_col0,#T_f9c11a3e_5699_11eb_89fb_0242ac1c0002row2_col1,#T_f9c11a3e_5699_11eb_89fb_0242ac1c0002row2_col2,#T_f9c11a3e_5699_11eb_89fb_0242ac1c0002row2_col3{\n",
              "            background-color:  #7f0000;\n",
              "            color:  #f1f1f1;\n",
              "        }</style><table id=\"T_f9c11a3e_5699_11eb_89fb_0242ac1c0002\" ><thead>    <tr>        <th class=\"index_name level0\" >Classe</th>        <th class=\"col_heading level0 col0\" >1</th>        <th class=\"col_heading level0 col1\" >2</th>        <th class=\"col_heading level0 col2\" >3</th>        <th class=\"col_heading level0 col3\" >All</th>    </tr>    <tr>        <th class=\"index_name level0\" >Sobreviveu</th>        <th class=\"blank\" ></th>        <th class=\"blank\" ></th>        <th class=\"blank\" ></th>        <th class=\"blank\" ></th>    </tr></thead><tbody>\n",
              "                <tr>\n",
              "                        <th id=\"T_f9c11a3e_5699_11eb_89fb_0242ac1c0002level0_row0\" class=\"row_heading level0 row0\" >0.0</th>\n",
              "                        <td id=\"T_f9c11a3e_5699_11eb_89fb_0242ac1c0002row0_col0\" class=\"data row0 col0\" >80</td>\n",
              "                        <td id=\"T_f9c11a3e_5699_11eb_89fb_0242ac1c0002row0_col1\" class=\"data row0 col1\" >97</td>\n",
              "                        <td id=\"T_f9c11a3e_5699_11eb_89fb_0242ac1c0002row0_col2\" class=\"data row0 col2\" >372</td>\n",
              "                        <td id=\"T_f9c11a3e_5699_11eb_89fb_0242ac1c0002row0_col3\" class=\"data row0 col3\" >549</td>\n",
              "            </tr>\n",
              "            <tr>\n",
              "                        <th id=\"T_f9c11a3e_5699_11eb_89fb_0242ac1c0002level0_row1\" class=\"row_heading level0 row1\" >1.0</th>\n",
              "                        <td id=\"T_f9c11a3e_5699_11eb_89fb_0242ac1c0002row1_col0\" class=\"data row1 col0\" >136</td>\n",
              "                        <td id=\"T_f9c11a3e_5699_11eb_89fb_0242ac1c0002row1_col1\" class=\"data row1 col1\" >87</td>\n",
              "                        <td id=\"T_f9c11a3e_5699_11eb_89fb_0242ac1c0002row1_col2\" class=\"data row1 col2\" >119</td>\n",
              "                        <td id=\"T_f9c11a3e_5699_11eb_89fb_0242ac1c0002row1_col3\" class=\"data row1 col3\" >342</td>\n",
              "            </tr>\n",
              "            <tr>\n",
              "                        <th id=\"T_f9c11a3e_5699_11eb_89fb_0242ac1c0002level0_row2\" class=\"row_heading level0 row2\" >All</th>\n",
              "                        <td id=\"T_f9c11a3e_5699_11eb_89fb_0242ac1c0002row2_col0\" class=\"data row2 col0\" >216</td>\n",
              "                        <td id=\"T_f9c11a3e_5699_11eb_89fb_0242ac1c0002row2_col1\" class=\"data row2 col1\" >184</td>\n",
              "                        <td id=\"T_f9c11a3e_5699_11eb_89fb_0242ac1c0002row2_col2\" class=\"data row2 col2\" >491</td>\n",
              "                        <td id=\"T_f9c11a3e_5699_11eb_89fb_0242ac1c0002row2_col3\" class=\"data row2 col3\" >891</td>\n",
              "            </tr>\n",
              "    </tbody></table>"
            ],
            "text/plain": [
              "<pandas.io.formats.style.Styler at 0x7f99230a34e0>"
            ]
          },
          "metadata": {
            "tags": []
          },
          "execution_count": 49
        }
      ]
    },
    {
      "cell_type": "markdown",
      "metadata": {
        "id": "9hEDQKojCQ04"
      },
      "source": [
        "<a name=\"vimissing\"></a>"
      ]
    },
    {
      "cell_type": "markdown",
      "metadata": {
        "id": "YOrQpVP2CQ04"
      },
      "source": [
        "## Visualizando Dados Faltando\n",
        "\n",
        "<br>\n",
        "\n",
        "[início](#topo)"
      ]
    },
    {
      "cell_type": "code",
      "metadata": {
        "id": "zBW4szbTCQ05",
        "colab": {
          "base_uri": "https://localhost:8080/",
          "height": 347
        },
        "outputId": "a9735f38-50d9-402e-ac48-eb1f370d4457"
      },
      "source": [
        "sns.heatmap(data.isnull(),yticklabels=False,cbar=False,cmap='magma')"
      ],
      "execution_count": 50,
      "outputs": [
        {
          "output_type": "execute_result",
          "data": {
            "text/plain": [
              "<matplotlib.axes._subplots.AxesSubplot at 0x7f992c410518>"
            ]
          },
          "metadata": {
            "tags": []
          },
          "execution_count": 50
        },
        {
          "output_type": "display_data",
          "data": {
            "image/png": "[encoded data removed]",
            "text/plain": [
              "<Figure size 432x288 with 1 Axes>"
            ]
          },
          "metadata": {
            "tags": [],
            "needs_background": "light"
          }
        }
      ]
    },
    {
      "cell_type": "markdown",
      "metadata": {
        "id": "YQ_G-qKTCQ05"
      },
      "source": [
        "### Remover Cabine"
      ]
    },
    {
      "cell_type": "code",
      "metadata": {
        "id": "Evna9VM8CQ05"
      },
      "source": [
        "data.drop(['Cabine'],axis=1, inplace=True)"
      ],
      "execution_count": 51,
      "outputs": []
    },
    {
      "cell_type": "markdown",
      "metadata": {
        "id": "35ikPRLOCQ06"
      },
      "source": [
        "<a name=\"boxplot\"></a>"
      ]
    },
    {
      "cell_type": "markdown",
      "metadata": {
        "id": "7EJP9bt5CQ06"
      },
      "source": [
        "### Boxplot de Classe por Sexo"
      ]
    },
    {
      "cell_type": "code",
      "metadata": {
        "id": "sFYTpS8HCQ06",
        "colab": {
          "base_uri": "https://localhost:8080/",
          "height": 323
        },
        "outputId": "3e35adf2-73ad-4360-9fd7-92c12a698e99"
      },
      "source": [
        "plt.figure(figsize=(5,3),dpi=100)\r\n",
        "sns.boxplot(x='Classe', y='Idade', hue='Sexo', data=data)"
      ],
      "execution_count": 52,
      "outputs": [
        {
          "output_type": "execute_result",
          "data": {
            "text/plain": [
              "<matplotlib.axes._subplots.AxesSubplot at 0x7f9923659668>"
            ]
          },
          "metadata": {
            "tags": []
          },
          "execution_count": 52
        },
        {
          "output_type": "display_data",
          "data": {
            "image/png": "[encoded data removed]",
            "text/plain": [
              "<Figure size 500x300 with 1 Axes>"
            ]
          },
          "metadata": {
            "tags": [],
            "needs_background": "light"
          }
        }
      ]
    },
    {
      "cell_type": "markdown",
      "metadata": {
        "id": "Fb-2luAjCQ07"
      },
      "source": [
        "<a name=\"engenharia\"></a>"
      ]
    },
    {
      "cell_type": "markdown",
      "metadata": {
        "id": "E0164YnHCQ07"
      },
      "source": [
        "# Engenharia de Recursos\n",
        "\n",
        "<br>\n",
        "\n",
        "[início](#topo)"
      ]
    },
    {
      "cell_type": "markdown",
      "metadata": {
        "id": "FujDAXc7CQ08"
      },
      "source": [
        "### Extrair Titulo do Nome"
      ]
    },
    {
      "cell_type": "code",
      "metadata": {
        "id": "S5EydBPaCQ08"
      },
      "source": [
        "data['Titulo'] = data['Nome'].str.extract('([a-zA-Z]+)\\.')"
      ],
      "execution_count": 53,
      "outputs": []
    },
    {
      "cell_type": "code",
      "metadata": {
        "id": "Ilk4RY-ZCQ08",
        "colab": {
          "base_uri": "https://localhost:8080/"
        },
        "outputId": "12172cfc-e6c7-429b-8114-e01d515be89f"
      },
      "source": [
        "data['Titulo'].unique()"
      ],
      "execution_count": 54,
      "outputs": [
        {
          "output_type": "execute_result",
          "data": {
            "text/plain": [
              "array(['Mr', 'Mrs', 'Miss', 'Master', 'Don', 'Rev', 'Dr', 'Mme', 'Ms',\n",
              "       'Major', 'Lady', 'Sir', 'Mlle', 'Col', 'Capt', 'Countess',\n",
              "       'Jonkheer', 'Dona'], dtype=object)"
            ]
          },
          "metadata": {
            "tags": []
          },
          "execution_count": 54
        }
      ]
    },
    {
      "cell_type": "code",
      "metadata": {
        "id": "2_Co3CPZCQ09",
        "colab": {
          "base_uri": "https://localhost:8080/",
          "height": 638
        },
        "outputId": "a38d00ad-3310-4a39-cb16-b8924ef41676"
      },
      "source": [
        "pd.crosstab(data['Titulo'], data['Sexo'])"
      ],
      "execution_count": 55,
      "outputs": [
        {
          "output_type": "execute_result",
          "data": {
            "text/html": [
              "<div>\n",
              "<style scoped>\n",
              "    .dataframe tbody tr th:only-of-type {\n",
              "        vertical-align: middle;\n",
              "    }\n",
              "\n",
              "    .dataframe tbody tr th {\n",
              "        vertical-align: top;\n",
              "    }\n",
              "\n",
              "    .dataframe thead th {\n",
              "        text-align: right;\n",
              "    }\n",
              "</style>\n",
              "<table border=\"1\" class=\"dataframe\">\n",
              "  <thead>\n",
              "    <tr style=\"text-align: right;\">\n",
              "      <th>Sexo</th>\n",
              "      <th>homem</th>\n",
              "      <th>mulher</th>\n",
              "    </tr>\n",
              "    <tr>\n",
              "      <th>Titulo</th>\n",
              "      <th></th>\n",
              "      <th></th>\n",
              "    </tr>\n",
              "  </thead>\n",
              "  <tbody>\n",
              "    <tr>\n",
              "      <th>Capt</th>\n",
              "      <td>1</td>\n",
              "      <td>0</td>\n",
              "    </tr>\n",
              "    <tr>\n",
              "      <th>Col</th>\n",
              "      <td>4</td>\n",
              "      <td>0</td>\n",
              "    </tr>\n",
              "    <tr>\n",
              "      <th>Countess</th>\n",
              "      <td>0</td>\n",
              "      <td>1</td>\n",
              "    </tr>\n",
              "    <tr>\n",
              "      <th>Don</th>\n",
              "      <td>1</td>\n",
              "      <td>0</td>\n",
              "    </tr>\n",
              "    <tr>\n",
              "      <th>Dona</th>\n",
              "      <td>0</td>\n",
              "      <td>1</td>\n",
              "    </tr>\n",
              "    <tr>\n",
              "      <th>Dr</th>\n",
              "      <td>7</td>\n",
              "      <td>1</td>\n",
              "    </tr>\n",
              "    <tr>\n",
              "      <th>Jonkheer</th>\n",
              "      <td>1</td>\n",
              "      <td>0</td>\n",
              "    </tr>\n",
              "    <tr>\n",
              "      <th>Lady</th>\n",
              "      <td>0</td>\n",
              "      <td>1</td>\n",
              "    </tr>\n",
              "    <tr>\n",
              "      <th>Major</th>\n",
              "      <td>2</td>\n",
              "      <td>0</td>\n",
              "    </tr>\n",
              "    <tr>\n",
              "      <th>Master</th>\n",
              "      <td>61</td>\n",
              "      <td>0</td>\n",
              "    </tr>\n",
              "    <tr>\n",
              "      <th>Miss</th>\n",
              "      <td>0</td>\n",
              "      <td>260</td>\n",
              "    </tr>\n",
              "    <tr>\n",
              "      <th>Mlle</th>\n",
              "      <td>0</td>\n",
              "      <td>2</td>\n",
              "    </tr>\n",
              "    <tr>\n",
              "      <th>Mme</th>\n",
              "      <td>0</td>\n",
              "      <td>1</td>\n",
              "    </tr>\n",
              "    <tr>\n",
              "      <th>Mr</th>\n",
              "      <td>757</td>\n",
              "      <td>0</td>\n",
              "    </tr>\n",
              "    <tr>\n",
              "      <th>Mrs</th>\n",
              "      <td>0</td>\n",
              "      <td>197</td>\n",
              "    </tr>\n",
              "    <tr>\n",
              "      <th>Ms</th>\n",
              "      <td>0</td>\n",
              "      <td>2</td>\n",
              "    </tr>\n",
              "    <tr>\n",
              "      <th>Rev</th>\n",
              "      <td>8</td>\n",
              "      <td>0</td>\n",
              "    </tr>\n",
              "    <tr>\n",
              "      <th>Sir</th>\n",
              "      <td>1</td>\n",
              "      <td>0</td>\n",
              "    </tr>\n",
              "  </tbody>\n",
              "</table>\n",
              "</div>"
            ],
            "text/plain": [
              "Sexo      homem  mulher\n",
              "Titulo                 \n",
              "Capt          1       0\n",
              "Col           4       0\n",
              "Countess      0       1\n",
              "Don           1       0\n",
              "Dona          0       1\n",
              "Dr            7       1\n",
              "Jonkheer      1       0\n",
              "Lady          0       1\n",
              "Major         2       0\n",
              "Master       61       0\n",
              "Miss          0     260\n",
              "Mlle          0       2\n",
              "Mme           0       1\n",
              "Mr          757       0\n",
              "Mrs           0     197\n",
              "Ms            0       2\n",
              "Rev           8       0\n",
              "Sir           1       0"
            ]
          },
          "metadata": {
            "tags": []
          },
          "execution_count": 55
        }
      ]
    },
    {
      "cell_type": "code",
      "metadata": {
        "id": "Hd1HfWlyCQ09"
      },
      "source": [
        "data['Titulo'] = data['Titulo'].apply(lambda x: 'Outros' if x not in ['Miss','Master','Mr','Mrs'] else x)"
      ],
      "execution_count": 56,
      "outputs": []
    },
    {
      "cell_type": "code",
      "metadata": {
        "id": "NOiu3nAzCQ0-",
        "colab": {
          "base_uri": "https://localhost:8080/",
          "height": 235
        },
        "outputId": "afd05bf0-43ac-4575-8bb8-f3fd6c8e6933"
      },
      "source": [
        "pd.crosstab(data['Titulo'], data['Sexo'])"
      ],
      "execution_count": 57,
      "outputs": [
        {
          "output_type": "execute_result",
          "data": {
            "text/html": [
              "<div>\n",
              "<style scoped>\n",
              "    .dataframe tbody tr th:only-of-type {\n",
              "        vertical-align: middle;\n",
              "    }\n",
              "\n",
              "    .dataframe tbody tr th {\n",
              "        vertical-align: top;\n",
              "    }\n",
              "\n",
              "    .dataframe thead th {\n",
              "        text-align: right;\n",
              "    }\n",
              "</style>\n",
              "<table border=\"1\" class=\"dataframe\">\n",
              "  <thead>\n",
              "    <tr style=\"text-align: right;\">\n",
              "      <th>Sexo</th>\n",
              "      <th>homem</th>\n",
              "      <th>mulher</th>\n",
              "    </tr>\n",
              "    <tr>\n",
              "      <th>Titulo</th>\n",
              "      <th></th>\n",
              "      <th></th>\n",
              "    </tr>\n",
              "  </thead>\n",
              "  <tbody>\n",
              "    <tr>\n",
              "      <th>Master</th>\n",
              "      <td>61</td>\n",
              "      <td>0</td>\n",
              "    </tr>\n",
              "    <tr>\n",
              "      <th>Miss</th>\n",
              "      <td>0</td>\n",
              "      <td>260</td>\n",
              "    </tr>\n",
              "    <tr>\n",
              "      <th>Mr</th>\n",
              "      <td>757</td>\n",
              "      <td>0</td>\n",
              "    </tr>\n",
              "    <tr>\n",
              "      <th>Mrs</th>\n",
              "      <td>0</td>\n",
              "      <td>197</td>\n",
              "    </tr>\n",
              "    <tr>\n",
              "      <th>Outros</th>\n",
              "      <td>25</td>\n",
              "      <td>9</td>\n",
              "    </tr>\n",
              "  </tbody>\n",
              "</table>\n",
              "</div>"
            ],
            "text/plain": [
              "Sexo    homem  mulher\n",
              "Titulo               \n",
              "Master     61       0\n",
              "Miss        0     260\n",
              "Mr        757       0\n",
              "Mrs         0     197\n",
              "Outros     25       9"
            ]
          },
          "metadata": {
            "tags": []
          },
          "execution_count": 57
        }
      ]
    },
    {
      "cell_type": "markdown",
      "metadata": {
        "id": "D3dvXrkzCQ0-"
      },
      "source": [
        "### Traduzir \"Titulos\""
      ]
    },
    {
      "cell_type": "code",
      "metadata": {
        "id": "IK2XSLoJCQ0-",
        "colab": {
          "base_uri": "https://localhost:8080/"
        },
        "outputId": "74835fbf-0297-4422-81a9-4a7a8ce5fd43"
      },
      "source": [
        "data.loc[data['Titulo']=='Master'].mean()"
      ],
      "execution_count": 58,
      "outputs": [
        {
          "output_type": "execute_result",
          "data": {
            "text/plain": [
              "Idade             5.482642\n",
              "Tarifa           36.008195\n",
              "PaisFilhos        1.377049\n",
              "Classe            2.655738\n",
              "IrmaosConjuge     2.049180\n",
              "Sobreviveu        0.575000\n",
              "dtype: float64"
            ]
          },
          "metadata": {
            "tags": []
          },
          "execution_count": 58
        }
      ]
    },
    {
      "cell_type": "code",
      "metadata": {
        "id": "ATKdQGiNCQ0_"
      },
      "source": [
        "titulos_traduzidos = {\r\n",
        "    'Master': 'Menino',\r\n",
        "    'Miss': 'Solteira',\r\n",
        "    'Mr': 'HomemAdulto',\r\n",
        "    'Mrs': 'Casada',\r\n",
        "    'Outros': 'Outros'\r\n",
        "}"
      ],
      "execution_count": 59,
      "outputs": []
    },
    {
      "cell_type": "code",
      "metadata": {
        "id": "W6w9oGGGCQ0_"
      },
      "source": [
        "data['Titulo'] = data['Titulo'].map(titulos_traduzidos)\r\n"
      ],
      "execution_count": 60,
      "outputs": []
    },
    {
      "cell_type": "code",
      "metadata": {
        "colab": {
          "base_uri": "https://localhost:8080/",
          "height": 269
        },
        "id": "YctCSbLr9qfK",
        "outputId": "2d98a2c7-b898-4b2a-9190-89a7eb473bb0"
      },
      "source": [
        "data.head()"
      ],
      "execution_count": 61,
      "outputs": [
        {
          "output_type": "execute_result",
          "data": {
            "text/html": [
              "<div>\n",
              "<style scoped>\n",
              "    .dataframe tbody tr th:only-of-type {\n",
              "        vertical-align: middle;\n",
              "    }\n",
              "\n",
              "    .dataframe tbody tr th {\n",
              "        vertical-align: top;\n",
              "    }\n",
              "\n",
              "    .dataframe thead th {\n",
              "        text-align: right;\n",
              "    }\n",
              "</style>\n",
              "<table border=\"1\" class=\"dataframe\">\n",
              "  <thead>\n",
              "    <tr style=\"text-align: right;\">\n",
              "      <th></th>\n",
              "      <th>Idade</th>\n",
              "      <th>Embarque</th>\n",
              "      <th>Tarifa</th>\n",
              "      <th>Nome</th>\n",
              "      <th>PaisFilhos</th>\n",
              "      <th>Classe</th>\n",
              "      <th>Sexo</th>\n",
              "      <th>IrmaosConjuge</th>\n",
              "      <th>Sobreviveu</th>\n",
              "      <th>Bilhete</th>\n",
              "      <th>Titulo</th>\n",
              "    </tr>\n",
              "    <tr>\n",
              "      <th>PassengerId</th>\n",
              "      <th></th>\n",
              "      <th></th>\n",
              "      <th></th>\n",
              "      <th></th>\n",
              "      <th></th>\n",
              "      <th></th>\n",
              "      <th></th>\n",
              "      <th></th>\n",
              "      <th></th>\n",
              "      <th></th>\n",
              "      <th></th>\n",
              "    </tr>\n",
              "  </thead>\n",
              "  <tbody>\n",
              "    <tr>\n",
              "      <th>1</th>\n",
              "      <td>22.0</td>\n",
              "      <td>S</td>\n",
              "      <td>7.2500</td>\n",
              "      <td>Braund, Mr. Owen Harris</td>\n",
              "      <td>0</td>\n",
              "      <td>3</td>\n",
              "      <td>homem</td>\n",
              "      <td>1</td>\n",
              "      <td>0.0</td>\n",
              "      <td>A/5 21171</td>\n",
              "      <td>HomemAdulto</td>\n",
              "    </tr>\n",
              "    <tr>\n",
              "      <th>2</th>\n",
              "      <td>38.0</td>\n",
              "      <td>C</td>\n",
              "      <td>71.2833</td>\n",
              "      <td>Cumings, Mrs. John Bradley (Florence Briggs Th...</td>\n",
              "      <td>0</td>\n",
              "      <td>1</td>\n",
              "      <td>mulher</td>\n",
              "      <td>1</td>\n",
              "      <td>1.0</td>\n",
              "      <td>PC 17599</td>\n",
              "      <td>Casada</td>\n",
              "    </tr>\n",
              "    <tr>\n",
              "      <th>3</th>\n",
              "      <td>26.0</td>\n",
              "      <td>S</td>\n",
              "      <td>7.9250</td>\n",
              "      <td>Heikkinen, Miss. Laina</td>\n",
              "      <td>0</td>\n",
              "      <td>3</td>\n",
              "      <td>mulher</td>\n",
              "      <td>0</td>\n",
              "      <td>1.0</td>\n",
              "      <td>STON/O2. 3101282</td>\n",
              "      <td>Solteira</td>\n",
              "    </tr>\n",
              "    <tr>\n",
              "      <th>4</th>\n",
              "      <td>35.0</td>\n",
              "      <td>S</td>\n",
              "      <td>53.1000</td>\n",
              "      <td>Futrelle, Mrs. Jacques Heath (Lily May Peel)</td>\n",
              "      <td>0</td>\n",
              "      <td>1</td>\n",
              "      <td>mulher</td>\n",
              "      <td>1</td>\n",
              "      <td>1.0</td>\n",
              "      <td>113803</td>\n",
              "      <td>Casada</td>\n",
              "    </tr>\n",
              "    <tr>\n",
              "      <th>5</th>\n",
              "      <td>35.0</td>\n",
              "      <td>S</td>\n",
              "      <td>8.0500</td>\n",
              "      <td>Allen, Mr. William Henry</td>\n",
              "      <td>0</td>\n",
              "      <td>3</td>\n",
              "      <td>homem</td>\n",
              "      <td>0</td>\n",
              "      <td>0.0</td>\n",
              "      <td>373450</td>\n",
              "      <td>HomemAdulto</td>\n",
              "    </tr>\n",
              "  </tbody>\n",
              "</table>\n",
              "</div>"
            ],
            "text/plain": [
              "             Idade Embarque   Tarifa  ... Sobreviveu           Bilhete       Titulo\n",
              "PassengerId                           ...                                          \n",
              "1             22.0        S   7.2500  ...        0.0         A/5 21171  HomemAdulto\n",
              "2             38.0        C  71.2833  ...        1.0          PC 17599       Casada\n",
              "3             26.0        S   7.9250  ...        1.0  STON/O2. 3101282     Solteira\n",
              "4             35.0        S  53.1000  ...        1.0            113803       Casada\n",
              "5             35.0        S   8.0500  ...        0.0            373450  HomemAdulto\n",
              "\n",
              "[5 rows x 11 columns]"
            ]
          },
          "metadata": {
            "tags": []
          },
          "execution_count": 61
        }
      ]
    },
    {
      "cell_type": "markdown",
      "metadata": {
        "id": "fZyY6qe8CQ0_"
      },
      "source": [
        "# Mulheres e Crianças sobreviveram ou morreram juntos?"
      ]
    },
    {
      "cell_type": "markdown",
      "metadata": {
        "id": "aIaHCyn2CQ1A"
      },
      "source": [
        "## Extrair sobrenome para identificar possíveis famílias"
      ]
    },
    {
      "cell_type": "code",
      "metadata": {
        "colab": {
          "base_uri": "https://localhost:8080/",
          "height": 35
        },
        "id": "D3jELhFmQlxc",
        "outputId": "6034e015-8d76-4d96-fe97-95c0abd945e4"
      },
      "source": [
        "['Braund',  'Mr. Owen Harris'][0]"
      ],
      "execution_count": 62,
      "outputs": [
        {
          "output_type": "execute_result",
          "data": {
            "application/vnd.google.colaboratory.intrinsic+json": {
              "type": "string"
            },
            "text/plain": [
              "'Braund'"
            ]
          },
          "metadata": {
            "tags": []
          },
          "execution_count": 62
        }
      ]
    },
    {
      "cell_type": "markdown",
      "metadata": {
        "id": "MXuncZQPCQ1B"
      },
      "source": [
        "### Criar Feature Sobrenome da Família"
      ]
    },
    {
      "cell_type": "code",
      "metadata": {
        "id": "Rsf4e-rnCQ1B"
      },
      "source": [
        "data['Sobrenome'] = data['Nome'].str.split(',').str[0]"
      ],
      "execution_count": 63,
      "outputs": []
    },
    {
      "cell_type": "markdown",
      "metadata": {
        "id": "3_8mpbWcCQ1C"
      },
      "source": [
        "### Verificar as maiores famílias"
      ]
    },
    {
      "cell_type": "code",
      "metadata": {
        "id": "mCX3Z3ETCQ1C",
        "colab": {
          "base_uri": "https://localhost:8080/"
        },
        "outputId": "be630954-b257-4db8-daef-27cc8064a07a"
      },
      "source": [
        "data.groupby(['Sobrenome'])['Nome'].count().sort_values(ascending=False)"
      ],
      "execution_count": 64,
      "outputs": [
        {
          "output_type": "execute_result",
          "data": {
            "text/plain": [
              "Sobrenome\n",
              "Sage         11\n",
              "Andersson    11\n",
              "Asplund       8\n",
              "Goodwin       8\n",
              "Davies        7\n",
              "             ..\n",
              "Moutal        1\n",
              "Moussa        1\n",
              "Moss          1\n",
              "Morrow        1\n",
              "Abbing        1\n",
              "Name: Nome, Length: 875, dtype: int64"
            ]
          },
          "metadata": {
            "tags": []
          },
          "execution_count": 64
        }
      ]
    },
    {
      "cell_type": "markdown",
      "metadata": {
        "id": "n12yAQ13CQ1C"
      },
      "source": [
        "### Analisar Sobrevivência de Mulheres e Crianças da Família \"Andersson\""
      ]
    },
    {
      "cell_type": "code",
      "metadata": {
        "id": "bYWVsOF0CQ1D",
        "colab": {
          "base_uri": "https://localhost:8080/",
          "height": 328
        },
        "outputId": "2cf8a392-d457-4b24-d42a-07e8c8132617"
      },
      "source": [
        "data[['Sobreviveu', 'Titulo', 'Sobrenome', 'Bilhete']]\\\r\n",
        ".loc[data['Sobrenome']== 'Andersson']\\\r\n",
        ".loc[(data['Sexo']=='mulher') | (data['Titulo']=='Menino')]"
      ],
      "execution_count": 65,
      "outputs": [
        {
          "output_type": "execute_result",
          "data": {
            "text/html": [
              "<div>\n",
              "<style scoped>\n",
              "    .dataframe tbody tr th:only-of-type {\n",
              "        vertical-align: middle;\n",
              "    }\n",
              "\n",
              "    .dataframe tbody tr th {\n",
              "        vertical-align: top;\n",
              "    }\n",
              "\n",
              "    .dataframe thead th {\n",
              "        text-align: right;\n",
              "    }\n",
              "</style>\n",
              "<table border=\"1\" class=\"dataframe\">\n",
              "  <thead>\n",
              "    <tr style=\"text-align: right;\">\n",
              "      <th></th>\n",
              "      <th>Sobreviveu</th>\n",
              "      <th>Titulo</th>\n",
              "      <th>Sobrenome</th>\n",
              "      <th>Bilhete</th>\n",
              "    </tr>\n",
              "    <tr>\n",
              "      <th>PassengerId</th>\n",
              "      <th></th>\n",
              "      <th></th>\n",
              "      <th></th>\n",
              "      <th></th>\n",
              "    </tr>\n",
              "  </thead>\n",
              "  <tbody>\n",
              "    <tr>\n",
              "      <th>69</th>\n",
              "      <td>1.0</td>\n",
              "      <td>Solteira</td>\n",
              "      <td>Andersson</td>\n",
              "      <td>3101281</td>\n",
              "    </tr>\n",
              "    <tr>\n",
              "      <th>120</th>\n",
              "      <td>0.0</td>\n",
              "      <td>Solteira</td>\n",
              "      <td>Andersson</td>\n",
              "      <td>347082</td>\n",
              "    </tr>\n",
              "    <tr>\n",
              "      <th>542</th>\n",
              "      <td>0.0</td>\n",
              "      <td>Solteira</td>\n",
              "      <td>Andersson</td>\n",
              "      <td>347082</td>\n",
              "    </tr>\n",
              "    <tr>\n",
              "      <th>543</th>\n",
              "      <td>0.0</td>\n",
              "      <td>Solteira</td>\n",
              "      <td>Andersson</td>\n",
              "      <td>347082</td>\n",
              "    </tr>\n",
              "    <tr>\n",
              "      <th>611</th>\n",
              "      <td>0.0</td>\n",
              "      <td>Casada</td>\n",
              "      <td>Andersson</td>\n",
              "      <td>347082</td>\n",
              "    </tr>\n",
              "    <tr>\n",
              "      <th>814</th>\n",
              "      <td>0.0</td>\n",
              "      <td>Solteira</td>\n",
              "      <td>Andersson</td>\n",
              "      <td>347082</td>\n",
              "    </tr>\n",
              "    <tr>\n",
              "      <th>851</th>\n",
              "      <td>0.0</td>\n",
              "      <td>Menino</td>\n",
              "      <td>Andersson</td>\n",
              "      <td>347082</td>\n",
              "    </tr>\n",
              "    <tr>\n",
              "      <th>1106</th>\n",
              "      <td>NaN</td>\n",
              "      <td>Solteira</td>\n",
              "      <td>Andersson</td>\n",
              "      <td>347091</td>\n",
              "    </tr>\n",
              "  </tbody>\n",
              "</table>\n",
              "</div>"
            ],
            "text/plain": [
              "             Sobreviveu    Titulo  Sobrenome  Bilhete\n",
              "PassengerId                                          \n",
              "69                  1.0  Solteira  Andersson  3101281\n",
              "120                 0.0  Solteira  Andersson   347082\n",
              "542                 0.0  Solteira  Andersson   347082\n",
              "543                 0.0  Solteira  Andersson   347082\n",
              "611                 0.0    Casada  Andersson   347082\n",
              "814                 0.0  Solteira  Andersson   347082\n",
              "851                 0.0    Menino  Andersson   347082\n",
              "1106                NaN  Solteira  Andersson   347091"
            ]
          },
          "metadata": {
            "tags": []
          },
          "execution_count": 65
        }
      ]
    },
    {
      "cell_type": "markdown",
      "metadata": {
        "id": "NM44dl_6CQ1D"
      },
      "source": [
        "### Mulheres e Crianças da Família \"Sage\""
      ]
    },
    {
      "cell_type": "code",
      "metadata": {
        "id": "Ga4B82w3CQ1E",
        "colab": {
          "base_uri": "https://localhost:8080/",
          "height": 297
        },
        "outputId": "25527031-ab90-4d72-b8a9-47d9f5594297"
      },
      "source": [
        "data[['Sobreviveu', 'Titulo', 'Sobrenome', 'Bilhete']]\\\r\n",
        ".loc[data['Sobrenome']== 'Sage']\\\r\n",
        ".loc[(data['Sexo']=='mulher') | (data['Titulo']=='Menino')]"
      ],
      "execution_count": 66,
      "outputs": [
        {
          "output_type": "execute_result",
          "data": {
            "text/html": [
              "<div>\n",
              "<style scoped>\n",
              "    .dataframe tbody tr th:only-of-type {\n",
              "        vertical-align: middle;\n",
              "    }\n",
              "\n",
              "    .dataframe tbody tr th {\n",
              "        vertical-align: top;\n",
              "    }\n",
              "\n",
              "    .dataframe thead th {\n",
              "        text-align: right;\n",
              "    }\n",
              "</style>\n",
              "<table border=\"1\" class=\"dataframe\">\n",
              "  <thead>\n",
              "    <tr style=\"text-align: right;\">\n",
              "      <th></th>\n",
              "      <th>Sobreviveu</th>\n",
              "      <th>Titulo</th>\n",
              "      <th>Sobrenome</th>\n",
              "      <th>Bilhete</th>\n",
              "    </tr>\n",
              "    <tr>\n",
              "      <th>PassengerId</th>\n",
              "      <th></th>\n",
              "      <th></th>\n",
              "      <th></th>\n",
              "      <th></th>\n",
              "    </tr>\n",
              "  </thead>\n",
              "  <tbody>\n",
              "    <tr>\n",
              "      <th>160</th>\n",
              "      <td>0.0</td>\n",
              "      <td>Menino</td>\n",
              "      <td>Sage</td>\n",
              "      <td>CA. 2343</td>\n",
              "    </tr>\n",
              "    <tr>\n",
              "      <th>181</th>\n",
              "      <td>0.0</td>\n",
              "      <td>Solteira</td>\n",
              "      <td>Sage</td>\n",
              "      <td>CA. 2343</td>\n",
              "    </tr>\n",
              "    <tr>\n",
              "      <th>793</th>\n",
              "      <td>0.0</td>\n",
              "      <td>Solteira</td>\n",
              "      <td>Sage</td>\n",
              "      <td>CA. 2343</td>\n",
              "    </tr>\n",
              "    <tr>\n",
              "      <th>864</th>\n",
              "      <td>0.0</td>\n",
              "      <td>Solteira</td>\n",
              "      <td>Sage</td>\n",
              "      <td>CA. 2343</td>\n",
              "    </tr>\n",
              "    <tr>\n",
              "      <th>1080</th>\n",
              "      <td>NaN</td>\n",
              "      <td>Solteira</td>\n",
              "      <td>Sage</td>\n",
              "      <td>CA. 2343</td>\n",
              "    </tr>\n",
              "    <tr>\n",
              "      <th>1252</th>\n",
              "      <td>NaN</td>\n",
              "      <td>Menino</td>\n",
              "      <td>Sage</td>\n",
              "      <td>CA. 2343</td>\n",
              "    </tr>\n",
              "    <tr>\n",
              "      <th>1257</th>\n",
              "      <td>NaN</td>\n",
              "      <td>Casada</td>\n",
              "      <td>Sage</td>\n",
              "      <td>CA. 2343</td>\n",
              "    </tr>\n",
              "  </tbody>\n",
              "</table>\n",
              "</div>"
            ],
            "text/plain": [
              "             Sobreviveu    Titulo Sobrenome   Bilhete\n",
              "PassengerId                                          \n",
              "160                 0.0    Menino      Sage  CA. 2343\n",
              "181                 0.0  Solteira      Sage  CA. 2343\n",
              "793                 0.0  Solteira      Sage  CA. 2343\n",
              "864                 0.0  Solteira      Sage  CA. 2343\n",
              "1080                NaN  Solteira      Sage  CA. 2343\n",
              "1252                NaN    Menino      Sage  CA. 2343\n",
              "1257                NaN    Casada      Sage  CA. 2343"
            ]
          },
          "metadata": {
            "tags": []
          },
          "execution_count": 66
        }
      ]
    },
    {
      "cell_type": "markdown",
      "metadata": {
        "id": "JaOc9MySCQ1E"
      },
      "source": [
        "### Mulheres e Crianças da Família \"Brown\""
      ]
    },
    {
      "cell_type": "code",
      "metadata": {
        "id": "YNP1b9sJCQ1E",
        "colab": {
          "base_uri": "https://localhost:8080/",
          "height": 235
        },
        "outputId": "c9252fc9-89aa-4d7a-914e-fc31bbf03ad4"
      },
      "source": [
        "data[['Sobreviveu', 'Titulo', 'Sobrenome', 'Bilhete']]\\\r\n",
        ".loc[data['Sobrenome']== 'Brown']\\\r\n",
        ".loc[(data['Sexo']=='mulher') | (data['Titulo']=='Menino')]"
      ],
      "execution_count": 67,
      "outputs": [
        {
          "output_type": "execute_result",
          "data": {
            "text/html": [
              "<div>\n",
              "<style scoped>\n",
              "    .dataframe tbody tr th:only-of-type {\n",
              "        vertical-align: middle;\n",
              "    }\n",
              "\n",
              "    .dataframe tbody tr th {\n",
              "        vertical-align: top;\n",
              "    }\n",
              "\n",
              "    .dataframe thead th {\n",
              "        text-align: right;\n",
              "    }\n",
              "</style>\n",
              "<table border=\"1\" class=\"dataframe\">\n",
              "  <thead>\n",
              "    <tr style=\"text-align: right;\">\n",
              "      <th></th>\n",
              "      <th>Sobreviveu</th>\n",
              "      <th>Titulo</th>\n",
              "      <th>Sobrenome</th>\n",
              "      <th>Bilhete</th>\n",
              "    </tr>\n",
              "    <tr>\n",
              "      <th>PassengerId</th>\n",
              "      <th></th>\n",
              "      <th></th>\n",
              "      <th></th>\n",
              "      <th></th>\n",
              "    </tr>\n",
              "  </thead>\n",
              "  <tbody>\n",
              "    <tr>\n",
              "      <th>195</th>\n",
              "      <td>1.0</td>\n",
              "      <td>Casada</td>\n",
              "      <td>Brown</td>\n",
              "      <td>PC 17610</td>\n",
              "    </tr>\n",
              "    <tr>\n",
              "      <th>346</th>\n",
              "      <td>1.0</td>\n",
              "      <td>Solteira</td>\n",
              "      <td>Brown</td>\n",
              "      <td>248733</td>\n",
              "    </tr>\n",
              "    <tr>\n",
              "      <th>671</th>\n",
              "      <td>1.0</td>\n",
              "      <td>Casada</td>\n",
              "      <td>Brown</td>\n",
              "      <td>29750</td>\n",
              "    </tr>\n",
              "    <tr>\n",
              "      <th>1067</th>\n",
              "      <td>NaN</td>\n",
              "      <td>Solteira</td>\n",
              "      <td>Brown</td>\n",
              "      <td>29750</td>\n",
              "    </tr>\n",
              "    <tr>\n",
              "      <th>1248</th>\n",
              "      <td>NaN</td>\n",
              "      <td>Casada</td>\n",
              "      <td>Brown</td>\n",
              "      <td>11769</td>\n",
              "    </tr>\n",
              "  </tbody>\n",
              "</table>\n",
              "</div>"
            ],
            "text/plain": [
              "             Sobreviveu    Titulo Sobrenome   Bilhete\n",
              "PassengerId                                          \n",
              "195                 1.0    Casada     Brown  PC 17610\n",
              "346                 1.0  Solteira     Brown    248733\n",
              "671                 1.0    Casada     Brown     29750\n",
              "1067                NaN  Solteira     Brown     29750\n",
              "1248                NaN    Casada     Brown     11769"
            ]
          },
          "metadata": {
            "tags": []
          },
          "execution_count": 67
        }
      ]
    },
    {
      "cell_type": "markdown",
      "metadata": {
        "id": "7mpbja30CQ1F"
      },
      "source": [
        "### Criar DataFrame \"MulherOuCrianca\""
      ]
    },
    {
      "cell_type": "code",
      "metadata": {
        "id": "Aq9upBKHCQ1F"
      },
      "source": [
        "MulherOuCrianca = data.loc[(data['Sexo']=='mulher') | (data['Titulo']=='Menino')]"
      ],
      "execution_count": 68,
      "outputs": []
    },
    {
      "cell_type": "code",
      "metadata": {
        "id": "n3pSZkXtCQ1F",
        "colab": {
          "base_uri": "https://localhost:8080/"
        },
        "outputId": "3d038538-3f80-4e56-8bb7-ab38eb04fca4"
      },
      "source": [
        "MulherOuCrianca['Titulo'].unique()"
      ],
      "execution_count": 69,
      "outputs": [
        {
          "output_type": "execute_result",
          "data": {
            "text/plain": [
              "array(['Casada', 'Solteira', 'Menino', 'Outros'], dtype=object)"
            ]
          },
          "metadata": {
            "tags": []
          },
          "execution_count": 69
        }
      ]
    },
    {
      "cell_type": "markdown",
      "metadata": {
        "id": "9BZsfqPuCQ1G"
      },
      "source": [
        "### Criar Feature \"TamanhoGrupo\"\n",
        "Referente a quantidade de Pessoas que possuem o mesmo sobrenome"
      ]
    },
    {
      "cell_type": "code",
      "metadata": {
        "id": "iRyM1r_jCQ1G",
        "colab": {
          "base_uri": "https://localhost:8080/"
        },
        "outputId": "d9b03ef1-1b2c-4556-9dd3-82c045087033"
      },
      "source": [
        "MulherOuCrianca.loc[MulherOuCrianca['Sobrenome']=='Brown']['Sobreviveu']\\\r\n",
        ".count()"
      ],
      "execution_count": 70,
      "outputs": [
        {
          "output_type": "execute_result",
          "data": {
            "text/plain": [
              "3"
            ]
          },
          "metadata": {
            "tags": []
          },
          "execution_count": 70
        }
      ]
    },
    {
      "cell_type": "code",
      "metadata": {
        "id": "Is5luxq4CQ1G"
      },
      "source": [
        "data['TamanhoGrupo'] = data['Sobrenome'].apply(lambda x : MulherOuCrianca.loc[MulherOuCrianca['Sobrenome']== x]\\\r\n",
        "['Sobreviveu'].count())"
      ],
      "execution_count": 71,
      "outputs": []
    },
    {
      "cell_type": "markdown",
      "metadata": {
        "id": "AKvRusijCQ1H"
      },
      "source": [
        "### Sobrevivência Família \"Andersson\""
      ]
    },
    {
      "cell_type": "code",
      "metadata": {
        "id": "akrqtMimCQ1H",
        "colab": {
          "base_uri": "https://localhost:8080/",
          "height": 390
        },
        "outputId": "133c06cd-17b0-4baf-d3b5-4dc3c6ef9ca7"
      },
      "source": [
        "data[['TamanhoGrupo', 'Sobrenome', 'Titulo', 'Sobreviveu']]\\\r\n",
        ".sort_values(by='TamanhoGrupo',ascending=False).head(10)"
      ],
      "execution_count": 72,
      "outputs": [
        {
          "output_type": "execute_result",
          "data": {
            "text/html": [
              "<div>\n",
              "<style scoped>\n",
              "    .dataframe tbody tr th:only-of-type {\n",
              "        vertical-align: middle;\n",
              "    }\n",
              "\n",
              "    .dataframe tbody tr th {\n",
              "        vertical-align: top;\n",
              "    }\n",
              "\n",
              "    .dataframe thead th {\n",
              "        text-align: right;\n",
              "    }\n",
              "</style>\n",
              "<table border=\"1\" class=\"dataframe\">\n",
              "  <thead>\n",
              "    <tr style=\"text-align: right;\">\n",
              "      <th></th>\n",
              "      <th>TamanhoGrupo</th>\n",
              "      <th>Sobrenome</th>\n",
              "      <th>Titulo</th>\n",
              "      <th>Sobreviveu</th>\n",
              "    </tr>\n",
              "    <tr>\n",
              "      <th>PassengerId</th>\n",
              "      <th></th>\n",
              "      <th></th>\n",
              "      <th></th>\n",
              "      <th></th>\n",
              "    </tr>\n",
              "  </thead>\n",
              "  <tbody>\n",
              "    <tr>\n",
              "      <th>1212</th>\n",
              "      <td>7</td>\n",
              "      <td>Andersson</td>\n",
              "      <td>HomemAdulto</td>\n",
              "      <td>NaN</td>\n",
              "    </tr>\n",
              "    <tr>\n",
              "      <th>69</th>\n",
              "      <td>7</td>\n",
              "      <td>Andersson</td>\n",
              "      <td>Solteira</td>\n",
              "      <td>1.0</td>\n",
              "    </tr>\n",
              "    <tr>\n",
              "      <th>611</th>\n",
              "      <td>7</td>\n",
              "      <td>Andersson</td>\n",
              "      <td>Casada</td>\n",
              "      <td>0.0</td>\n",
              "    </tr>\n",
              "    <tr>\n",
              "      <th>120</th>\n",
              "      <td>7</td>\n",
              "      <td>Andersson</td>\n",
              "      <td>Solteira</td>\n",
              "      <td>0.0</td>\n",
              "    </tr>\n",
              "    <tr>\n",
              "      <th>147</th>\n",
              "      <td>7</td>\n",
              "      <td>Andersson</td>\n",
              "      <td>HomemAdulto</td>\n",
              "      <td>1.0</td>\n",
              "    </tr>\n",
              "    <tr>\n",
              "      <th>1106</th>\n",
              "      <td>7</td>\n",
              "      <td>Andersson</td>\n",
              "      <td>Solteira</td>\n",
              "      <td>NaN</td>\n",
              "    </tr>\n",
              "    <tr>\n",
              "      <th>814</th>\n",
              "      <td>7</td>\n",
              "      <td>Andersson</td>\n",
              "      <td>Solteira</td>\n",
              "      <td>0.0</td>\n",
              "    </tr>\n",
              "    <tr>\n",
              "      <th>543</th>\n",
              "      <td>7</td>\n",
              "      <td>Andersson</td>\n",
              "      <td>Solteira</td>\n",
              "      <td>0.0</td>\n",
              "    </tr>\n",
              "    <tr>\n",
              "      <th>851</th>\n",
              "      <td>7</td>\n",
              "      <td>Andersson</td>\n",
              "      <td>Menino</td>\n",
              "      <td>0.0</td>\n",
              "    </tr>\n",
              "    <tr>\n",
              "      <th>542</th>\n",
              "      <td>7</td>\n",
              "      <td>Andersson</td>\n",
              "      <td>Solteira</td>\n",
              "      <td>0.0</td>\n",
              "    </tr>\n",
              "  </tbody>\n",
              "</table>\n",
              "</div>"
            ],
            "text/plain": [
              "             TamanhoGrupo  Sobrenome       Titulo  Sobreviveu\n",
              "PassengerId                                                  \n",
              "1212                    7  Andersson  HomemAdulto         NaN\n",
              "69                      7  Andersson     Solteira         1.0\n",
              "611                     7  Andersson       Casada         0.0\n",
              "120                     7  Andersson     Solteira         0.0\n",
              "147                     7  Andersson  HomemAdulto         1.0\n",
              "1106                    7  Andersson     Solteira         NaN\n",
              "814                     7  Andersson     Solteira         0.0\n",
              "543                     7  Andersson     Solteira         0.0\n",
              "851                     7  Andersson       Menino         0.0\n",
              "542                     7  Andersson     Solteira         0.0"
            ]
          },
          "metadata": {
            "tags": []
          },
          "execution_count": 72
        }
      ]
    },
    {
      "cell_type": "code",
      "metadata": {
        "id": "rzNJWc2TCQ1I"
      },
      "source": [
        "for idx, _ in data.iterrows():\r\n",
        "  if data['Titulo'].at[idx] == 'HomemAdulto':\r\n",
        "    data['TamanhoGrupo'].at[idx] = 0"
      ],
      "execution_count": 73,
      "outputs": []
    },
    {
      "cell_type": "markdown",
      "metadata": {
        "id": "ad5i4yaYCQ1I"
      },
      "source": [
        "### Criar Recurso \"SobrevivenciaGrupo\""
      ]
    },
    {
      "cell_type": "code",
      "metadata": {
        "id": "LyRX2Id0CQ1J",
        "colab": {
          "base_uri": "https://localhost:8080/"
        },
        "outputId": "407f744c-8163-4780-82ab-c0af5722e214"
      },
      "source": [
        "data[['Titulo', 'Sobreviveu']].loc[data['Sobrenome']=='Andersson']\\\r\n",
        ".loc[(data['Sexo']=='mulher')| (data['Titulo']=='Menino')].mean()['Sobreviveu']"
      ],
      "execution_count": 74,
      "outputs": [
        {
          "output_type": "execute_result",
          "data": {
            "text/plain": [
              "0.14285714285714285"
            ]
          },
          "metadata": {
            "tags": []
          },
          "execution_count": 74
        }
      ]
    },
    {
      "cell_type": "code",
      "metadata": {
        "id": "XLePunEsCQ1J"
      },
      "source": [
        "data['SobrevivenciaGrupo'] = data['Sobrenome'].apply(lambda x:data[['Titulo', 'Sobreviveu']].loc[data['Sobrenome']== x]\\\r\n",
        ".loc[(data['Sexo']=='mulher')| (data['Titulo']=='Menino')].mean()['Sobreviveu'] )"
      ],
      "execution_count": 75,
      "outputs": []
    },
    {
      "cell_type": "code",
      "metadata": {
        "id": "4yqeET3ICQ1J",
        "colab": {
          "base_uri": "https://localhost:8080/",
          "height": 450
        },
        "outputId": "975c8548-46a1-4499-a2e4-49a58c6773d5"
      },
      "source": [
        "data[['SobrevivenciaGrupo', 'Titulo']]"
      ],
      "execution_count": 76,
      "outputs": [
        {
          "output_type": "execute_result",
          "data": {
            "text/html": [
              "<div>\n",
              "<style scoped>\n",
              "    .dataframe tbody tr th:only-of-type {\n",
              "        vertical-align: middle;\n",
              "    }\n",
              "\n",
              "    .dataframe tbody tr th {\n",
              "        vertical-align: top;\n",
              "    }\n",
              "\n",
              "    .dataframe thead th {\n",
              "        text-align: right;\n",
              "    }\n",
              "</style>\n",
              "<table border=\"1\" class=\"dataframe\">\n",
              "  <thead>\n",
              "    <tr style=\"text-align: right;\">\n",
              "      <th></th>\n",
              "      <th>SobrevivenciaGrupo</th>\n",
              "      <th>Titulo</th>\n",
              "    </tr>\n",
              "    <tr>\n",
              "      <th>PassengerId</th>\n",
              "      <th></th>\n",
              "      <th></th>\n",
              "    </tr>\n",
              "  </thead>\n",
              "  <tbody>\n",
              "    <tr>\n",
              "      <th>1</th>\n",
              "      <td>NaN</td>\n",
              "      <td>HomemAdulto</td>\n",
              "    </tr>\n",
              "    <tr>\n",
              "      <th>2</th>\n",
              "      <td>1.0</td>\n",
              "      <td>Casada</td>\n",
              "    </tr>\n",
              "    <tr>\n",
              "      <th>3</th>\n",
              "      <td>1.0</td>\n",
              "      <td>Solteira</td>\n",
              "    </tr>\n",
              "    <tr>\n",
              "      <th>4</th>\n",
              "      <td>1.0</td>\n",
              "      <td>Casada</td>\n",
              "    </tr>\n",
              "    <tr>\n",
              "      <th>5</th>\n",
              "      <td>1.0</td>\n",
              "      <td>HomemAdulto</td>\n",
              "    </tr>\n",
              "    <tr>\n",
              "      <th>...</th>\n",
              "      <td>...</td>\n",
              "      <td>...</td>\n",
              "    </tr>\n",
              "    <tr>\n",
              "      <th>1305</th>\n",
              "      <td>NaN</td>\n",
              "      <td>HomemAdulto</td>\n",
              "    </tr>\n",
              "    <tr>\n",
              "      <th>1306</th>\n",
              "      <td>NaN</td>\n",
              "      <td>Outros</td>\n",
              "    </tr>\n",
              "    <tr>\n",
              "      <th>1307</th>\n",
              "      <td>NaN</td>\n",
              "      <td>HomemAdulto</td>\n",
              "    </tr>\n",
              "    <tr>\n",
              "      <th>1308</th>\n",
              "      <td>NaN</td>\n",
              "      <td>HomemAdulto</td>\n",
              "    </tr>\n",
              "    <tr>\n",
              "      <th>1309</th>\n",
              "      <td>1.0</td>\n",
              "      <td>Menino</td>\n",
              "    </tr>\n",
              "  </tbody>\n",
              "</table>\n",
              "<p>1309 rows × 2 columns</p>\n",
              "</div>"
            ],
            "text/plain": [
              "             SobrevivenciaGrupo       Titulo\n",
              "PassengerId                                 \n",
              "1                           NaN  HomemAdulto\n",
              "2                           1.0       Casada\n",
              "3                           1.0     Solteira\n",
              "4                           1.0       Casada\n",
              "5                           1.0  HomemAdulto\n",
              "...                         ...          ...\n",
              "1305                        NaN  HomemAdulto\n",
              "1306                        NaN       Outros\n",
              "1307                        NaN  HomemAdulto\n",
              "1308                        NaN  HomemAdulto\n",
              "1309                        1.0       Menino\n",
              "\n",
              "[1309 rows x 2 columns]"
            ]
          },
          "metadata": {
            "tags": []
          },
          "execution_count": 76
        }
      ]
    },
    {
      "cell_type": "code",
      "metadata": {
        "id": "PaiQzi_PCQ1K"
      },
      "source": [
        "for idx, _ in data.iterrows():\r\n",
        "  if data['Titulo'].at[idx] == 'HomemAdulto':\r\n",
        "    data['SobrevivenciaGrupo'].at[idx] = 0"
      ],
      "execution_count": 77,
      "outputs": []
    },
    {
      "cell_type": "code",
      "metadata": {
        "id": "p9shRFSYCQ1K",
        "colab": {
          "base_uri": "https://localhost:8080/"
        },
        "outputId": "1a5fef26-9743-4265-d751-1bf22c678b3f"
      },
      "source": [
        "data['SobrevivenciaGrupo'].isnull().sum()"
      ],
      "execution_count": 78,
      "outputs": [
        {
          "output_type": "execute_result",
          "data": {
            "text/plain": [
              "119"
            ]
          },
          "metadata": {
            "tags": []
          },
          "execution_count": 78
        }
      ]
    },
    {
      "cell_type": "code",
      "metadata": {
        "id": "qSWsijhMOYmE"
      },
      "source": [
        "data['SobrevivenciaGrupo'].fillna(0, inplace=True)"
      ],
      "execution_count": 79,
      "outputs": []
    },
    {
      "cell_type": "code",
      "metadata": {
        "id": "Uy2wHvKiCQ1K",
        "colab": {
          "base_uri": "https://localhost:8080/"
        },
        "outputId": "2b33c328-947d-4e75-b069-a5b418a1a95c"
      },
      "source": [
        "data['SobrevivenciaGrupo'].isnull().sum()"
      ],
      "execution_count": 80,
      "outputs": [
        {
          "output_type": "execute_result",
          "data": {
            "text/plain": [
              "0"
            ]
          },
          "metadata": {
            "tags": []
          },
          "execution_count": 80
        }
      ]
    },
    {
      "cell_type": "markdown",
      "metadata": {
        "id": "X18FpGjbCQ1L"
      },
      "source": [
        "###  Grupos de Mulheres e Criancas onde todos morreram juntos"
      ]
    },
    {
      "cell_type": "code",
      "metadata": {
        "id": "RurNUchOCQ1L",
        "colab": {
          "base_uri": "https://localhost:8080/"
        },
        "outputId": "ffb8c12d-e90c-4cac-abe7-2546a31969d8"
      },
      "source": [
        "data[['Sobrenome','Titulo']].loc[(data['SobrevivenciaGrupo']==0)\\\r\n",
        "      & (data['TamanhoGrupo']>1)]\\\r\n",
        "      .loc[(data['Sexo']=='mulher') | (data['Titulo']=='Menino')]['Sobrenome'].unique()"
      ],
      "execution_count": 81,
      "outputs": [
        {
          "output_type": "execute_result",
          "data": {
            "text/plain": [
              "array(['Palsson', 'Rice', 'Vander Planke', 'Panula', 'Goodwin', 'Skoog',\n",
              "       'Zabour', 'Jussila', 'Boulos', 'Ford', 'Sage', 'Lefebre', 'Strom',\n",
              "       'Barbara', 'Van Impe', 'Bourke'], dtype=object)"
            ]
          },
          "metadata": {
            "tags": []
          },
          "execution_count": 81
        }
      ]
    },
    {
      "cell_type": "markdown",
      "metadata": {
        "id": "dGwCIxthCQ1L"
      },
      "source": [
        "### Quantidade de Pessoas (morreram)"
      ]
    },
    {
      "cell_type": "code",
      "metadata": {
        "id": "PKBQPMYACQ1M",
        "colab": {
          "base_uri": "https://localhost:8080/"
        },
        "outputId": "0b000f74-766c-4879-8b51-db1c07c33ce1"
      },
      "source": [
        "data[['Sobrenome','Titulo', 'Sobreviveu']].loc[(data['SobrevivenciaGrupo']==0)\\\r\n",
        "      & (data['TamanhoGrupo']>1)]\\\r\n",
        "      .loc[(data['Sexo']=='mulher') | (data['Titulo']=='Menino')]['Sobreviveu'].count()"
      ],
      "execution_count": 82,
      "outputs": [
        {
          "output_type": "execute_result",
          "data": {
            "text/plain": [
              "50"
            ]
          },
          "metadata": {
            "tags": []
          },
          "execution_count": 82
        }
      ]
    },
    {
      "cell_type": "markdown",
      "metadata": {
        "id": "Qlz3Z4bSCQ1M"
      },
      "source": [
        "###  Grupos de Mulheres e Criancas onde todos sobreviveram juntos"
      ]
    },
    {
      "cell_type": "code",
      "metadata": {
        "id": "3dw0riqZCQ1M",
        "colab": {
          "base_uri": "https://localhost:8080/"
        },
        "outputId": "fa33dec8-1ac2-4ecc-d228-e0fa1265239d"
      },
      "source": [
        "data[['Sobrenome','Titulo']].loc[(data['SobrevivenciaGrupo']==1)\\\r\n",
        "      & (data['TamanhoGrupo']>1)]\\\r\n",
        "      .loc[(data['Sexo']=='mulher') | (data['Titulo']=='Menino')]['Sobrenome'].unique()"
      ],
      "execution_count": 83,
      "outputs": [
        {
          "output_type": "execute_result",
          "data": {
            "text/plain": [
              "array(['Johnson', 'Sandstrom', 'Nicola-Yarred', 'Laroche', 'Harper',\n",
              "       'West', 'Moubarek', 'Caldwell', 'Fortune', 'Doling', 'Peter',\n",
              "       'Goldsmith', 'Becker', 'Navratil', 'Brown', 'Newell', 'Collyer',\n",
              "       'Murphy', 'Hamalainen', 'Graham', 'Mellinger', 'Kelly', 'Hays',\n",
              "       'Ryerson', 'Wick', 'Hippach', 'Coutts', 'Richards', 'Hart',\n",
              "       'Baclini', 'Quick', 'Taussig', 'Herman', 'Moor'], dtype=object)"
            ]
          },
          "metadata": {
            "tags": []
          },
          "execution_count": 83
        }
      ]
    },
    {
      "cell_type": "markdown",
      "metadata": {
        "id": "CQUyR6H2CQ1N"
      },
      "source": [
        "### Quantidade de Pessoas (sobreviveram)"
      ]
    },
    {
      "cell_type": "code",
      "metadata": {
        "id": "GNS2IhC9CQ1N",
        "colab": {
          "base_uri": "https://localhost:8080/"
        },
        "outputId": "045229c5-656f-4804-f70f-e0563c8dfecf"
      },
      "source": [
        "data[['Sobrenome','Titulo', 'Sobreviveu']].loc[(data['SobrevivenciaGrupo']==1)\\\r\n",
        "      & (data['TamanhoGrupo']>1)]\\\r\n",
        "      .loc[(data['Sexo']=='mulher') | (data['Titulo']=='Menino')]['Sobreviveu'].count()"
      ],
      "execution_count": 84,
      "outputs": [
        {
          "output_type": "execute_result",
          "data": {
            "text/plain": [
              "74"
            ]
          },
          "metadata": {
            "tags": []
          },
          "execution_count": 84
        }
      ]
    },
    {
      "cell_type": "markdown",
      "metadata": {
        "id": "j0_XwkSyCQ1O"
      },
      "source": [
        "###  Grupos de Mulheres e Criancas com sobrevivência mista"
      ]
    },
    {
      "cell_type": "code",
      "metadata": {
        "id": "MBD7L6mJCQ1O",
        "colab": {
          "base_uri": "https://localhost:8080/"
        },
        "outputId": "8054e9ae-9cf3-4205-d057-66a45c410334"
      },
      "source": [
        "data[['Sobrenome','Titulo']].loc[(data['SobrevivenciaGrupo']>0)\\\r\n",
        "                                 &(data['SobrevivenciaGrupo']<1)\\\r\n",
        "                                 & (data['TamanhoGrupo']>1)]\\\r\n",
        "      .loc[(data['Sexo']=='mulher') | (data['Titulo']=='Menino')]['Sobrenome'].unique()"
      ],
      "execution_count": 85,
      "outputs": [
        {
          "output_type": "execute_result",
          "data": {
            "text/plain": [
              "array(['Asplund', 'Andersson', 'Allison', 'Carter'], dtype=object)"
            ]
          },
          "metadata": {
            "tags": []
          },
          "execution_count": 85
        }
      ]
    },
    {
      "cell_type": "markdown",
      "metadata": {
        "id": "EqJ4X_XXCQ1O"
      },
      "source": [
        "### Quantidade de Pessoas (sobrevivência mista)"
      ]
    },
    {
      "cell_type": "code",
      "metadata": {
        "id": "OwpwPKlACQ1P",
        "colab": {
          "base_uri": "https://localhost:8080/"
        },
        "outputId": "1332f5fe-0f9a-4ea0-c37b-37cb58d0af35"
      },
      "source": [
        "data[['Sobrenome','Titulo', 'Sobreviveu']].loc[(data['SobrevivenciaGrupo']>0)\\\r\n",
        "                                 &(data['SobrevivenciaGrupo']<1)\\\r\n",
        "                                 & (data['TamanhoGrupo']>1)]\\\r\n",
        "  .loc[(data['Sexo']=='mulher') | (data['Titulo']=='Menino')]\\\r\n",
        "  ['Sobreviveu'].count()"
      ],
      "execution_count": 86,
      "outputs": [
        {
          "output_type": "execute_result",
          "data": {
            "text/plain": [
              "18"
            ]
          },
          "metadata": {
            "tags": []
          },
          "execution_count": 86
        }
      ]
    },
    {
      "cell_type": "markdown",
      "metadata": {
        "id": "HwBi-DgHCQ1Q"
      },
      "source": [
        "### Criar Recurso ExpecativaDeVida"
      ]
    },
    {
      "cell_type": "code",
      "metadata": {
        "id": "7NUTSHeKWj4A"
      },
      "source": [
        "#viver\r\n",
        "#morrer\r\n",
        "#desconhecida"
      ],
      "execution_count": 87,
      "outputs": []
    },
    {
      "cell_type": "code",
      "metadata": {
        "id": "p0N2Nc4oCQ1R"
      },
      "source": [
        "data['ExpectativaDeVida'] = ''\r\n",
        "for idx, _ in data.iterrows():\r\n",
        "  if (data['SobrevivenciaGrupo'].at[idx]==0) & (data['TamanhoGrupo'].at[idx] > 1):\r\n",
        "    data['ExpectativaDeVida'].at[idx] = 'morrer'\r\n",
        "  elif (data['SobrevivenciaGrupo'].at[idx]==1) & (data['TamanhoGrupo'].at[idx] > 1):\r\n",
        "    data['ExpectativaDeVida'].at[idx] = 'viver'\r\n",
        "  else:\r\n",
        "     data['ExpectativaDeVida'].at[idx] = 'desconhecida'\r\n",
        "\r\n"
      ],
      "execution_count": 88,
      "outputs": []
    },
    {
      "cell_type": "code",
      "metadata": {
        "id": "yp9MsOQ4CQ1R",
        "colab": {
          "base_uri": "https://localhost:8080/",
          "height": 173
        },
        "outputId": "2fda3293-c758-46f6-f65c-af7e74433824"
      },
      "source": [
        "pd.crosstab(data['ExpectativaDeVida'], data['Sobreviveu'])"
      ],
      "execution_count": 89,
      "outputs": [
        {
          "output_type": "execute_result",
          "data": {
            "text/html": [
              "<div>\n",
              "<style scoped>\n",
              "    .dataframe tbody tr th:only-of-type {\n",
              "        vertical-align: middle;\n",
              "    }\n",
              "\n",
              "    .dataframe tbody tr th {\n",
              "        vertical-align: top;\n",
              "    }\n",
              "\n",
              "    .dataframe thead th {\n",
              "        text-align: right;\n",
              "    }\n",
              "</style>\n",
              "<table border=\"1\" class=\"dataframe\">\n",
              "  <thead>\n",
              "    <tr style=\"text-align: right;\">\n",
              "      <th>Sobreviveu</th>\n",
              "      <th>0.0</th>\n",
              "      <th>1.0</th>\n",
              "    </tr>\n",
              "    <tr>\n",
              "      <th>ExpectativaDeVida</th>\n",
              "      <th></th>\n",
              "      <th></th>\n",
              "    </tr>\n",
              "  </thead>\n",
              "  <tbody>\n",
              "    <tr>\n",
              "      <th>desconhecida</th>\n",
              "      <td>498</td>\n",
              "      <td>268</td>\n",
              "    </tr>\n",
              "    <tr>\n",
              "      <th>morrer</th>\n",
              "      <td>50</td>\n",
              "      <td>0</td>\n",
              "    </tr>\n",
              "    <tr>\n",
              "      <th>viver</th>\n",
              "      <td>1</td>\n",
              "      <td>74</td>\n",
              "    </tr>\n",
              "  </tbody>\n",
              "</table>\n",
              "</div>"
            ],
            "text/plain": [
              "Sobreviveu         0.0  1.0\n",
              "ExpectativaDeVida          \n",
              "desconhecida       498  268\n",
              "morrer              50    0\n",
              "viver                1   74"
            ]
          },
          "metadata": {
            "tags": []
          },
          "execution_count": 89
        }
      ]
    },
    {
      "cell_type": "markdown",
      "metadata": {
        "id": "dPjV0MFYCQ1U"
      },
      "source": [
        "### Poderíamos linkar com o Bilhete\n",
        "Uma vez que não necessariamente esses grupos são da mesma família, e nem todos que possuem o mesmo sobrenome são da mesma família. Porém, existem divergências ao análisar apenas os bilhetes. O ideal seria combiná-los para gerar ainda mais insights."
      ]
    },
    {
      "cell_type": "markdown",
      "metadata": {
        "id": "wWDX5wXhCQ1W"
      },
      "source": [
        "<a name=\"dummy\"></a>"
      ]
    },
    {
      "cell_type": "markdown",
      "metadata": {
        "id": "a3csU32kCQ1W"
      },
      "source": [
        "### Remover Colunas que não serão mais utilizadas"
      ]
    },
    {
      "cell_type": "code",
      "metadata": {
        "id": "jOKl_7DPCQ1W",
        "colab": {
          "base_uri": "https://localhost:8080/"
        },
        "outputId": "080314fa-1cb5-4774-9c40-9498cce135b4"
      },
      "source": [
        "data.isnull().sum()"
      ],
      "execution_count": 90,
      "outputs": [
        {
          "output_type": "execute_result",
          "data": {
            "text/plain": [
              "Idade                 263\n",
              "Embarque                0\n",
              "Tarifa                  1\n",
              "Nome                    0\n",
              "PaisFilhos              0\n",
              "Classe                  0\n",
              "Sexo                    0\n",
              "IrmaosConjuge           0\n",
              "Sobreviveu            418\n",
              "Bilhete                 0\n",
              "Titulo                  0\n",
              "Sobrenome               0\n",
              "TamanhoGrupo            0\n",
              "SobrevivenciaGrupo      0\n",
              "ExpectativaDeVida       0\n",
              "dtype: int64"
            ]
          },
          "metadata": {
            "tags": []
          },
          "execution_count": 90
        }
      ]
    },
    {
      "cell_type": "code",
      "metadata": {
        "id": "156SfAsDCQ1X"
      },
      "source": [
        "data.drop(['Nome', 'Bilhete', 'Sobrenome'], axis=1, inplace=True)"
      ],
      "execution_count": 91,
      "outputs": []
    },
    {
      "cell_type": "markdown",
      "metadata": {
        "id": "Pl5XnrqqCQ1X"
      },
      "source": [
        "# Variáveis Dummy\n",
        "\n",
        "<br>\n",
        "\n",
        "[início](#topo)"
      ]
    },
    {
      "cell_type": "code",
      "metadata": {
        "id": "gH6RlW7OCQ1c",
        "colab": {
          "base_uri": "https://localhost:8080/",
          "height": 173
        },
        "outputId": "d55cb79e-7cdb-4d15-a661-3f30fb177216"
      },
      "source": [
        "data.describe(include='O')"
      ],
      "execution_count": 92,
      "outputs": [
        {
          "output_type": "execute_result",
          "data": {
            "text/html": [
              "<div>\n",
              "<style scoped>\n",
              "    .dataframe tbody tr th:only-of-type {\n",
              "        vertical-align: middle;\n",
              "    }\n",
              "\n",
              "    .dataframe tbody tr th {\n",
              "        vertical-align: top;\n",
              "    }\n",
              "\n",
              "    .dataframe thead th {\n",
              "        text-align: right;\n",
              "    }\n",
              "</style>\n",
              "<table border=\"1\" class=\"dataframe\">\n",
              "  <thead>\n",
              "    <tr style=\"text-align: right;\">\n",
              "      <th></th>\n",
              "      <th>Embarque</th>\n",
              "      <th>Sexo</th>\n",
              "      <th>Titulo</th>\n",
              "      <th>ExpectativaDeVida</th>\n",
              "    </tr>\n",
              "  </thead>\n",
              "  <tbody>\n",
              "    <tr>\n",
              "      <th>count</th>\n",
              "      <td>1309</td>\n",
              "      <td>1309</td>\n",
              "      <td>1309</td>\n",
              "      <td>1309</td>\n",
              "    </tr>\n",
              "    <tr>\n",
              "      <th>unique</th>\n",
              "      <td>3</td>\n",
              "      <td>2</td>\n",
              "      <td>5</td>\n",
              "      <td>3</td>\n",
              "    </tr>\n",
              "    <tr>\n",
              "      <th>top</th>\n",
              "      <td>S</td>\n",
              "      <td>homem</td>\n",
              "      <td>HomemAdulto</td>\n",
              "      <td>desconhecida</td>\n",
              "    </tr>\n",
              "    <tr>\n",
              "      <th>freq</th>\n",
              "      <td>916</td>\n",
              "      <td>843</td>\n",
              "      <td>757</td>\n",
              "      <td>1159</td>\n",
              "    </tr>\n",
              "  </tbody>\n",
              "</table>\n",
              "</div>"
            ],
            "text/plain": [
              "       Embarque   Sexo       Titulo ExpectativaDeVida\n",
              "count      1309   1309         1309              1309\n",
              "unique        3      2            5                 3\n",
              "top           S  homem  HomemAdulto      desconhecida\n",
              "freq        916    843          757              1159"
            ]
          },
          "metadata": {
            "tags": []
          },
          "execution_count": 92
        }
      ]
    },
    {
      "cell_type": "code",
      "metadata": {
        "id": "oqqB5BlMCQ1c"
      },
      "source": [
        "data = pd.get_dummies(data, columns=['Classe', \r\n",
        "                                     'Embarque', \r\n",
        "                                     'Titulo', \r\n",
        "                                     'ExpectativaDeVida', \r\n",
        "                                     'Sexo'], drop_first=True)"
      ],
      "execution_count": 93,
      "outputs": []
    },
    {
      "cell_type": "code",
      "metadata": {
        "id": "3nZzPII4CQ1d",
        "colab": {
          "base_uri": "https://localhost:8080/"
        },
        "outputId": "cc3c56ec-b70f-4ffc-d427-6dbaf5c6e60c"
      },
      "source": [
        "data.shape"
      ],
      "execution_count": 94,
      "outputs": [
        {
          "output_type": "execute_result",
          "data": {
            "text/plain": [
              "(1309, 18)"
            ]
          },
          "metadata": {
            "tags": []
          },
          "execution_count": 94
        }
      ]
    },
    {
      "cell_type": "markdown",
      "metadata": {
        "id": "I-zlkQS8CQ1d"
      },
      "source": [
        "# Usar Predição da Idade\n",
        "\n",
        "<br>\n",
        "\n",
        "[início](#topo)"
      ]
    },
    {
      "cell_type": "code",
      "metadata": {
        "id": "L7fXWo3vCQ1d",
        "colab": {
          "resources": {
            "http://localhost:8080/nbextensions/google.colab/files.js": {
              "data": "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",
              "ok": true,
              "headers": [
                [
                  "content-type",
                  "application/javascript"
                ]
              ],
              "status": 200,
              "status_text": ""
            }
          },
          "base_uri": "https://localhost:8080/",
          "height": 89
        },
        "outputId": "45ac075c-2573-46eb-bd27-f3fa062863df"
      },
      "source": [
        "from google.colab import files\r\n",
        "uploaded3 = files.upload()"
      ],
      "execution_count": 103,
      "outputs": [
        {
          "output_type": "display_data",
          "data": {
            "text/html": [
              "\n",
              "     <input type=\"file\" id=\"files-5c116411-c18b-4d22-8eaa-a8dde0ab5ec6\" name=\"files[]\" multiple disabled\n",
              "        style=\"border:none\" />\n",
              "     <output id=\"result-5c116411-c18b-4d22-8eaa-a8dde0ab5ec6\">\n",
              "      Upload widget is only available when the cell has been executed in the\n",
              "      current browser session. Please rerun this cell to enable.\n",
              "      </output>\n",
              "      <script src=\"/nbextensions/google.colab/files.js\"></script> "
            ],
            "text/plain": [
              "<IPython.core.display.HTML object>"
            ]
          },
          "metadata": {
            "tags": []
          }
        },
        {
          "output_type": "stream",
          "text": [
            "Saving idade_completa.csv to idade_completa.csv\n"
          ],
          "name": "stdout"
        }
      ]
    },
    {
      "cell_type": "code",
      "metadata": {
        "id": "GFzGo6D6CQ1e"
      },
      "source": [
        "idade = pd.read_csv(io.BytesIO(uploaded3['idade_completa.csv']))"
      ],
      "execution_count": 105,
      "outputs": []
    },
    {
      "cell_type": "code",
      "metadata": {
        "id": "0jxr4hV-CQ1e",
        "colab": {
          "base_uri": "https://localhost:8080/",
          "height": 419
        },
        "outputId": "274a1c00-2e06-471f-d4c1-8632c7d06534"
      },
      "source": [
        "idade"
      ],
      "execution_count": 106,
      "outputs": [
        {
          "output_type": "execute_result",
          "data": {
            "text/html": [
              "<div>\n",
              "<style scoped>\n",
              "    .dataframe tbody tr th:only-of-type {\n",
              "        vertical-align: middle;\n",
              "    }\n",
              "\n",
              "    .dataframe tbody tr th {\n",
              "        vertical-align: top;\n",
              "    }\n",
              "\n",
              "    .dataframe thead th {\n",
              "        text-align: right;\n",
              "    }\n",
              "</style>\n",
              "<table border=\"1\" class=\"dataframe\">\n",
              "  <thead>\n",
              "    <tr style=\"text-align: right;\">\n",
              "      <th></th>\n",
              "      <th>IdPassageiro</th>\n",
              "      <th>Idade</th>\n",
              "    </tr>\n",
              "  </thead>\n",
              "  <tbody>\n",
              "    <tr>\n",
              "      <th>0</th>\n",
              "      <td>1</td>\n",
              "      <td>22.000000</td>\n",
              "    </tr>\n",
              "    <tr>\n",
              "      <th>1</th>\n",
              "      <td>2</td>\n",
              "      <td>38.000000</td>\n",
              "    </tr>\n",
              "    <tr>\n",
              "      <th>2</th>\n",
              "      <td>3</td>\n",
              "      <td>26.000000</td>\n",
              "    </tr>\n",
              "    <tr>\n",
              "      <th>3</th>\n",
              "      <td>4</td>\n",
              "      <td>35.000000</td>\n",
              "    </tr>\n",
              "    <tr>\n",
              "      <th>4</th>\n",
              "      <td>5</td>\n",
              "      <td>35.000000</td>\n",
              "    </tr>\n",
              "    <tr>\n",
              "      <th>...</th>\n",
              "      <td>...</td>\n",
              "      <td>...</td>\n",
              "    </tr>\n",
              "    <tr>\n",
              "      <th>1304</th>\n",
              "      <td>1300</td>\n",
              "      <td>25.139931</td>\n",
              "    </tr>\n",
              "    <tr>\n",
              "      <th>1305</th>\n",
              "      <td>1302</td>\n",
              "      <td>25.139668</td>\n",
              "    </tr>\n",
              "    <tr>\n",
              "      <th>1306</th>\n",
              "      <td>1305</td>\n",
              "      <td>29.076067</td>\n",
              "    </tr>\n",
              "    <tr>\n",
              "      <th>1307</th>\n",
              "      <td>1308</td>\n",
              "      <td>29.076067</td>\n",
              "    </tr>\n",
              "    <tr>\n",
              "      <th>1308</th>\n",
              "      <td>1309</td>\n",
              "      <td>1.061593</td>\n",
              "    </tr>\n",
              "  </tbody>\n",
              "</table>\n",
              "<p>1309 rows × 2 columns</p>\n",
              "</div>"
            ],
            "text/plain": [
              "      IdPassageiro      Idade\n",
              "0                1  22.000000\n",
              "1                2  38.000000\n",
              "2                3  26.000000\n",
              "3                4  35.000000\n",
              "4                5  35.000000\n",
              "...            ...        ...\n",
              "1304          1300  25.139931\n",
              "1305          1302  25.139668\n",
              "1306          1305  29.076067\n",
              "1307          1308  29.076067\n",
              "1308          1309   1.061593\n",
              "\n",
              "[1309 rows x 2 columns]"
            ]
          },
          "metadata": {
            "tags": []
          },
          "execution_count": 106
        }
      ]
    },
    {
      "cell_type": "code",
      "metadata": {
        "id": "JX3R-oUECQ1e"
      },
      "source": [
        "idade.set_index('IdPassageiro', inplace=True)"
      ],
      "execution_count": 107,
      "outputs": []
    },
    {
      "cell_type": "code",
      "metadata": {
        "id": "KiYXeDHiCQ1f",
        "colab": {
          "base_uri": "https://localhost:8080/",
          "height": 450
        },
        "outputId": "fd8f5265-3246-4c74-a8a1-123a5a8645ab"
      },
      "source": [
        "idade"
      ],
      "execution_count": 108,
      "outputs": [
        {
          "output_type": "execute_result",
          "data": {
            "text/html": [
              "<div>\n",
              "<style scoped>\n",
              "    .dataframe tbody tr th:only-of-type {\n",
              "        vertical-align: middle;\n",
              "    }\n",
              "\n",
              "    .dataframe tbody tr th {\n",
              "        vertical-align: top;\n",
              "    }\n",
              "\n",
              "    .dataframe thead th {\n",
              "        text-align: right;\n",
              "    }\n",
              "</style>\n",
              "<table border=\"1\" class=\"dataframe\">\n",
              "  <thead>\n",
              "    <tr style=\"text-align: right;\">\n",
              "      <th></th>\n",
              "      <th>Idade</th>\n",
              "    </tr>\n",
              "    <tr>\n",
              "      <th>IdPassageiro</th>\n",
              "      <th></th>\n",
              "    </tr>\n",
              "  </thead>\n",
              "  <tbody>\n",
              "    <tr>\n",
              "      <th>1</th>\n",
              "      <td>22.000000</td>\n",
              "    </tr>\n",
              "    <tr>\n",
              "      <th>2</th>\n",
              "      <td>38.000000</td>\n",
              "    </tr>\n",
              "    <tr>\n",
              "      <th>3</th>\n",
              "      <td>26.000000</td>\n",
              "    </tr>\n",
              "    <tr>\n",
              "      <th>4</th>\n",
              "      <td>35.000000</td>\n",
              "    </tr>\n",
              "    <tr>\n",
              "      <th>5</th>\n",
              "      <td>35.000000</td>\n",
              "    </tr>\n",
              "    <tr>\n",
              "      <th>...</th>\n",
              "      <td>...</td>\n",
              "    </tr>\n",
              "    <tr>\n",
              "      <th>1300</th>\n",
              "      <td>25.139931</td>\n",
              "    </tr>\n",
              "    <tr>\n",
              "      <th>1302</th>\n",
              "      <td>25.139668</td>\n",
              "    </tr>\n",
              "    <tr>\n",
              "      <th>1305</th>\n",
              "      <td>29.076067</td>\n",
              "    </tr>\n",
              "    <tr>\n",
              "      <th>1308</th>\n",
              "      <td>29.076067</td>\n",
              "    </tr>\n",
              "    <tr>\n",
              "      <th>1309</th>\n",
              "      <td>1.061593</td>\n",
              "    </tr>\n",
              "  </tbody>\n",
              "</table>\n",
              "<p>1309 rows × 1 columns</p>\n",
              "</div>"
            ],
            "text/plain": [
              "                  Idade\n",
              "IdPassageiro           \n",
              "1             22.000000\n",
              "2             38.000000\n",
              "3             26.000000\n",
              "4             35.000000\n",
              "5             35.000000\n",
              "...                 ...\n",
              "1300          25.139931\n",
              "1302          25.139668\n",
              "1305          29.076067\n",
              "1308          29.076067\n",
              "1309           1.061593\n",
              "\n",
              "[1309 rows x 1 columns]"
            ]
          },
          "metadata": {
            "tags": []
          },
          "execution_count": 108
        }
      ]
    },
    {
      "cell_type": "code",
      "metadata": {
        "id": "NAjQVI4WCQ1f"
      },
      "source": [
        ""
      ],
      "execution_count": 94,
      "outputs": []
    },
    {
      "cell_type": "code",
      "metadata": {
        "id": "NlRKGorKCQ1f"
      },
      "source": [
        ""
      ],
      "execution_count": 94,
      "outputs": []
    },
    {
      "cell_type": "markdown",
      "metadata": {
        "id": "3-ZHrc1WCQ1g"
      },
      "source": [
        "## Preencher Tarifa Faltando Com a Média\n",
        "\n",
        "<br>\n",
        "\n",
        "[início](#topo)"
      ]
    },
    {
      "cell_type": "code",
      "metadata": {
        "id": "g3FzuFqECQ1g"
      },
      "source": [
        ""
      ],
      "execution_count": 94,
      "outputs": []
    },
    {
      "cell_type": "code",
      "metadata": {
        "id": "8to6mMaqCQ1g"
      },
      "source": [
        ""
      ],
      "execution_count": 94,
      "outputs": []
    },
    {
      "cell_type": "code",
      "metadata": {
        "id": "XAZk93JjCQ1h"
      },
      "source": [
        ""
      ],
      "execution_count": 94,
      "outputs": []
    },
    {
      "cell_type": "markdown",
      "metadata": {
        "id": "V-AESJdMCQ1h"
      },
      "source": [
        "<a name=\"faixaetaria\"></a>"
      ]
    },
    {
      "cell_type": "markdown",
      "metadata": {
        "id": "8FJ2nFY2CQ1h"
      },
      "source": [
        "# Criar Faixa Etária\n",
        "\n",
        "<br>\n",
        "\n",
        "[início](#topo)"
      ]
    },
    {
      "cell_type": "code",
      "metadata": {
        "id": "wdFXxjPjCQ1i"
      },
      "source": [
        ""
      ],
      "execution_count": 94,
      "outputs": []
    },
    {
      "cell_type": "code",
      "metadata": {
        "id": "MQiz1pyBCQ1i"
      },
      "source": [
        ""
      ],
      "execution_count": 94,
      "outputs": []
    },
    {
      "cell_type": "markdown",
      "metadata": {
        "id": "ROxQo-uiCQ1i"
      },
      "source": [
        " <a name=\"dummyfe\"></a>"
      ]
    },
    {
      "cell_type": "markdown",
      "metadata": {
        "id": "oBI9TI7vCQ1j"
      },
      "source": [
        "### Dummy Faixa Etaria"
      ]
    },
    {
      "cell_type": "code",
      "metadata": {
        "id": "-hJHsoZXCQ1j"
      },
      "source": [
        ""
      ],
      "execution_count": 94,
      "outputs": []
    },
    {
      "cell_type": "code",
      "metadata": {
        "id": "_rLsM3FvCQ1j"
      },
      "source": [
        ""
      ],
      "execution_count": 94,
      "outputs": []
    },
    {
      "cell_type": "markdown",
      "metadata": {
        "id": "LEX7uWHSCQ1l"
      },
      "source": [
        " <a name=\"familiares\"></a>"
      ]
    },
    {
      "cell_type": "markdown",
      "metadata": {
        "id": "UafCEAXECQ1m"
      },
      "source": [
        "### Criar Recurso \"Familiares\" _(Feature Engeneering)_ \n",
        "Baseados em IrmaosConjuge e PaisFilhos\n",
        "\n",
        "<br>\n",
        "\n",
        "[início](#topo)"
      ]
    },
    {
      "cell_type": "code",
      "metadata": {
        "id": "hqGovhTaCQ1n"
      },
      "source": [
        ""
      ],
      "execution_count": 94,
      "outputs": []
    },
    {
      "cell_type": "code",
      "metadata": {
        "id": "9KJ6ETIeCQ1n"
      },
      "source": [
        ""
      ],
      "execution_count": 94,
      "outputs": []
    },
    {
      "cell_type": "markdown",
      "metadata": {
        "id": "WmZEK8g7CQ1o"
      },
      "source": [
        " <a name=\"sozinho\"></a>"
      ]
    },
    {
      "cell_type": "markdown",
      "metadata": {
        "id": "ds6MjAy8CQ1p"
      },
      "source": [
        "### Criar Parâmetro \"Sozinho\"_(Feature Engeneering)_\n",
        "Pessoa que não está com nenhum familiar\n",
        "\n",
        "<br>\n",
        "\n",
        "[início](#topo)"
      ]
    },
    {
      "cell_type": "code",
      "metadata": {
        "id": "Wbime2K5CQ1p"
      },
      "source": [
        ""
      ],
      "execution_count": 94,
      "outputs": []
    },
    {
      "cell_type": "code",
      "metadata": {
        "id": "y8S3qM-OCQ1q"
      },
      "source": [
        ""
      ],
      "execution_count": 94,
      "outputs": []
    },
    {
      "cell_type": "code",
      "metadata": {
        "id": "D99hktHLCQ1q"
      },
      "source": [
        ""
      ],
      "execution_count": 94,
      "outputs": []
    },
    {
      "cell_type": "markdown",
      "metadata": {
        "id": "RYE1Lee7CQ1r"
      },
      "source": [
        "## Atualizar train e test "
      ]
    },
    {
      "cell_type": "code",
      "metadata": {
        "id": "OLeBl2DfCQ1r"
      },
      "source": [
        ""
      ],
      "execution_count": 94,
      "outputs": []
    },
    {
      "cell_type": "code",
      "metadata": {
        "id": "UNZ21NKuCQ1s"
      },
      "source": [
        ""
      ],
      "execution_count": 94,
      "outputs": []
    },
    {
      "cell_type": "code",
      "metadata": {
        "id": "tQnjv8pvCQ1s"
      },
      "source": [
        ""
      ],
      "execution_count": 94,
      "outputs": []
    },
    {
      "cell_type": "code",
      "metadata": {
        "id": "V-ZZsbICCQ1t"
      },
      "source": [
        ""
      ],
      "execution_count": 94,
      "outputs": []
    },
    {
      "cell_type": "code",
      "metadata": {
        "id": "pXHrLVb6CQ1t"
      },
      "source": [
        ""
      ],
      "execution_count": 94,
      "outputs": []
    },
    {
      "cell_type": "code",
      "metadata": {
        "id": "vHVUtATJCQ1u"
      },
      "source": [
        ""
      ],
      "execution_count": 94,
      "outputs": []
    },
    {
      "cell_type": "code",
      "metadata": {
        "id": "qHZO9FOECQ1u"
      },
      "source": [
        ""
      ],
      "execution_count": 94,
      "outputs": []
    },
    {
      "cell_type": "code",
      "metadata": {
        "id": "RlzHLKJWCQ1v"
      },
      "source": [
        ""
      ],
      "execution_count": 94,
      "outputs": []
    },
    {
      "cell_type": "markdown",
      "metadata": {
        "id": "6oF8NFfyCQ1v"
      },
      "source": [
        "## Utilizar train para treinar o modelo"
      ]
    },
    {
      "cell_type": "code",
      "metadata": {
        "id": "VvxGhWMjCQ1w"
      },
      "source": [
        ""
      ],
      "execution_count": 94,
      "outputs": []
    },
    {
      "cell_type": "code",
      "metadata": {
        "id": "yfChW1SrCQ1w"
      },
      "source": [
        ""
      ],
      "execution_count": 94,
      "outputs": []
    },
    {
      "cell_type": "code",
      "metadata": {
        "id": "IyLxxgc3CQ1x"
      },
      "source": [
        ""
      ],
      "execution_count": 94,
      "outputs": []
    },
    {
      "cell_type": "markdown",
      "metadata": {
        "id": "NILCF8xOCQ1x"
      },
      "source": [
        "### Escolher colunas"
      ]
    },
    {
      "cell_type": "code",
      "metadata": {
        "id": "PBb18uxUCQ1x"
      },
      "source": [
        ""
      ],
      "execution_count": 94,
      "outputs": []
    },
    {
      "cell_type": "code",
      "metadata": {
        "id": "ElDIXmfFCQ1y"
      },
      "source": [
        ""
      ],
      "execution_count": 94,
      "outputs": []
    },
    {
      "cell_type": "code",
      "metadata": {
        "id": "hzY344l5CQ1y"
      },
      "source": [
        ""
      ],
      "execution_count": 94,
      "outputs": []
    },
    {
      "cell_type": "markdown",
      "metadata": {
        "id": "l_1AdRI1CQ1y"
      },
      "source": [
        "### Averiguando Shapes "
      ]
    },
    {
      "cell_type": "code",
      "metadata": {
        "id": "GOSPj2iGCQ1z"
      },
      "source": [
        ""
      ],
      "execution_count": 94,
      "outputs": []
    },
    {
      "cell_type": "markdown",
      "metadata": {
        "id": "PVegWyYXCQ1z"
      },
      "source": [
        "### Importar train_test_split para dividir e preparar para treino"
      ]
    },
    {
      "cell_type": "code",
      "metadata": {
        "id": "JHViSPR6CQ1z"
      },
      "source": [
        ""
      ],
      "execution_count": 94,
      "outputs": []
    },
    {
      "cell_type": "markdown",
      "metadata": {
        "id": "HxVXhF72CQ10"
      },
      "source": [
        "### Dividir 70% para treinar, 30% para testar"
      ]
    },
    {
      "cell_type": "code",
      "metadata": {
        "id": "Fb_LuEUmCQ11"
      },
      "source": [
        ""
      ],
      "execution_count": 94,
      "outputs": []
    },
    {
      "cell_type": "code",
      "metadata": {
        "id": "Nwu2bGVUCQ11"
      },
      "source": [
        ""
      ],
      "execution_count": 94,
      "outputs": []
    },
    {
      "cell_type": "code",
      "metadata": {
        "id": "UvHQhpMHCQ11"
      },
      "source": [
        ""
      ],
      "execution_count": 94,
      "outputs": []
    },
    {
      "cell_type": "markdown",
      "metadata": {
        "id": "uP2CnZF6CQ12"
      },
      "source": [
        "<a name=\"ml\"></a>"
      ]
    },
    {
      "cell_type": "markdown",
      "metadata": {
        "id": "dzZzqou3CQ12"
      },
      "source": [
        "# Machine Learning <a name=\"modelospred\"></a>\n",
        "\n",
        "<br>\n",
        "\n",
        "[início](#topo)"
      ]
    },
    {
      "cell_type": "markdown",
      "metadata": {
        "id": "0opCzKnECQ12"
      },
      "source": [
        "## Importando Modelos Preditivos"
      ]
    },
    {
      "cell_type": "code",
      "metadata": {
        "id": "ozly4KsaCQ13"
      },
      "source": [
        "from sklearn.ensemble import (AdaBoostClassifier, \n",
        "                              GradientBoostingClassifier, \n",
        "                              ExtraTreesClassifier,\n",
        "                              RandomForestClassifier)"
      ],
      "execution_count": 95,
      "outputs": []
    },
    {
      "cell_type": "code",
      "metadata": {
        "id": "FlVWgQRpCQ13"
      },
      "source": [
        "from sklearn.linear_model import LogisticRegression\n",
        "from sklearn.svm import SVC, LinearSVC\n",
        "from sklearn.neighbors import KNeighborsClassifier\n",
        "from sklearn.naive_bayes import GaussianNB\n",
        "from sklearn.linear_model import Perceptron\n",
        "from sklearn.linear_model import SGDClassifier\n",
        "from sklearn.tree import DecisionTreeClassifier"
      ],
      "execution_count": 96,
      "outputs": []
    },
    {
      "cell_type": "markdown",
      "metadata": {
        "id": "WV-I3G1nCQ14"
      },
      "source": [
        "<a name=\"LogisticRegression\"></a>"
      ]
    },
    {
      "cell_type": "markdown",
      "metadata": {
        "id": "591iKeJqCQ14"
      },
      "source": [
        "### Criar classe ModeloAuxiliar \n",
        "Uma classe modelo para evitar duplicação de códigos"
      ]
    },
    {
      "cell_type": "code",
      "metadata": {
        "id": "0C7c9XlMCQ15"
      },
      "source": [
        "class ModeloAuxiliar(object):\n",
        "    def __init__(self, clf, seed=123, params=None):\n",
        "        if params:\n",
        "            params['random_state'] = seed\n",
        "            self.clf = clf(**params)\n",
        "        else:\n",
        "            self.clf = clf()\n",
        "    def predict(self, x):\n",
        "        return self.clf.predict(x)\n",
        "    \n",
        "    def fit(self,x,y):\n",
        "        return self.clf.fit(x,y)\n",
        "    \n",
        "    def feature_importances(self,x,y):\n",
        "        return self.clf.fit(x,y).feature_importances_\n",
        "    \n",
        "    def score(self,x,y):\n",
        "        return self.clf.score(x,y)"
      ],
      "execution_count": 97,
      "outputs": []
    },
    {
      "cell_type": "code",
      "metadata": {
        "id": "TzwnI0qDCQ15"
      },
      "source": [
        "modelos = [{'nome': 'logreg',\n",
        "            'modelo': LogisticRegression},\n",
        "           {'nome': 'etree',\n",
        "            'modelo': ExtraTreesClassifier},\n",
        "           {'nome': 'gradboost',\n",
        "             'modelo': GradientBoostingClassifier}, \n",
        "           {'nome': 'adaboost',\n",
        "             'modelo': AdaBoostClassifier},\n",
        "           {'nome': 'SVC',\n",
        "            'modelo': SVC},\n",
        "           {'nome': 'KNN',\n",
        "            'modelo': KNeighborsClassifier},\n",
        "           {'nome': 'GaussianNB',\n",
        "            'modelo': GaussianNB},\n",
        "           {'nome': 'Perceptron',\n",
        "            'modelo': Perceptron},\n",
        "           {'nome': 'LinearSVC',\n",
        "            'modelo': LinearSVC},\n",
        "           {'nome': 'SGD',\n",
        "            'modelo': SGDClassifier},\n",
        "           {'nome': 'Dtree',\n",
        "            'modelo': DecisionTreeClassifier},\n",
        "           {'nome': 'RForest',\n",
        "            'modelo': RandomForestClassifier}\n",
        "          ]"
      ],
      "execution_count": 98,
      "outputs": []
    },
    {
      "cell_type": "code",
      "metadata": {
        "id": "x7FI1RQKCQ16"
      },
      "source": [
        ""
      ],
      "execution_count": 98,
      "outputs": []
    },
    {
      "cell_type": "code",
      "metadata": {
        "id": "N0YF_83ECQ16"
      },
      "source": [
        ""
      ],
      "execution_count": 98,
      "outputs": []
    },
    {
      "cell_type": "markdown",
      "metadata": {
        "id": "41LXQ6qpCQ16"
      },
      "source": [
        "<a name=\"ranking\"></a>"
      ]
    },
    {
      "cell_type": "markdown",
      "metadata": {
        "id": "IF0TGnt2CQ17"
      },
      "source": [
        "# Ranking de Modelos Por Score\n",
        "\n",
        "<br>\n",
        "\n",
        "[início](#topo)"
      ]
    },
    {
      "cell_type": "code",
      "metadata": {
        "id": "-5C9uJGFCQ17"
      },
      "source": [
        ""
      ],
      "execution_count": 98,
      "outputs": []
    },
    {
      "cell_type": "code",
      "metadata": {
        "id": "jmBRNzdQCQ17"
      },
      "source": [
        ""
      ],
      "execution_count": 98,
      "outputs": []
    },
    {
      "cell_type": "markdown",
      "metadata": {
        "id": "sOAA5h9cCQ18"
      },
      "source": [
        "<a name=\"cv\"></a>"
      ]
    },
    {
      "cell_type": "markdown",
      "metadata": {
        "id": "wMpxpYuLCQ18"
      },
      "source": [
        "# Validação Cruzada _(Cross-Validation)_\n",
        "\n",
        "<br>\n",
        "\n",
        "[início](#topo)"
      ]
    },
    {
      "cell_type": "code",
      "metadata": {
        "id": "ewUcmwQnCQ18"
      },
      "source": [
        "from sklearn.model_selection import KFold \n",
        "from sklearn.model_selection import cross_val_score \n",
        "from sklearn.model_selection import cross_val_predict "
      ],
      "execution_count": 99,
      "outputs": []
    },
    {
      "cell_type": "code",
      "metadata": {
        "id": "BagWV0woCQ19"
      },
      "source": [
        ""
      ],
      "execution_count": 99,
      "outputs": []
    },
    {
      "cell_type": "code",
      "metadata": {
        "id": "HQeYb3bpCQ19"
      },
      "source": [
        ""
      ],
      "execution_count": 99,
      "outputs": []
    },
    {
      "cell_type": "code",
      "metadata": {
        "id": "_SpZkMZWCQ19"
      },
      "source": [
        ""
      ],
      "execution_count": 99,
      "outputs": []
    },
    {
      "cell_type": "code",
      "metadata": {
        "id": "WomfmJrtCQ1-"
      },
      "source": [
        ""
      ],
      "execution_count": 99,
      "outputs": []
    },
    {
      "cell_type": "code",
      "metadata": {
        "id": "cx5fXRkECQ1-"
      },
      "source": [
        ""
      ],
      "execution_count": 99,
      "outputs": []
    },
    {
      "cell_type": "code",
      "metadata": {
        "id": "mvZZTSDBCQ1-"
      },
      "source": [
        ""
      ],
      "execution_count": 99,
      "outputs": []
    },
    {
      "cell_type": "markdown",
      "metadata": {
        "id": "9Xl5FCX2CQ1_"
      },
      "source": [
        "<a name=\"matrix\"></a>"
      ]
    },
    {
      "cell_type": "markdown",
      "metadata": {
        "id": "Aa9JG3CxCQ1_"
      },
      "source": [
        "# Matriz de Confusão \n",
        "\n",
        "Essa média as vezes pode ser enganosa. Nós podemos analisar a Matriz de Confusão _(Confusion Matrix)_ que nos mostra aonde o modelo errou. Falsos Positivos x Falso Negativos.\n",
        "\n",
        "<br>\n",
        "\n",
        "[início](#topo)"
      ]
    },
    {
      "cell_type": "code",
      "metadata": {
        "id": "NRdKFWndCQ1_"
      },
      "source": [
        ""
      ],
      "execution_count": 99,
      "outputs": []
    },
    {
      "cell_type": "code",
      "metadata": {
        "id": "SPBS2KLiCQ2A"
      },
      "source": [
        ""
      ],
      "execution_count": 99,
      "outputs": []
    },
    {
      "cell_type": "markdown",
      "metadata": {
        "id": "nOeHvV9tCQ2A"
      },
      "source": [
        "### Interpretando a Matriz de Confusão\n",
        "A diagonal da esquerda mostra o total de predições corretas, a da direita mostra o total de predições erradas.\n",
        "\n",
        "* O número de predições corretas para AdaBoost é de **167(para mortos) + 76(sobreviventes)**.<br><br>\n",
        "\n",
        "* **Erros**  \n",
        "    * Classificou erradamente **3 como mortos (falso negativo)** \n",
        "    * E **22 como vivos (falso positivo)**"
      ]
    },
    {
      "cell_type": "markdown",
      "metadata": {
        "id": "KpL8eBLACQ2A"
      },
      "source": [
        "<a name=\"precision\"></a>"
      ]
    },
    {
      "cell_type": "markdown",
      "metadata": {
        "id": "kB1gvM7GCQ2B"
      },
      "source": [
        "$$Precisão = {\\frac {Verdadeiros Positivos}{Verdadeiros Positivos + Falsos Positivos}} $$"
      ]
    },
    {
      "cell_type": "markdown",
      "metadata": {
        "id": "Xw2-CCrYCQ2B"
      },
      "source": [
        "<a name=\"accuracy\"></a>"
      ]
    },
    {
      "cell_type": "markdown",
      "metadata": {
        "id": "v1wU3c5LCQ2C"
      },
      "source": [
        "$$Revocação = {\\frac {Verdadeiros Positivos}{Verdadeiros Positivos + Falsos Negativos}} $$"
      ]
    },
    {
      "cell_type": "markdown",
      "metadata": {
        "id": "fJ41fbDiCQ2C"
      },
      "source": [
        "<a name=\"accuracy\"></a>"
      ]
    },
    {
      "cell_type": "markdown",
      "metadata": {
        "id": "ALqCrrUuCQ2C"
      },
      "source": [
        "$$Acuracidade = {\\frac {Verdadeiros Positivos+Verdadeiros Negativos}{Total}} $$"
      ]
    },
    {
      "cell_type": "markdown",
      "metadata": {
        "id": "MUnkxh8qCQ2D"
      },
      "source": [
        "<a name=\"accuracy\"></a>"
      ]
    },
    {
      "cell_type": "markdown",
      "metadata": {
        "id": "siRRvFVSCQ2D"
      },
      "source": [
        "$$F1-Score = 2 x{\\frac {Precisão \\cdot Revocação}{Precisão + Revocação}} $$"
      ]
    },
    {
      "cell_type": "markdown",
      "metadata": {
        "id": "BJ_QS2vmCQ2D"
      },
      "source": [
        "### Importando métricas do Sklearn"
      ]
    },
    {
      "cell_type": "code",
      "metadata": {
        "id": "S3ygl8JmCQ2E"
      },
      "source": [
        ""
      ],
      "execution_count": 99,
      "outputs": []
    },
    {
      "cell_type": "markdown",
      "metadata": {
        "id": "Tg2umwhGCQ2E"
      },
      "source": [
        "### Revocação"
      ]
    },
    {
      "cell_type": "code",
      "metadata": {
        "id": "t1ioZx0gCQ2F"
      },
      "source": [
        ""
      ],
      "execution_count": 99,
      "outputs": []
    },
    {
      "cell_type": "markdown",
      "metadata": {
        "id": "1zosOs8vCQ2F"
      },
      "source": [
        "### Acuracidade"
      ]
    },
    {
      "cell_type": "code",
      "metadata": {
        "id": "gnfrhazBCQ2F"
      },
      "source": [
        ""
      ],
      "execution_count": 99,
      "outputs": []
    },
    {
      "cell_type": "markdown",
      "metadata": {
        "id": "t8U6n4eBCQ2G"
      },
      "source": [
        "### Precisão"
      ]
    },
    {
      "cell_type": "code",
      "metadata": {
        "id": "S54M8pGCCQ2G"
      },
      "source": [
        ""
      ],
      "execution_count": 99,
      "outputs": []
    },
    {
      "cell_type": "markdown",
      "metadata": {
        "id": "kPm5cNZuCQ2G"
      },
      "source": [
        "### F1-Score"
      ]
    },
    {
      "cell_type": "code",
      "metadata": {
        "id": "THmGZc91CQ2G"
      },
      "source": [
        ""
      ],
      "execution_count": 99,
      "outputs": []
    },
    {
      "cell_type": "markdown",
      "metadata": {
        "id": "f2-jMf-LCQ2H"
      },
      "source": [
        "<a name=\"rocauc\"></a>"
      ]
    },
    {
      "cell_type": "markdown",
      "metadata": {
        "id": "64KfgwO9CQ2H"
      },
      "source": [
        "# Curvas ROC e AUC "
      ]
    },
    {
      "cell_type": "markdown",
      "metadata": {
        "id": "n0srQ19xCQ2H"
      },
      "source": [
        "O formato da curva contem várias informações, dentre elas, a taxa esperada de falsos positivos e taxa esperada de falsos negativos. \n",
        "* O quanto menor for o eixo x menor a quantidade de falsos positivos e maior verdadeiros negativos. \n",
        "* Quanto maiores os valores no eixo y, maior a quantidade de verdadeiros positivos e menor a quantidade de falsos negativos.\n",
        "\n",
        "<br>\n",
        "\n",
        "[início](#topo)"
      ]
    },
    {
      "cell_type": "code",
      "metadata": {
        "id": "ZcYIXUn1CQ2I"
      },
      "source": [
        ""
      ],
      "execution_count": 99,
      "outputs": []
    },
    {
      "cell_type": "code",
      "metadata": {
        "id": "3m7sJ-ZOCQ2I"
      },
      "source": [
        ""
      ],
      "execution_count": 99,
      "outputs": []
    },
    {
      "cell_type": "markdown",
      "metadata": {
        "id": "Gr70oNA8CQ2I"
      },
      "source": [
        "## Selecionando Threshold (Limite)"
      ]
    },
    {
      "cell_type": "code",
      "metadata": {
        "id": "CIOGOcjZCQ2J"
      },
      "source": [
        ""
      ],
      "execution_count": 99,
      "outputs": []
    },
    {
      "cell_type": "code",
      "metadata": {
        "id": "0OYp-XByCQ2J"
      },
      "source": [
        ""
      ],
      "execution_count": 99,
      "outputs": []
    },
    {
      "cell_type": "code",
      "metadata": {
        "id": "O-FJD1gkCQ2J"
      },
      "source": [
        ""
      ],
      "execution_count": 99,
      "outputs": []
    },
    {
      "cell_type": "markdown",
      "metadata": {
        "id": "kLxN9ap6CQ2J"
      },
      "source": [
        "<a name=\"hyperparam\"></a>"
      ]
    },
    {
      "cell_type": "markdown",
      "metadata": {
        "id": "HU7GjwD4CQ2K"
      },
      "source": [
        "# Customização de Hyper-Parâmetros \n",
        "\n",
        "<br>\n",
        "\n",
        "[início](#topo)"
      ]
    },
    {
      "cell_type": "markdown",
      "metadata": {
        "id": "g4QdaDziCQ2K"
      },
      "source": [
        "**Parâmetros**\n",
        "\n",
        "**n_jobs**: Quantidade de núcleos do CPU usados no processo de treino do modelo preditivo. Se for -1, todos os núcleos serão usados.\n",
        "\n",
        "**n_estimators**: Quantidade de árvores de classificação usadas no modelo preditivo (10 é o padrão)\n",
        "\n",
        "**max_depth**: Profundidade de árvore ou a quantidade de nós que ela deve se expandir. Se esse valor for muito alto, existe a chance de o modelo super-adequar _(overfit)_ o modelo.\n",
        "\n",
        "**min_samples_leaf**: O número mínimo de amostras requeridas para ser considerado um ramo. Isso tende a suavizar o modelo.\n",
        "\n",
        "**verbose**: Controla a saída de textos durante o processo de aprendizagem/treino. O valor 0 não mostra nenhum texto, enquanto 3 mostra o processo de aprendizagem de árvore a cada iteração."
      ]
    },
    {
      "cell_type": "code",
      "metadata": {
        "id": "cdkmaCC8CQ2K"
      },
      "source": [
        "from sklearn.model_selection import GridSearchCV"
      ],
      "execution_count": 100,
      "outputs": []
    },
    {
      "cell_type": "markdown",
      "metadata": {
        "id": "CTYAYNKfCQ2L"
      },
      "source": [
        "* ### Random Forest"
      ]
    },
    {
      "cell_type": "code",
      "metadata": {
        "id": "b6CkKI9kCQ2L"
      },
      "source": [
        ""
      ],
      "execution_count": 100,
      "outputs": []
    },
    {
      "cell_type": "code",
      "metadata": {
        "id": "RkmKWzCOCQ2L"
      },
      "source": [
        ""
      ],
      "execution_count": 100,
      "outputs": []
    },
    {
      "cell_type": "markdown",
      "metadata": {
        "id": "gzKmVULPCQ2M"
      },
      "source": [
        "<a name=\"ensembling\"></a>"
      ]
    },
    {
      "cell_type": "markdown",
      "metadata": {
        "id": "OYr9rx0QCQ2M"
      },
      "source": [
        "# Ensembling\n",
        "Uma forma de aumentar a acuracidade ou performance do modelo preditivo. Ensembling é a combinação de vários modelos preditivos de forma a ter uma versão final mais poderosa e mais estável. Ensembling pode ser feito de 3 formas:\n",
        "* Classificão de Votos (Voting Classifier)\n",
        "* Ensacamento (Bagging)\n",
        "* Impulsionamento (Boosting)\n",
        "\n",
        "<br>\n",
        "\n",
        "[início](#topo)"
      ]
    },
    {
      "cell_type": "markdown",
      "metadata": {
        "id": "kfZFPZf3CQ2M"
      },
      "source": [
        "<a name=\"voting\"></a>"
      ]
    },
    {
      "cell_type": "markdown",
      "metadata": {
        "id": "lKvFTAApCQ2N"
      },
      "source": [
        "* ### Classificação de Votos"
      ]
    },
    {
      "cell_type": "code",
      "metadata": {
        "id": "-qvm_ZCiCQ2N"
      },
      "source": [
        ""
      ],
      "execution_count": 100,
      "outputs": []
    },
    {
      "cell_type": "code",
      "metadata": {
        "id": "CQi40I1JCQ2O"
      },
      "source": [
        ""
      ],
      "execution_count": 100,
      "outputs": []
    },
    {
      "cell_type": "code",
      "metadata": {
        "id": "KVwmgiM9CQ2O"
      },
      "source": [
        ""
      ],
      "execution_count": 100,
      "outputs": []
    },
    {
      "cell_type": "markdown",
      "metadata": {
        "id": "cTSw4MuKCQ2P"
      },
      "source": [
        "<a name=\"bagging\"></a>"
      ]
    },
    {
      "cell_type": "markdown",
      "metadata": {
        "id": "_YGFS3LpCQ2P"
      },
      "source": [
        "* ### Ensacamento\n",
        "O Ensacamento aplica classificadores similares em pequenas partições, depois tira a média reduzindo a variância. Diferente da técnica de Classificação de Votos, Ensacamento usa classificadores similares aumentando a estabilidade. \n",
        "\n",
        "* #### Ensacamento KNN\n",
        "Ele é ideal para usar com modelos que possuem muita variância. Pode ser usado com um pequeno valor de n_neighbours, como com um pequeno valor de n_estimators."
      ]
    },
    {
      "cell_type": "code",
      "metadata": {
        "id": "HGg_dTXBCQ2Q"
      },
      "source": [
        "from sklearn.ensemble import BaggingClassifier"
      ],
      "execution_count": 101,
      "outputs": []
    },
    {
      "cell_type": "code",
      "metadata": {
        "id": "bavizrCdCQ2Q"
      },
      "source": [
        ""
      ],
      "execution_count": 101,
      "outputs": []
    },
    {
      "cell_type": "markdown",
      "metadata": {
        "id": "pN0Yw2ttCQ2V"
      },
      "source": [
        "* #### Ensacamento DecisionTree\n"
      ]
    },
    {
      "cell_type": "code",
      "metadata": {
        "id": "94UDFiH7CQ2V"
      },
      "source": [
        ""
      ],
      "execution_count": 101,
      "outputs": []
    },
    {
      "cell_type": "markdown",
      "metadata": {
        "id": "c13b4VjzCQ2W"
      },
      "source": [
        "<a name=\"boosting\"></a>"
      ]
    },
    {
      "cell_type": "markdown",
      "metadata": {
        "id": "gEE0iMQfCQ2X"
      },
      "source": [
        "* ### Impulsionamento\n",
        "Impulsionamento é uma técnica ensembling que usa aprendizado sequenciado de classificadores. É um melhoramento gradual de um modelo fraco. O modelo é treinado no dataframe completo, de forma a focar nos erros, tentando melhorá-los iterativamente de forma contínua. \n",
        "\n",
        "* #### Exemplos (Impulsionamento Adaptativo): \n",
        "    * AdaBoost  \n",
        "    * GradientBoostingClassifier \n",
        "<br>\n",
        "\n",
        "[início](#topo)"
      ]
    },
    {
      "cell_type": "markdown",
      "metadata": {
        "id": "MpU0jf3cCQ2Y"
      },
      "source": [
        "* ### GradientBoostingClassifier"
      ]
    },
    {
      "cell_type": "code",
      "metadata": {
        "id": "URxXKlpHCQ2Y"
      },
      "source": [
        ""
      ],
      "execution_count": 101,
      "outputs": []
    },
    {
      "cell_type": "markdown",
      "metadata": {
        "id": "YzRBStokCQ2Z"
      },
      "source": [
        "* ### Configurando Hyper-Parâmetros para o AdaBoost"
      ]
    },
    {
      "cell_type": "code",
      "metadata": {
        "id": "7eFZulRpCQ2Z"
      },
      "source": [
        ""
      ],
      "execution_count": 101,
      "outputs": []
    },
    {
      "cell_type": "code",
      "metadata": {
        "id": "v_en9afuCQ2a"
      },
      "source": [
        ""
      ],
      "execution_count": 101,
      "outputs": []
    },
    {
      "cell_type": "markdown",
      "metadata": {
        "id": "bcq0_lMOCQ2a"
      },
      "source": [
        "<a name=\"combinado\"></a>"
      ]
    },
    {
      "cell_type": "markdown",
      "metadata": {
        "id": "w203d3R-CQ2b"
      },
      "source": [
        "<a name=\"fimportance\"></a>"
      ]
    },
    {
      "cell_type": "markdown",
      "metadata": {
        "id": "wItI4aw5CQ2b"
      },
      "source": [
        "# Importância de Recursos _(Feature Importance)_ \n",
        "\n",
        "<br>\n",
        "\n",
        "[início](#topo)"
      ]
    },
    {
      "cell_type": "code",
      "metadata": {
        "id": "23H33FG7CQ2c"
      },
      "source": [
        ""
      ],
      "execution_count": 101,
      "outputs": []
    },
    {
      "cell_type": "code",
      "metadata": {
        "id": "UyzzPEkrCQ2d"
      },
      "source": [
        ""
      ],
      "execution_count": 101,
      "outputs": []
    },
    {
      "cell_type": "code",
      "metadata": {
        "id": "evsXbirBCQ2f"
      },
      "source": [
        ""
      ],
      "execution_count": 101,
      "outputs": []
    },
    {
      "cell_type": "code",
      "metadata": {
        "id": "M4Pg3n02CQ2f"
      },
      "source": [
        ""
      ],
      "execution_count": 101,
      "outputs": []
    },
    {
      "cell_type": "code",
      "metadata": {
        "id": "uUNHMl_pCQ2g"
      },
      "source": [
        ""
      ],
      "execution_count": 101,
      "outputs": []
    },
    {
      "cell_type": "code",
      "metadata": {
        "id": "_N9suqx7CQ2g"
      },
      "source": [
        ""
      ],
      "execution_count": 101,
      "outputs": []
    },
    {
      "cell_type": "code",
      "metadata": {
        "id": "49zjo9EQCQ2h"
      },
      "source": [
        ""
      ],
      "execution_count": 101,
      "outputs": []
    },
    {
      "cell_type": "code",
      "metadata": {
        "id": "u9eXhjqKCQ2i"
      },
      "source": [
        ""
      ],
      "execution_count": 101,
      "outputs": []
    },
    {
      "cell_type": "code",
      "metadata": {
        "id": "QxzxYfGxCQ2i"
      },
      "source": [
        ""
      ],
      "execution_count": 101,
      "outputs": []
    },
    {
      "cell_type": "code",
      "metadata": {
        "id": "f6AoOamcCQ2i"
      },
      "source": [
        ""
      ],
      "execution_count": 101,
      "outputs": []
    },
    {
      "cell_type": "code",
      "metadata": {
        "id": "vVxkiMTdCQ2j"
      },
      "source": [
        ""
      ],
      "execution_count": 101,
      "outputs": []
    },
    {
      "cell_type": "code",
      "metadata": {
        "id": "OxKswQVpCQ2j"
      },
      "source": [
        ""
      ],
      "execution_count": 101,
      "outputs": []
    },
    {
      "cell_type": "code",
      "metadata": {
        "id": "c0pGFsDMCQ2k"
      },
      "source": [
        ""
      ],
      "execution_count": 101,
      "outputs": []
    },
    {
      "cell_type": "code",
      "metadata": {
        "id": "pgevZBvkCQ2k"
      },
      "source": [
        ""
      ],
      "execution_count": 101,
      "outputs": []
    },
    {
      "cell_type": "markdown",
      "metadata": {
        "id": "uIaLFewKCQ2l"
      },
      "source": [
        "<a name=\"submissao\"></a>"
      ]
    },
    {
      "cell_type": "markdown",
      "metadata": {
        "id": "t9gB6FceCQ2m"
      },
      "source": [
        "# Submissão\n",
        "\n",
        "<br>\n",
        "\n",
        "[início](#topo)"
      ]
    },
    {
      "cell_type": "code",
      "metadata": {
        "id": "GSRXibWGCQ2m"
      },
      "source": [
        ""
      ],
      "execution_count": 101,
      "outputs": []
    },
    {
      "cell_type": "code",
      "metadata": {
        "id": "E54-vJL-CQ2n"
      },
      "source": [
        ""
      ],
      "execution_count": 101,
      "outputs": []
    },
    {
      "cell_type": "code",
      "metadata": {
        "id": "zQm2dPfOCQ2n"
      },
      "source": [
        ""
      ],
      "execution_count": 101,
      "outputs": []
    },
    {
      "cell_type": "code",
      "metadata": {
        "id": "URNutdrMCQ2o"
      },
      "source": [
        ""
      ],
      "execution_count": 101,
      "outputs": []
    },
    {
      "cell_type": "code",
      "metadata": {
        "id": "9TY91dZYCQ2p"
      },
      "source": [
        ""
      ],
      "execution_count": 101,
      "outputs": []
    }
  ]
}