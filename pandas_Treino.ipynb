{
  "nbformat": 4,
  "nbformat_minor": 0,
  "metadata": {
    "colab": {
      "name": "pandas_Treino.ipynb",
      "provenance": [],
      "collapsed_sections": [],
      "authorship_tag": "ABX9TyMeoYFAYCaJmR6qycXqw/6v",
      "include_colab_link": true
    },
    "kernelspec": {
      "name": "python3",
      "display_name": "Python 3"
    }
  },
  "cells": [
    {
      "cell_type": "markdown",
      "metadata": {
        "id": "view-in-github",
        "colab_type": "text"
      },
      "source": [
        "<a href=\"https://colab.research.google.com/github/rochinha23/Curso-Data-Science-e-Machine-Learning-com-Estatistica-e-Python/blob/main/pandas_Treino.ipynb\" target=\"_parent\"><img src=\"https://colab.research.google.com/assets/colab-badge.svg\" alt=\"Open In Colab\"/></a>"
      ]
    },
    {
      "cell_type": "code",
      "metadata": {
        "id": "J7mxw9ZHk8RV"
      },
      "source": [
        "import pandas as pd #importando a biblioteca pandas"
      ],
      "execution_count": 3,
      "outputs": []
    },
    {
      "cell_type": "code",
      "metadata": {
        "colab": {
          "resources": {
            "http://localhost:8080/nbextensions/google.colab/files.js": {
              "data": "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",
              "ok": true,
              "headers": [
                [
                  "content-type",
                  "application/javascript"
                ]
              ],
              "status": 200,
              "status_text": ""
            }
          },
          "base_uri": "https://localhost:8080/",
          "height": 72
        },
        "id": "QX-Oz_tolsqA",
        "outputId": "7e0076b6-eaaf-4cd0-81b6-e27ba5957c5f"
      },
      "source": [
        "from google.colab import files #como estou no google colab é necesssario fazer este passo antes\n",
        "uploaded = files.upload()"
      ],
      "execution_count": 4,
      "outputs": [
        {
          "output_type": "display_data",
          "data": {
            "text/html": [
              "\n",
              "     <input type=\"file\" id=\"files-8b3744da-3bea-4226-8bb1-045feef18002\" name=\"files[]\" multiple disabled\n",
              "        style=\"border:none\" />\n",
              "     <output id=\"result-8b3744da-3bea-4226-8bb1-045feef18002\">\n",
              "      Upload widget is only available when the cell has been executed in the\n",
              "      current browser session. Please rerun this cell to enable.\n",
              "      </output>\n",
              "      <script src=\"/nbextensions/google.colab/files.js\"></script> "
            ],
            "text/plain": [
              "<IPython.core.display.HTML object>"
            ]
          },
          "metadata": {
            "tags": []
          }
        },
        {
          "output_type": "stream",
          "text": [
            "Saving train.csv to train.csv\n"
          ],
          "name": "stdout"
        }
      ]
    },
    {
      "cell_type": "code",
      "metadata": {
        "id": "WkRef4W5mNNW"
      },
      "source": [
        "import io"
      ],
      "execution_count": 5,
      "outputs": []
    },
    {
      "cell_type": "code",
      "metadata": {
        "id": "R8yQlmGIm7GF"
      },
      "source": [
        "data = pd.read_csv(io.BytesIO(uploaded['train.csv'])) #armazendando na variavel data o arquivo"
      ],
      "execution_count": 6,
      "outputs": []
    },
    {
      "cell_type": "code",
      "metadata": {
        "colab": {
          "base_uri": "https://localhost:8080/",
          "height": 496
        },
        "id": "tlU22aM_nK5U",
        "outputId": "1df702c6-23ff-47aa-d137-c0f56988f406"
      },
      "source": [
        "data.head() #vendo as primeiras linhas do arquivo,podemos escolher colocando o numero dentro do parenteses"
      ],
      "execution_count": 7,
      "outputs": [
        {
          "output_type": "execute_result",
          "data": {
            "text/html": [
              "<div>\n",
              "<style scoped>\n",
              "    .dataframe tbody tr th:only-of-type {\n",
              "        vertical-align: middle;\n",
              "    }\n",
              "\n",
              "    .dataframe tbody tr th {\n",
              "        vertical-align: top;\n",
              "    }\n",
              "\n",
              "    .dataframe thead th {\n",
              "        text-align: right;\n",
              "    }\n",
              "</style>\n",
              "<table border=\"1\" class=\"dataframe\">\n",
              "  <thead>\n",
              "    <tr style=\"text-align: right;\">\n",
              "      <th></th>\n",
              "      <th>PassengerId</th>\n",
              "      <th>Survived</th>\n",
              "      <th>Pclass</th>\n",
              "      <th>Name</th>\n",
              "      <th>Sex</th>\n",
              "      <th>Age</th>\n",
              "      <th>SibSp</th>\n",
              "      <th>Parch</th>\n",
              "      <th>Ticket</th>\n",
              "      <th>Fare</th>\n",
              "      <th>Cabin</th>\n",
              "      <th>Embarked</th>\n",
              "    </tr>\n",
              "  </thead>\n",
              "  <tbody>\n",
              "    <tr>\n",
              "      <th>0</th>\n",
              "      <td>1</td>\n",
              "      <td>0</td>\n",
              "      <td>3</td>\n",
              "      <td>Braund, Mr. Owen Harris</td>\n",
              "      <td>male</td>\n",
              "      <td>22.0</td>\n",
              "      <td>1</td>\n",
              "      <td>0</td>\n",
              "      <td>A/5 21171</td>\n",
              "      <td>7.2500</td>\n",
              "      <td>NaN</td>\n",
              "      <td>S</td>\n",
              "    </tr>\n",
              "    <tr>\n",
              "      <th>1</th>\n",
              "      <td>2</td>\n",
              "      <td>1</td>\n",
              "      <td>1</td>\n",
              "      <td>Cumings, Mrs. John Bradley (Florence Briggs Th...</td>\n",
              "      <td>female</td>\n",
              "      <td>38.0</td>\n",
              "      <td>1</td>\n",
              "      <td>0</td>\n",
              "      <td>PC 17599</td>\n",
              "      <td>71.2833</td>\n",
              "      <td>C85</td>\n",
              "      <td>C</td>\n",
              "    </tr>\n",
              "    <tr>\n",
              "      <th>2</th>\n",
              "      <td>3</td>\n",
              "      <td>1</td>\n",
              "      <td>3</td>\n",
              "      <td>Heikkinen, Miss. Laina</td>\n",
              "      <td>female</td>\n",
              "      <td>26.0</td>\n",
              "      <td>0</td>\n",
              "      <td>0</td>\n",
              "      <td>STON/O2. 3101282</td>\n",
              "      <td>7.9250</td>\n",
              "      <td>NaN</td>\n",
              "      <td>S</td>\n",
              "    </tr>\n",
              "    <tr>\n",
              "      <th>3</th>\n",
              "      <td>4</td>\n",
              "      <td>1</td>\n",
              "      <td>1</td>\n",
              "      <td>Futrelle, Mrs. Jacques Heath (Lily May Peel)</td>\n",
              "      <td>female</td>\n",
              "      <td>35.0</td>\n",
              "      <td>1</td>\n",
              "      <td>0</td>\n",
              "      <td>113803</td>\n",
              "      <td>53.1000</td>\n",
              "      <td>C123</td>\n",
              "      <td>S</td>\n",
              "    </tr>\n",
              "    <tr>\n",
              "      <th>4</th>\n",
              "      <td>5</td>\n",
              "      <td>0</td>\n",
              "      <td>3</td>\n",
              "      <td>Allen, Mr. William Henry</td>\n",
              "      <td>male</td>\n",
              "      <td>35.0</td>\n",
              "      <td>0</td>\n",
              "      <td>0</td>\n",
              "      <td>373450</td>\n",
              "      <td>8.0500</td>\n",
              "      <td>NaN</td>\n",
              "      <td>S</td>\n",
              "    </tr>\n",
              "  </tbody>\n",
              "</table>\n",
              "</div>"
            ],
            "text/plain": [
              "   PassengerId  Survived  Pclass  ...     Fare Cabin  Embarked\n",
              "0            1         0       3  ...   7.2500   NaN         S\n",
              "1            2         1       1  ...  71.2833   C85         C\n",
              "2            3         1       3  ...   7.9250   NaN         S\n",
              "3            4         1       1  ...  53.1000  C123         S\n",
              "4            5         0       3  ...   8.0500   NaN         S\n",
              "\n",
              "[5 rows x 12 columns]"
            ]
          },
          "metadata": {
            "tags": []
          },
          "execution_count": 7
        }
      ]
    },
    {
      "cell_type": "code",
      "metadata": {
        "colab": {
          "base_uri": "https://localhost:8080/",
          "height": 445
        },
        "id": "bckICSHdn10V",
        "outputId": "caf1b4f2-3881-4b80-bb96-3a2a042631c3"
      },
      "source": [
        "data.tail() #exibi as ultimas linhas, podemos escolher(o numero de linhas) colocando o numero dentro do paratenses"
      ],
      "execution_count": 8,
      "outputs": [
        {
          "output_type": "execute_result",
          "data": {
            "text/html": [
              "<div>\n",
              "<style scoped>\n",
              "    .dataframe tbody tr th:only-of-type {\n",
              "        vertical-align: middle;\n",
              "    }\n",
              "\n",
              "    .dataframe tbody tr th {\n",
              "        vertical-align: top;\n",
              "    }\n",
              "\n",
              "    .dataframe thead th {\n",
              "        text-align: right;\n",
              "    }\n",
              "</style>\n",
              "<table border=\"1\" class=\"dataframe\">\n",
              "  <thead>\n",
              "    <tr style=\"text-align: right;\">\n",
              "      <th></th>\n",
              "      <th>PassengerId</th>\n",
              "      <th>Survived</th>\n",
              "      <th>Pclass</th>\n",
              "      <th>Name</th>\n",
              "      <th>Sex</th>\n",
              "      <th>Age</th>\n",
              "      <th>SibSp</th>\n",
              "      <th>Parch</th>\n",
              "      <th>Ticket</th>\n",
              "      <th>Fare</th>\n",
              "      <th>Cabin</th>\n",
              "      <th>Embarked</th>\n",
              "    </tr>\n",
              "  </thead>\n",
              "  <tbody>\n",
              "    <tr>\n",
              "      <th>886</th>\n",
              "      <td>887</td>\n",
              "      <td>0</td>\n",
              "      <td>2</td>\n",
              "      <td>Montvila, Rev. Juozas</td>\n",
              "      <td>male</td>\n",
              "      <td>27.0</td>\n",
              "      <td>0</td>\n",
              "      <td>0</td>\n",
              "      <td>211536</td>\n",
              "      <td>13.00</td>\n",
              "      <td>NaN</td>\n",
              "      <td>S</td>\n",
              "    </tr>\n",
              "    <tr>\n",
              "      <th>887</th>\n",
              "      <td>888</td>\n",
              "      <td>1</td>\n",
              "      <td>1</td>\n",
              "      <td>Graham, Miss. Margaret Edith</td>\n",
              "      <td>female</td>\n",
              "      <td>19.0</td>\n",
              "      <td>0</td>\n",
              "      <td>0</td>\n",
              "      <td>112053</td>\n",
              "      <td>30.00</td>\n",
              "      <td>B42</td>\n",
              "      <td>S</td>\n",
              "    </tr>\n",
              "    <tr>\n",
              "      <th>888</th>\n",
              "      <td>889</td>\n",
              "      <td>0</td>\n",
              "      <td>3</td>\n",
              "      <td>Johnston, Miss. Catherine Helen \"Carrie\"</td>\n",
              "      <td>female</td>\n",
              "      <td>NaN</td>\n",
              "      <td>1</td>\n",
              "      <td>2</td>\n",
              "      <td>W./C. 6607</td>\n",
              "      <td>23.45</td>\n",
              "      <td>NaN</td>\n",
              "      <td>S</td>\n",
              "    </tr>\n",
              "    <tr>\n",
              "      <th>889</th>\n",
              "      <td>890</td>\n",
              "      <td>1</td>\n",
              "      <td>1</td>\n",
              "      <td>Behr, Mr. Karl Howell</td>\n",
              "      <td>male</td>\n",
              "      <td>26.0</td>\n",
              "      <td>0</td>\n",
              "      <td>0</td>\n",
              "      <td>111369</td>\n",
              "      <td>30.00</td>\n",
              "      <td>C148</td>\n",
              "      <td>C</td>\n",
              "    </tr>\n",
              "    <tr>\n",
              "      <th>890</th>\n",
              "      <td>891</td>\n",
              "      <td>0</td>\n",
              "      <td>3</td>\n",
              "      <td>Dooley, Mr. Patrick</td>\n",
              "      <td>male</td>\n",
              "      <td>32.0</td>\n",
              "      <td>0</td>\n",
              "      <td>0</td>\n",
              "      <td>370376</td>\n",
              "      <td>7.75</td>\n",
              "      <td>NaN</td>\n",
              "      <td>Q</td>\n",
              "    </tr>\n",
              "  </tbody>\n",
              "</table>\n",
              "</div>"
            ],
            "text/plain": [
              "     PassengerId  Survived  Pclass  ...   Fare Cabin  Embarked\n",
              "886          887         0       2  ...  13.00   NaN         S\n",
              "887          888         1       1  ...  30.00   B42         S\n",
              "888          889         0       3  ...  23.45   NaN         S\n",
              "889          890         1       1  ...  30.00  C148         C\n",
              "890          891         0       3  ...   7.75   NaN         Q\n",
              "\n",
              "[5 rows x 12 columns]"
            ]
          },
          "metadata": {
            "tags": []
          },
          "execution_count": 8
        }
      ]
    },
    {
      "cell_type": "code",
      "metadata": {
        "colab": {
          "base_uri": "https://localhost:8080/"
        },
        "id": "yatV8Orjofuo",
        "outputId": "5fe1777d-bc4a-4d9f-c75b-2854c50c9000"
      },
      "source": [
        "data.info() #informações sobre o dataFrame"
      ],
      "execution_count": 9,
      "outputs": [
        {
          "output_type": "stream",
          "text": [
            "<class 'pandas.core.frame.DataFrame'>\n",
            "RangeIndex: 891 entries, 0 to 890\n",
            "Data columns (total 12 columns):\n",
            " #   Column       Non-Null Count  Dtype  \n",
            "---  ------       --------------  -----  \n",
            " 0   PassengerId  891 non-null    int64  \n",
            " 1   Survived     891 non-null    int64  \n",
            " 2   Pclass       891 non-null    int64  \n",
            " 3   Name         891 non-null    object \n",
            " 4   Sex          891 non-null    object \n",
            " 5   Age          714 non-null    float64\n",
            " 6   SibSp        891 non-null    int64  \n",
            " 7   Parch        891 non-null    int64  \n",
            " 8   Ticket       891 non-null    object \n",
            " 9   Fare         891 non-null    float64\n",
            " 10  Cabin        204 non-null    object \n",
            " 11  Embarked     889 non-null    object \n",
            "dtypes: float64(2), int64(5), object(5)\n",
            "memory usage: 83.7+ KB\n"
          ],
          "name": "stdout"
        }
      ]
    },
    {
      "cell_type": "markdown",
      "metadata": {
        "id": "dYPfQJb0tJNy"
      },
      "source": [
        "**Resumo Estatístico de Campos Numéricos**"
      ]
    },
    {
      "cell_type": "code",
      "metadata": {
        "colab": {
          "base_uri": "https://localhost:8080/",
          "height": 317
        },
        "id": "8GN0OlUvs4Bw",
        "outputId": "6497f1f1-7dd9-48d3-e5c6-2fab770feeca"
      },
      "source": [
        "data.describe() #visão geral dos dados estatisticos"
      ],
      "execution_count": 10,
      "outputs": [
        {
          "output_type": "execute_result",
          "data": {
            "text/html": [
              "<div>\n",
              "<style scoped>\n",
              "    .dataframe tbody tr th:only-of-type {\n",
              "        vertical-align: middle;\n",
              "    }\n",
              "\n",
              "    .dataframe tbody tr th {\n",
              "        vertical-align: top;\n",
              "    }\n",
              "\n",
              "    .dataframe thead th {\n",
              "        text-align: right;\n",
              "    }\n",
              "</style>\n",
              "<table border=\"1\" class=\"dataframe\">\n",
              "  <thead>\n",
              "    <tr style=\"text-align: right;\">\n",
              "      <th></th>\n",
              "      <th>PassengerId</th>\n",
              "      <th>Survived</th>\n",
              "      <th>Pclass</th>\n",
              "      <th>Age</th>\n",
              "      <th>SibSp</th>\n",
              "      <th>Parch</th>\n",
              "      <th>Fare</th>\n",
              "    </tr>\n",
              "  </thead>\n",
              "  <tbody>\n",
              "    <tr>\n",
              "      <th>count</th>\n",
              "      <td>891.000000</td>\n",
              "      <td>891.000000</td>\n",
              "      <td>891.000000</td>\n",
              "      <td>714.000000</td>\n",
              "      <td>891.000000</td>\n",
              "      <td>891.000000</td>\n",
              "      <td>891.000000</td>\n",
              "    </tr>\n",
              "    <tr>\n",
              "      <th>mean</th>\n",
              "      <td>446.000000</td>\n",
              "      <td>0.383838</td>\n",
              "      <td>2.308642</td>\n",
              "      <td>29.699118</td>\n",
              "      <td>0.523008</td>\n",
              "      <td>0.381594</td>\n",
              "      <td>32.204208</td>\n",
              "    </tr>\n",
              "    <tr>\n",
              "      <th>std</th>\n",
              "      <td>257.353842</td>\n",
              "      <td>0.486592</td>\n",
              "      <td>0.836071</td>\n",
              "      <td>14.526497</td>\n",
              "      <td>1.102743</td>\n",
              "      <td>0.806057</td>\n",
              "      <td>49.693429</td>\n",
              "    </tr>\n",
              "    <tr>\n",
              "      <th>min</th>\n",
              "      <td>1.000000</td>\n",
              "      <td>0.000000</td>\n",
              "      <td>1.000000</td>\n",
              "      <td>0.420000</td>\n",
              "      <td>0.000000</td>\n",
              "      <td>0.000000</td>\n",
              "      <td>0.000000</td>\n",
              "    </tr>\n",
              "    <tr>\n",
              "      <th>25%</th>\n",
              "      <td>223.500000</td>\n",
              "      <td>0.000000</td>\n",
              "      <td>2.000000</td>\n",
              "      <td>20.125000</td>\n",
              "      <td>0.000000</td>\n",
              "      <td>0.000000</td>\n",
              "      <td>7.910400</td>\n",
              "    </tr>\n",
              "    <tr>\n",
              "      <th>50%</th>\n",
              "      <td>446.000000</td>\n",
              "      <td>0.000000</td>\n",
              "      <td>3.000000</td>\n",
              "      <td>28.000000</td>\n",
              "      <td>0.000000</td>\n",
              "      <td>0.000000</td>\n",
              "      <td>14.454200</td>\n",
              "    </tr>\n",
              "    <tr>\n",
              "      <th>75%</th>\n",
              "      <td>668.500000</td>\n",
              "      <td>1.000000</td>\n",
              "      <td>3.000000</td>\n",
              "      <td>38.000000</td>\n",
              "      <td>1.000000</td>\n",
              "      <td>0.000000</td>\n",
              "      <td>31.000000</td>\n",
              "    </tr>\n",
              "    <tr>\n",
              "      <th>max</th>\n",
              "      <td>891.000000</td>\n",
              "      <td>1.000000</td>\n",
              "      <td>3.000000</td>\n",
              "      <td>80.000000</td>\n",
              "      <td>8.000000</td>\n",
              "      <td>6.000000</td>\n",
              "      <td>512.329200</td>\n",
              "    </tr>\n",
              "  </tbody>\n",
              "</table>\n",
              "</div>"
            ],
            "text/plain": [
              "       PassengerId    Survived      Pclass  ...       SibSp       Parch        Fare\n",
              "count   891.000000  891.000000  891.000000  ...  891.000000  891.000000  891.000000\n",
              "mean    446.000000    0.383838    2.308642  ...    0.523008    0.381594   32.204208\n",
              "std     257.353842    0.486592    0.836071  ...    1.102743    0.806057   49.693429\n",
              "min       1.000000    0.000000    1.000000  ...    0.000000    0.000000    0.000000\n",
              "25%     223.500000    0.000000    2.000000  ...    0.000000    0.000000    7.910400\n",
              "50%     446.000000    0.000000    3.000000  ...    0.000000    0.000000   14.454200\n",
              "75%     668.500000    1.000000    3.000000  ...    1.000000    0.000000   31.000000\n",
              "max     891.000000    1.000000    3.000000  ...    8.000000    6.000000  512.329200\n",
              "\n",
              "[8 rows x 7 columns]"
            ]
          },
          "metadata": {
            "tags": []
          },
          "execution_count": 10
        }
      ]
    },
    {
      "cell_type": "markdown",
      "metadata": {
        "id": "15DaR52TuxtO"
      },
      "source": [
        "**Resumo estatístico de campos Categóricos**"
      ]
    },
    {
      "cell_type": "code",
      "metadata": {
        "colab": {
          "base_uri": "https://localhost:8080/",
          "height": 173
        },
        "id": "3NphoSZtumTI",
        "outputId": "b654a737-87de-472a-e911-b8282c444c1c"
      },
      "source": [
        "data.describe(include='O')"
      ],
      "execution_count": 11,
      "outputs": [
        {
          "output_type": "execute_result",
          "data": {
            "text/html": [
              "<div>\n",
              "<style scoped>\n",
              "    .dataframe tbody tr th:only-of-type {\n",
              "        vertical-align: middle;\n",
              "    }\n",
              "\n",
              "    .dataframe tbody tr th {\n",
              "        vertical-align: top;\n",
              "    }\n",
              "\n",
              "    .dataframe thead th {\n",
              "        text-align: right;\n",
              "    }\n",
              "</style>\n",
              "<table border=\"1\" class=\"dataframe\">\n",
              "  <thead>\n",
              "    <tr style=\"text-align: right;\">\n",
              "      <th></th>\n",
              "      <th>Name</th>\n",
              "      <th>Sex</th>\n",
              "      <th>Ticket</th>\n",
              "      <th>Cabin</th>\n",
              "      <th>Embarked</th>\n",
              "    </tr>\n",
              "  </thead>\n",
              "  <tbody>\n",
              "    <tr>\n",
              "      <th>count</th>\n",
              "      <td>891</td>\n",
              "      <td>891</td>\n",
              "      <td>891</td>\n",
              "      <td>204</td>\n",
              "      <td>889</td>\n",
              "    </tr>\n",
              "    <tr>\n",
              "      <th>unique</th>\n",
              "      <td>891</td>\n",
              "      <td>2</td>\n",
              "      <td>681</td>\n",
              "      <td>147</td>\n",
              "      <td>3</td>\n",
              "    </tr>\n",
              "    <tr>\n",
              "      <th>top</th>\n",
              "      <td>Hogeboom, Mrs. John C (Anna Andrews)</td>\n",
              "      <td>male</td>\n",
              "      <td>347082</td>\n",
              "      <td>C23 C25 C27</td>\n",
              "      <td>S</td>\n",
              "    </tr>\n",
              "    <tr>\n",
              "      <th>freq</th>\n",
              "      <td>1</td>\n",
              "      <td>577</td>\n",
              "      <td>7</td>\n",
              "      <td>4</td>\n",
              "      <td>644</td>\n",
              "    </tr>\n",
              "  </tbody>\n",
              "</table>\n",
              "</div>"
            ],
            "text/plain": [
              "                                        Name   Sex  ...        Cabin Embarked\n",
              "count                                    891   891  ...          204      889\n",
              "unique                                   891     2  ...          147        3\n",
              "top     Hogeboom, Mrs. John C (Anna Andrews)  male  ...  C23 C25 C27        S\n",
              "freq                                       1   577  ...            4      644\n",
              "\n",
              "[4 rows x 5 columns]"
            ]
          },
          "metadata": {
            "tags": []
          },
          "execution_count": 11
        }
      ]
    },
    {
      "cell_type": "markdown",
      "metadata": {
        "id": "Ekp7v5Hhwye7"
      },
      "source": [
        "**Renomear colunas**"
      ]
    },
    {
      "cell_type": "code",
      "metadata": {
        "colab": {
          "base_uri": "https://localhost:8080/",
          "height": 267
        },
        "id": "HWKcBzjSw6Ob",
        "outputId": "dbacdf80-45eb-47ab-d8f7-05580edc2379"
      },
      "source": [
        "data.head(2)"
      ],
      "execution_count": 12,
      "outputs": [
        {
          "output_type": "execute_result",
          "data": {
            "text/html": [
              "<div>\n",
              "<style scoped>\n",
              "    .dataframe tbody tr th:only-of-type {\n",
              "        vertical-align: middle;\n",
              "    }\n",
              "\n",
              "    .dataframe tbody tr th {\n",
              "        vertical-align: top;\n",
              "    }\n",
              "\n",
              "    .dataframe thead th {\n",
              "        text-align: right;\n",
              "    }\n",
              "</style>\n",
              "<table border=\"1\" class=\"dataframe\">\n",
              "  <thead>\n",
              "    <tr style=\"text-align: right;\">\n",
              "      <th></th>\n",
              "      <th>PassengerId</th>\n",
              "      <th>Survived</th>\n",
              "      <th>Pclass</th>\n",
              "      <th>Name</th>\n",
              "      <th>Sex</th>\n",
              "      <th>Age</th>\n",
              "      <th>SibSp</th>\n",
              "      <th>Parch</th>\n",
              "      <th>Ticket</th>\n",
              "      <th>Fare</th>\n",
              "      <th>Cabin</th>\n",
              "      <th>Embarked</th>\n",
              "    </tr>\n",
              "  </thead>\n",
              "  <tbody>\n",
              "    <tr>\n",
              "      <th>0</th>\n",
              "      <td>1</td>\n",
              "      <td>0</td>\n",
              "      <td>3</td>\n",
              "      <td>Braund, Mr. Owen Harris</td>\n",
              "      <td>male</td>\n",
              "      <td>22.0</td>\n",
              "      <td>1</td>\n",
              "      <td>0</td>\n",
              "      <td>A/5 21171</td>\n",
              "      <td>7.2500</td>\n",
              "      <td>NaN</td>\n",
              "      <td>S</td>\n",
              "    </tr>\n",
              "    <tr>\n",
              "      <th>1</th>\n",
              "      <td>2</td>\n",
              "      <td>1</td>\n",
              "      <td>1</td>\n",
              "      <td>Cumings, Mrs. John Bradley (Florence Briggs Th...</td>\n",
              "      <td>female</td>\n",
              "      <td>38.0</td>\n",
              "      <td>1</td>\n",
              "      <td>0</td>\n",
              "      <td>PC 17599</td>\n",
              "      <td>71.2833</td>\n",
              "      <td>C85</td>\n",
              "      <td>C</td>\n",
              "    </tr>\n",
              "  </tbody>\n",
              "</table>\n",
              "</div>"
            ],
            "text/plain": [
              "   PassengerId  Survived  Pclass  ...     Fare Cabin  Embarked\n",
              "0            1         0       3  ...   7.2500   NaN         S\n",
              "1            2         1       1  ...  71.2833   C85         C\n",
              "\n",
              "[2 rows x 12 columns]"
            ]
          },
          "metadata": {
            "tags": []
          },
          "execution_count": 12
        }
      ]
    },
    {
      "cell_type": "code",
      "metadata": {
        "id": "gGqi1w_uxC6E"
      },
      "source": [
        "data.rename({'Name':'Nome','Sex':'Sexo'},axis=1, inplace = True) #renomear, axis=0 mudar nome linhas, axis=1 mudar nome da coluna,inplace=True muda definitivamente e todos os lugares"
      ],
      "execution_count": 13,
      "outputs": []
    },
    {
      "cell_type": "markdown",
      "metadata": {
        "id": "i3GltO7uySUy"
      },
      "source": [
        "**Outra forma de mudar o nome das colunas**"
      ]
    },
    {
      "cell_type": "code",
      "metadata": {
        "colab": {
          "base_uri": "https://localhost:8080/"
        },
        "id": "8E1LD6qXyNQP",
        "outputId": "5118abbc-d1df-4cf2-800a-0783184799b0"
      },
      "source": [
        "data.columns"
      ],
      "execution_count": 14,
      "outputs": [
        {
          "output_type": "execute_result",
          "data": {
            "text/plain": [
              "Index(['PassengerId', 'Survived', 'Pclass', 'Nome', 'Sexo', 'Age', 'SibSp',\n",
              "       'Parch', 'Ticket', 'Fare', 'Cabin', 'Embarked'],\n",
              "      dtype='object')"
            ]
          },
          "metadata": {
            "tags": []
          },
          "execution_count": 14
        }
      ]
    },
    {
      "cell_type": "code",
      "metadata": {
        "id": "IrUxD0fIyc8Y"
      },
      "source": [
        "data.columns = ['IdPassageiro', 'Sobreviveu', 'Classe', 'Nome', 'Sexo', 'Idade', \n",
        "                'IrmaosConjuge', 'PaisFilhos', 'Bilhete', 'Tarifa', 'Cabine', 'Embarque']"
      ],
      "execution_count": 15,
      "outputs": []
    },
    {
      "cell_type": "code",
      "metadata": {
        "colab": {
          "base_uri": "https://localhost:8080/",
          "height": 315
        },
        "id": "lLa-1EU3zVfi",
        "outputId": "7a0d9949-9e9b-41c8-e443-d5558b96f922"
      },
      "source": [
        "data.head(3)"
      ],
      "execution_count": 16,
      "outputs": [
        {
          "output_type": "execute_result",
          "data": {
            "text/html": [
              "<div>\n",
              "<style scoped>\n",
              "    .dataframe tbody tr th:only-of-type {\n",
              "        vertical-align: middle;\n",
              "    }\n",
              "\n",
              "    .dataframe tbody tr th {\n",
              "        vertical-align: top;\n",
              "    }\n",
              "\n",
              "    .dataframe thead th {\n",
              "        text-align: right;\n",
              "    }\n",
              "</style>\n",
              "<table border=\"1\" class=\"dataframe\">\n",
              "  <thead>\n",
              "    <tr style=\"text-align: right;\">\n",
              "      <th></th>\n",
              "      <th>IdPassageiro</th>\n",
              "      <th>Sobreviveu</th>\n",
              "      <th>Classe</th>\n",
              "      <th>Nome</th>\n",
              "      <th>Sexo</th>\n",
              "      <th>Idade</th>\n",
              "      <th>IrmaosConjuge</th>\n",
              "      <th>PaisFilhos</th>\n",
              "      <th>Bilhete</th>\n",
              "      <th>Tarifa</th>\n",
              "      <th>Cabine</th>\n",
              "      <th>Embarque</th>\n",
              "    </tr>\n",
              "  </thead>\n",
              "  <tbody>\n",
              "    <tr>\n",
              "      <th>0</th>\n",
              "      <td>1</td>\n",
              "      <td>0</td>\n",
              "      <td>3</td>\n",
              "      <td>Braund, Mr. Owen Harris</td>\n",
              "      <td>male</td>\n",
              "      <td>22.0</td>\n",
              "      <td>1</td>\n",
              "      <td>0</td>\n",
              "      <td>A/5 21171</td>\n",
              "      <td>7.2500</td>\n",
              "      <td>NaN</td>\n",
              "      <td>S</td>\n",
              "    </tr>\n",
              "    <tr>\n",
              "      <th>1</th>\n",
              "      <td>2</td>\n",
              "      <td>1</td>\n",
              "      <td>1</td>\n",
              "      <td>Cumings, Mrs. John Bradley (Florence Briggs Th...</td>\n",
              "      <td>female</td>\n",
              "      <td>38.0</td>\n",
              "      <td>1</td>\n",
              "      <td>0</td>\n",
              "      <td>PC 17599</td>\n",
              "      <td>71.2833</td>\n",
              "      <td>C85</td>\n",
              "      <td>C</td>\n",
              "    </tr>\n",
              "    <tr>\n",
              "      <th>2</th>\n",
              "      <td>3</td>\n",
              "      <td>1</td>\n",
              "      <td>3</td>\n",
              "      <td>Heikkinen, Miss. Laina</td>\n",
              "      <td>female</td>\n",
              "      <td>26.0</td>\n",
              "      <td>0</td>\n",
              "      <td>0</td>\n",
              "      <td>STON/O2. 3101282</td>\n",
              "      <td>7.9250</td>\n",
              "      <td>NaN</td>\n",
              "      <td>S</td>\n",
              "    </tr>\n",
              "  </tbody>\n",
              "</table>\n",
              "</div>"
            ],
            "text/plain": [
              "   IdPassageiro  Sobreviveu  Classe  ...   Tarifa Cabine  Embarque\n",
              "0             1           0       3  ...   7.2500    NaN         S\n",
              "1             2           1       1  ...  71.2833    C85         C\n",
              "2             3           1       3  ...   7.9250    NaN         S\n",
              "\n",
              "[3 rows x 12 columns]"
            ]
          },
          "metadata": {
            "tags": []
          },
          "execution_count": 16
        }
      ]
    },
    {
      "cell_type": "code",
      "metadata": {
        "colab": {
          "base_uri": "https://localhost:8080/"
        },
        "id": "Ma7-jxOVziyZ",
        "outputId": "bf34cde0-654e-4139-fa81-5c79d91580cb"
      },
      "source": [
        "data.columns"
      ],
      "execution_count": 17,
      "outputs": [
        {
          "output_type": "execute_result",
          "data": {
            "text/plain": [
              "Index(['IdPassageiro', 'Sobreviveu', 'Classe', 'Nome', 'Sexo', 'Idade',\n",
              "       'IrmaosConjuge', 'PaisFilhos', 'Bilhete', 'Tarifa', 'Cabine',\n",
              "       'Embarque'],\n",
              "      dtype='object')"
            ]
          },
          "metadata": {
            "tags": []
          },
          "execution_count": 17
        }
      ]
    },
    {
      "cell_type": "markdown",
      "metadata": {
        "id": "gIyHGGt-zntd"
      },
      "source": [
        "**Selecionando Colunas Especificas**"
      ]
    },
    {
      "cell_type": "code",
      "metadata": {
        "colab": {
          "base_uri": "https://localhost:8080/",
          "height": 159
        },
        "id": "w5c4BJe9ztcn",
        "outputId": "5387f179-6f68-4a5e-f9e2-1f852bab3d3e"
      },
      "source": [
        "data[['Nome','Sexo','Classe','Tarifa','Idade','Sobreviveu']].head(3)"
      ],
      "execution_count": 18,
      "outputs": [
        {
          "output_type": "execute_result",
          "data": {
            "text/html": [
              "<div>\n",
              "<style scoped>\n",
              "    .dataframe tbody tr th:only-of-type {\n",
              "        vertical-align: middle;\n",
              "    }\n",
              "\n",
              "    .dataframe tbody tr th {\n",
              "        vertical-align: top;\n",
              "    }\n",
              "\n",
              "    .dataframe thead th {\n",
              "        text-align: right;\n",
              "    }\n",
              "</style>\n",
              "<table border=\"1\" class=\"dataframe\">\n",
              "  <thead>\n",
              "    <tr style=\"text-align: right;\">\n",
              "      <th></th>\n",
              "      <th>Nome</th>\n",
              "      <th>Sexo</th>\n",
              "      <th>Classe</th>\n",
              "      <th>Tarifa</th>\n",
              "      <th>Idade</th>\n",
              "      <th>Sobreviveu</th>\n",
              "    </tr>\n",
              "  </thead>\n",
              "  <tbody>\n",
              "    <tr>\n",
              "      <th>0</th>\n",
              "      <td>Braund, Mr. Owen Harris</td>\n",
              "      <td>male</td>\n",
              "      <td>3</td>\n",
              "      <td>7.2500</td>\n",
              "      <td>22.0</td>\n",
              "      <td>0</td>\n",
              "    </tr>\n",
              "    <tr>\n",
              "      <th>1</th>\n",
              "      <td>Cumings, Mrs. John Bradley (Florence Briggs Th...</td>\n",
              "      <td>female</td>\n",
              "      <td>1</td>\n",
              "      <td>71.2833</td>\n",
              "      <td>38.0</td>\n",
              "      <td>1</td>\n",
              "    </tr>\n",
              "    <tr>\n",
              "      <th>2</th>\n",
              "      <td>Heikkinen, Miss. Laina</td>\n",
              "      <td>female</td>\n",
              "      <td>3</td>\n",
              "      <td>7.9250</td>\n",
              "      <td>26.0</td>\n",
              "      <td>1</td>\n",
              "    </tr>\n",
              "  </tbody>\n",
              "</table>\n",
              "</div>"
            ],
            "text/plain": [
              "                                                Nome    Sexo  ...  Idade  Sobreviveu\n",
              "0                            Braund, Mr. Owen Harris    male  ...   22.0           0\n",
              "1  Cumings, Mrs. John Bradley (Florence Briggs Th...  female  ...   38.0           1\n",
              "2                             Heikkinen, Miss. Laina  female  ...   26.0           1\n",
              "\n",
              "[3 rows x 6 columns]"
            ]
          },
          "metadata": {
            "tags": []
          },
          "execution_count": 18
        }
      ]
    },
    {
      "cell_type": "code",
      "metadata": {
        "colab": {
          "base_uri": "https://localhost:8080/"
        },
        "id": "0hYVrV5n0Zm4",
        "outputId": "e7944ca0-7150-40a4-fb49-44263ab4b72c"
      },
      "source": [
        "data['Sexo'] #para apenas uma coluna, data series"
      ],
      "execution_count": 19,
      "outputs": [
        {
          "output_type": "execute_result",
          "data": {
            "text/plain": [
              "0        male\n",
              "1      female\n",
              "2      female\n",
              "3      female\n",
              "4        male\n",
              "        ...  \n",
              "886      male\n",
              "887    female\n",
              "888    female\n",
              "889      male\n",
              "890      male\n",
              "Name: Sexo, Length: 891, dtype: object"
            ]
          },
          "metadata": {
            "tags": []
          },
          "execution_count": 19
        }
      ]
    },
    {
      "cell_type": "markdown",
      "metadata": {
        "id": "P011075B3dyL"
      },
      "source": [
        "**Funções matemáticas embutidas**"
      ]
    },
    {
      "cell_type": "code",
      "metadata": {
        "colab": {
          "base_uri": "https://localhost:8080/"
        },
        "id": "DW8d25ub3Jg6",
        "outputId": "fbe67dc2-e668-4709-c95b-2f1d553a8249"
      },
      "source": [
        "data['Idade'].mean() #media"
      ],
      "execution_count": 20,
      "outputs": [
        {
          "output_type": "execute_result",
          "data": {
            "text/plain": [
              "29.69911764705882"
            ]
          },
          "metadata": {
            "tags": []
          },
          "execution_count": 20
        }
      ]
    },
    {
      "cell_type": "code",
      "metadata": {
        "colab": {
          "base_uri": "https://localhost:8080/"
        },
        "id": "xzie1VfN3ktH",
        "outputId": "446b3554-852e-4c3b-b53d-2422d4c08c9e"
      },
      "source": [
        "data['Idade'].sum() #soma"
      ],
      "execution_count": 21,
      "outputs": [
        {
          "output_type": "execute_result",
          "data": {
            "text/plain": [
              "21205.17"
            ]
          },
          "metadata": {
            "tags": []
          },
          "execution_count": 21
        }
      ]
    },
    {
      "cell_type": "code",
      "metadata": {
        "colab": {
          "base_uri": "https://localhost:8080/"
        },
        "id": "to0_Gath40pt",
        "outputId": "6b796455-7b52-4f6d-832c-77938f201bb8"
      },
      "source": [
        "data['Idade'].count() #contar"
      ],
      "execution_count": 22,
      "outputs": [
        {
          "output_type": "execute_result",
          "data": {
            "text/plain": [
              "714"
            ]
          },
          "metadata": {
            "tags": []
          },
          "execution_count": 22
        }
      ]
    },
    {
      "cell_type": "code",
      "metadata": {
        "colab": {
          "base_uri": "https://localhost:8080/"
        },
        "id": "qeXs4Qp749Mk",
        "outputId": "1b1f93e0-bece-4ded-ca31-98601cad0d19"
      },
      "source": [
        "data['Idade'].median() #mediana"
      ],
      "execution_count": 23,
      "outputs": [
        {
          "output_type": "execute_result",
          "data": {
            "text/plain": [
              "28.0"
            ]
          },
          "metadata": {
            "tags": []
          },
          "execution_count": 23
        }
      ]
    },
    {
      "cell_type": "code",
      "metadata": {
        "colab": {
          "base_uri": "https://localhost:8080/"
        },
        "id": "g5RgMq1x5EWD",
        "outputId": "4a9a629b-378f-49c1-8e6c-fd9490c469f4"
      },
      "source": [
        "data['Idade'].mode() #moda"
      ],
      "execution_count": 24,
      "outputs": [
        {
          "output_type": "execute_result",
          "data": {
            "text/plain": [
              "0    24.0\n",
              "dtype: float64"
            ]
          },
          "metadata": {
            "tags": []
          },
          "execution_count": 24
        }
      ]
    },
    {
      "cell_type": "code",
      "metadata": {
        "colab": {
          "base_uri": "https://localhost:8080/"
        },
        "id": "TBdsDj2Z5JSv",
        "outputId": "dfb527b9-c5b5-48b2-8510-c37428ff27fa"
      },
      "source": [
        "data['Idade'].max() #idade maxima"
      ],
      "execution_count": 25,
      "outputs": [
        {
          "output_type": "execute_result",
          "data": {
            "text/plain": [
              "80.0"
            ]
          },
          "metadata": {
            "tags": []
          },
          "execution_count": 25
        }
      ]
    },
    {
      "cell_type": "code",
      "metadata": {
        "colab": {
          "base_uri": "https://localhost:8080/"
        },
        "id": "8J_Af-EU5W_c",
        "outputId": "a2050a99-55a6-4ee2-ab17-17e5854107e8"
      },
      "source": [
        "data['Idade'].min() #idade minima"
      ],
      "execution_count": 26,
      "outputs": [
        {
          "output_type": "execute_result",
          "data": {
            "text/plain": [
              "0.42"
            ]
          },
          "metadata": {
            "tags": []
          },
          "execution_count": 26
        }
      ]
    },
    {
      "cell_type": "code",
      "metadata": {
        "colab": {
          "base_uri": "https://localhost:8080/"
        },
        "id": "L8Csltr05eQl",
        "outputId": "ead84a10-fe11-44ee-ce9e-bb6243ccf30e"
      },
      "source": [
        "data['Idade'].idxmin() #index da menor idade"
      ],
      "execution_count": 27,
      "outputs": [
        {
          "output_type": "execute_result",
          "data": {
            "text/plain": [
              "803"
            ]
          },
          "metadata": {
            "tags": []
          },
          "execution_count": 27
        }
      ]
    },
    {
      "cell_type": "code",
      "metadata": {
        "colab": {
          "base_uri": "https://localhost:8080/"
        },
        "id": "WGtanE7w5vzI",
        "outputId": "b961a7c8-9034-4f4d-fd52-bde437e95c24"
      },
      "source": [
        "data['Idade'].idxmax() #index da maior idade"
      ],
      "execution_count": 28,
      "outputs": [
        {
          "output_type": "execute_result",
          "data": {
            "text/plain": [
              "630"
            ]
          },
          "metadata": {
            "tags": []
          },
          "execution_count": 28
        }
      ]
    },
    {
      "cell_type": "code",
      "metadata": {
        "colab": {
          "base_uri": "https://localhost:8080/"
        },
        "id": "9Nmn90Tr55Ga",
        "outputId": "fbe29b72-b56f-44dc-a035-9509b8ebae7b"
      },
      "source": [
        "data.mean()"
      ],
      "execution_count": 29,
      "outputs": [
        {
          "output_type": "execute_result",
          "data": {
            "text/plain": [
              "IdPassageiro     446.000000\n",
              "Sobreviveu         0.383838\n",
              "Classe             2.308642\n",
              "Idade             29.699118\n",
              "IrmaosConjuge      0.523008\n",
              "PaisFilhos         0.381594\n",
              "Tarifa            32.204208\n",
              "dtype: float64"
            ]
          },
          "metadata": {
            "tags": []
          },
          "execution_count": 29
        }
      ]
    },
    {
      "cell_type": "code",
      "metadata": {
        "colab": {
          "base_uri": "https://localhost:8080/"
        },
        "id": "_j9TtIp-6KWJ",
        "outputId": "89b5df96-1ba1-443a-9dcc-77af154cfc7c"
      },
      "source": [
        "data.sum()"
      ],
      "execution_count": 30,
      "outputs": [
        {
          "output_type": "execute_result",
          "data": {
            "text/plain": [
              "IdPassageiro                                                397386\n",
              "Sobreviveu                                                     342\n",
              "Classe                                                        2057\n",
              "Nome             Braund, Mr. Owen HarrisCumings, Mrs. John Brad...\n",
              "Sexo             malefemalefemalefemalemalemalemalemalefemalefe...\n",
              "Idade                                                      21205.2\n",
              "IrmaosConjuge                                                  466\n",
              "PaisFilhos                                                     340\n",
              "Bilhete          A/5 21171PC 17599STON/O2. 31012821138033734503...\n",
              "Tarifa                                                     28693.9\n",
              "dtype: object"
            ]
          },
          "metadata": {
            "tags": []
          },
          "execution_count": 30
        }
      ]
    },
    {
      "cell_type": "code",
      "metadata": {
        "colab": {
          "base_uri": "https://localhost:8080/"
        },
        "id": "OpL0nkrI6QBU",
        "outputId": "6cd1c49d-3325-41b5-a88f-e83dd42b489c"
      },
      "source": [
        "data.median()"
      ],
      "execution_count": 31,
      "outputs": [
        {
          "output_type": "execute_result",
          "data": {
            "text/plain": [
              "IdPassageiro     446.0000\n",
              "Sobreviveu         0.0000\n",
              "Classe             3.0000\n",
              "Idade             28.0000\n",
              "IrmaosConjuge      0.0000\n",
              "PaisFilhos         0.0000\n",
              "Tarifa            14.4542\n",
              "dtype: float64"
            ]
          },
          "metadata": {
            "tags": []
          },
          "execution_count": 31
        }
      ]
    },
    {
      "cell_type": "code",
      "metadata": {
        "colab": {
          "base_uri": "https://localhost:8080/"
        },
        "id": "XAHJOtUO6V8c",
        "outputId": "c03e70d7-14a1-41fe-d72e-ab6c71d99b2c"
      },
      "source": [
        "data.min()"
      ],
      "execution_count": 32,
      "outputs": [
        {
          "output_type": "execute_result",
          "data": {
            "text/plain": [
              "IdPassageiro                       1\n",
              "Sobreviveu                         0\n",
              "Classe                             1\n",
              "Nome             Abbing, Mr. Anthony\n",
              "Sexo                          female\n",
              "Idade                           0.42\n",
              "IrmaosConjuge                      0\n",
              "PaisFilhos                         0\n",
              "Bilhete                       110152\n",
              "Tarifa                             0\n",
              "dtype: object"
            ]
          },
          "metadata": {
            "tags": []
          },
          "execution_count": 32
        }
      ]
    },
    {
      "cell_type": "code",
      "metadata": {
        "colab": {
          "base_uri": "https://localhost:8080/"
        },
        "id": "0DNwnfoP6X37",
        "outputId": "542cf7c4-8a28-49e1-f53e-f96deb8969a9"
      },
      "source": [
        "data.max()"
      ],
      "execution_count": 33,
      "outputs": [
        {
          "output_type": "execute_result",
          "data": {
            "text/plain": [
              "IdPassageiro                             891\n",
              "Sobreviveu                                 1\n",
              "Classe                                     3\n",
              "Nome             van Melkebeke, Mr. Philemon\n",
              "Sexo                                    male\n",
              "Idade                                     80\n",
              "IrmaosConjuge                              8\n",
              "PaisFilhos                                 6\n",
              "Bilhete                            WE/P 5735\n",
              "Tarifa                               512.329\n",
              "dtype: object"
            ]
          },
          "metadata": {
            "tags": []
          },
          "execution_count": 33
        }
      ]
    },
    {
      "cell_type": "code",
      "metadata": {
        "id": "hEm8Ox1Q6gs_"
      },
      "source": [
        "#data.idxmin() #para data frame não funciona o idxmin e idxmax"
      ],
      "execution_count": 34,
      "outputs": []
    },
    {
      "cell_type": "markdown",
      "metadata": {
        "id": "V2Nk59BJ8FJq"
      },
      "source": [
        "**Selecionando pelo Index - iloc**"
      ]
    },
    {
      "cell_type": "code",
      "metadata": {
        "colab": {
          "base_uri": "https://localhost:8080/"
        },
        "id": "EHVLMpa88EM1",
        "outputId": "ad0fd85b-4035-4894-fc84-9ab3a95c14ba"
      },
      "source": [
        "data.iloc[630]"
      ],
      "execution_count": 35,
      "outputs": [
        {
          "output_type": "execute_result",
          "data": {
            "text/plain": [
              "IdPassageiro                                      631\n",
              "Sobreviveu                                          1\n",
              "Classe                                              1\n",
              "Nome             Barkworth, Mr. Algernon Henry Wilson\n",
              "Sexo                                             male\n",
              "Idade                                              80\n",
              "IrmaosConjuge                                       0\n",
              "PaisFilhos                                          0\n",
              "Bilhete                                         27042\n",
              "Tarifa                                             30\n",
              "Cabine                                            A23\n",
              "Embarque                                            S\n",
              "Name: 630, dtype: object"
            ]
          },
          "metadata": {
            "tags": []
          },
          "execution_count": 35
        }
      ]
    },
    {
      "cell_type": "code",
      "metadata": {
        "colab": {
          "base_uri": "https://localhost:8080/"
        },
        "id": "yxUOqA5G9Aao",
        "outputId": "7d8bb4e9-f38f-460f-ba5a-8cae74d636f9"
      },
      "source": [
        "data.iloc[803]"
      ],
      "execution_count": 36,
      "outputs": [
        {
          "output_type": "execute_result",
          "data": {
            "text/plain": [
              "IdPassageiro                                 804\n",
              "Sobreviveu                                     1\n",
              "Classe                                         3\n",
              "Nome             Thomas, Master. Assad Alexander\n",
              "Sexo                                        male\n",
              "Idade                                       0.42\n",
              "IrmaosConjuge                                  0\n",
              "PaisFilhos                                     1\n",
              "Bilhete                                     2625\n",
              "Tarifa                                    8.5167\n",
              "Cabine                                       NaN\n",
              "Embarque                                       C\n",
              "Name: 803, dtype: object"
            ]
          },
          "metadata": {
            "tags": []
          },
          "execution_count": 36
        }
      ]
    },
    {
      "cell_type": "code",
      "metadata": {
        "colab": {
          "base_uri": "https://localhost:8080/",
          "height": 151
        },
        "id": "tbRrIH2o9TpM",
        "outputId": "af41b037-96b2-4c98-f1d2-124371f981dc"
      },
      "source": [
        "data.iloc[[803]]"
      ],
      "execution_count": 37,
      "outputs": [
        {
          "output_type": "execute_result",
          "data": {
            "text/html": [
              "<div>\n",
              "<style scoped>\n",
              "    .dataframe tbody tr th:only-of-type {\n",
              "        vertical-align: middle;\n",
              "    }\n",
              "\n",
              "    .dataframe tbody tr th {\n",
              "        vertical-align: top;\n",
              "    }\n",
              "\n",
              "    .dataframe thead th {\n",
              "        text-align: right;\n",
              "    }\n",
              "</style>\n",
              "<table border=\"1\" class=\"dataframe\">\n",
              "  <thead>\n",
              "    <tr style=\"text-align: right;\">\n",
              "      <th></th>\n",
              "      <th>IdPassageiro</th>\n",
              "      <th>Sobreviveu</th>\n",
              "      <th>Classe</th>\n",
              "      <th>Nome</th>\n",
              "      <th>Sexo</th>\n",
              "      <th>Idade</th>\n",
              "      <th>IrmaosConjuge</th>\n",
              "      <th>PaisFilhos</th>\n",
              "      <th>Bilhete</th>\n",
              "      <th>Tarifa</th>\n",
              "      <th>Cabine</th>\n",
              "      <th>Embarque</th>\n",
              "    </tr>\n",
              "  </thead>\n",
              "  <tbody>\n",
              "    <tr>\n",
              "      <th>803</th>\n",
              "      <td>804</td>\n",
              "      <td>1</td>\n",
              "      <td>3</td>\n",
              "      <td>Thomas, Master. Assad Alexander</td>\n",
              "      <td>male</td>\n",
              "      <td>0.42</td>\n",
              "      <td>0</td>\n",
              "      <td>1</td>\n",
              "      <td>2625</td>\n",
              "      <td>8.5167</td>\n",
              "      <td>NaN</td>\n",
              "      <td>C</td>\n",
              "    </tr>\n",
              "  </tbody>\n",
              "</table>\n",
              "</div>"
            ],
            "text/plain": [
              "     IdPassageiro  Sobreviveu  Classe  ...  Tarifa Cabine  Embarque\n",
              "803           804           1       3  ...  8.5167    NaN         C\n",
              "\n",
              "[1 rows x 12 columns]"
            ]
          },
          "metadata": {
            "tags": []
          },
          "execution_count": 37
        }
      ]
    },
    {
      "cell_type": "code",
      "metadata": {
        "colab": {
          "base_uri": "https://localhost:8080/",
          "height": 380
        },
        "id": "r8u-dfha9bul",
        "outputId": "965d8c5d-2b59-47cc-ec02-9ab4aefbfd92"
      },
      "source": [
        "data.iloc[[630,70,803,80]]"
      ],
      "execution_count": 38,
      "outputs": [
        {
          "output_type": "execute_result",
          "data": {
            "text/html": [
              "<div>\n",
              "<style scoped>\n",
              "    .dataframe tbody tr th:only-of-type {\n",
              "        vertical-align: middle;\n",
              "    }\n",
              "\n",
              "    .dataframe tbody tr th {\n",
              "        vertical-align: top;\n",
              "    }\n",
              "\n",
              "    .dataframe thead th {\n",
              "        text-align: right;\n",
              "    }\n",
              "</style>\n",
              "<table border=\"1\" class=\"dataframe\">\n",
              "  <thead>\n",
              "    <tr style=\"text-align: right;\">\n",
              "      <th></th>\n",
              "      <th>IdPassageiro</th>\n",
              "      <th>Sobreviveu</th>\n",
              "      <th>Classe</th>\n",
              "      <th>Nome</th>\n",
              "      <th>Sexo</th>\n",
              "      <th>Idade</th>\n",
              "      <th>IrmaosConjuge</th>\n",
              "      <th>PaisFilhos</th>\n",
              "      <th>Bilhete</th>\n",
              "      <th>Tarifa</th>\n",
              "      <th>Cabine</th>\n",
              "      <th>Embarque</th>\n",
              "    </tr>\n",
              "  </thead>\n",
              "  <tbody>\n",
              "    <tr>\n",
              "      <th>630</th>\n",
              "      <td>631</td>\n",
              "      <td>1</td>\n",
              "      <td>1</td>\n",
              "      <td>Barkworth, Mr. Algernon Henry Wilson</td>\n",
              "      <td>male</td>\n",
              "      <td>80.00</td>\n",
              "      <td>0</td>\n",
              "      <td>0</td>\n",
              "      <td>27042</td>\n",
              "      <td>30.0000</td>\n",
              "      <td>A23</td>\n",
              "      <td>S</td>\n",
              "    </tr>\n",
              "    <tr>\n",
              "      <th>70</th>\n",
              "      <td>71</td>\n",
              "      <td>0</td>\n",
              "      <td>2</td>\n",
              "      <td>Jenkin, Mr. Stephen Curnow</td>\n",
              "      <td>male</td>\n",
              "      <td>32.00</td>\n",
              "      <td>0</td>\n",
              "      <td>0</td>\n",
              "      <td>C.A. 33111</td>\n",
              "      <td>10.5000</td>\n",
              "      <td>NaN</td>\n",
              "      <td>S</td>\n",
              "    </tr>\n",
              "    <tr>\n",
              "      <th>803</th>\n",
              "      <td>804</td>\n",
              "      <td>1</td>\n",
              "      <td>3</td>\n",
              "      <td>Thomas, Master. Assad Alexander</td>\n",
              "      <td>male</td>\n",
              "      <td>0.42</td>\n",
              "      <td>0</td>\n",
              "      <td>1</td>\n",
              "      <td>2625</td>\n",
              "      <td>8.5167</td>\n",
              "      <td>NaN</td>\n",
              "      <td>C</td>\n",
              "    </tr>\n",
              "    <tr>\n",
              "      <th>80</th>\n",
              "      <td>81</td>\n",
              "      <td>0</td>\n",
              "      <td>3</td>\n",
              "      <td>Waelens, Mr. Achille</td>\n",
              "      <td>male</td>\n",
              "      <td>22.00</td>\n",
              "      <td>0</td>\n",
              "      <td>0</td>\n",
              "      <td>345767</td>\n",
              "      <td>9.0000</td>\n",
              "      <td>NaN</td>\n",
              "      <td>S</td>\n",
              "    </tr>\n",
              "  </tbody>\n",
              "</table>\n",
              "</div>"
            ],
            "text/plain": [
              "     IdPassageiro  Sobreviveu  Classe  ...   Tarifa Cabine  Embarque\n",
              "630           631           1       1  ...  30.0000    A23         S\n",
              "70             71           0       2  ...  10.5000    NaN         S\n",
              "803           804           1       3  ...   8.5167    NaN         C\n",
              "80             81           0       3  ...   9.0000    NaN         S\n",
              "\n",
              "[4 rows x 12 columns]"
            ]
          },
          "metadata": {
            "tags": []
          },
          "execution_count": 38
        }
      ]
    },
    {
      "cell_type": "code",
      "metadata": {
        "colab": {
          "base_uri": "https://localhost:8080/",
          "height": 250
        },
        "id": "SfT7FIGm9cpl",
        "outputId": "27b8266c-2147-41e9-d6f1-d2f90bbd75e1"
      },
      "source": [
        "data.iloc[1:3]"
      ],
      "execution_count": 39,
      "outputs": [
        {
          "output_type": "execute_result",
          "data": {
            "text/html": [
              "<div>\n",
              "<style scoped>\n",
              "    .dataframe tbody tr th:only-of-type {\n",
              "        vertical-align: middle;\n",
              "    }\n",
              "\n",
              "    .dataframe tbody tr th {\n",
              "        vertical-align: top;\n",
              "    }\n",
              "\n",
              "    .dataframe thead th {\n",
              "        text-align: right;\n",
              "    }\n",
              "</style>\n",
              "<table border=\"1\" class=\"dataframe\">\n",
              "  <thead>\n",
              "    <tr style=\"text-align: right;\">\n",
              "      <th></th>\n",
              "      <th>IdPassageiro</th>\n",
              "      <th>Sobreviveu</th>\n",
              "      <th>Classe</th>\n",
              "      <th>Nome</th>\n",
              "      <th>Sexo</th>\n",
              "      <th>Idade</th>\n",
              "      <th>IrmaosConjuge</th>\n",
              "      <th>PaisFilhos</th>\n",
              "      <th>Bilhete</th>\n",
              "      <th>Tarifa</th>\n",
              "      <th>Cabine</th>\n",
              "      <th>Embarque</th>\n",
              "    </tr>\n",
              "  </thead>\n",
              "  <tbody>\n",
              "    <tr>\n",
              "      <th>1</th>\n",
              "      <td>2</td>\n",
              "      <td>1</td>\n",
              "      <td>1</td>\n",
              "      <td>Cumings, Mrs. John Bradley (Florence Briggs Th...</td>\n",
              "      <td>female</td>\n",
              "      <td>38.0</td>\n",
              "      <td>1</td>\n",
              "      <td>0</td>\n",
              "      <td>PC 17599</td>\n",
              "      <td>71.2833</td>\n",
              "      <td>C85</td>\n",
              "      <td>C</td>\n",
              "    </tr>\n",
              "    <tr>\n",
              "      <th>2</th>\n",
              "      <td>3</td>\n",
              "      <td>1</td>\n",
              "      <td>3</td>\n",
              "      <td>Heikkinen, Miss. Laina</td>\n",
              "      <td>female</td>\n",
              "      <td>26.0</td>\n",
              "      <td>0</td>\n",
              "      <td>0</td>\n",
              "      <td>STON/O2. 3101282</td>\n",
              "      <td>7.9250</td>\n",
              "      <td>NaN</td>\n",
              "      <td>S</td>\n",
              "    </tr>\n",
              "  </tbody>\n",
              "</table>\n",
              "</div>"
            ],
            "text/plain": [
              "   IdPassageiro  Sobreviveu  Classe  ...   Tarifa Cabine  Embarque\n",
              "1             2           1       1  ...  71.2833    C85         C\n",
              "2             3           1       3  ...   7.9250    NaN         S\n",
              "\n",
              "[2 rows x 12 columns]"
            ]
          },
          "metadata": {
            "tags": []
          },
          "execution_count": 39
        }
      ]
    },
    {
      "cell_type": "code",
      "metadata": {
        "colab": {
          "base_uri": "https://localhost:8080/",
          "height": 35
        },
        "id": "KMZr9jJsDqAV",
        "outputId": "0226cae3-457f-4234-8b19-46d941517fdd"
      },
      "source": [
        "data['Nome'].iloc[2] #para ver uma informação em especifico"
      ],
      "execution_count": 40,
      "outputs": [
        {
          "output_type": "execute_result",
          "data": {
            "application/vnd.google.colaboratory.intrinsic+json": {
              "type": "string"
            },
            "text/plain": [
              "'Heikkinen, Miss. Laina'"
            ]
          },
          "metadata": {
            "tags": []
          },
          "execution_count": 40
        }
      ]
    },
    {
      "cell_type": "markdown",
      "metadata": {
        "id": "5JH9X5r9EUDb"
      },
      "source": [
        "**Operador de seleção \"loc\"**"
      ]
    },
    {
      "cell_type": "code",
      "metadata": {
        "colab": {
          "base_uri": "https://localhost:8080/",
          "height": 204
        },
        "id": "pTxEx7-vEIaX",
        "outputId": "1dacc539-3c1e-4b81-aba1-0fee36f6cabe"
      },
      "source": [
        "data[['Idade','Sexo','Tarifa', 'Classe','Sobreviveu']].loc[data['Sexo']=='male'].head()"
      ],
      "execution_count": 41,
      "outputs": [
        {
          "output_type": "execute_result",
          "data": {
            "text/html": [
              "<div>\n",
              "<style scoped>\n",
              "    .dataframe tbody tr th:only-of-type {\n",
              "        vertical-align: middle;\n",
              "    }\n",
              "\n",
              "    .dataframe tbody tr th {\n",
              "        vertical-align: top;\n",
              "    }\n",
              "\n",
              "    .dataframe thead th {\n",
              "        text-align: right;\n",
              "    }\n",
              "</style>\n",
              "<table border=\"1\" class=\"dataframe\">\n",
              "  <thead>\n",
              "    <tr style=\"text-align: right;\">\n",
              "      <th></th>\n",
              "      <th>Idade</th>\n",
              "      <th>Sexo</th>\n",
              "      <th>Tarifa</th>\n",
              "      <th>Classe</th>\n",
              "      <th>Sobreviveu</th>\n",
              "    </tr>\n",
              "  </thead>\n",
              "  <tbody>\n",
              "    <tr>\n",
              "      <th>0</th>\n",
              "      <td>22.0</td>\n",
              "      <td>male</td>\n",
              "      <td>7.2500</td>\n",
              "      <td>3</td>\n",
              "      <td>0</td>\n",
              "    </tr>\n",
              "    <tr>\n",
              "      <th>4</th>\n",
              "      <td>35.0</td>\n",
              "      <td>male</td>\n",
              "      <td>8.0500</td>\n",
              "      <td>3</td>\n",
              "      <td>0</td>\n",
              "    </tr>\n",
              "    <tr>\n",
              "      <th>5</th>\n",
              "      <td>NaN</td>\n",
              "      <td>male</td>\n",
              "      <td>8.4583</td>\n",
              "      <td>3</td>\n",
              "      <td>0</td>\n",
              "    </tr>\n",
              "    <tr>\n",
              "      <th>6</th>\n",
              "      <td>54.0</td>\n",
              "      <td>male</td>\n",
              "      <td>51.8625</td>\n",
              "      <td>1</td>\n",
              "      <td>0</td>\n",
              "    </tr>\n",
              "    <tr>\n",
              "      <th>7</th>\n",
              "      <td>2.0</td>\n",
              "      <td>male</td>\n",
              "      <td>21.0750</td>\n",
              "      <td>3</td>\n",
              "      <td>0</td>\n",
              "    </tr>\n",
              "  </tbody>\n",
              "</table>\n",
              "</div>"
            ],
            "text/plain": [
              "   Idade  Sexo   Tarifa  Classe  Sobreviveu\n",
              "0   22.0  male   7.2500       3           0\n",
              "4   35.0  male   8.0500       3           0\n",
              "5    NaN  male   8.4583       3           0\n",
              "6   54.0  male  51.8625       1           0\n",
              "7    2.0  male  21.0750       3           0"
            ]
          },
          "metadata": {
            "tags": []
          },
          "execution_count": 41
        }
      ]
    },
    {
      "cell_type": "code",
      "metadata": {
        "colab": {
          "base_uri": "https://localhost:8080/",
          "height": 576
        },
        "id": "dsYgCMiPHIQP",
        "outputId": "17511e01-3ad7-4d16-fe59-3f48bf75a948"
      },
      "source": [
        "data[['Nome','Sexo','Tarifa','Classe','Sobreviveu']]\\\n",
        ".loc[(data['Idade']>=3) & (data['Idade']<=10) & (data['Sobreviveu']==0)]"
      ],
      "execution_count": 42,
      "outputs": [
        {
          "output_type": "execute_result",
          "data": {
            "text/html": [
              "<div>\n",
              "<style scoped>\n",
              "    .dataframe tbody tr th:only-of-type {\n",
              "        vertical-align: middle;\n",
              "    }\n",
              "\n",
              "    .dataframe tbody tr th {\n",
              "        vertical-align: top;\n",
              "    }\n",
              "\n",
              "    .dataframe thead th {\n",
              "        text-align: right;\n",
              "    }\n",
              "</style>\n",
              "<table border=\"1\" class=\"dataframe\">\n",
              "  <thead>\n",
              "    <tr style=\"text-align: right;\">\n",
              "      <th></th>\n",
              "      <th>Nome</th>\n",
              "      <th>Sexo</th>\n",
              "      <th>Tarifa</th>\n",
              "      <th>Classe</th>\n",
              "      <th>Sobreviveu</th>\n",
              "    </tr>\n",
              "  </thead>\n",
              "  <tbody>\n",
              "    <tr>\n",
              "      <th>24</th>\n",
              "      <td>Palsson, Miss. Torborg Danira</td>\n",
              "      <td>female</td>\n",
              "      <td>21.0750</td>\n",
              "      <td>3</td>\n",
              "      <td>0</td>\n",
              "    </tr>\n",
              "    <tr>\n",
              "      <th>50</th>\n",
              "      <td>Panula, Master. Juha Niilo</td>\n",
              "      <td>male</td>\n",
              "      <td>39.6875</td>\n",
              "      <td>3</td>\n",
              "      <td>0</td>\n",
              "    </tr>\n",
              "    <tr>\n",
              "      <th>63</th>\n",
              "      <td>Skoog, Master. Harald</td>\n",
              "      <td>male</td>\n",
              "      <td>27.9000</td>\n",
              "      <td>3</td>\n",
              "      <td>0</td>\n",
              "    </tr>\n",
              "    <tr>\n",
              "      <th>147</th>\n",
              "      <td>Ford, Miss. Robina Maggie \"Ruby\"</td>\n",
              "      <td>female</td>\n",
              "      <td>34.3750</td>\n",
              "      <td>3</td>\n",
              "      <td>0</td>\n",
              "    </tr>\n",
              "    <tr>\n",
              "      <th>171</th>\n",
              "      <td>Rice, Master. Arthur</td>\n",
              "      <td>male</td>\n",
              "      <td>29.1250</td>\n",
              "      <td>3</td>\n",
              "      <td>0</td>\n",
              "    </tr>\n",
              "    <tr>\n",
              "      <th>182</th>\n",
              "      <td>Asplund, Master. Clarence Gustaf Hugo</td>\n",
              "      <td>male</td>\n",
              "      <td>31.3875</td>\n",
              "      <td>3</td>\n",
              "      <td>0</td>\n",
              "    </tr>\n",
              "    <tr>\n",
              "      <th>278</th>\n",
              "      <td>Rice, Master. Eric</td>\n",
              "      <td>male</td>\n",
              "      <td>29.1250</td>\n",
              "      <td>3</td>\n",
              "      <td>0</td>\n",
              "    </tr>\n",
              "    <tr>\n",
              "      <th>374</th>\n",
              "      <td>Palsson, Miss. Stina Viola</td>\n",
              "      <td>female</td>\n",
              "      <td>21.0750</td>\n",
              "      <td>3</td>\n",
              "      <td>0</td>\n",
              "    </tr>\n",
              "    <tr>\n",
              "      <th>419</th>\n",
              "      <td>Van Impe, Miss. Catharina</td>\n",
              "      <td>female</td>\n",
              "      <td>24.1500</td>\n",
              "      <td>3</td>\n",
              "      <td>0</td>\n",
              "    </tr>\n",
              "    <tr>\n",
              "      <th>480</th>\n",
              "      <td>Goodwin, Master. Harold Victor</td>\n",
              "      <td>male</td>\n",
              "      <td>46.9000</td>\n",
              "      <td>3</td>\n",
              "      <td>0</td>\n",
              "    </tr>\n",
              "    <tr>\n",
              "      <th>541</th>\n",
              "      <td>Andersson, Miss. Ingeborg Constanzia</td>\n",
              "      <td>female</td>\n",
              "      <td>31.2750</td>\n",
              "      <td>3</td>\n",
              "      <td>0</td>\n",
              "    </tr>\n",
              "    <tr>\n",
              "      <th>634</th>\n",
              "      <td>Skoog, Miss. Mabel</td>\n",
              "      <td>female</td>\n",
              "      <td>27.9000</td>\n",
              "      <td>3</td>\n",
              "      <td>0</td>\n",
              "    </tr>\n",
              "    <tr>\n",
              "      <th>787</th>\n",
              "      <td>Rice, Master. George Hugh</td>\n",
              "      <td>male</td>\n",
              "      <td>29.1250</td>\n",
              "      <td>3</td>\n",
              "      <td>0</td>\n",
              "    </tr>\n",
              "    <tr>\n",
              "      <th>813</th>\n",
              "      <td>Andersson, Miss. Ebba Iris Alfrida</td>\n",
              "      <td>female</td>\n",
              "      <td>31.2750</td>\n",
              "      <td>3</td>\n",
              "      <td>0</td>\n",
              "    </tr>\n",
              "    <tr>\n",
              "      <th>819</th>\n",
              "      <td>Skoog, Master. Karl Thorsten</td>\n",
              "      <td>male</td>\n",
              "      <td>27.9000</td>\n",
              "      <td>3</td>\n",
              "      <td>0</td>\n",
              "    </tr>\n",
              "    <tr>\n",
              "      <th>850</th>\n",
              "      <td>Andersson, Master. Sigvard Harald Elias</td>\n",
              "      <td>male</td>\n",
              "      <td>31.2750</td>\n",
              "      <td>3</td>\n",
              "      <td>0</td>\n",
              "    </tr>\n",
              "    <tr>\n",
              "      <th>852</th>\n",
              "      <td>Boulos, Miss. Nourelain</td>\n",
              "      <td>female</td>\n",
              "      <td>15.2458</td>\n",
              "      <td>3</td>\n",
              "      <td>0</td>\n",
              "    </tr>\n",
              "  </tbody>\n",
              "</table>\n",
              "</div>"
            ],
            "text/plain": [
              "                                        Nome    Sexo  ...  Classe  Sobreviveu\n",
              "24             Palsson, Miss. Torborg Danira  female  ...       3           0\n",
              "50                Panula, Master. Juha Niilo    male  ...       3           0\n",
              "63                     Skoog, Master. Harald    male  ...       3           0\n",
              "147         Ford, Miss. Robina Maggie \"Ruby\"  female  ...       3           0\n",
              "171                     Rice, Master. Arthur    male  ...       3           0\n",
              "182    Asplund, Master. Clarence Gustaf Hugo    male  ...       3           0\n",
              "278                       Rice, Master. Eric    male  ...       3           0\n",
              "374               Palsson, Miss. Stina Viola  female  ...       3           0\n",
              "419                Van Impe, Miss. Catharina  female  ...       3           0\n",
              "480           Goodwin, Master. Harold Victor    male  ...       3           0\n",
              "541     Andersson, Miss. Ingeborg Constanzia  female  ...       3           0\n",
              "634                       Skoog, Miss. Mabel  female  ...       3           0\n",
              "787                Rice, Master. George Hugh    male  ...       3           0\n",
              "813       Andersson, Miss. Ebba Iris Alfrida  female  ...       3           0\n",
              "819             Skoog, Master. Karl Thorsten    male  ...       3           0\n",
              "850  Andersson, Master. Sigvard Harald Elias    male  ...       3           0\n",
              "852                  Boulos, Miss. Nourelain  female  ...       3           0\n",
              "\n",
              "[17 rows x 5 columns]"
            ]
          },
          "metadata": {
            "tags": []
          },
          "execution_count": 42
        }
      ]
    },
    {
      "cell_type": "code",
      "metadata": {
        "colab": {
          "base_uri": "https://localhost:8080/"
        },
        "id": "WXHNPlgiJJ55",
        "outputId": "91c15a6e-4775-4801-c127-606a019099ee"
      },
      "source": [
        "data[['Idade', 'Sexo', 'Classe', 'Sobreviveu']]\\\n",
        ".loc[(data['Idade']>14) & (data['Sobreviveu']==1)].count()"
      ],
      "execution_count": 43,
      "outputs": [
        {
          "output_type": "execute_result",
          "data": {
            "text/plain": [
              "Idade         245\n",
              "Sexo          245\n",
              "Classe        245\n",
              "Sobreviveu    245\n",
              "dtype: int64"
            ]
          },
          "metadata": {
            "tags": []
          },
          "execution_count": 43
        }
      ]
    },
    {
      "cell_type": "markdown",
      "metadata": {
        "id": "-qq_TkpXKquQ"
      },
      "source": [
        "**map e replace**"
      ]
    },
    {
      "cell_type": "code",
      "metadata": {
        "colab": {
          "base_uri": "https://localhost:8080/"
        },
        "id": "dncKn1_lKpVo",
        "outputId": "3108a5f5-adbd-474e-aed8-4b4baaac0d8f"
      },
      "source": [
        "data['Sexo'].map({'male':'homem', 'female': 'mulher'}) #substitui os nomes,ainda não foi aplicado"
      ],
      "execution_count": 44,
      "outputs": [
        {
          "output_type": "execute_result",
          "data": {
            "text/plain": [
              "0       homem\n",
              "1      mulher\n",
              "2      mulher\n",
              "3      mulher\n",
              "4       homem\n",
              "        ...  \n",
              "886     homem\n",
              "887    mulher\n",
              "888    mulher\n",
              "889     homem\n",
              "890     homem\n",
              "Name: Sexo, Length: 891, dtype: object"
            ]
          },
          "metadata": {
            "tags": []
          },
          "execution_count": 44
        }
      ]
    },
    {
      "cell_type": "code",
      "metadata": {
        "colab": {
          "base_uri": "https://localhost:8080/"
        },
        "id": "nsrQmG-nLYWd",
        "outputId": "68c48b57-9bf7-48a7-86ce-bce7c50a7303"
      },
      "source": [
        "data['Sexo'].replace({'male':'homem', 'female': 'mulher'}) #substitui os nome"
      ],
      "execution_count": 45,
      "outputs": [
        {
          "output_type": "execute_result",
          "data": {
            "text/plain": [
              "0       homem\n",
              "1      mulher\n",
              "2      mulher\n",
              "3      mulher\n",
              "4       homem\n",
              "        ...  \n",
              "886     homem\n",
              "887    mulher\n",
              "888    mulher\n",
              "889     homem\n",
              "890     homem\n",
              "Name: Sexo, Length: 891, dtype: object"
            ]
          },
          "metadata": {
            "tags": []
          },
          "execution_count": 45
        }
      ]
    },
    {
      "cell_type": "code",
      "metadata": {
        "id": "xJa7EFt9LqY4"
      },
      "source": [
        "data['Sexo'].replace(['male','female'], ['homem','mulher'], inplace=True) #substitui os nome"
      ],
      "execution_count": 46,
      "outputs": []
    },
    {
      "cell_type": "code",
      "metadata": {
        "colab": {
          "base_uri": "https://localhost:8080/"
        },
        "id": "jh0o58PmMS8y",
        "outputId": "336c4be2-71bb-409b-dce3-6f78a4a87aff"
      },
      "source": [
        "data['Sexo']"
      ],
      "execution_count": 47,
      "outputs": [
        {
          "output_type": "execute_result",
          "data": {
            "text/plain": [
              "0       homem\n",
              "1      mulher\n",
              "2      mulher\n",
              "3      mulher\n",
              "4       homem\n",
              "        ...  \n",
              "886     homem\n",
              "887    mulher\n",
              "888    mulher\n",
              "889     homem\n",
              "890     homem\n",
              "Name: Sexo, Length: 891, dtype: object"
            ]
          },
          "metadata": {
            "tags": []
          },
          "execution_count": 47
        }
      ]
    },
    {
      "cell_type": "code",
      "metadata": {
        "id": "KOq6Fzu3MhTD"
      },
      "source": [
        "#data['Sexo'] = data['Sexo'].map({'homem':'male', 'mulher': 'female'})"
      ],
      "execution_count": 48,
      "outputs": []
    },
    {
      "cell_type": "code",
      "metadata": {
        "colab": {
          "base_uri": "https://localhost:8080/"
        },
        "id": "VVyFe01pQ5cE",
        "outputId": "14fccd48-705c-4603-edf8-4cffd2ce81d5"
      },
      "source": [
        "data['Sexo']"
      ],
      "execution_count": 49,
      "outputs": [
        {
          "output_type": "execute_result",
          "data": {
            "text/plain": [
              "0       homem\n",
              "1      mulher\n",
              "2      mulher\n",
              "3      mulher\n",
              "4       homem\n",
              "        ...  \n",
              "886     homem\n",
              "887    mulher\n",
              "888    mulher\n",
              "889     homem\n",
              "890     homem\n",
              "Name: Sexo, Length: 891, dtype: object"
            ]
          },
          "metadata": {
            "tags": []
          },
          "execution_count": 49
        }
      ]
    },
    {
      "cell_type": "code",
      "metadata": {
        "colab": {
          "base_uri": "https://localhost:8080/",
          "height": 162
        },
        "id": "pDWhu3p5KacG",
        "outputId": "e321026a-b9c5-4d22-c1bc-0dcc539ffa25"
      },
      "source": [
        "data.groupby('Sexo').mean()"
      ],
      "execution_count": 50,
      "outputs": [
        {
          "output_type": "execute_result",
          "data": {
            "text/html": [
              "<div>\n",
              "<style scoped>\n",
              "    .dataframe tbody tr th:only-of-type {\n",
              "        vertical-align: middle;\n",
              "    }\n",
              "\n",
              "    .dataframe tbody tr th {\n",
              "        vertical-align: top;\n",
              "    }\n",
              "\n",
              "    .dataframe thead th {\n",
              "        text-align: right;\n",
              "    }\n",
              "</style>\n",
              "<table border=\"1\" class=\"dataframe\">\n",
              "  <thead>\n",
              "    <tr style=\"text-align: right;\">\n",
              "      <th></th>\n",
              "      <th>IdPassageiro</th>\n",
              "      <th>Sobreviveu</th>\n",
              "      <th>Classe</th>\n",
              "      <th>Idade</th>\n",
              "      <th>IrmaosConjuge</th>\n",
              "      <th>PaisFilhos</th>\n",
              "      <th>Tarifa</th>\n",
              "    </tr>\n",
              "    <tr>\n",
              "      <th>Sexo</th>\n",
              "      <th></th>\n",
              "      <th></th>\n",
              "      <th></th>\n",
              "      <th></th>\n",
              "      <th></th>\n",
              "      <th></th>\n",
              "      <th></th>\n",
              "    </tr>\n",
              "  </thead>\n",
              "  <tbody>\n",
              "    <tr>\n",
              "      <th>homem</th>\n",
              "      <td>454.147314</td>\n",
              "      <td>0.188908</td>\n",
              "      <td>2.389948</td>\n",
              "      <td>30.726645</td>\n",
              "      <td>0.429809</td>\n",
              "      <td>0.235702</td>\n",
              "      <td>25.523893</td>\n",
              "    </tr>\n",
              "    <tr>\n",
              "      <th>mulher</th>\n",
              "      <td>431.028662</td>\n",
              "      <td>0.742038</td>\n",
              "      <td>2.159236</td>\n",
              "      <td>27.915709</td>\n",
              "      <td>0.694268</td>\n",
              "      <td>0.649682</td>\n",
              "      <td>44.479818</td>\n",
              "    </tr>\n",
              "  </tbody>\n",
              "</table>\n",
              "</div>"
            ],
            "text/plain": [
              "        IdPassageiro  Sobreviveu  ...  PaisFilhos     Tarifa\n",
              "Sexo                              ...                       \n",
              "homem     454.147314    0.188908  ...    0.235702  25.523893\n",
              "mulher    431.028662    0.742038  ...    0.649682  44.479818\n",
              "\n",
              "[2 rows x 7 columns]"
            ]
          },
          "metadata": {
            "tags": []
          },
          "execution_count": 50
        }
      ]
    },
    {
      "cell_type": "code",
      "metadata": {
        "colab": {
          "base_uri": "https://localhost:8080/",
          "height": 162
        },
        "id": "kPHQUsgzMAdN",
        "outputId": "8d228e9a-38e8-4c40-dbdd-e1fbbe4d26b0"
      },
      "source": [
        "data.groupby('Sobreviveu').mean()"
      ],
      "execution_count": 51,
      "outputs": [
        {
          "output_type": "execute_result",
          "data": {
            "text/html": [
              "<div>\n",
              "<style scoped>\n",
              "    .dataframe tbody tr th:only-of-type {\n",
              "        vertical-align: middle;\n",
              "    }\n",
              "\n",
              "    .dataframe tbody tr th {\n",
              "        vertical-align: top;\n",
              "    }\n",
              "\n",
              "    .dataframe thead th {\n",
              "        text-align: right;\n",
              "    }\n",
              "</style>\n",
              "<table border=\"1\" class=\"dataframe\">\n",
              "  <thead>\n",
              "    <tr style=\"text-align: right;\">\n",
              "      <th></th>\n",
              "      <th>IdPassageiro</th>\n",
              "      <th>Classe</th>\n",
              "      <th>Idade</th>\n",
              "      <th>IrmaosConjuge</th>\n",
              "      <th>PaisFilhos</th>\n",
              "      <th>Tarifa</th>\n",
              "    </tr>\n",
              "    <tr>\n",
              "      <th>Sobreviveu</th>\n",
              "      <th></th>\n",
              "      <th></th>\n",
              "      <th></th>\n",
              "      <th></th>\n",
              "      <th></th>\n",
              "      <th></th>\n",
              "    </tr>\n",
              "  </thead>\n",
              "  <tbody>\n",
              "    <tr>\n",
              "      <th>0</th>\n",
              "      <td>447.016393</td>\n",
              "      <td>2.531876</td>\n",
              "      <td>30.626179</td>\n",
              "      <td>0.553734</td>\n",
              "      <td>0.329690</td>\n",
              "      <td>22.117887</td>\n",
              "    </tr>\n",
              "    <tr>\n",
              "      <th>1</th>\n",
              "      <td>444.368421</td>\n",
              "      <td>1.950292</td>\n",
              "      <td>28.343690</td>\n",
              "      <td>0.473684</td>\n",
              "      <td>0.464912</td>\n",
              "      <td>48.395408</td>\n",
              "    </tr>\n",
              "  </tbody>\n",
              "</table>\n",
              "</div>"
            ],
            "text/plain": [
              "            IdPassageiro    Classe  ...  PaisFilhos     Tarifa\n",
              "Sobreviveu                          ...                       \n",
              "0             447.016393  2.531876  ...    0.329690  22.117887\n",
              "1             444.368421  1.950292  ...    0.464912  48.395408\n",
              "\n",
              "[2 rows x 6 columns]"
            ]
          },
          "metadata": {
            "tags": []
          },
          "execution_count": 51
        }
      ]
    },
    {
      "cell_type": "code",
      "metadata": {
        "colab": {
          "base_uri": "https://localhost:8080/",
          "height": 173
        },
        "id": "W39h39SQNv8n",
        "outputId": "9f67a1c4-4b68-4deb-a7bf-81604af28d0e"
      },
      "source": [
        "data.groupby('Classe').mean()"
      ],
      "execution_count": 52,
      "outputs": [
        {
          "output_type": "execute_result",
          "data": {
            "text/html": [
              "<div>\n",
              "<style scoped>\n",
              "    .dataframe tbody tr th:only-of-type {\n",
              "        vertical-align: middle;\n",
              "    }\n",
              "\n",
              "    .dataframe tbody tr th {\n",
              "        vertical-align: top;\n",
              "    }\n",
              "\n",
              "    .dataframe thead th {\n",
              "        text-align: right;\n",
              "    }\n",
              "</style>\n",
              "<table border=\"1\" class=\"dataframe\">\n",
              "  <thead>\n",
              "    <tr style=\"text-align: right;\">\n",
              "      <th></th>\n",
              "      <th>IdPassageiro</th>\n",
              "      <th>Sobreviveu</th>\n",
              "      <th>Idade</th>\n",
              "      <th>IrmaosConjuge</th>\n",
              "      <th>PaisFilhos</th>\n",
              "      <th>Tarifa</th>\n",
              "    </tr>\n",
              "    <tr>\n",
              "      <th>Classe</th>\n",
              "      <th></th>\n",
              "      <th></th>\n",
              "      <th></th>\n",
              "      <th></th>\n",
              "      <th></th>\n",
              "      <th></th>\n",
              "    </tr>\n",
              "  </thead>\n",
              "  <tbody>\n",
              "    <tr>\n",
              "      <th>1</th>\n",
              "      <td>461.597222</td>\n",
              "      <td>0.629630</td>\n",
              "      <td>38.233441</td>\n",
              "      <td>0.416667</td>\n",
              "      <td>0.356481</td>\n",
              "      <td>84.154687</td>\n",
              "    </tr>\n",
              "    <tr>\n",
              "      <th>2</th>\n",
              "      <td>445.956522</td>\n",
              "      <td>0.472826</td>\n",
              "      <td>29.877630</td>\n",
              "      <td>0.402174</td>\n",
              "      <td>0.380435</td>\n",
              "      <td>20.662183</td>\n",
              "    </tr>\n",
              "    <tr>\n",
              "      <th>3</th>\n",
              "      <td>439.154786</td>\n",
              "      <td>0.242363</td>\n",
              "      <td>25.140620</td>\n",
              "      <td>0.615071</td>\n",
              "      <td>0.393075</td>\n",
              "      <td>13.675550</td>\n",
              "    </tr>\n",
              "  </tbody>\n",
              "</table>\n",
              "</div>"
            ],
            "text/plain": [
              "        IdPassageiro  Sobreviveu  ...  PaisFilhos     Tarifa\n",
              "Classe                            ...                       \n",
              "1         461.597222    0.629630  ...    0.356481  84.154687\n",
              "2         445.956522    0.472826  ...    0.380435  20.662183\n",
              "3         439.154786    0.242363  ...    0.393075  13.675550\n",
              "\n",
              "[3 rows x 6 columns]"
            ]
          },
          "metadata": {
            "tags": []
          },
          "execution_count": 52
        }
      ]
    },
    {
      "cell_type": "code",
      "metadata": {
        "colab": {
          "base_uri": "https://localhost:8080/",
          "height": 286
        },
        "id": "HfJ2zDBMOSIb",
        "outputId": "3a93952a-b30b-4925-95b5-78ef866f2150"
      },
      "source": [
        "data.groupby(['Sexo','Classe']).mean()"
      ],
      "execution_count": 53,
      "outputs": [
        {
          "output_type": "execute_result",
          "data": {
            "text/html": [
              "<div>\n",
              "<style scoped>\n",
              "    .dataframe tbody tr th:only-of-type {\n",
              "        vertical-align: middle;\n",
              "    }\n",
              "\n",
              "    .dataframe tbody tr th {\n",
              "        vertical-align: top;\n",
              "    }\n",
              "\n",
              "    .dataframe thead th {\n",
              "        text-align: right;\n",
              "    }\n",
              "</style>\n",
              "<table border=\"1\" class=\"dataframe\">\n",
              "  <thead>\n",
              "    <tr style=\"text-align: right;\">\n",
              "      <th></th>\n",
              "      <th></th>\n",
              "      <th>IdPassageiro</th>\n",
              "      <th>Sobreviveu</th>\n",
              "      <th>Idade</th>\n",
              "      <th>IrmaosConjuge</th>\n",
              "      <th>PaisFilhos</th>\n",
              "      <th>Tarifa</th>\n",
              "    </tr>\n",
              "    <tr>\n",
              "      <th>Sexo</th>\n",
              "      <th>Classe</th>\n",
              "      <th></th>\n",
              "      <th></th>\n",
              "      <th></th>\n",
              "      <th></th>\n",
              "      <th></th>\n",
              "      <th></th>\n",
              "    </tr>\n",
              "  </thead>\n",
              "  <tbody>\n",
              "    <tr>\n",
              "      <th rowspan=\"3\" valign=\"top\">homem</th>\n",
              "      <th>1</th>\n",
              "      <td>455.729508</td>\n",
              "      <td>0.368852</td>\n",
              "      <td>41.281386</td>\n",
              "      <td>0.311475</td>\n",
              "      <td>0.278689</td>\n",
              "      <td>67.226127</td>\n",
              "    </tr>\n",
              "    <tr>\n",
              "      <th>2</th>\n",
              "      <td>447.962963</td>\n",
              "      <td>0.157407</td>\n",
              "      <td>30.740707</td>\n",
              "      <td>0.342593</td>\n",
              "      <td>0.222222</td>\n",
              "      <td>19.741782</td>\n",
              "    </tr>\n",
              "    <tr>\n",
              "      <th>3</th>\n",
              "      <td>455.515850</td>\n",
              "      <td>0.135447</td>\n",
              "      <td>26.507589</td>\n",
              "      <td>0.498559</td>\n",
              "      <td>0.224784</td>\n",
              "      <td>12.661633</td>\n",
              "    </tr>\n",
              "    <tr>\n",
              "      <th rowspan=\"3\" valign=\"top\">mulher</th>\n",
              "      <th>1</th>\n",
              "      <td>469.212766</td>\n",
              "      <td>0.968085</td>\n",
              "      <td>34.611765</td>\n",
              "      <td>0.553191</td>\n",
              "      <td>0.457447</td>\n",
              "      <td>106.125798</td>\n",
              "    </tr>\n",
              "    <tr>\n",
              "      <th>2</th>\n",
              "      <td>443.105263</td>\n",
              "      <td>0.921053</td>\n",
              "      <td>28.722973</td>\n",
              "      <td>0.486842</td>\n",
              "      <td>0.605263</td>\n",
              "      <td>21.970121</td>\n",
              "    </tr>\n",
              "    <tr>\n",
              "      <th>3</th>\n",
              "      <td>399.729167</td>\n",
              "      <td>0.500000</td>\n",
              "      <td>21.750000</td>\n",
              "      <td>0.895833</td>\n",
              "      <td>0.798611</td>\n",
              "      <td>16.118810</td>\n",
              "    </tr>\n",
              "  </tbody>\n",
              "</table>\n",
              "</div>"
            ],
            "text/plain": [
              "               IdPassageiro  Sobreviveu  ...  PaisFilhos      Tarifa\n",
              "Sexo   Classe                            ...                        \n",
              "homem  1         455.729508    0.368852  ...    0.278689   67.226127\n",
              "       2         447.962963    0.157407  ...    0.222222   19.741782\n",
              "       3         455.515850    0.135447  ...    0.224784   12.661633\n",
              "mulher 1         469.212766    0.968085  ...    0.457447  106.125798\n",
              "       2         443.105263    0.921053  ...    0.605263   21.970121\n",
              "       3         399.729167    0.500000  ...    0.798611   16.118810\n",
              "\n",
              "[6 rows x 6 columns]"
            ]
          },
          "metadata": {
            "tags": []
          },
          "execution_count": 53
        }
      ]
    },
    {
      "cell_type": "code",
      "metadata": {
        "colab": {
          "base_uri": "https://localhost:8080/"
        },
        "id": "02fZlP1RPEWB",
        "outputId": "cc0a71e8-10bc-4008-fce6-f3dcc180826b"
      },
      "source": [
        "data.groupby(['Sexo','Classe']).mean().shape"
      ],
      "execution_count": 54,
      "outputs": [
        {
          "output_type": "execute_result",
          "data": {
            "text/plain": [
              "(6, 6)"
            ]
          },
          "metadata": {
            "tags": []
          },
          "execution_count": 54
        }
      ]
    },
    {
      "cell_type": "markdown",
      "metadata": {
        "id": "sm5B2dRb2Gcg"
      },
      "source": [
        "**Crosstab** tabela cruzada"
      ]
    },
    {
      "cell_type": "code",
      "metadata": {
        "colab": {
          "base_uri": "https://localhost:8080/",
          "height": 124
        },
        "id": "S7uNLNQgqA4l",
        "outputId": "a6c93c2d-7674-4565-d2be-c7dccdc7d229"
      },
      "source": [
        "pd.crosstab(data['Sobreviveu'],data['Classe'],margins = True).style.background_gradient(cmap='OrRd') #margins coloca o somatorio"
      ],
      "execution_count": 55,
      "outputs": [
        {
          "output_type": "execute_result",
          "data": {
            "text/html": [
              "<style  type=\"text/css\" >\n",
              "#T_7ed3dfb4_3998_11eb_9e8b_0242ac1c0002row0_col0,#T_7ed3dfb4_3998_11eb_9e8b_0242ac1c0002row1_col1,#T_7ed3dfb4_3998_11eb_9e8b_0242ac1c0002row1_col2,#T_7ed3dfb4_3998_11eb_9e8b_0242ac1c0002row1_col3{\n",
              "            background-color:  #fff7ec;\n",
              "            color:  #000000;\n",
              "        }#T_7ed3dfb4_3998_11eb_9e8b_0242ac1c0002row0_col1{\n",
              "            background-color:  #feebcf;\n",
              "            color:  #000000;\n",
              "        }#T_7ed3dfb4_3998_11eb_9e8b_0242ac1c0002row0_col2{\n",
              "            background-color:  #e44d35;\n",
              "            color:  #000000;\n",
              "        }#T_7ed3dfb4_3998_11eb_9e8b_0242ac1c0002row0_col3{\n",
              "            background-color:  #fdba83;\n",
              "            color:  #000000;\n",
              "        }#T_7ed3dfb4_3998_11eb_9e8b_0242ac1c0002row1_col0{\n",
              "            background-color:  #fdad77;\n",
              "            color:  #000000;\n",
              "        }#T_7ed3dfb4_3998_11eb_9e8b_0242ac1c0002row2_col0,#T_7ed3dfb4_3998_11eb_9e8b_0242ac1c0002row2_col1,#T_7ed3dfb4_3998_11eb_9e8b_0242ac1c0002row2_col2,#T_7ed3dfb4_3998_11eb_9e8b_0242ac1c0002row2_col3{\n",
              "            background-color:  #7f0000;\n",
              "            color:  #f1f1f1;\n",
              "        }</style><table id=\"T_7ed3dfb4_3998_11eb_9e8b_0242ac1c0002\" ><thead>    <tr>        <th class=\"index_name level0\" >Classe</th>        <th class=\"col_heading level0 col0\" >1</th>        <th class=\"col_heading level0 col1\" >2</th>        <th class=\"col_heading level0 col2\" >3</th>        <th class=\"col_heading level0 col3\" >All</th>    </tr>    <tr>        <th class=\"index_name level0\" >Sobreviveu</th>        <th class=\"blank\" ></th>        <th class=\"blank\" ></th>        <th class=\"blank\" ></th>        <th class=\"blank\" ></th>    </tr></thead><tbody>\n",
              "                <tr>\n",
              "                        <th id=\"T_7ed3dfb4_3998_11eb_9e8b_0242ac1c0002level0_row0\" class=\"row_heading level0 row0\" >0</th>\n",
              "                        <td id=\"T_7ed3dfb4_3998_11eb_9e8b_0242ac1c0002row0_col0\" class=\"data row0 col0\" >80</td>\n",
              "                        <td id=\"T_7ed3dfb4_3998_11eb_9e8b_0242ac1c0002row0_col1\" class=\"data row0 col1\" >97</td>\n",
              "                        <td id=\"T_7ed3dfb4_3998_11eb_9e8b_0242ac1c0002row0_col2\" class=\"data row0 col2\" >372</td>\n",
              "                        <td id=\"T_7ed3dfb4_3998_11eb_9e8b_0242ac1c0002row0_col3\" class=\"data row0 col3\" >549</td>\n",
              "            </tr>\n",
              "            <tr>\n",
              "                        <th id=\"T_7ed3dfb4_3998_11eb_9e8b_0242ac1c0002level0_row1\" class=\"row_heading level0 row1\" >1</th>\n",
              "                        <td id=\"T_7ed3dfb4_3998_11eb_9e8b_0242ac1c0002row1_col0\" class=\"data row1 col0\" >136</td>\n",
              "                        <td id=\"T_7ed3dfb4_3998_11eb_9e8b_0242ac1c0002row1_col1\" class=\"data row1 col1\" >87</td>\n",
              "                        <td id=\"T_7ed3dfb4_3998_11eb_9e8b_0242ac1c0002row1_col2\" class=\"data row1 col2\" >119</td>\n",
              "                        <td id=\"T_7ed3dfb4_3998_11eb_9e8b_0242ac1c0002row1_col3\" class=\"data row1 col3\" >342</td>\n",
              "            </tr>\n",
              "            <tr>\n",
              "                        <th id=\"T_7ed3dfb4_3998_11eb_9e8b_0242ac1c0002level0_row2\" class=\"row_heading level0 row2\" >All</th>\n",
              "                        <td id=\"T_7ed3dfb4_3998_11eb_9e8b_0242ac1c0002row2_col0\" class=\"data row2 col0\" >216</td>\n",
              "                        <td id=\"T_7ed3dfb4_3998_11eb_9e8b_0242ac1c0002row2_col1\" class=\"data row2 col1\" >184</td>\n",
              "                        <td id=\"T_7ed3dfb4_3998_11eb_9e8b_0242ac1c0002row2_col2\" class=\"data row2 col2\" >491</td>\n",
              "                        <td id=\"T_7ed3dfb4_3998_11eb_9e8b_0242ac1c0002row2_col3\" class=\"data row2 col3\" >891</td>\n",
              "            </tr>\n",
              "    </tbody></table>"
            ],
            "text/plain": [
              "<pandas.io.formats.style.Styler at 0x7fa882003f60>"
            ]
          },
          "metadata": {
            "tags": []
          },
          "execution_count": 55
        }
      ]
    },
    {
      "cell_type": "code",
      "metadata": {
        "colab": {
          "base_uri": "https://localhost:8080/",
          "height": 124
        },
        "id": "Yv9_L7XU2ynF",
        "outputId": "f3bd4660-909a-43f2-a953-1bac0b17376f"
      },
      "source": [
        "pd.crosstab(data['Sobreviveu'], data['Sexo'], margins = True).style.background_gradient(cmap='Blues')"
      ],
      "execution_count": 56,
      "outputs": [
        {
          "output_type": "execute_result",
          "data": {
            "text/html": [
              "<style  type=\"text/css\" >\n",
              "#T_7edefc64_3998_11eb_9e8b_0242ac1c0002row0_col0{\n",
              "            background-color:  #1d6cb1;\n",
              "            color:  #f1f1f1;\n",
              "        }#T_7edefc64_3998_11eb_9e8b_0242ac1c0002row0_col1,#T_7edefc64_3998_11eb_9e8b_0242ac1c0002row1_col0,#T_7edefc64_3998_11eb_9e8b_0242ac1c0002row1_col2{\n",
              "            background-color:  #f7fbff;\n",
              "            color:  #000000;\n",
              "        }#T_7edefc64_3998_11eb_9e8b_0242ac1c0002row0_col2{\n",
              "            background-color:  #9dcae1;\n",
              "            color:  #000000;\n",
              "        }#T_7edefc64_3998_11eb_9e8b_0242ac1c0002row1_col1{\n",
              "            background-color:  #3a8ac2;\n",
              "            color:  #000000;\n",
              "        }#T_7edefc64_3998_11eb_9e8b_0242ac1c0002row2_col0,#T_7edefc64_3998_11eb_9e8b_0242ac1c0002row2_col1,#T_7edefc64_3998_11eb_9e8b_0242ac1c0002row2_col2{\n",
              "            background-color:  #08306b;\n",
              "            color:  #f1f1f1;\n",
              "        }</style><table id=\"T_7edefc64_3998_11eb_9e8b_0242ac1c0002\" ><thead>    <tr>        <th class=\"index_name level0\" >Sexo</th>        <th class=\"col_heading level0 col0\" >homem</th>        <th class=\"col_heading level0 col1\" >mulher</th>        <th class=\"col_heading level0 col2\" >All</th>    </tr>    <tr>        <th class=\"index_name level0\" >Sobreviveu</th>        <th class=\"blank\" ></th>        <th class=\"blank\" ></th>        <th class=\"blank\" ></th>    </tr></thead><tbody>\n",
              "                <tr>\n",
              "                        <th id=\"T_7edefc64_3998_11eb_9e8b_0242ac1c0002level0_row0\" class=\"row_heading level0 row0\" >0</th>\n",
              "                        <td id=\"T_7edefc64_3998_11eb_9e8b_0242ac1c0002row0_col0\" class=\"data row0 col0\" >468</td>\n",
              "                        <td id=\"T_7edefc64_3998_11eb_9e8b_0242ac1c0002row0_col1\" class=\"data row0 col1\" >81</td>\n",
              "                        <td id=\"T_7edefc64_3998_11eb_9e8b_0242ac1c0002row0_col2\" class=\"data row0 col2\" >549</td>\n",
              "            </tr>\n",
              "            <tr>\n",
              "                        <th id=\"T_7edefc64_3998_11eb_9e8b_0242ac1c0002level0_row1\" class=\"row_heading level0 row1\" >1</th>\n",
              "                        <td id=\"T_7edefc64_3998_11eb_9e8b_0242ac1c0002row1_col0\" class=\"data row1 col0\" >109</td>\n",
              "                        <td id=\"T_7edefc64_3998_11eb_9e8b_0242ac1c0002row1_col1\" class=\"data row1 col1\" >233</td>\n",
              "                        <td id=\"T_7edefc64_3998_11eb_9e8b_0242ac1c0002row1_col2\" class=\"data row1 col2\" >342</td>\n",
              "            </tr>\n",
              "            <tr>\n",
              "                        <th id=\"T_7edefc64_3998_11eb_9e8b_0242ac1c0002level0_row2\" class=\"row_heading level0 row2\" >All</th>\n",
              "                        <td id=\"T_7edefc64_3998_11eb_9e8b_0242ac1c0002row2_col0\" class=\"data row2 col0\" >577</td>\n",
              "                        <td id=\"T_7edefc64_3998_11eb_9e8b_0242ac1c0002row2_col1\" class=\"data row2 col1\" >314</td>\n",
              "                        <td id=\"T_7edefc64_3998_11eb_9e8b_0242ac1c0002row2_col2\" class=\"data row2 col2\" >891</td>\n",
              "            </tr>\n",
              "    </tbody></table>"
            ],
            "text/plain": [
              "<pandas.io.formats.style.Styler at 0x7fa8977cc390>"
            ]
          },
          "metadata": {
            "tags": []
          },
          "execution_count": 56
        }
      ]
    },
    {
      "cell_type": "markdown",
      "metadata": {
        "id": "YJJB_simKKS8"
      },
      "source": [
        "**Ordenando Dados**"
      ]
    },
    {
      "cell_type": "code",
      "metadata": {
        "colab": {
          "base_uri": "https://localhost:8080/",
          "height": 419
        },
        "id": "fJY_F9u53cU4",
        "outputId": "215a03f9-103c-4fbb-8aa5-99454f1849b2"
      },
      "source": [
        "data[['Idade','Sexo','Classe','Sobreviveu']].sort_values('Idade', ascending=False) #ascending = False, deixa na ordem decrescente"
      ],
      "execution_count": 57,
      "outputs": [
        {
          "output_type": "execute_result",
          "data": {
            "text/html": [
              "<div>\n",
              "<style scoped>\n",
              "    .dataframe tbody tr th:only-of-type {\n",
              "        vertical-align: middle;\n",
              "    }\n",
              "\n",
              "    .dataframe tbody tr th {\n",
              "        vertical-align: top;\n",
              "    }\n",
              "\n",
              "    .dataframe thead th {\n",
              "        text-align: right;\n",
              "    }\n",
              "</style>\n",
              "<table border=\"1\" class=\"dataframe\">\n",
              "  <thead>\n",
              "    <tr style=\"text-align: right;\">\n",
              "      <th></th>\n",
              "      <th>Idade</th>\n",
              "      <th>Sexo</th>\n",
              "      <th>Classe</th>\n",
              "      <th>Sobreviveu</th>\n",
              "    </tr>\n",
              "  </thead>\n",
              "  <tbody>\n",
              "    <tr>\n",
              "      <th>630</th>\n",
              "      <td>80.0</td>\n",
              "      <td>homem</td>\n",
              "      <td>1</td>\n",
              "      <td>1</td>\n",
              "    </tr>\n",
              "    <tr>\n",
              "      <th>851</th>\n",
              "      <td>74.0</td>\n",
              "      <td>homem</td>\n",
              "      <td>3</td>\n",
              "      <td>0</td>\n",
              "    </tr>\n",
              "    <tr>\n",
              "      <th>493</th>\n",
              "      <td>71.0</td>\n",
              "      <td>homem</td>\n",
              "      <td>1</td>\n",
              "      <td>0</td>\n",
              "    </tr>\n",
              "    <tr>\n",
              "      <th>96</th>\n",
              "      <td>71.0</td>\n",
              "      <td>homem</td>\n",
              "      <td>1</td>\n",
              "      <td>0</td>\n",
              "    </tr>\n",
              "    <tr>\n",
              "      <th>116</th>\n",
              "      <td>70.5</td>\n",
              "      <td>homem</td>\n",
              "      <td>3</td>\n",
              "      <td>0</td>\n",
              "    </tr>\n",
              "    <tr>\n",
              "      <th>...</th>\n",
              "      <td>...</td>\n",
              "      <td>...</td>\n",
              "      <td>...</td>\n",
              "      <td>...</td>\n",
              "    </tr>\n",
              "    <tr>\n",
              "      <th>859</th>\n",
              "      <td>NaN</td>\n",
              "      <td>homem</td>\n",
              "      <td>3</td>\n",
              "      <td>0</td>\n",
              "    </tr>\n",
              "    <tr>\n",
              "      <th>863</th>\n",
              "      <td>NaN</td>\n",
              "      <td>mulher</td>\n",
              "      <td>3</td>\n",
              "      <td>0</td>\n",
              "    </tr>\n",
              "    <tr>\n",
              "      <th>868</th>\n",
              "      <td>NaN</td>\n",
              "      <td>homem</td>\n",
              "      <td>3</td>\n",
              "      <td>0</td>\n",
              "    </tr>\n",
              "    <tr>\n",
              "      <th>878</th>\n",
              "      <td>NaN</td>\n",
              "      <td>homem</td>\n",
              "      <td>3</td>\n",
              "      <td>0</td>\n",
              "    </tr>\n",
              "    <tr>\n",
              "      <th>888</th>\n",
              "      <td>NaN</td>\n",
              "      <td>mulher</td>\n",
              "      <td>3</td>\n",
              "      <td>0</td>\n",
              "    </tr>\n",
              "  </tbody>\n",
              "</table>\n",
              "<p>891 rows × 4 columns</p>\n",
              "</div>"
            ],
            "text/plain": [
              "     Idade    Sexo  Classe  Sobreviveu\n",
              "630   80.0   homem       1           1\n",
              "851   74.0   homem       3           0\n",
              "493   71.0   homem       1           0\n",
              "96    71.0   homem       1           0\n",
              "116   70.5   homem       3           0\n",
              "..     ...     ...     ...         ...\n",
              "859    NaN   homem       3           0\n",
              "863    NaN  mulher       3           0\n",
              "868    NaN   homem       3           0\n",
              "878    NaN   homem       3           0\n",
              "888    NaN  mulher       3           0\n",
              "\n",
              "[891 rows x 4 columns]"
            ]
          },
          "metadata": {
            "tags": []
          },
          "execution_count": 57
        }
      ]
    },
    {
      "cell_type": "code",
      "metadata": {
        "colab": {
          "base_uri": "https://localhost:8080/",
          "height": 419
        },
        "id": "vCon2uV6NNms",
        "outputId": "0937db28-3d3b-42e4-ec3a-aee675ed8afc"
      },
      "source": [
        "data[['Idade','Sexo','Classe','Sobreviveu']].sort_index(ascending=False)"
      ],
      "execution_count": 58,
      "outputs": [
        {
          "output_type": "execute_result",
          "data": {
            "text/html": [
              "<div>\n",
              "<style scoped>\n",
              "    .dataframe tbody tr th:only-of-type {\n",
              "        vertical-align: middle;\n",
              "    }\n",
              "\n",
              "    .dataframe tbody tr th {\n",
              "        vertical-align: top;\n",
              "    }\n",
              "\n",
              "    .dataframe thead th {\n",
              "        text-align: right;\n",
              "    }\n",
              "</style>\n",
              "<table border=\"1\" class=\"dataframe\">\n",
              "  <thead>\n",
              "    <tr style=\"text-align: right;\">\n",
              "      <th></th>\n",
              "      <th>Idade</th>\n",
              "      <th>Sexo</th>\n",
              "      <th>Classe</th>\n",
              "      <th>Sobreviveu</th>\n",
              "    </tr>\n",
              "  </thead>\n",
              "  <tbody>\n",
              "    <tr>\n",
              "      <th>890</th>\n",
              "      <td>32.0</td>\n",
              "      <td>homem</td>\n",
              "      <td>3</td>\n",
              "      <td>0</td>\n",
              "    </tr>\n",
              "    <tr>\n",
              "      <th>889</th>\n",
              "      <td>26.0</td>\n",
              "      <td>homem</td>\n",
              "      <td>1</td>\n",
              "      <td>1</td>\n",
              "    </tr>\n",
              "    <tr>\n",
              "      <th>888</th>\n",
              "      <td>NaN</td>\n",
              "      <td>mulher</td>\n",
              "      <td>3</td>\n",
              "      <td>0</td>\n",
              "    </tr>\n",
              "    <tr>\n",
              "      <th>887</th>\n",
              "      <td>19.0</td>\n",
              "      <td>mulher</td>\n",
              "      <td>1</td>\n",
              "      <td>1</td>\n",
              "    </tr>\n",
              "    <tr>\n",
              "      <th>886</th>\n",
              "      <td>27.0</td>\n",
              "      <td>homem</td>\n",
              "      <td>2</td>\n",
              "      <td>0</td>\n",
              "    </tr>\n",
              "    <tr>\n",
              "      <th>...</th>\n",
              "      <td>...</td>\n",
              "      <td>...</td>\n",
              "      <td>...</td>\n",
              "      <td>...</td>\n",
              "    </tr>\n",
              "    <tr>\n",
              "      <th>4</th>\n",
              "      <td>35.0</td>\n",
              "      <td>homem</td>\n",
              "      <td>3</td>\n",
              "      <td>0</td>\n",
              "    </tr>\n",
              "    <tr>\n",
              "      <th>3</th>\n",
              "      <td>35.0</td>\n",
              "      <td>mulher</td>\n",
              "      <td>1</td>\n",
              "      <td>1</td>\n",
              "    </tr>\n",
              "    <tr>\n",
              "      <th>2</th>\n",
              "      <td>26.0</td>\n",
              "      <td>mulher</td>\n",
              "      <td>3</td>\n",
              "      <td>1</td>\n",
              "    </tr>\n",
              "    <tr>\n",
              "      <th>1</th>\n",
              "      <td>38.0</td>\n",
              "      <td>mulher</td>\n",
              "      <td>1</td>\n",
              "      <td>1</td>\n",
              "    </tr>\n",
              "    <tr>\n",
              "      <th>0</th>\n",
              "      <td>22.0</td>\n",
              "      <td>homem</td>\n",
              "      <td>3</td>\n",
              "      <td>0</td>\n",
              "    </tr>\n",
              "  </tbody>\n",
              "</table>\n",
              "<p>891 rows × 4 columns</p>\n",
              "</div>"
            ],
            "text/plain": [
              "     Idade    Sexo  Classe  Sobreviveu\n",
              "890   32.0   homem       3           0\n",
              "889   26.0   homem       1           1\n",
              "888    NaN  mulher       3           0\n",
              "887   19.0  mulher       1           1\n",
              "886   27.0   homem       2           0\n",
              "..     ...     ...     ...         ...\n",
              "4     35.0   homem       3           0\n",
              "3     35.0  mulher       1           1\n",
              "2     26.0  mulher       3           1\n",
              "1     38.0  mulher       1           1\n",
              "0     22.0   homem       3           0\n",
              "\n",
              "[891 rows x 4 columns]"
            ]
          },
          "metadata": {
            "tags": []
          },
          "execution_count": 58
        }
      ]
    },
    {
      "cell_type": "markdown",
      "metadata": {
        "id": "r5MEcNu0Nt2Z"
      },
      "source": [
        "**Lidando com dados faltando -> NaN - Not a Number**"
      ]
    },
    {
      "cell_type": "code",
      "metadata": {
        "colab": {
          "base_uri": "https://localhost:8080/"
        },
        "id": "imM5WRx_NtKn",
        "outputId": "4d74881b-1268-4c7e-889d-6bed9c19526e"
      },
      "source": [
        "data.isnull().sum() #verifica os dados que estão faltando (True = esta sem valor) (sum = somar os valores true nas variaveis)"
      ],
      "execution_count": 59,
      "outputs": [
        {
          "output_type": "execute_result",
          "data": {
            "text/plain": [
              "IdPassageiro       0\n",
              "Sobreviveu         0\n",
              "Classe             0\n",
              "Nome               0\n",
              "Sexo               0\n",
              "Idade            177\n",
              "IrmaosConjuge      0\n",
              "PaisFilhos         0\n",
              "Bilhete            0\n",
              "Tarifa             0\n",
              "Cabine           687\n",
              "Embarque           2\n",
              "dtype: int64"
            ]
          },
          "metadata": {
            "tags": []
          },
          "execution_count": 59
        }
      ]
    },
    {
      "cell_type": "code",
      "metadata": {
        "id": "03qs8apdPCZ5",
        "colab": {
          "base_uri": "https://localhost:8080/",
          "height": 250
        },
        "outputId": "c38e23c3-88cb-43c0-8632-1d295bed4c54"
      },
      "source": [
        "data.loc[data['Embarque'].isnull()]"
      ],
      "execution_count": 60,
      "outputs": [
        {
          "output_type": "execute_result",
          "data": {
            "text/html": [
              "<div>\n",
              "<style scoped>\n",
              "    .dataframe tbody tr th:only-of-type {\n",
              "        vertical-align: middle;\n",
              "    }\n",
              "\n",
              "    .dataframe tbody tr th {\n",
              "        vertical-align: top;\n",
              "    }\n",
              "\n",
              "    .dataframe thead th {\n",
              "        text-align: right;\n",
              "    }\n",
              "</style>\n",
              "<table border=\"1\" class=\"dataframe\">\n",
              "  <thead>\n",
              "    <tr style=\"text-align: right;\">\n",
              "      <th></th>\n",
              "      <th>IdPassageiro</th>\n",
              "      <th>Sobreviveu</th>\n",
              "      <th>Classe</th>\n",
              "      <th>Nome</th>\n",
              "      <th>Sexo</th>\n",
              "      <th>Idade</th>\n",
              "      <th>IrmaosConjuge</th>\n",
              "      <th>PaisFilhos</th>\n",
              "      <th>Bilhete</th>\n",
              "      <th>Tarifa</th>\n",
              "      <th>Cabine</th>\n",
              "      <th>Embarque</th>\n",
              "    </tr>\n",
              "  </thead>\n",
              "  <tbody>\n",
              "    <tr>\n",
              "      <th>61</th>\n",
              "      <td>62</td>\n",
              "      <td>1</td>\n",
              "      <td>1</td>\n",
              "      <td>Icard, Miss. Amelie</td>\n",
              "      <td>mulher</td>\n",
              "      <td>38.0</td>\n",
              "      <td>0</td>\n",
              "      <td>0</td>\n",
              "      <td>113572</td>\n",
              "      <td>80.0</td>\n",
              "      <td>B28</td>\n",
              "      <td>NaN</td>\n",
              "    </tr>\n",
              "    <tr>\n",
              "      <th>829</th>\n",
              "      <td>830</td>\n",
              "      <td>1</td>\n",
              "      <td>1</td>\n",
              "      <td>Stone, Mrs. George Nelson (Martha Evelyn)</td>\n",
              "      <td>mulher</td>\n",
              "      <td>62.0</td>\n",
              "      <td>0</td>\n",
              "      <td>0</td>\n",
              "      <td>113572</td>\n",
              "      <td>80.0</td>\n",
              "      <td>B28</td>\n",
              "      <td>NaN</td>\n",
              "    </tr>\n",
              "  </tbody>\n",
              "</table>\n",
              "</div>"
            ],
            "text/plain": [
              "     IdPassageiro  Sobreviveu  Classe  ... Tarifa Cabine  Embarque\n",
              "61             62           1       1  ...   80.0    B28       NaN\n",
              "829           830           1       1  ...   80.0    B28       NaN\n",
              "\n",
              "[2 rows x 12 columns]"
            ]
          },
          "metadata": {
            "tags": []
          },
          "execution_count": 60
        }
      ]
    },
    {
      "cell_type": "code",
      "metadata": {
        "colab": {
          "base_uri": "https://localhost:8080/"
        },
        "id": "HP5Rqmv70T7L",
        "outputId": "9c29f68f-76e8-4bfb-f6dd-f00064ed8501"
      },
      "source": [
        "data['Embarque'].unique()"
      ],
      "execution_count": 61,
      "outputs": [
        {
          "output_type": "execute_result",
          "data": {
            "text/plain": [
              "array(['S', 'C', 'Q', nan], dtype=object)"
            ]
          },
          "metadata": {
            "tags": []
          },
          "execution_count": 61
        }
      ]
    },
    {
      "cell_type": "code",
      "metadata": {
        "colab": {
          "base_uri": "https://localhost:8080/"
        },
        "id": "J-vFkiiI0ksp",
        "outputId": "adec3241-54c2-4dff-bcc8-9501e46754b9"
      },
      "source": [
        "data['Embarque'].mode()"
      ],
      "execution_count": 62,
      "outputs": [
        {
          "output_type": "execute_result",
          "data": {
            "text/plain": [
              "0    S\n",
              "dtype: object"
            ]
          },
          "metadata": {
            "tags": []
          },
          "execution_count": 62
        }
      ]
    },
    {
      "cell_type": "code",
      "metadata": {
        "colab": {
          "base_uri": "https://localhost:8080/",
          "height": 190
        },
        "id": "KL7cz2sK0uGn",
        "outputId": "98b413e9-823c-4486-faaa-d372ebe3b995"
      },
      "source": [
        "data.describe(include='O')"
      ],
      "execution_count": 63,
      "outputs": [
        {
          "output_type": "execute_result",
          "data": {
            "text/html": [
              "<div>\n",
              "<style scoped>\n",
              "    .dataframe tbody tr th:only-of-type {\n",
              "        vertical-align: middle;\n",
              "    }\n",
              "\n",
              "    .dataframe tbody tr th {\n",
              "        vertical-align: top;\n",
              "    }\n",
              "\n",
              "    .dataframe thead th {\n",
              "        text-align: right;\n",
              "    }\n",
              "</style>\n",
              "<table border=\"1\" class=\"dataframe\">\n",
              "  <thead>\n",
              "    <tr style=\"text-align: right;\">\n",
              "      <th></th>\n",
              "      <th>Nome</th>\n",
              "      <th>Sexo</th>\n",
              "      <th>Bilhete</th>\n",
              "      <th>Cabine</th>\n",
              "      <th>Embarque</th>\n",
              "    </tr>\n",
              "  </thead>\n",
              "  <tbody>\n",
              "    <tr>\n",
              "      <th>count</th>\n",
              "      <td>891</td>\n",
              "      <td>891</td>\n",
              "      <td>891</td>\n",
              "      <td>204</td>\n",
              "      <td>889</td>\n",
              "    </tr>\n",
              "    <tr>\n",
              "      <th>unique</th>\n",
              "      <td>891</td>\n",
              "      <td>2</td>\n",
              "      <td>681</td>\n",
              "      <td>147</td>\n",
              "      <td>3</td>\n",
              "    </tr>\n",
              "    <tr>\n",
              "      <th>top</th>\n",
              "      <td>Hogeboom, Mrs. John C (Anna Andrews)</td>\n",
              "      <td>homem</td>\n",
              "      <td>347082</td>\n",
              "      <td>C23 C25 C27</td>\n",
              "      <td>S</td>\n",
              "    </tr>\n",
              "    <tr>\n",
              "      <th>freq</th>\n",
              "      <td>1</td>\n",
              "      <td>577</td>\n",
              "      <td>7</td>\n",
              "      <td>4</td>\n",
              "      <td>644</td>\n",
              "    </tr>\n",
              "  </tbody>\n",
              "</table>\n",
              "</div>"
            ],
            "text/plain": [
              "                                        Nome   Sexo  ...       Cabine Embarque\n",
              "count                                    891    891  ...          204      889\n",
              "unique                                   891      2  ...          147        3\n",
              "top     Hogeboom, Mrs. John C (Anna Andrews)  homem  ...  C23 C25 C27        S\n",
              "freq                                       1    577  ...            4      644\n",
              "\n",
              "[4 rows x 5 columns]"
            ]
          },
          "metadata": {
            "tags": []
          },
          "execution_count": 63
        }
      ]
    },
    {
      "cell_type": "code",
      "metadata": {
        "colab": {
          "base_uri": "https://localhost:8080/"
        },
        "id": "YWB3WRGO1Jkg",
        "outputId": "d201b83a-c5a7-4a1d-9142-bef33ec7dd63"
      },
      "source": [
        "644/889 #FREQUENCIA DE PESSOAS QUE EMBARCA NO PORTÃO S"
      ],
      "execution_count": 64,
      "outputs": [
        {
          "output_type": "execute_result",
          "data": {
            "text/plain": [
              "0.7244094488188977"
            ]
          },
          "metadata": {
            "tags": []
          },
          "execution_count": 64
        }
      ]
    },
    {
      "cell_type": "code",
      "metadata": {
        "colab": {
          "base_uri": "https://localhost:8080/"
        },
        "id": "jUW0Syqi1YYu",
        "outputId": "5b8c80f9-2153-4b15-d353-e0b857e50762"
      },
      "source": [
        "data['Embarque'].fillna('S') #fillna substitui os vazios "
      ],
      "execution_count": 65,
      "outputs": [
        {
          "output_type": "execute_result",
          "data": {
            "text/plain": [
              "0      S\n",
              "1      C\n",
              "2      S\n",
              "3      S\n",
              "4      S\n",
              "      ..\n",
              "886    S\n",
              "887    S\n",
              "888    S\n",
              "889    C\n",
              "890    Q\n",
              "Name: Embarque, Length: 891, dtype: object"
            ]
          },
          "metadata": {
            "tags": []
          },
          "execution_count": 65
        }
      ]
    },
    {
      "cell_type": "code",
      "metadata": {
        "id": "3BPWAPL1125i"
      },
      "source": [
        "data['Embarque'].at[61] = 'S' #substitui direto pelo index "
      ],
      "execution_count": 66,
      "outputs": []
    },
    {
      "cell_type": "code",
      "metadata": {
        "id": "Lzsz3uSr2SeX"
      },
      "source": [
        "data['Embarque'].at[829] = 'S'"
      ],
      "execution_count": 67,
      "outputs": []
    },
    {
      "cell_type": "code",
      "metadata": {
        "colab": {
          "base_uri": "https://localhost:8080/",
          "height": 35
        },
        "id": "uuU0Ogy22rZY",
        "outputId": "f2a9b046-a4a7-4738-8f77-982cdeb006d1"
      },
      "source": [
        "data['Embarque'].at[829]"
      ],
      "execution_count": 68,
      "outputs": [
        {
          "output_type": "execute_result",
          "data": {
            "application/vnd.google.colaboratory.intrinsic+json": {
              "type": "string"
            },
            "text/plain": [
              "'S'"
            ]
          },
          "metadata": {
            "tags": []
          },
          "execution_count": 68
        }
      ]
    },
    {
      "cell_type": "markdown",
      "metadata": {
        "id": "_3w4gJCB3Kl3"
      },
      "source": [
        "**Deletando Coluna ou Linha**"
      ]
    },
    {
      "cell_type": "code",
      "metadata": {
        "colab": {
          "base_uri": "https://localhost:8080/"
        },
        "id": "F4QGxN4C3JRk",
        "outputId": "d91c64b9-feaa-4bff-f08d-68bacc1958c9"
      },
      "source": [
        "data.isnull().sum()"
      ],
      "execution_count": 69,
      "outputs": [
        {
          "output_type": "execute_result",
          "data": {
            "text/plain": [
              "IdPassageiro       0\n",
              "Sobreviveu         0\n",
              "Classe             0\n",
              "Nome               0\n",
              "Sexo               0\n",
              "Idade            177\n",
              "IrmaosConjuge      0\n",
              "PaisFilhos         0\n",
              "Bilhete            0\n",
              "Tarifa             0\n",
              "Cabine           687\n",
              "Embarque           0\n",
              "dtype: int64"
            ]
          },
          "metadata": {
            "tags": []
          },
          "execution_count": 69
        }
      ]
    },
    {
      "cell_type": "code",
      "metadata": {
        "id": "imJ0DKn83bN0"
      },
      "source": [
        "data.drop('Cabine', axis=1, inplace=True) #drop deleta coluna(axis=1)"
      ],
      "execution_count": 70,
      "outputs": []
    },
    {
      "cell_type": "code",
      "metadata": {
        "colab": {
          "base_uri": "https://localhost:8080/",
          "height": 315
        },
        "id": "w1x3uTn-3ynH",
        "outputId": "f824ee36-7224-47ab-9f75-e1165f91a334"
      },
      "source": [
        "data.head(3)"
      ],
      "execution_count": 71,
      "outputs": [
        {
          "output_type": "execute_result",
          "data": {
            "text/html": [
              "<div>\n",
              "<style scoped>\n",
              "    .dataframe tbody tr th:only-of-type {\n",
              "        vertical-align: middle;\n",
              "    }\n",
              "\n",
              "    .dataframe tbody tr th {\n",
              "        vertical-align: top;\n",
              "    }\n",
              "\n",
              "    .dataframe thead th {\n",
              "        text-align: right;\n",
              "    }\n",
              "</style>\n",
              "<table border=\"1\" class=\"dataframe\">\n",
              "  <thead>\n",
              "    <tr style=\"text-align: right;\">\n",
              "      <th></th>\n",
              "      <th>IdPassageiro</th>\n",
              "      <th>Sobreviveu</th>\n",
              "      <th>Classe</th>\n",
              "      <th>Nome</th>\n",
              "      <th>Sexo</th>\n",
              "      <th>Idade</th>\n",
              "      <th>IrmaosConjuge</th>\n",
              "      <th>PaisFilhos</th>\n",
              "      <th>Bilhete</th>\n",
              "      <th>Tarifa</th>\n",
              "      <th>Embarque</th>\n",
              "    </tr>\n",
              "  </thead>\n",
              "  <tbody>\n",
              "    <tr>\n",
              "      <th>0</th>\n",
              "      <td>1</td>\n",
              "      <td>0</td>\n",
              "      <td>3</td>\n",
              "      <td>Braund, Mr. Owen Harris</td>\n",
              "      <td>homem</td>\n",
              "      <td>22.0</td>\n",
              "      <td>1</td>\n",
              "      <td>0</td>\n",
              "      <td>A/5 21171</td>\n",
              "      <td>7.2500</td>\n",
              "      <td>S</td>\n",
              "    </tr>\n",
              "    <tr>\n",
              "      <th>1</th>\n",
              "      <td>2</td>\n",
              "      <td>1</td>\n",
              "      <td>1</td>\n",
              "      <td>Cumings, Mrs. John Bradley (Florence Briggs Th...</td>\n",
              "      <td>mulher</td>\n",
              "      <td>38.0</td>\n",
              "      <td>1</td>\n",
              "      <td>0</td>\n",
              "      <td>PC 17599</td>\n",
              "      <td>71.2833</td>\n",
              "      <td>C</td>\n",
              "    </tr>\n",
              "    <tr>\n",
              "      <th>2</th>\n",
              "      <td>3</td>\n",
              "      <td>1</td>\n",
              "      <td>3</td>\n",
              "      <td>Heikkinen, Miss. Laina</td>\n",
              "      <td>mulher</td>\n",
              "      <td>26.0</td>\n",
              "      <td>0</td>\n",
              "      <td>0</td>\n",
              "      <td>STON/O2. 3101282</td>\n",
              "      <td>7.9250</td>\n",
              "      <td>S</td>\n",
              "    </tr>\n",
              "  </tbody>\n",
              "</table>\n",
              "</div>"
            ],
            "text/plain": [
              "   IdPassageiro  Sobreviveu  Classe  ...           Bilhete   Tarifa  Embarque\n",
              "0             1           0       3  ...         A/5 21171   7.2500         S\n",
              "1             2           1       1  ...          PC 17599  71.2833         C\n",
              "2             3           1       3  ...  STON/O2. 3101282   7.9250         S\n",
              "\n",
              "[3 rows x 11 columns]"
            ]
          },
          "metadata": {
            "tags": []
          },
          "execution_count": 71
        }
      ]
    },
    {
      "cell_type": "code",
      "metadata": {
        "colab": {
          "base_uri": "https://localhost:8080/"
        },
        "id": "Cv_vTdMc4UaI",
        "outputId": "02420a29-bdc4-42fd-8f9b-91843f8b42f2"
      },
      "source": [
        "data.isnull().sum()"
      ],
      "execution_count": 72,
      "outputs": [
        {
          "output_type": "execute_result",
          "data": {
            "text/plain": [
              "IdPassageiro       0\n",
              "Sobreviveu         0\n",
              "Classe             0\n",
              "Nome               0\n",
              "Sexo               0\n",
              "Idade            177\n",
              "IrmaosConjuge      0\n",
              "PaisFilhos         0\n",
              "Bilhete            0\n",
              "Tarifa             0\n",
              "Embarque           0\n",
              "dtype: int64"
            ]
          },
          "metadata": {
            "tags": []
          },
          "execution_count": 72
        }
      ]
    },
    {
      "cell_type": "code",
      "metadata": {
        "id": "gMSwJPZ14Zh3",
        "colab": {
          "base_uri": "https://localhost:8080/",
          "height": 898
        },
        "outputId": "1fd7282e-b16e-484a-a534-b1ef12e38011"
      },
      "source": [
        "data.drop([4,3,2]) #elimina linhas, com o inplace junto iria atualizar de fato"
      ],
      "execution_count": 73,
      "outputs": [
        {
          "output_type": "execute_result",
          "data": {
            "text/html": [
              "<div>\n",
              "<style scoped>\n",
              "    .dataframe tbody tr th:only-of-type {\n",
              "        vertical-align: middle;\n",
              "    }\n",
              "\n",
              "    .dataframe tbody tr th {\n",
              "        vertical-align: top;\n",
              "    }\n",
              "\n",
              "    .dataframe thead th {\n",
              "        text-align: right;\n",
              "    }\n",
              "</style>\n",
              "<table border=\"1\" class=\"dataframe\">\n",
              "  <thead>\n",
              "    <tr style=\"text-align: right;\">\n",
              "      <th></th>\n",
              "      <th>IdPassageiro</th>\n",
              "      <th>Sobreviveu</th>\n",
              "      <th>Classe</th>\n",
              "      <th>Nome</th>\n",
              "      <th>Sexo</th>\n",
              "      <th>Idade</th>\n",
              "      <th>IrmaosConjuge</th>\n",
              "      <th>PaisFilhos</th>\n",
              "      <th>Bilhete</th>\n",
              "      <th>Tarifa</th>\n",
              "      <th>Embarque</th>\n",
              "    </tr>\n",
              "  </thead>\n",
              "  <tbody>\n",
              "    <tr>\n",
              "      <th>0</th>\n",
              "      <td>1</td>\n",
              "      <td>0</td>\n",
              "      <td>3</td>\n",
              "      <td>Braund, Mr. Owen Harris</td>\n",
              "      <td>homem</td>\n",
              "      <td>22.0</td>\n",
              "      <td>1</td>\n",
              "      <td>0</td>\n",
              "      <td>A/5 21171</td>\n",
              "      <td>7.2500</td>\n",
              "      <td>S</td>\n",
              "    </tr>\n",
              "    <tr>\n",
              "      <th>1</th>\n",
              "      <td>2</td>\n",
              "      <td>1</td>\n",
              "      <td>1</td>\n",
              "      <td>Cumings, Mrs. John Bradley (Florence Briggs Th...</td>\n",
              "      <td>mulher</td>\n",
              "      <td>38.0</td>\n",
              "      <td>1</td>\n",
              "      <td>0</td>\n",
              "      <td>PC 17599</td>\n",
              "      <td>71.2833</td>\n",
              "      <td>C</td>\n",
              "    </tr>\n",
              "    <tr>\n",
              "      <th>5</th>\n",
              "      <td>6</td>\n",
              "      <td>0</td>\n",
              "      <td>3</td>\n",
              "      <td>Moran, Mr. James</td>\n",
              "      <td>homem</td>\n",
              "      <td>NaN</td>\n",
              "      <td>0</td>\n",
              "      <td>0</td>\n",
              "      <td>330877</td>\n",
              "      <td>8.4583</td>\n",
              "      <td>Q</td>\n",
              "    </tr>\n",
              "    <tr>\n",
              "      <th>6</th>\n",
              "      <td>7</td>\n",
              "      <td>0</td>\n",
              "      <td>1</td>\n",
              "      <td>McCarthy, Mr. Timothy J</td>\n",
              "      <td>homem</td>\n",
              "      <td>54.0</td>\n",
              "      <td>0</td>\n",
              "      <td>0</td>\n",
              "      <td>17463</td>\n",
              "      <td>51.8625</td>\n",
              "      <td>S</td>\n",
              "    </tr>\n",
              "    <tr>\n",
              "      <th>7</th>\n",
              "      <td>8</td>\n",
              "      <td>0</td>\n",
              "      <td>3</td>\n",
              "      <td>Palsson, Master. Gosta Leonard</td>\n",
              "      <td>homem</td>\n",
              "      <td>2.0</td>\n",
              "      <td>3</td>\n",
              "      <td>1</td>\n",
              "      <td>349909</td>\n",
              "      <td>21.0750</td>\n",
              "      <td>S</td>\n",
              "    </tr>\n",
              "    <tr>\n",
              "      <th>...</th>\n",
              "      <td>...</td>\n",
              "      <td>...</td>\n",
              "      <td>...</td>\n",
              "      <td>...</td>\n",
              "      <td>...</td>\n",
              "      <td>...</td>\n",
              "      <td>...</td>\n",
              "      <td>...</td>\n",
              "      <td>...</td>\n",
              "      <td>...</td>\n",
              "      <td>...</td>\n",
              "    </tr>\n",
              "    <tr>\n",
              "      <th>886</th>\n",
              "      <td>887</td>\n",
              "      <td>0</td>\n",
              "      <td>2</td>\n",
              "      <td>Montvila, Rev. Juozas</td>\n",
              "      <td>homem</td>\n",
              "      <td>27.0</td>\n",
              "      <td>0</td>\n",
              "      <td>0</td>\n",
              "      <td>211536</td>\n",
              "      <td>13.0000</td>\n",
              "      <td>S</td>\n",
              "    </tr>\n",
              "    <tr>\n",
              "      <th>887</th>\n",
              "      <td>888</td>\n",
              "      <td>1</td>\n",
              "      <td>1</td>\n",
              "      <td>Graham, Miss. Margaret Edith</td>\n",
              "      <td>mulher</td>\n",
              "      <td>19.0</td>\n",
              "      <td>0</td>\n",
              "      <td>0</td>\n",
              "      <td>112053</td>\n",
              "      <td>30.0000</td>\n",
              "      <td>S</td>\n",
              "    </tr>\n",
              "    <tr>\n",
              "      <th>888</th>\n",
              "      <td>889</td>\n",
              "      <td>0</td>\n",
              "      <td>3</td>\n",
              "      <td>Johnston, Miss. Catherine Helen \"Carrie\"</td>\n",
              "      <td>mulher</td>\n",
              "      <td>NaN</td>\n",
              "      <td>1</td>\n",
              "      <td>2</td>\n",
              "      <td>W./C. 6607</td>\n",
              "      <td>23.4500</td>\n",
              "      <td>S</td>\n",
              "    </tr>\n",
              "    <tr>\n",
              "      <th>889</th>\n",
              "      <td>890</td>\n",
              "      <td>1</td>\n",
              "      <td>1</td>\n",
              "      <td>Behr, Mr. Karl Howell</td>\n",
              "      <td>homem</td>\n",
              "      <td>26.0</td>\n",
              "      <td>0</td>\n",
              "      <td>0</td>\n",
              "      <td>111369</td>\n",
              "      <td>30.0000</td>\n",
              "      <td>C</td>\n",
              "    </tr>\n",
              "    <tr>\n",
              "      <th>890</th>\n",
              "      <td>891</td>\n",
              "      <td>0</td>\n",
              "      <td>3</td>\n",
              "      <td>Dooley, Mr. Patrick</td>\n",
              "      <td>homem</td>\n",
              "      <td>32.0</td>\n",
              "      <td>0</td>\n",
              "      <td>0</td>\n",
              "      <td>370376</td>\n",
              "      <td>7.7500</td>\n",
              "      <td>Q</td>\n",
              "    </tr>\n",
              "  </tbody>\n",
              "</table>\n",
              "<p>888 rows × 11 columns</p>\n",
              "</div>"
            ],
            "text/plain": [
              "     IdPassageiro  Sobreviveu  Classe  ...     Bilhete   Tarifa  Embarque\n",
              "0               1           0       3  ...   A/5 21171   7.2500         S\n",
              "1               2           1       1  ...    PC 17599  71.2833         C\n",
              "5               6           0       3  ...      330877   8.4583         Q\n",
              "6               7           0       1  ...       17463  51.8625         S\n",
              "7               8           0       3  ...      349909  21.0750         S\n",
              "..            ...         ...     ...  ...         ...      ...       ...\n",
              "886           887           0       2  ...      211536  13.0000         S\n",
              "887           888           1       1  ...      112053  30.0000         S\n",
              "888           889           0       3  ...  W./C. 6607  23.4500         S\n",
              "889           890           1       1  ...      111369  30.0000         C\n",
              "890           891           0       3  ...      370376   7.7500         Q\n",
              "\n",
              "[888 rows x 11 columns]"
            ]
          },
          "metadata": {
            "tags": []
          },
          "execution_count": 73
        }
      ]
    },
    {
      "cell_type": "markdown",
      "metadata": {
        "id": "0eELlhfz5K7o"
      },
      "source": [
        "**Apply e Lambda**"
      ]
    },
    {
      "cell_type": "code",
      "metadata": {
        "colab": {
          "base_uri": "https://localhost:8080/"
        },
        "id": "HPmJy0xg49rv",
        "outputId": "1573f714-a0bb-4c51-9224-065b35c7a1e0"
      },
      "source": [
        "data['Idade'].apply(lambda x: x**2)"
      ],
      "execution_count": 74,
      "outputs": [
        {
          "output_type": "execute_result",
          "data": {
            "text/plain": [
              "0       484.0\n",
              "1      1444.0\n",
              "2       676.0\n",
              "3      1225.0\n",
              "4      1225.0\n",
              "        ...  \n",
              "886     729.0\n",
              "887     361.0\n",
              "888       NaN\n",
              "889     676.0\n",
              "890    1024.0\n",
              "Name: Idade, Length: 891, dtype: float64"
            ]
          },
          "metadata": {
            "tags": []
          },
          "execution_count": 74
        }
      ]
    },
    {
      "cell_type": "code",
      "metadata": {
        "id": "rfWeN2cC6Qu1"
      },
      "source": [
        "x = '112053' #Feature Engineering (Engenharia de Recursos)"
      ],
      "execution_count": 75,
      "outputs": []
    },
    {
      "cell_type": "code",
      "metadata": {
        "id": "0Ibb46K-60RN"
      },
      "source": [
        "y = '112052'"
      ],
      "execution_count": 76,
      "outputs": []
    },
    {
      "cell_type": "code",
      "metadata": {
        "colab": {
          "base_uri": "https://localhost:8080/",
          "height": 35
        },
        "id": "4QSG2Aco6Q_D",
        "outputId": "b18a6f9b-168d-4c8c-99e0-6e30a733b6e5"
      },
      "source": [
        "x[0:-1] #recapitulando o fatiamento"
      ],
      "execution_count": 77,
      "outputs": [
        {
          "output_type": "execute_result",
          "data": {
            "application/vnd.google.colaboratory.intrinsic+json": {
              "type": "string"
            },
            "text/plain": [
              "'11205'"
            ]
          },
          "metadata": {
            "tags": []
          },
          "execution_count": 77
        }
      ]
    },
    {
      "cell_type": "code",
      "metadata": {
        "colab": {
          "base_uri": "https://localhost:8080/",
          "height": 35
        },
        "id": "bk7aplsX6Rdc",
        "outputId": "8e00100d-5d30-40be-ece5-20f46a463356"
      },
      "source": [
        "y[:-1]"
      ],
      "execution_count": 78,
      "outputs": [
        {
          "output_type": "execute_result",
          "data": {
            "application/vnd.google.colaboratory.intrinsic+json": {
              "type": "string"
            },
            "text/plain": [
              "'11205'"
            ]
          },
          "metadata": {
            "tags": []
          },
          "execution_count": 78
        }
      ]
    },
    {
      "cell_type": "code",
      "metadata": {
        "colab": {
          "base_uri": "https://localhost:8080/"
        },
        "id": "Egyk-diU5xek",
        "outputId": "355c659d-ba4d-4693-bf7e-4212765f4624"
      },
      "source": [
        "data['Bilhete'].sort_values()"
      ],
      "execution_count": 79,
      "outputs": [
        {
          "output_type": "execute_result",
          "data": {
            "text/plain": [
              "504         110152\n",
              "257         110152\n",
              "759         110152\n",
              "262         110413\n",
              "558         110413\n",
              "          ...     \n",
              "235     W./C. 6609\n",
              "92     W.E.P. 5734\n",
              "219      W/C 14208\n",
              "540      WE/P 5735\n",
              "745      WE/P 5735\n",
              "Name: Bilhete, Length: 891, dtype: object"
            ]
          },
          "metadata": {
            "tags": []
          },
          "execution_count": 79
        }
      ]
    },
    {
      "cell_type": "code",
      "metadata": {
        "colab": {
          "base_uri": "https://localhost:8080/"
        },
        "id": "Liz6FC8v7lcj",
        "outputId": "9df3b23c-a2ce-46f5-a4c3-ee3d5b00b5bc"
      },
      "source": [
        "data['Bilhete']"
      ],
      "execution_count": 80,
      "outputs": [
        {
          "output_type": "execute_result",
          "data": {
            "text/plain": [
              "0             A/5 21171\n",
              "1              PC 17599\n",
              "2      STON/O2. 3101282\n",
              "3                113803\n",
              "4                373450\n",
              "             ...       \n",
              "886              211536\n",
              "887              112053\n",
              "888          W./C. 6607\n",
              "889              111369\n",
              "890              370376\n",
              "Name: Bilhete, Length: 891, dtype: object"
            ]
          },
          "metadata": {
            "tags": []
          },
          "execution_count": 80
        }
      ]
    },
    {
      "cell_type": "code",
      "metadata": {
        "id": "SlaTYqaX7PdH"
      },
      "source": [
        "data['Bilhete'] = data['Bilhete'].apply(lambda x:x[:-1])"
      ],
      "execution_count": 81,
      "outputs": []
    },
    {
      "cell_type": "code",
      "metadata": {
        "colab": {
          "base_uri": "https://localhost:8080/"
        },
        "id": "OTk-lfVk78oC",
        "outputId": "31c354ca-d71e-48cc-a874-9ff26b1d952b"
      },
      "source": [
        "data['Bilhete']"
      ],
      "execution_count": 82,
      "outputs": [
        {
          "output_type": "execute_result",
          "data": {
            "text/plain": [
              "0             A/5 2117\n",
              "1              PC 1759\n",
              "2      STON/O2. 310128\n",
              "3                11380\n",
              "4                37345\n",
              "            ...       \n",
              "886              21153\n",
              "887              11205\n",
              "888          W./C. 660\n",
              "889              11136\n",
              "890              37037\n",
              "Name: Bilhete, Length: 891, dtype: object"
            ]
          },
          "metadata": {
            "tags": []
          },
          "execution_count": 82
        }
      ]
    },
    {
      "cell_type": "markdown",
      "metadata": {
        "id": "GtswVgS08q6-"
      },
      "source": [
        "**Variáveis Dummy | HotEncoder** coloca no formato que o python entende"
      ]
    },
    {
      "cell_type": "code",
      "metadata": {
        "id": "zZhZabE78vuv"
      },
      "source": [
        "data = pd.get_dummies(data, columns=['Sexo'],drop_first=True)"
      ],
      "execution_count": 83,
      "outputs": []
    },
    {
      "cell_type": "code",
      "metadata": {
        "colab": {
          "base_uri": "https://localhost:8080/",
          "height": 932
        },
        "id": "64i4UnxVBCIk",
        "outputId": "f31b52a0-f726-4951-c7c2-457ddcf96f47"
      },
      "source": [
        "data"
      ],
      "execution_count": 84,
      "outputs": [
        {
          "output_type": "execute_result",
          "data": {
            "text/html": [
              "<div>\n",
              "<style scoped>\n",
              "    .dataframe tbody tr th:only-of-type {\n",
              "        vertical-align: middle;\n",
              "    }\n",
              "\n",
              "    .dataframe tbody tr th {\n",
              "        vertical-align: top;\n",
              "    }\n",
              "\n",
              "    .dataframe thead th {\n",
              "        text-align: right;\n",
              "    }\n",
              "</style>\n",
              "<table border=\"1\" class=\"dataframe\">\n",
              "  <thead>\n",
              "    <tr style=\"text-align: right;\">\n",
              "      <th></th>\n",
              "      <th>IdPassageiro</th>\n",
              "      <th>Sobreviveu</th>\n",
              "      <th>Classe</th>\n",
              "      <th>Nome</th>\n",
              "      <th>Idade</th>\n",
              "      <th>IrmaosConjuge</th>\n",
              "      <th>PaisFilhos</th>\n",
              "      <th>Bilhete</th>\n",
              "      <th>Tarifa</th>\n",
              "      <th>Embarque</th>\n",
              "      <th>Sexo_mulher</th>\n",
              "    </tr>\n",
              "  </thead>\n",
              "  <tbody>\n",
              "    <tr>\n",
              "      <th>0</th>\n",
              "      <td>1</td>\n",
              "      <td>0</td>\n",
              "      <td>3</td>\n",
              "      <td>Braund, Mr. Owen Harris</td>\n",
              "      <td>22.0</td>\n",
              "      <td>1</td>\n",
              "      <td>0</td>\n",
              "      <td>A/5 2117</td>\n",
              "      <td>7.2500</td>\n",
              "      <td>S</td>\n",
              "      <td>0</td>\n",
              "    </tr>\n",
              "    <tr>\n",
              "      <th>1</th>\n",
              "      <td>2</td>\n",
              "      <td>1</td>\n",
              "      <td>1</td>\n",
              "      <td>Cumings, Mrs. John Bradley (Florence Briggs Th...</td>\n",
              "      <td>38.0</td>\n",
              "      <td>1</td>\n",
              "      <td>0</td>\n",
              "      <td>PC 1759</td>\n",
              "      <td>71.2833</td>\n",
              "      <td>C</td>\n",
              "      <td>1</td>\n",
              "    </tr>\n",
              "    <tr>\n",
              "      <th>2</th>\n",
              "      <td>3</td>\n",
              "      <td>1</td>\n",
              "      <td>3</td>\n",
              "      <td>Heikkinen, Miss. Laina</td>\n",
              "      <td>26.0</td>\n",
              "      <td>0</td>\n",
              "      <td>0</td>\n",
              "      <td>STON/O2. 310128</td>\n",
              "      <td>7.9250</td>\n",
              "      <td>S</td>\n",
              "      <td>1</td>\n",
              "    </tr>\n",
              "    <tr>\n",
              "      <th>3</th>\n",
              "      <td>4</td>\n",
              "      <td>1</td>\n",
              "      <td>1</td>\n",
              "      <td>Futrelle, Mrs. Jacques Heath (Lily May Peel)</td>\n",
              "      <td>35.0</td>\n",
              "      <td>1</td>\n",
              "      <td>0</td>\n",
              "      <td>11380</td>\n",
              "      <td>53.1000</td>\n",
              "      <td>S</td>\n",
              "      <td>1</td>\n",
              "    </tr>\n",
              "    <tr>\n",
              "      <th>4</th>\n",
              "      <td>5</td>\n",
              "      <td>0</td>\n",
              "      <td>3</td>\n",
              "      <td>Allen, Mr. William Henry</td>\n",
              "      <td>35.0</td>\n",
              "      <td>0</td>\n",
              "      <td>0</td>\n",
              "      <td>37345</td>\n",
              "      <td>8.0500</td>\n",
              "      <td>S</td>\n",
              "      <td>0</td>\n",
              "    </tr>\n",
              "    <tr>\n",
              "      <th>...</th>\n",
              "      <td>...</td>\n",
              "      <td>...</td>\n",
              "      <td>...</td>\n",
              "      <td>...</td>\n",
              "      <td>...</td>\n",
              "      <td>...</td>\n",
              "      <td>...</td>\n",
              "      <td>...</td>\n",
              "      <td>...</td>\n",
              "      <td>...</td>\n",
              "      <td>...</td>\n",
              "    </tr>\n",
              "    <tr>\n",
              "      <th>886</th>\n",
              "      <td>887</td>\n",
              "      <td>0</td>\n",
              "      <td>2</td>\n",
              "      <td>Montvila, Rev. Juozas</td>\n",
              "      <td>27.0</td>\n",
              "      <td>0</td>\n",
              "      <td>0</td>\n",
              "      <td>21153</td>\n",
              "      <td>13.0000</td>\n",
              "      <td>S</td>\n",
              "      <td>0</td>\n",
              "    </tr>\n",
              "    <tr>\n",
              "      <th>887</th>\n",
              "      <td>888</td>\n",
              "      <td>1</td>\n",
              "      <td>1</td>\n",
              "      <td>Graham, Miss. Margaret Edith</td>\n",
              "      <td>19.0</td>\n",
              "      <td>0</td>\n",
              "      <td>0</td>\n",
              "      <td>11205</td>\n",
              "      <td>30.0000</td>\n",
              "      <td>S</td>\n",
              "      <td>1</td>\n",
              "    </tr>\n",
              "    <tr>\n",
              "      <th>888</th>\n",
              "      <td>889</td>\n",
              "      <td>0</td>\n",
              "      <td>3</td>\n",
              "      <td>Johnston, Miss. Catherine Helen \"Carrie\"</td>\n",
              "      <td>NaN</td>\n",
              "      <td>1</td>\n",
              "      <td>2</td>\n",
              "      <td>W./C. 660</td>\n",
              "      <td>23.4500</td>\n",
              "      <td>S</td>\n",
              "      <td>1</td>\n",
              "    </tr>\n",
              "    <tr>\n",
              "      <th>889</th>\n",
              "      <td>890</td>\n",
              "      <td>1</td>\n",
              "      <td>1</td>\n",
              "      <td>Behr, Mr. Karl Howell</td>\n",
              "      <td>26.0</td>\n",
              "      <td>0</td>\n",
              "      <td>0</td>\n",
              "      <td>11136</td>\n",
              "      <td>30.0000</td>\n",
              "      <td>C</td>\n",
              "      <td>0</td>\n",
              "    </tr>\n",
              "    <tr>\n",
              "      <th>890</th>\n",
              "      <td>891</td>\n",
              "      <td>0</td>\n",
              "      <td>3</td>\n",
              "      <td>Dooley, Mr. Patrick</td>\n",
              "      <td>32.0</td>\n",
              "      <td>0</td>\n",
              "      <td>0</td>\n",
              "      <td>37037</td>\n",
              "      <td>7.7500</td>\n",
              "      <td>Q</td>\n",
              "      <td>0</td>\n",
              "    </tr>\n",
              "  </tbody>\n",
              "</table>\n",
              "<p>891 rows × 11 columns</p>\n",
              "</div>"
            ],
            "text/plain": [
              "     IdPassageiro  Sobreviveu  Classe  ...   Tarifa  Embarque  Sexo_mulher\n",
              "0               1           0       3  ...   7.2500         S            0\n",
              "1               2           1       1  ...  71.2833         C            1\n",
              "2               3           1       3  ...   7.9250         S            1\n",
              "3               4           1       1  ...  53.1000         S            1\n",
              "4               5           0       3  ...   8.0500         S            0\n",
              "..            ...         ...     ...  ...      ...       ...          ...\n",
              "886           887           0       2  ...  13.0000         S            0\n",
              "887           888           1       1  ...  30.0000         S            1\n",
              "888           889           0       3  ...  23.4500         S            1\n",
              "889           890           1       1  ...  30.0000         C            0\n",
              "890           891           0       3  ...   7.7500         Q            0\n",
              "\n",
              "[891 rows x 11 columns]"
            ]
          },
          "metadata": {
            "tags": []
          },
          "execution_count": 84
        }
      ]
    },
    {
      "cell_type": "code",
      "metadata": {
        "id": "3urJ4eM4Cr7x"
      },
      "source": [
        "embarque = pd.get_dummies(data['Embarque'],drop_first=True)"
      ],
      "execution_count": 85,
      "outputs": []
    },
    {
      "cell_type": "code",
      "metadata": {
        "colab": {
          "base_uri": "https://localhost:8080/",
          "height": 204
        },
        "id": "k81p4KZvDPDz",
        "outputId": "37ce5a22-7f27-473c-8a87-46bdea3a2b64"
      },
      "source": [
        "embarque.head()"
      ],
      "execution_count": 86,
      "outputs": [
        {
          "output_type": "execute_result",
          "data": {
            "text/html": [
              "<div>\n",
              "<style scoped>\n",
              "    .dataframe tbody tr th:only-of-type {\n",
              "        vertical-align: middle;\n",
              "    }\n",
              "\n",
              "    .dataframe tbody tr th {\n",
              "        vertical-align: top;\n",
              "    }\n",
              "\n",
              "    .dataframe thead th {\n",
              "        text-align: right;\n",
              "    }\n",
              "</style>\n",
              "<table border=\"1\" class=\"dataframe\">\n",
              "  <thead>\n",
              "    <tr style=\"text-align: right;\">\n",
              "      <th></th>\n",
              "      <th>Q</th>\n",
              "      <th>S</th>\n",
              "    </tr>\n",
              "  </thead>\n",
              "  <tbody>\n",
              "    <tr>\n",
              "      <th>0</th>\n",
              "      <td>0</td>\n",
              "      <td>1</td>\n",
              "    </tr>\n",
              "    <tr>\n",
              "      <th>1</th>\n",
              "      <td>0</td>\n",
              "      <td>0</td>\n",
              "    </tr>\n",
              "    <tr>\n",
              "      <th>2</th>\n",
              "      <td>0</td>\n",
              "      <td>1</td>\n",
              "    </tr>\n",
              "    <tr>\n",
              "      <th>3</th>\n",
              "      <td>0</td>\n",
              "      <td>1</td>\n",
              "    </tr>\n",
              "    <tr>\n",
              "      <th>4</th>\n",
              "      <td>0</td>\n",
              "      <td>1</td>\n",
              "    </tr>\n",
              "  </tbody>\n",
              "</table>\n",
              "</div>"
            ],
            "text/plain": [
              "   Q  S\n",
              "0  0  1\n",
              "1  0  0\n",
              "2  0  1\n",
              "3  0  1\n",
              "4  0  1"
            ]
          },
          "metadata": {
            "tags": []
          },
          "execution_count": 86
        }
      ]
    },
    {
      "cell_type": "code",
      "metadata": {
        "colab": {
          "base_uri": "https://localhost:8080/",
          "height": 496
        },
        "id": "mz3Cq2LTC6I5",
        "outputId": "21792c47-d3d7-4e89-a6b5-b7b0f28f2cf4"
      },
      "source": [
        "data.head()"
      ],
      "execution_count": 87,
      "outputs": [
        {
          "output_type": "execute_result",
          "data": {
            "text/html": [
              "<div>\n",
              "<style scoped>\n",
              "    .dataframe tbody tr th:only-of-type {\n",
              "        vertical-align: middle;\n",
              "    }\n",
              "\n",
              "    .dataframe tbody tr th {\n",
              "        vertical-align: top;\n",
              "    }\n",
              "\n",
              "    .dataframe thead th {\n",
              "        text-align: right;\n",
              "    }\n",
              "</style>\n",
              "<table border=\"1\" class=\"dataframe\">\n",
              "  <thead>\n",
              "    <tr style=\"text-align: right;\">\n",
              "      <th></th>\n",
              "      <th>IdPassageiro</th>\n",
              "      <th>Sobreviveu</th>\n",
              "      <th>Classe</th>\n",
              "      <th>Nome</th>\n",
              "      <th>Idade</th>\n",
              "      <th>IrmaosConjuge</th>\n",
              "      <th>PaisFilhos</th>\n",
              "      <th>Bilhete</th>\n",
              "      <th>Tarifa</th>\n",
              "      <th>Embarque</th>\n",
              "      <th>Sexo_mulher</th>\n",
              "    </tr>\n",
              "  </thead>\n",
              "  <tbody>\n",
              "    <tr>\n",
              "      <th>0</th>\n",
              "      <td>1</td>\n",
              "      <td>0</td>\n",
              "      <td>3</td>\n",
              "      <td>Braund, Mr. Owen Harris</td>\n",
              "      <td>22.0</td>\n",
              "      <td>1</td>\n",
              "      <td>0</td>\n",
              "      <td>A/5 2117</td>\n",
              "      <td>7.2500</td>\n",
              "      <td>S</td>\n",
              "      <td>0</td>\n",
              "    </tr>\n",
              "    <tr>\n",
              "      <th>1</th>\n",
              "      <td>2</td>\n",
              "      <td>1</td>\n",
              "      <td>1</td>\n",
              "      <td>Cumings, Mrs. John Bradley (Florence Briggs Th...</td>\n",
              "      <td>38.0</td>\n",
              "      <td>1</td>\n",
              "      <td>0</td>\n",
              "      <td>PC 1759</td>\n",
              "      <td>71.2833</td>\n",
              "      <td>C</td>\n",
              "      <td>1</td>\n",
              "    </tr>\n",
              "    <tr>\n",
              "      <th>2</th>\n",
              "      <td>3</td>\n",
              "      <td>1</td>\n",
              "      <td>3</td>\n",
              "      <td>Heikkinen, Miss. Laina</td>\n",
              "      <td>26.0</td>\n",
              "      <td>0</td>\n",
              "      <td>0</td>\n",
              "      <td>STON/O2. 310128</td>\n",
              "      <td>7.9250</td>\n",
              "      <td>S</td>\n",
              "      <td>1</td>\n",
              "    </tr>\n",
              "    <tr>\n",
              "      <th>3</th>\n",
              "      <td>4</td>\n",
              "      <td>1</td>\n",
              "      <td>1</td>\n",
              "      <td>Futrelle, Mrs. Jacques Heath (Lily May Peel)</td>\n",
              "      <td>35.0</td>\n",
              "      <td>1</td>\n",
              "      <td>0</td>\n",
              "      <td>11380</td>\n",
              "      <td>53.1000</td>\n",
              "      <td>S</td>\n",
              "      <td>1</td>\n",
              "    </tr>\n",
              "    <tr>\n",
              "      <th>4</th>\n",
              "      <td>5</td>\n",
              "      <td>0</td>\n",
              "      <td>3</td>\n",
              "      <td>Allen, Mr. William Henry</td>\n",
              "      <td>35.0</td>\n",
              "      <td>0</td>\n",
              "      <td>0</td>\n",
              "      <td>37345</td>\n",
              "      <td>8.0500</td>\n",
              "      <td>S</td>\n",
              "      <td>0</td>\n",
              "    </tr>\n",
              "  </tbody>\n",
              "</table>\n",
              "</div>"
            ],
            "text/plain": [
              "   IdPassageiro  Sobreviveu  Classe  ...   Tarifa  Embarque  Sexo_mulher\n",
              "0             1           0       3  ...   7.2500         S            0\n",
              "1             2           1       1  ...  71.2833         C            1\n",
              "2             3           1       3  ...   7.9250         S            1\n",
              "3             4           1       1  ...  53.1000         S            1\n",
              "4             5           0       3  ...   8.0500         S            0\n",
              "\n",
              "[5 rows x 11 columns]"
            ]
          },
          "metadata": {
            "tags": []
          },
          "execution_count": 87
        }
      ]
    },
    {
      "cell_type": "markdown",
      "metadata": {
        "id": "DSUO5_fsDg6T"
      },
      "source": [
        "**Concatenando DataFrames**"
      ]
    },
    {
      "cell_type": "code",
      "metadata": {
        "colab": {
          "base_uri": "https://localhost:8080/"
        },
        "id": "sLZzRobyD0ml",
        "outputId": "2ee5bab1-70e1-4045-c3fe-6ce70e4e8732"
      },
      "source": [
        "data.shape,embarque.shape #os dataframes precisam tem o mesmo tamanho de linhas"
      ],
      "execution_count": 88,
      "outputs": [
        {
          "output_type": "execute_result",
          "data": {
            "text/plain": [
              "((891, 11), (891, 2))"
            ]
          },
          "metadata": {
            "tags": []
          },
          "execution_count": 88
        }
      ]
    },
    {
      "cell_type": "code",
      "metadata": {
        "id": "mCuYp4iTDgQE"
      },
      "source": [
        "data = pd.concat([data,embarque],axis=1) #concatenando os dataframes"
      ],
      "execution_count": 89,
      "outputs": []
    },
    {
      "cell_type": "code",
      "metadata": {
        "colab": {
          "base_uri": "https://localhost:8080/"
        },
        "id": "g2w8C_FUEJ4K",
        "outputId": "5578c4c6-d5df-4d78-88e1-7a7e9cf88d41"
      },
      "source": [
        "data.shape"
      ],
      "execution_count": 90,
      "outputs": [
        {
          "output_type": "execute_result",
          "data": {
            "text/plain": [
              "(891, 13)"
            ]
          },
          "metadata": {
            "tags": []
          },
          "execution_count": 90
        }
      ]
    },
    {
      "cell_type": "code",
      "metadata": {
        "id": "plxp59eJEPrT"
      },
      "source": [
        "data.drop('Embarque',axis=1, inplace=True)"
      ],
      "execution_count": 91,
      "outputs": []
    },
    {
      "cell_type": "code",
      "metadata": {
        "colab": {
          "base_uri": "https://localhost:8080/",
          "height": 496
        },
        "id": "r_G-C5ytEy6Z",
        "outputId": "344443b5-b286-427c-a849-f4d629cb883d"
      },
      "source": [
        "data.head()"
      ],
      "execution_count": 92,
      "outputs": [
        {
          "output_type": "execute_result",
          "data": {
            "text/html": [
              "<div>\n",
              "<style scoped>\n",
              "    .dataframe tbody tr th:only-of-type {\n",
              "        vertical-align: middle;\n",
              "    }\n",
              "\n",
              "    .dataframe tbody tr th {\n",
              "        vertical-align: top;\n",
              "    }\n",
              "\n",
              "    .dataframe thead th {\n",
              "        text-align: right;\n",
              "    }\n",
              "</style>\n",
              "<table border=\"1\" class=\"dataframe\">\n",
              "  <thead>\n",
              "    <tr style=\"text-align: right;\">\n",
              "      <th></th>\n",
              "      <th>IdPassageiro</th>\n",
              "      <th>Sobreviveu</th>\n",
              "      <th>Classe</th>\n",
              "      <th>Nome</th>\n",
              "      <th>Idade</th>\n",
              "      <th>IrmaosConjuge</th>\n",
              "      <th>PaisFilhos</th>\n",
              "      <th>Bilhete</th>\n",
              "      <th>Tarifa</th>\n",
              "      <th>Sexo_mulher</th>\n",
              "      <th>Q</th>\n",
              "      <th>S</th>\n",
              "    </tr>\n",
              "  </thead>\n",
              "  <tbody>\n",
              "    <tr>\n",
              "      <th>0</th>\n",
              "      <td>1</td>\n",
              "      <td>0</td>\n",
              "      <td>3</td>\n",
              "      <td>Braund, Mr. Owen Harris</td>\n",
              "      <td>22.0</td>\n",
              "      <td>1</td>\n",
              "      <td>0</td>\n",
              "      <td>A/5 2117</td>\n",
              "      <td>7.2500</td>\n",
              "      <td>0</td>\n",
              "      <td>0</td>\n",
              "      <td>1</td>\n",
              "    </tr>\n",
              "    <tr>\n",
              "      <th>1</th>\n",
              "      <td>2</td>\n",
              "      <td>1</td>\n",
              "      <td>1</td>\n",
              "      <td>Cumings, Mrs. John Bradley (Florence Briggs Th...</td>\n",
              "      <td>38.0</td>\n",
              "      <td>1</td>\n",
              "      <td>0</td>\n",
              "      <td>PC 1759</td>\n",
              "      <td>71.2833</td>\n",
              "      <td>1</td>\n",
              "      <td>0</td>\n",
              "      <td>0</td>\n",
              "    </tr>\n",
              "    <tr>\n",
              "      <th>2</th>\n",
              "      <td>3</td>\n",
              "      <td>1</td>\n",
              "      <td>3</td>\n",
              "      <td>Heikkinen, Miss. Laina</td>\n",
              "      <td>26.0</td>\n",
              "      <td>0</td>\n",
              "      <td>0</td>\n",
              "      <td>STON/O2. 310128</td>\n",
              "      <td>7.9250</td>\n",
              "      <td>1</td>\n",
              "      <td>0</td>\n",
              "      <td>1</td>\n",
              "    </tr>\n",
              "    <tr>\n",
              "      <th>3</th>\n",
              "      <td>4</td>\n",
              "      <td>1</td>\n",
              "      <td>1</td>\n",
              "      <td>Futrelle, Mrs. Jacques Heath (Lily May Peel)</td>\n",
              "      <td>35.0</td>\n",
              "      <td>1</td>\n",
              "      <td>0</td>\n",
              "      <td>11380</td>\n",
              "      <td>53.1000</td>\n",
              "      <td>1</td>\n",
              "      <td>0</td>\n",
              "      <td>1</td>\n",
              "    </tr>\n",
              "    <tr>\n",
              "      <th>4</th>\n",
              "      <td>5</td>\n",
              "      <td>0</td>\n",
              "      <td>3</td>\n",
              "      <td>Allen, Mr. William Henry</td>\n",
              "      <td>35.0</td>\n",
              "      <td>0</td>\n",
              "      <td>0</td>\n",
              "      <td>37345</td>\n",
              "      <td>8.0500</td>\n",
              "      <td>0</td>\n",
              "      <td>0</td>\n",
              "      <td>1</td>\n",
              "    </tr>\n",
              "  </tbody>\n",
              "</table>\n",
              "</div>"
            ],
            "text/plain": [
              "   IdPassageiro  Sobreviveu  Classe  ... Sexo_mulher  Q  S\n",
              "0             1           0       3  ...           0  0  1\n",
              "1             2           1       1  ...           1  0  0\n",
              "2             3           1       3  ...           1  0  1\n",
              "3             4           1       1  ...           1  0  1\n",
              "4             5           0       3  ...           0  0  1\n",
              "\n",
              "[5 rows x 12 columns]"
            ]
          },
          "metadata": {
            "tags": []
          },
          "execution_count": 92
        }
      ]
    },
    {
      "cell_type": "markdown",
      "metadata": {
        "id": "78X-Ata9Fkj-"
      },
      "source": [
        "\n",
        "![image.png](data:image/png;base64,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)"
      ]
    },
    {
      "cell_type": "code",
      "metadata": {
        "id": "V6vu7A5sHNrT"
      },
      "source": [
        "data['Titulo'] = data['Nome'].str.extract('([a-zA-Z]+)\\.')"
      ],
      "execution_count": 93,
      "outputs": []
    },
    {
      "cell_type": "code",
      "metadata": {
        "colab": {
          "base_uri": "https://localhost:8080/",
          "height": 932
        },
        "id": "U-nladaSI4VI",
        "outputId": "a4bbe436-0447-4ab6-c30d-cfd342cadf27"
      },
      "source": [
        "data"
      ],
      "execution_count": 94,
      "outputs": [
        {
          "output_type": "execute_result",
          "data": {
            "text/html": [
              "<div>\n",
              "<style scoped>\n",
              "    .dataframe tbody tr th:only-of-type {\n",
              "        vertical-align: middle;\n",
              "    }\n",
              "\n",
              "    .dataframe tbody tr th {\n",
              "        vertical-align: top;\n",
              "    }\n",
              "\n",
              "    .dataframe thead th {\n",
              "        text-align: right;\n",
              "    }\n",
              "</style>\n",
              "<table border=\"1\" class=\"dataframe\">\n",
              "  <thead>\n",
              "    <tr style=\"text-align: right;\">\n",
              "      <th></th>\n",
              "      <th>IdPassageiro</th>\n",
              "      <th>Sobreviveu</th>\n",
              "      <th>Classe</th>\n",
              "      <th>Nome</th>\n",
              "      <th>Idade</th>\n",
              "      <th>IrmaosConjuge</th>\n",
              "      <th>PaisFilhos</th>\n",
              "      <th>Bilhete</th>\n",
              "      <th>Tarifa</th>\n",
              "      <th>Sexo_mulher</th>\n",
              "      <th>Q</th>\n",
              "      <th>S</th>\n",
              "      <th>Titulo</th>\n",
              "    </tr>\n",
              "  </thead>\n",
              "  <tbody>\n",
              "    <tr>\n",
              "      <th>0</th>\n",
              "      <td>1</td>\n",
              "      <td>0</td>\n",
              "      <td>3</td>\n",
              "      <td>Braund, Mr. Owen Harris</td>\n",
              "      <td>22.0</td>\n",
              "      <td>1</td>\n",
              "      <td>0</td>\n",
              "      <td>A/5 2117</td>\n",
              "      <td>7.2500</td>\n",
              "      <td>0</td>\n",
              "      <td>0</td>\n",
              "      <td>1</td>\n",
              "      <td>Mr</td>\n",
              "    </tr>\n",
              "    <tr>\n",
              "      <th>1</th>\n",
              "      <td>2</td>\n",
              "      <td>1</td>\n",
              "      <td>1</td>\n",
              "      <td>Cumings, Mrs. John Bradley (Florence Briggs Th...</td>\n",
              "      <td>38.0</td>\n",
              "      <td>1</td>\n",
              "      <td>0</td>\n",
              "      <td>PC 1759</td>\n",
              "      <td>71.2833</td>\n",
              "      <td>1</td>\n",
              "      <td>0</td>\n",
              "      <td>0</td>\n",
              "      <td>Mrs</td>\n",
              "    </tr>\n",
              "    <tr>\n",
              "      <th>2</th>\n",
              "      <td>3</td>\n",
              "      <td>1</td>\n",
              "      <td>3</td>\n",
              "      <td>Heikkinen, Miss. Laina</td>\n",
              "      <td>26.0</td>\n",
              "      <td>0</td>\n",
              "      <td>0</td>\n",
              "      <td>STON/O2. 310128</td>\n",
              "      <td>7.9250</td>\n",
              "      <td>1</td>\n",
              "      <td>0</td>\n",
              "      <td>1</td>\n",
              "      <td>Miss</td>\n",
              "    </tr>\n",
              "    <tr>\n",
              "      <th>3</th>\n",
              "      <td>4</td>\n",
              "      <td>1</td>\n",
              "      <td>1</td>\n",
              "      <td>Futrelle, Mrs. Jacques Heath (Lily May Peel)</td>\n",
              "      <td>35.0</td>\n",
              "      <td>1</td>\n",
              "      <td>0</td>\n",
              "      <td>11380</td>\n",
              "      <td>53.1000</td>\n",
              "      <td>1</td>\n",
              "      <td>0</td>\n",
              "      <td>1</td>\n",
              "      <td>Mrs</td>\n",
              "    </tr>\n",
              "    <tr>\n",
              "      <th>4</th>\n",
              "      <td>5</td>\n",
              "      <td>0</td>\n",
              "      <td>3</td>\n",
              "      <td>Allen, Mr. William Henry</td>\n",
              "      <td>35.0</td>\n",
              "      <td>0</td>\n",
              "      <td>0</td>\n",
              "      <td>37345</td>\n",
              "      <td>8.0500</td>\n",
              "      <td>0</td>\n",
              "      <td>0</td>\n",
              "      <td>1</td>\n",
              "      <td>Mr</td>\n",
              "    </tr>\n",
              "    <tr>\n",
              "      <th>...</th>\n",
              "      <td>...</td>\n",
              "      <td>...</td>\n",
              "      <td>...</td>\n",
              "      <td>...</td>\n",
              "      <td>...</td>\n",
              "      <td>...</td>\n",
              "      <td>...</td>\n",
              "      <td>...</td>\n",
              "      <td>...</td>\n",
              "      <td>...</td>\n",
              "      <td>...</td>\n",
              "      <td>...</td>\n",
              "      <td>...</td>\n",
              "    </tr>\n",
              "    <tr>\n",
              "      <th>886</th>\n",
              "      <td>887</td>\n",
              "      <td>0</td>\n",
              "      <td>2</td>\n",
              "      <td>Montvila, Rev. Juozas</td>\n",
              "      <td>27.0</td>\n",
              "      <td>0</td>\n",
              "      <td>0</td>\n",
              "      <td>21153</td>\n",
              "      <td>13.0000</td>\n",
              "      <td>0</td>\n",
              "      <td>0</td>\n",
              "      <td>1</td>\n",
              "      <td>Rev</td>\n",
              "    </tr>\n",
              "    <tr>\n",
              "      <th>887</th>\n",
              "      <td>888</td>\n",
              "      <td>1</td>\n",
              "      <td>1</td>\n",
              "      <td>Graham, Miss. Margaret Edith</td>\n",
              "      <td>19.0</td>\n",
              "      <td>0</td>\n",
              "      <td>0</td>\n",
              "      <td>11205</td>\n",
              "      <td>30.0000</td>\n",
              "      <td>1</td>\n",
              "      <td>0</td>\n",
              "      <td>1</td>\n",
              "      <td>Miss</td>\n",
              "    </tr>\n",
              "    <tr>\n",
              "      <th>888</th>\n",
              "      <td>889</td>\n",
              "      <td>0</td>\n",
              "      <td>3</td>\n",
              "      <td>Johnston, Miss. Catherine Helen \"Carrie\"</td>\n",
              "      <td>NaN</td>\n",
              "      <td>1</td>\n",
              "      <td>2</td>\n",
              "      <td>W./C. 660</td>\n",
              "      <td>23.4500</td>\n",
              "      <td>1</td>\n",
              "      <td>0</td>\n",
              "      <td>1</td>\n",
              "      <td>Miss</td>\n",
              "    </tr>\n",
              "    <tr>\n",
              "      <th>889</th>\n",
              "      <td>890</td>\n",
              "      <td>1</td>\n",
              "      <td>1</td>\n",
              "      <td>Behr, Mr. Karl Howell</td>\n",
              "      <td>26.0</td>\n",
              "      <td>0</td>\n",
              "      <td>0</td>\n",
              "      <td>11136</td>\n",
              "      <td>30.0000</td>\n",
              "      <td>0</td>\n",
              "      <td>0</td>\n",
              "      <td>0</td>\n",
              "      <td>Mr</td>\n",
              "    </tr>\n",
              "    <tr>\n",
              "      <th>890</th>\n",
              "      <td>891</td>\n",
              "      <td>0</td>\n",
              "      <td>3</td>\n",
              "      <td>Dooley, Mr. Patrick</td>\n",
              "      <td>32.0</td>\n",
              "      <td>0</td>\n",
              "      <td>0</td>\n",
              "      <td>37037</td>\n",
              "      <td>7.7500</td>\n",
              "      <td>0</td>\n",
              "      <td>1</td>\n",
              "      <td>0</td>\n",
              "      <td>Mr</td>\n",
              "    </tr>\n",
              "  </tbody>\n",
              "</table>\n",
              "<p>891 rows × 13 columns</p>\n",
              "</div>"
            ],
            "text/plain": [
              "     IdPassageiro  Sobreviveu  Classe  ...  Q  S  Titulo\n",
              "0               1           0       3  ...  0  1      Mr\n",
              "1               2           1       1  ...  0  0     Mrs\n",
              "2               3           1       3  ...  0  1    Miss\n",
              "3               4           1       1  ...  0  1     Mrs\n",
              "4               5           0       3  ...  0  1      Mr\n",
              "..            ...         ...     ...  ... .. ..     ...\n",
              "886           887           0       2  ...  0  1     Rev\n",
              "887           888           1       1  ...  0  1    Miss\n",
              "888           889           0       3  ...  0  1    Miss\n",
              "889           890           1       1  ...  0  0      Mr\n",
              "890           891           0       3  ...  1  0      Mr\n",
              "\n",
              "[891 rows x 13 columns]"
            ]
          },
          "metadata": {
            "tags": []
          },
          "execution_count": 94
        }
      ]
    },
    {
      "cell_type": "markdown",
      "metadata": {
        "id": "KbkLVvKkOksn"
      },
      "source": [
        "**Engenharia de Recursos - Feature Engineering**"
      ]
    },
    {
      "cell_type": "code",
      "metadata": {
        "id": "qkUgc_NFOj4c"
      },
      "source": [
        "data['Sexo'] = data['Sexo_mulher'].map({0:'homem',1:'mulher'})"
      ],
      "execution_count": 95,
      "outputs": []
    },
    {
      "cell_type": "code",
      "metadata": {
        "colab": {
          "base_uri": "https://localhost:8080/",
          "height": 607
        },
        "id": "TjuT0hRqbTLh",
        "outputId": "287dc1d6-49c9-4397-ca38-d62597817ba7"
      },
      "source": [
        "pd.crosstab(data['Titulo'],data['Sexo'])"
      ],
      "execution_count": 96,
      "outputs": [
        {
          "output_type": "execute_result",
          "data": {
            "text/html": [
              "<div>\n",
              "<style scoped>\n",
              "    .dataframe tbody tr th:only-of-type {\n",
              "        vertical-align: middle;\n",
              "    }\n",
              "\n",
              "    .dataframe tbody tr th {\n",
              "        vertical-align: top;\n",
              "    }\n",
              "\n",
              "    .dataframe thead th {\n",
              "        text-align: right;\n",
              "    }\n",
              "</style>\n",
              "<table border=\"1\" class=\"dataframe\">\n",
              "  <thead>\n",
              "    <tr style=\"text-align: right;\">\n",
              "      <th>Sexo</th>\n",
              "      <th>homem</th>\n",
              "      <th>mulher</th>\n",
              "    </tr>\n",
              "    <tr>\n",
              "      <th>Titulo</th>\n",
              "      <th></th>\n",
              "      <th></th>\n",
              "    </tr>\n",
              "  </thead>\n",
              "  <tbody>\n",
              "    <tr>\n",
              "      <th>Capt</th>\n",
              "      <td>1</td>\n",
              "      <td>0</td>\n",
              "    </tr>\n",
              "    <tr>\n",
              "      <th>Col</th>\n",
              "      <td>2</td>\n",
              "      <td>0</td>\n",
              "    </tr>\n",
              "    <tr>\n",
              "      <th>Countess</th>\n",
              "      <td>0</td>\n",
              "      <td>1</td>\n",
              "    </tr>\n",
              "    <tr>\n",
              "      <th>Don</th>\n",
              "      <td>1</td>\n",
              "      <td>0</td>\n",
              "    </tr>\n",
              "    <tr>\n",
              "      <th>Dr</th>\n",
              "      <td>6</td>\n",
              "      <td>1</td>\n",
              "    </tr>\n",
              "    <tr>\n",
              "      <th>Jonkheer</th>\n",
              "      <td>1</td>\n",
              "      <td>0</td>\n",
              "    </tr>\n",
              "    <tr>\n",
              "      <th>Lady</th>\n",
              "      <td>0</td>\n",
              "      <td>1</td>\n",
              "    </tr>\n",
              "    <tr>\n",
              "      <th>Major</th>\n",
              "      <td>2</td>\n",
              "      <td>0</td>\n",
              "    </tr>\n",
              "    <tr>\n",
              "      <th>Master</th>\n",
              "      <td>40</td>\n",
              "      <td>0</td>\n",
              "    </tr>\n",
              "    <tr>\n",
              "      <th>Miss</th>\n",
              "      <td>0</td>\n",
              "      <td>182</td>\n",
              "    </tr>\n",
              "    <tr>\n",
              "      <th>Mlle</th>\n",
              "      <td>0</td>\n",
              "      <td>2</td>\n",
              "    </tr>\n",
              "    <tr>\n",
              "      <th>Mme</th>\n",
              "      <td>0</td>\n",
              "      <td>1</td>\n",
              "    </tr>\n",
              "    <tr>\n",
              "      <th>Mr</th>\n",
              "      <td>517</td>\n",
              "      <td>0</td>\n",
              "    </tr>\n",
              "    <tr>\n",
              "      <th>Mrs</th>\n",
              "      <td>0</td>\n",
              "      <td>125</td>\n",
              "    </tr>\n",
              "    <tr>\n",
              "      <th>Ms</th>\n",
              "      <td>0</td>\n",
              "      <td>1</td>\n",
              "    </tr>\n",
              "    <tr>\n",
              "      <th>Rev</th>\n",
              "      <td>6</td>\n",
              "      <td>0</td>\n",
              "    </tr>\n",
              "    <tr>\n",
              "      <th>Sir</th>\n",
              "      <td>1</td>\n",
              "      <td>0</td>\n",
              "    </tr>\n",
              "  </tbody>\n",
              "</table>\n",
              "</div>"
            ],
            "text/plain": [
              "Sexo      homem  mulher\n",
              "Titulo                 \n",
              "Capt          1       0\n",
              "Col           2       0\n",
              "Countess      0       1\n",
              "Don           1       0\n",
              "Dr            6       1\n",
              "Jonkheer      1       0\n",
              "Lady          0       1\n",
              "Major         2       0\n",
              "Master       40       0\n",
              "Miss          0     182\n",
              "Mlle          0       2\n",
              "Mme           0       1\n",
              "Mr          517       0\n",
              "Mrs           0     125\n",
              "Ms            0       1\n",
              "Rev           6       0\n",
              "Sir           1       0"
            ]
          },
          "metadata": {
            "tags": []
          },
          "execution_count": 96
        }
      ]
    },
    {
      "cell_type": "markdown",
      "metadata": {
        "id": "k_GWVoDYcVI0"
      },
      "source": [
        "Para facilitar iremos categorizar em Master, Miss, Mr, Mrs e outros"
      ]
    },
    {
      "cell_type": "code",
      "metadata": {
        "id": "6YlPyFOwcCeA"
      },
      "source": [
        "data['Titulo'] = data['Titulo'].apply(lambda x: 'Outros' if x not in ['Master', 'Miss', 'Mr', 'Mrs'] else x)"
      ],
      "execution_count": 97,
      "outputs": []
    },
    {
      "cell_type": "code",
      "metadata": {
        "colab": {
          "base_uri": "https://localhost:8080/",
          "height": 235
        },
        "id": "9muGMeVKd5hf",
        "outputId": "6a2a9361-a886-4a5a-96da-ba6040bf429c"
      },
      "source": [
        "pd.crosstab(data['Titulo'], data['Sexo'])"
      ],
      "execution_count": 98,
      "outputs": [
        {
          "output_type": "execute_result",
          "data": {
            "text/html": [
              "<div>\n",
              "<style scoped>\n",
              "    .dataframe tbody tr th:only-of-type {\n",
              "        vertical-align: middle;\n",
              "    }\n",
              "\n",
              "    .dataframe tbody tr th {\n",
              "        vertical-align: top;\n",
              "    }\n",
              "\n",
              "    .dataframe thead th {\n",
              "        text-align: right;\n",
              "    }\n",
              "</style>\n",
              "<table border=\"1\" class=\"dataframe\">\n",
              "  <thead>\n",
              "    <tr style=\"text-align: right;\">\n",
              "      <th>Sexo</th>\n",
              "      <th>homem</th>\n",
              "      <th>mulher</th>\n",
              "    </tr>\n",
              "    <tr>\n",
              "      <th>Titulo</th>\n",
              "      <th></th>\n",
              "      <th></th>\n",
              "    </tr>\n",
              "  </thead>\n",
              "  <tbody>\n",
              "    <tr>\n",
              "      <th>Master</th>\n",
              "      <td>40</td>\n",
              "      <td>0</td>\n",
              "    </tr>\n",
              "    <tr>\n",
              "      <th>Miss</th>\n",
              "      <td>0</td>\n",
              "      <td>182</td>\n",
              "    </tr>\n",
              "    <tr>\n",
              "      <th>Mr</th>\n",
              "      <td>517</td>\n",
              "      <td>0</td>\n",
              "    </tr>\n",
              "    <tr>\n",
              "      <th>Mrs</th>\n",
              "      <td>0</td>\n",
              "      <td>125</td>\n",
              "    </tr>\n",
              "    <tr>\n",
              "      <th>Outros</th>\n",
              "      <td>20</td>\n",
              "      <td>7</td>\n",
              "    </tr>\n",
              "  </tbody>\n",
              "</table>\n",
              "</div>"
            ],
            "text/plain": [
              "Sexo    homem  mulher\n",
              "Titulo               \n",
              "Master     40       0\n",
              "Miss        0     182\n",
              "Mr        517       0\n",
              "Mrs         0     125\n",
              "Outros     20       7"
            ]
          },
          "metadata": {
            "tags": []
          },
          "execution_count": 98
        }
      ]
    },
    {
      "cell_type": "markdown",
      "metadata": {
        "id": "hBGgEnGne6Hj"
      },
      "source": [
        "Analisando o Master conseguimos perceber que era como o pessoal chamava as crianças"
      ]
    },
    {
      "cell_type": "code",
      "metadata": {
        "colab": {
          "base_uri": "https://localhost:8080/"
        },
        "id": "ytniCul9eSZc",
        "outputId": "435468e8-ec27-4f62-fd56-0def50cf9f03"
      },
      "source": [
        "data[['Titulo','Sexo','Idade','Classe','Sobreviveu']].loc[data['Titulo']=='Master'].max()"
      ],
      "execution_count": 99,
      "outputs": [
        {
          "output_type": "execute_result",
          "data": {
            "text/plain": [
              "Titulo        Master\n",
              "Sexo           homem\n",
              "Idade             12\n",
              "Classe             3\n",
              "Sobreviveu         1\n",
              "dtype: object"
            ]
          },
          "metadata": {
            "tags": []
          },
          "execution_count": 99
        }
      ]
    },
    {
      "cell_type": "code",
      "metadata": {
        "colab": {
          "base_uri": "https://localhost:8080/"
        },
        "id": "VPu0uKzcfQzD",
        "outputId": "0b226797-ba75-433d-8ee1-f915a66378bf"
      },
      "source": [
        "data[['Titulo','Sexo','Idade','Classe','Sobreviveu']].loc[data['Titulo']=='Master'].mean()"
      ],
      "execution_count": 100,
      "outputs": [
        {
          "output_type": "execute_result",
          "data": {
            "text/plain": [
              "Idade         4.574167\n",
              "Classe        2.625000\n",
              "Sobreviveu    0.575000\n",
              "dtype: float64"
            ]
          },
          "metadata": {
            "tags": []
          },
          "execution_count": 100
        }
      ]
    },
    {
      "cell_type": "markdown",
      "metadata": {
        "id": "PD_A20RnflZH"
      },
      "source": [
        "**Mudando valores linha por linha - iterrows()**"
      ]
    },
    {
      "cell_type": "code",
      "metadata": {
        "colab": {
          "resources": {
            "http://localhost:8080/nbextensions/google.colab/files.js": {
              "data": "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",
              "ok": true,
              "headers": [
                [
                  "content-type",
                  "application/javascript"
                ]
              ],
              "status": 200,
              "status_text": ""
            }
          },
          "base_uri": "https://localhost:8080/",
          "height": 72
        },
        "id": "SPzq_Z_Bfavz",
        "outputId": "562a23e6-238e-41dd-da22-3267d4644caf"
      },
      "source": [
        "from google.colab import files #como estou no google colab é necesssario fazer este passo antes\n",
        "uploaded = files.upload()"
      ],
      "execution_count": 101,
      "outputs": [
        {
          "output_type": "display_data",
          "data": {
            "text/html": [
              "\n",
              "     <input type=\"file\" id=\"files-71a98e7f-d121-4b44-907b-750d37a278ee\" name=\"files[]\" multiple disabled\n",
              "        style=\"border:none\" />\n",
              "     <output id=\"result-71a98e7f-d121-4b44-907b-750d37a278ee\">\n",
              "      Upload widget is only available when the cell has been executed in the\n",
              "      current browser session. Please rerun this cell to enable.\n",
              "      </output>\n",
              "      <script src=\"/nbextensions/google.colab/files.js\"></script> "
            ],
            "text/plain": [
              "<IPython.core.display.HTML object>"
            ]
          },
          "metadata": {
            "tags": []
          }
        },
        {
          "output_type": "stream",
          "text": [
            "Saving train.csv to train (1).csv\n"
          ],
          "name": "stdout"
        }
      ]
    },
    {
      "cell_type": "code",
      "metadata": {
        "id": "98VWdyEKggJT"
      },
      "source": [
        "import io"
      ],
      "execution_count": 102,
      "outputs": []
    },
    {
      "cell_type": "code",
      "metadata": {
        "id": "MIBkYZbhgjEo"
      },
      "source": [
        "cabine = pd.read_csv(io.BytesIO(uploaded['train.csv']))"
      ],
      "execution_count": 103,
      "outputs": []
    },
    {
      "cell_type": "markdown",
      "metadata": {
        "id": "1YC_lbq3gzl_"
      },
      "source": [
        "Analisando a coluna Cabin, verifica-se que o local onde a pessoa estava interferiu na sobrevivencia, para uma melhor analise iremos selecionar a primeira letra de cada linha desta coluna"
      ]
    },
    {
      "cell_type": "code",
      "metadata": {
        "colab": {
          "base_uri": "https://localhost:8080/"
        },
        "id": "qspRaW1wgoSN",
        "outputId": "705645f4-4f01-4e51-f516-015f8bc09f86"
      },
      "source": [
        "cabine['Cabin'].head()"
      ],
      "execution_count": 104,
      "outputs": [
        {
          "output_type": "execute_result",
          "data": {
            "text/plain": [
              "0     NaN\n",
              "1     C85\n",
              "2     NaN\n",
              "3    C123\n",
              "4     NaN\n",
              "Name: Cabin, dtype: object"
            ]
          },
          "metadata": {
            "tags": []
          },
          "execution_count": 104
        }
      ]
    },
    {
      "cell_type": "code",
      "metadata": {
        "id": "MRbHnAjZhQUM"
      },
      "source": [
        "for idx, _ in cabine[['Cabin']].dropna().iterrows(): # _ quando deixamos vazio e o dropna tira os valores nulos\n",
        "    cabine_individual = cabine['Cabin'].at[idx]\n",
        "    cabine['Cabin'].at[idx]= cabine_individual[0]"
      ],
      "execution_count": 113,
      "outputs": []
    },
    {
      "cell_type": "code",
      "metadata": {
        "colab": {
          "base_uri": "https://localhost:8080/",
          "height": 514
        },
        "id": "-7zBJkmCho9F",
        "outputId": "a0063dbb-259f-4fdf-b2eb-fa92011a41a5"
      },
      "source": [
        "cabine[['Cabin','Survived','Sex','Pclass']].dropna().groupby(['Cabin','Sex']).mean()"
      ],
      "execution_count": 117,
      "outputs": [
        {
          "output_type": "execute_result",
          "data": {
            "text/html": [
              "<div>\n",
              "<style scoped>\n",
              "    .dataframe tbody tr th:only-of-type {\n",
              "        vertical-align: middle;\n",
              "    }\n",
              "\n",
              "    .dataframe tbody tr th {\n",
              "        vertical-align: top;\n",
              "    }\n",
              "\n",
              "    .dataframe thead th {\n",
              "        text-align: right;\n",
              "    }\n",
              "</style>\n",
              "<table border=\"1\" class=\"dataframe\">\n",
              "  <thead>\n",
              "    <tr style=\"text-align: right;\">\n",
              "      <th></th>\n",
              "      <th></th>\n",
              "      <th>Survived</th>\n",
              "      <th>Pclass</th>\n",
              "    </tr>\n",
              "    <tr>\n",
              "      <th>Cabin</th>\n",
              "      <th>Sex</th>\n",
              "      <th></th>\n",
              "      <th></th>\n",
              "    </tr>\n",
              "  </thead>\n",
              "  <tbody>\n",
              "    <tr>\n",
              "      <th rowspan=\"2\" valign=\"top\">A</th>\n",
              "      <th>female</th>\n",
              "      <td>1.000000</td>\n",
              "      <td>1.000000</td>\n",
              "    </tr>\n",
              "    <tr>\n",
              "      <th>male</th>\n",
              "      <td>0.428571</td>\n",
              "      <td>1.000000</td>\n",
              "    </tr>\n",
              "    <tr>\n",
              "      <th rowspan=\"2\" valign=\"top\">B</th>\n",
              "      <th>female</th>\n",
              "      <td>1.000000</td>\n",
              "      <td>1.000000</td>\n",
              "    </tr>\n",
              "    <tr>\n",
              "      <th>male</th>\n",
              "      <td>0.400000</td>\n",
              "      <td>1.000000</td>\n",
              "    </tr>\n",
              "    <tr>\n",
              "      <th rowspan=\"2\" valign=\"top\">C</th>\n",
              "      <th>female</th>\n",
              "      <td>0.888889</td>\n",
              "      <td>1.000000</td>\n",
              "    </tr>\n",
              "    <tr>\n",
              "      <th>male</th>\n",
              "      <td>0.343750</td>\n",
              "      <td>1.000000</td>\n",
              "    </tr>\n",
              "    <tr>\n",
              "      <th rowspan=\"2\" valign=\"top\">D</th>\n",
              "      <th>female</th>\n",
              "      <td>1.000000</td>\n",
              "      <td>1.111111</td>\n",
              "    </tr>\n",
              "    <tr>\n",
              "      <th>male</th>\n",
              "      <td>0.466667</td>\n",
              "      <td>1.133333</td>\n",
              "    </tr>\n",
              "    <tr>\n",
              "      <th rowspan=\"2\" valign=\"top\">E</th>\n",
              "      <th>female</th>\n",
              "      <td>0.933333</td>\n",
              "      <td>1.400000</td>\n",
              "    </tr>\n",
              "    <tr>\n",
              "      <th>male</th>\n",
              "      <td>0.588235</td>\n",
              "      <td>1.235294</td>\n",
              "    </tr>\n",
              "    <tr>\n",
              "      <th rowspan=\"2\" valign=\"top\">F</th>\n",
              "      <th>female</th>\n",
              "      <td>1.000000</td>\n",
              "      <td>2.200000</td>\n",
              "    </tr>\n",
              "    <tr>\n",
              "      <th>male</th>\n",
              "      <td>0.375000</td>\n",
              "      <td>2.500000</td>\n",
              "    </tr>\n",
              "    <tr>\n",
              "      <th>G</th>\n",
              "      <th>female</th>\n",
              "      <td>0.500000</td>\n",
              "      <td>3.000000</td>\n",
              "    </tr>\n",
              "    <tr>\n",
              "      <th>T</th>\n",
              "      <th>male</th>\n",
              "      <td>0.000000</td>\n",
              "      <td>1.000000</td>\n",
              "    </tr>\n",
              "  </tbody>\n",
              "</table>\n",
              "</div>"
            ],
            "text/plain": [
              "              Survived    Pclass\n",
              "Cabin Sex                       \n",
              "A     female  1.000000  1.000000\n",
              "      male    0.428571  1.000000\n",
              "B     female  1.000000  1.000000\n",
              "      male    0.400000  1.000000\n",
              "C     female  0.888889  1.000000\n",
              "      male    0.343750  1.000000\n",
              "D     female  1.000000  1.111111\n",
              "      male    0.466667  1.133333\n",
              "E     female  0.933333  1.400000\n",
              "      male    0.588235  1.235294\n",
              "F     female  1.000000  2.200000\n",
              "      male    0.375000  2.500000\n",
              "G     female  0.500000  3.000000\n",
              "T     male    0.000000  1.000000"
            ]
          },
          "metadata": {
            "tags": []
          },
          "execution_count": 117
        }
      ]
    },
    {
      "cell_type": "code",
      "metadata": {
        "id": "UV2Qd3XSNi4B"
      },
      "source": [
        ""
      ],
      "execution_count": null,
      "outputs": []
    }
  ]
}