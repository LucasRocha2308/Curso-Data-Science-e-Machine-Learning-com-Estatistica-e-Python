{
  "nbformat": 4,
  "nbformat_minor": 0,
  "metadata": {
    "colab": {
      "name": "time_series.ipynb",
      "provenance": [],
      "collapsed_sections": [],
      "authorship_tag": "ABX9TyMiCtHCypLm4m+PPYWnauY1",
      "include_colab_link": true
    },
    "kernelspec": {
      "name": "python3",
      "display_name": "Python 3"
    }
  },
  "cells": [
    {
      "cell_type": "markdown",
      "metadata": {
        "id": "view-in-github",
        "colab_type": "text"
      },
      "source": [
        "<a href=\"https://colab.research.google.com/github/rochinha23/Curso-Data-Science-e-Machine-Learning-com-Estatistica-e-Python/blob/main/time_series.ipynb\" target=\"_parent\"><img src=\"https://colab.research.google.com/assets/colab-badge.svg\" alt=\"Open In Colab\"/></a>"
      ]
    },
    {
      "cell_type": "markdown",
      "metadata": {
        "id": "idZBSAK4Lj0k"
      },
      "source": [
        "**Time Series** modulo especifico para trabalhar com tempo,hora, data..."
      ]
    },
    {
      "cell_type": "markdown",
      "metadata": {
        "id": "6WU-iObVLo_k"
      },
      "source": [
        "**importar pandas, numpy e matplotlib**"
      ]
    },
    {
      "cell_type": "code",
      "metadata": {
        "id": "CCniY8PHLXE4"
      },
      "source": [
        "import pandas as pd\r\n",
        "import numpy as np\r\n",
        "import matplotlib.pyplot as plt\r\n",
        "%matplotlib inline"
      ],
      "execution_count": 1,
      "outputs": []
    },
    {
      "cell_type": "markdown",
      "metadata": {
        "id": "xhnBzYJSMAG7"
      },
      "source": [
        "**datatime**"
      ]
    },
    {
      "cell_type": "code",
      "metadata": {
        "id": "KS-5nmdSMliK"
      },
      "source": [
        "import datetime"
      ],
      "execution_count": 2,
      "outputs": []
    },
    {
      "cell_type": "markdown",
      "metadata": {
        "id": "YNBa97KZMzY3"
      },
      "source": [
        "**Locale**"
      ]
    },
    {
      "cell_type": "code",
      "metadata": {
        "id": "jdRkj0ijM0NX"
      },
      "source": [
        "#import locale\r\n",
        "#locale.setlocale(locale.LC_ALL, 'pt-BR')"
      ],
      "execution_count": 3,
      "outputs": []
    },
    {
      "cell_type": "markdown",
      "metadata": {
        "id": "rvk5tWphM910"
      },
      "source": [
        "**Data e Hora atual(Now)**"
      ]
    },
    {
      "cell_type": "code",
      "metadata": {
        "colab": {
          "base_uri": "https://localhost:8080/"
        },
        "id": "anmMRGQLM-Ig",
        "outputId": "5685746a-36fb-4316-b077-d5542155582b"
      },
      "source": [
        "datetime.datetime.now()"
      ],
      "execution_count": 4,
      "outputs": [
        {
          "output_type": "execute_result",
          "data": {
            "text/plain": [
              "datetime.datetime(2020, 12, 13, 14, 46, 32, 427084)"
            ]
          },
          "metadata": {
            "tags": []
          },
          "execution_count": 4
        }
      ]
    },
    {
      "cell_type": "code",
      "metadata": {
        "colab": {
          "base_uri": "https://localhost:8080/"
        },
        "id": "Kn9IZxe7NWDa",
        "outputId": "75004a8e-2ece-43ec-ee6b-b4747e23e8b8"
      },
      "source": [
        "print(datetime.datetime.now())"
      ],
      "execution_count": 5,
      "outputs": [
        {
          "output_type": "stream",
          "text": [
            "2020-12-13 14:46:32.438753\n"
          ],
          "name": "stdout"
        }
      ]
    },
    {
      "cell_type": "markdown",
      "metadata": {
        "id": "ofsklhvhNof4"
      },
      "source": [
        "**Diferença de tempo(Timedelta)**"
      ]
    },
    {
      "cell_type": "code",
      "metadata": {
        "id": "jnJ34YIhNm-L"
      },
      "source": [
        "antes = datetime.datetime.now()"
      ],
      "execution_count": 6,
      "outputs": []
    },
    {
      "cell_type": "code",
      "metadata": {
        "id": "SZiOXja2Ntx1"
      },
      "source": [
        "depois = datetime.datetime.now()"
      ],
      "execution_count": 7,
      "outputs": []
    },
    {
      "cell_type": "code",
      "metadata": {
        "id": "WvhE4a0DNt-a"
      },
      "source": [
        "diferenca = depois - antes"
      ],
      "execution_count": 8,
      "outputs": []
    },
    {
      "cell_type": "code",
      "metadata": {
        "colab": {
          "base_uri": "https://localhost:8080/"
        },
        "id": "lwnbN3djOEtM",
        "outputId": "dd32402f-2409-4341-cc2d-ff54c4de98f8"
      },
      "source": [
        "diferenca"
      ],
      "execution_count": 9,
      "outputs": [
        {
          "output_type": "execute_result",
          "data": {
            "text/plain": [
              "datetime.timedelta(0, 0, 7721)"
            ]
          },
          "metadata": {
            "tags": []
          },
          "execution_count": 9
        }
      ]
    },
    {
      "cell_type": "code",
      "metadata": {
        "colab": {
          "base_uri": "https://localhost:8080/"
        },
        "id": "c8cD8DcuOYkE",
        "outputId": "19c8506e-1191-4819-dfc0-b8b583597f18"
      },
      "source": [
        "diferenca.seconds"
      ],
      "execution_count": 10,
      "outputs": [
        {
          "output_type": "execute_result",
          "data": {
            "text/plain": [
              "0"
            ]
          },
          "metadata": {
            "tags": []
          },
          "execution_count": 10
        }
      ]
    },
    {
      "cell_type": "code",
      "metadata": {
        "colab": {
          "base_uri": "https://localhost:8080/"
        },
        "id": "gvWd9yr0OvjH",
        "outputId": "8b1c72c7-ca79-43a7-8bdc-a96fc23d9557"
      },
      "source": [
        "datetime.timedelta(10)"
      ],
      "execution_count": 11,
      "outputs": [
        {
          "output_type": "execute_result",
          "data": {
            "text/plain": [
              "datetime.timedelta(10)"
            ]
          },
          "metadata": {
            "tags": []
          },
          "execution_count": 11
        }
      ]
    },
    {
      "cell_type": "markdown",
      "metadata": {
        "id": "yPj43a4lOknE"
      },
      "source": [
        "**String para data hora (Strptime)**"
      ]
    },
    {
      "cell_type": "code",
      "metadata": {
        "colab": {
          "base_uri": "https://localhost:8080/",
          "height": 35
        },
        "id": "RNTAUa-MOs78",
        "outputId": "618d3891-d9ec-4e55-8a71-c3a6c295c1f1"
      },
      "source": [
        "str_data_hora = '18-12-2020 13:26:35'\r\n",
        "str_data_hora"
      ],
      "execution_count": 12,
      "outputs": [
        {
          "output_type": "execute_result",
          "data": {
            "application/vnd.google.colaboratory.intrinsic+json": {
              "type": "string"
            },
            "text/plain": [
              "'18-12-2020 13:26:35'"
            ]
          },
          "metadata": {
            "tags": []
          },
          "execution_count": 12
        }
      ]
    },
    {
      "cell_type": "code",
      "metadata": {
        "id": "72JDErDiWopl"
      },
      "source": [
        "convertida_para_datetime = datetime.datetime.strptime(str_data_hora, '%d-%m-%Y %H:%M:%S' )"
      ],
      "execution_count": 13,
      "outputs": []
    },
    {
      "cell_type": "code",
      "metadata": {
        "colab": {
          "base_uri": "https://localhost:8080/"
        },
        "id": "gCuFozNjWpe8",
        "outputId": "66c0311c-a0b5-4f85-cadc-a8a0f2c420e3"
      },
      "source": [
        "convertida_para_datetime"
      ],
      "execution_count": 14,
      "outputs": [
        {
          "output_type": "execute_result",
          "data": {
            "text/plain": [
              "datetime.datetime(2020, 12, 18, 13, 26, 35)"
            ]
          },
          "metadata": {
            "tags": []
          },
          "execution_count": 14
        }
      ]
    },
    {
      "cell_type": "code",
      "metadata": {
        "colab": {
          "base_uri": "https://localhost:8080/"
        },
        "id": "nAk0XUqAXtOK",
        "outputId": "c908934a-67a8-4a0a-ce3e-5e7476b03669"
      },
      "source": [
        "print(convertida_para_datetime)"
      ],
      "execution_count": 15,
      "outputs": [
        {
          "output_type": "stream",
          "text": [
            "2020-12-18 13:26:35\n"
          ],
          "name": "stdout"
        }
      ]
    },
    {
      "cell_type": "markdown",
      "metadata": {
        "id": "_RFDbaNgYU9y"
      },
      "source": [
        "**String para data hora (Strptime)**"
      ]
    },
    {
      "cell_type": "code",
      "metadata": {
        "id": "q7pVNDc1Ycy0"
      },
      "source": [
        "str_data = '18-12-2020'"
      ],
      "execution_count": 16,
      "outputs": []
    },
    {
      "cell_type": "code",
      "metadata": {
        "id": "H_ch0hA5YslK"
      },
      "source": [
        "data = datetime.datetime.strptime(str_data, '%d-%m-%Y').date()"
      ],
      "execution_count": 17,
      "outputs": []
    },
    {
      "cell_type": "code",
      "metadata": {
        "colab": {
          "base_uri": "https://localhost:8080/"
        },
        "id": "x3iEgC_VYtBH",
        "outputId": "6055c1e2-bc7a-4c45-8cbe-18a68b98d77b"
      },
      "source": [
        "data"
      ],
      "execution_count": 18,
      "outputs": [
        {
          "output_type": "execute_result",
          "data": {
            "text/plain": [
              "datetime.date(2020, 12, 18)"
            ]
          },
          "metadata": {
            "tags": []
          },
          "execution_count": 18
        }
      ]
    },
    {
      "cell_type": "code",
      "metadata": {
        "colab": {
          "base_uri": "https://localhost:8080/"
        },
        "id": "gTUEvcU7ZGqY",
        "outputId": "aaefb0dd-0b91-4da3-afef-048deca33445"
      },
      "source": [
        "print(data)"
      ],
      "execution_count": 19,
      "outputs": [
        {
          "output_type": "stream",
          "text": [
            "2020-12-18\n"
          ],
          "name": "stdout"
        }
      ]
    },
    {
      "cell_type": "markdown",
      "metadata": {
        "id": "bJt8mpi4ZMSn"
      },
      "source": [
        "**Conversão de String para Tempo (Strptime)**"
      ]
    },
    {
      "cell_type": "code",
      "metadata": {
        "id": "t193BnxxZd0b"
      },
      "source": [
        "str_tempo = '17:03:56'"
      ],
      "execution_count": 20,
      "outputs": []
    },
    {
      "cell_type": "code",
      "metadata": {
        "id": "P6GLdVEzZtrr"
      },
      "source": [
        "tempo = datetime.datetime.strptime(str_tempo, '%H:%M:%S').time()"
      ],
      "execution_count": 21,
      "outputs": []
    },
    {
      "cell_type": "code",
      "metadata": {
        "colab": {
          "base_uri": "https://localhost:8080/"
        },
        "id": "1-yjSRloZuti",
        "outputId": "c8610907-5b3e-4793-f321-f8d2ceee7688"
      },
      "source": [
        "tempo"
      ],
      "execution_count": 22,
      "outputs": [
        {
          "output_type": "execute_result",
          "data": {
            "text/plain": [
              "datetime.time(17, 3, 56)"
            ]
          },
          "metadata": {
            "tags": []
          },
          "execution_count": 22
        }
      ]
    },
    {
      "cell_type": "code",
      "metadata": {
        "colab": {
          "base_uri": "https://localhost:8080/"
        },
        "id": "udgmIE5QZvT_",
        "outputId": "8c38cd23-7bc1-44bb-87da-fe5842277dbb"
      },
      "source": [
        "print(tempo)"
      ],
      "execution_count": 23,
      "outputs": [
        {
          "output_type": "stream",
          "text": [
            "17:03:56\n"
          ],
          "name": "stdout"
        }
      ]
    },
    {
      "cell_type": "markdown",
      "metadata": {
        "id": "Hozc5waWa4WN"
      },
      "source": [
        "**Periodos de tempos(Freq)**"
      ]
    },
    {
      "cell_type": "code",
      "metadata": {
        "id": "TPpkNFr7a-Ng"
      },
      "source": [
        "start = '01/01/2020'\r\n",
        "end = '31/12/2020'"
      ],
      "execution_count": 24,
      "outputs": []
    },
    {
      "cell_type": "code",
      "metadata": {
        "colab": {
          "base_uri": "https://localhost:8080/"
        },
        "id": "GCjnW-PVbQ8c",
        "outputId": "ab130a99-41d6-4028-8a2b-5711ad2ec108"
      },
      "source": [
        "x=pd.date_range(start, end, freq='MS')#.strftime('%b/%y')\r\n",
        "x"
      ],
      "execution_count": 34,
      "outputs": [
        {
          "output_type": "execute_result",
          "data": {
            "text/plain": [
              "DatetimeIndex(['2020-01-01', '2020-02-01', '2020-03-01', '2020-04-01',\n",
              "               '2020-05-01', '2020-06-01', '2020-07-01', '2020-08-01',\n",
              "               '2020-09-01', '2020-10-01', '2020-11-01', '2020-12-01'],\n",
              "              dtype='datetime64[ns]', freq='MS')"
            ]
          },
          "metadata": {
            "tags": []
          },
          "execution_count": 34
        }
      ]
    },
    {
      "cell_type": "code",
      "metadata": {
        "colab": {
          "base_uri": "https://localhost:8080/"
        },
        "id": "YXT7TgVUbpoo",
        "outputId": "2b4ec05d-1152-47f8-cb9e-305267a3a012"
      },
      "source": [
        "len(x)"
      ],
      "execution_count": 35,
      "outputs": [
        {
          "output_type": "execute_result",
          "data": {
            "text/plain": [
              "12"
            ]
          },
          "metadata": {
            "tags": []
          },
          "execution_count": 35
        }
      ]
    },
    {
      "cell_type": "markdown",
      "metadata": {
        "id": "VRXpEAarcjPm"
      },
      "source": [
        "**Plot**"
      ]
    },
    {
      "cell_type": "code",
      "metadata": {
        "id": "4__Hxde8cqJo",
        "colab": {
          "base_uri": "https://localhost:8080/"
        },
        "outputId": "e3264b13-1009-410f-f321-c436358f4e31"
      },
      "source": [
        "y = np.random.normal(10,1,12)# 12 elementos | com media 10 | e desvio padrão 1\r\n",
        "y"
      ],
      "execution_count": 36,
      "outputs": [
        {
          "output_type": "execute_result",
          "data": {
            "text/plain": [
              "array([11.44813697, 10.72934533,  9.40857084,  9.36038331,  7.83688826,\n",
              "       10.00839376, 10.84300362, 10.57227088, 10.9698359 , 10.23644415,\n",
              "        9.88705551,  9.63845763])"
            ]
          },
          "metadata": {
            "tags": []
          },
          "execution_count": 36
        }
      ]
    },
    {
      "cell_type": "code",
      "metadata": {
        "colab": {
          "base_uri": "https://localhost:8080/",
          "height": 359
        },
        "id": "hB8-_aWbLGQr",
        "outputId": "264aa05e-9140-40e9-d7d5-a7ee0309c047"
      },
      "source": [
        "f, ax = plt.subplots(dpi=100)\r\n",
        "plt.plot(x,y)\r\n",
        "f.autofmt_xdate()    #gira automaticamente os elementos do xlabel\r\n",
        "plt.show()"
      ],
      "execution_count": 37,
      "outputs": [
        {
          "output_type": "display_data",
          "data": {
            "image/png": "[encoded data removed]",
            "text/plain": [
              "<Figure size 600x400 with 1 Axes>"
            ]
          },
          "metadata": {
            "tags": [],
            "needs_background": "light"
          }
        }
      ]
    },
    {
      "cell_type": "markdown",
      "metadata": {
        "id": "j0B4xMPslFYW"
      },
      "source": [
        "**DataFrame**"
      ]
    },
    {
      "cell_type": "code",
      "metadata": {
        "id": "W3uUHB8Ek66e"
      },
      "source": [
        "data = pd.DataFrame({'Datas': x, 'Valores':y})"
      ],
      "execution_count": 38,
      "outputs": []
    },
    {
      "cell_type": "code",
      "metadata": {
        "colab": {
          "base_uri": "https://localhost:8080/",
          "height": 421
        },
        "id": "089gzQr9l83e",
        "outputId": "876f6326-5e06-40c6-be91-198f3541061b"
      },
      "source": [
        "data"
      ],
      "execution_count": 39,
      "outputs": [
        {
          "output_type": "execute_result",
          "data": {
            "text/html": [
              "<div>\n",
              "<style scoped>\n",
              "    .dataframe tbody tr th:only-of-type {\n",
              "        vertical-align: middle;\n",
              "    }\n",
              "\n",
              "    .dataframe tbody tr th {\n",
              "        vertical-align: top;\n",
              "    }\n",
              "\n",
              "    .dataframe thead th {\n",
              "        text-align: right;\n",
              "    }\n",
              "</style>\n",
              "<table border=\"1\" class=\"dataframe\">\n",
              "  <thead>\n",
              "    <tr style=\"text-align: right;\">\n",
              "      <th></th>\n",
              "      <th>Datas</th>\n",
              "      <th>Valores</th>\n",
              "    </tr>\n",
              "  </thead>\n",
              "  <tbody>\n",
              "    <tr>\n",
              "      <th>0</th>\n",
              "      <td>2020-01-01</td>\n",
              "      <td>11.448137</td>\n",
              "    </tr>\n",
              "    <tr>\n",
              "      <th>1</th>\n",
              "      <td>2020-02-01</td>\n",
              "      <td>10.729345</td>\n",
              "    </tr>\n",
              "    <tr>\n",
              "      <th>2</th>\n",
              "      <td>2020-03-01</td>\n",
              "      <td>9.408571</td>\n",
              "    </tr>\n",
              "    <tr>\n",
              "      <th>3</th>\n",
              "      <td>2020-04-01</td>\n",
              "      <td>9.360383</td>\n",
              "    </tr>\n",
              "    <tr>\n",
              "      <th>4</th>\n",
              "      <td>2020-05-01</td>\n",
              "      <td>7.836888</td>\n",
              "    </tr>\n",
              "    <tr>\n",
              "      <th>5</th>\n",
              "      <td>2020-06-01</td>\n",
              "      <td>10.008394</td>\n",
              "    </tr>\n",
              "    <tr>\n",
              "      <th>6</th>\n",
              "      <td>2020-07-01</td>\n",
              "      <td>10.843004</td>\n",
              "    </tr>\n",
              "    <tr>\n",
              "      <th>7</th>\n",
              "      <td>2020-08-01</td>\n",
              "      <td>10.572271</td>\n",
              "    </tr>\n",
              "    <tr>\n",
              "      <th>8</th>\n",
              "      <td>2020-09-01</td>\n",
              "      <td>10.969836</td>\n",
              "    </tr>\n",
              "    <tr>\n",
              "      <th>9</th>\n",
              "      <td>2020-10-01</td>\n",
              "      <td>10.236444</td>\n",
              "    </tr>\n",
              "    <tr>\n",
              "      <th>10</th>\n",
              "      <td>2020-11-01</td>\n",
              "      <td>9.887056</td>\n",
              "    </tr>\n",
              "    <tr>\n",
              "      <th>11</th>\n",
              "      <td>2020-12-01</td>\n",
              "      <td>9.638458</td>\n",
              "    </tr>\n",
              "  </tbody>\n",
              "</table>\n",
              "</div>"
            ],
            "text/plain": [
              "        Datas    Valores\n",
              "0  2020-01-01  11.448137\n",
              "1  2020-02-01  10.729345\n",
              "2  2020-03-01   9.408571\n",
              "3  2020-04-01   9.360383\n",
              "4  2020-05-01   7.836888\n",
              "5  2020-06-01  10.008394\n",
              "6  2020-07-01  10.843004\n",
              "7  2020-08-01  10.572271\n",
              "8  2020-09-01  10.969836\n",
              "9  2020-10-01  10.236444\n",
              "10 2020-11-01   9.887056\n",
              "11 2020-12-01   9.638458"
            ]
          },
          "metadata": {
            "tags": []
          },
          "execution_count": 39
        }
      ]
    },
    {
      "cell_type": "markdown",
      "metadata": {
        "id": "ZJ3MtLR6lJKa"
      },
      "source": [
        "**Index de Datas (DatatimeIndex)**"
      ]
    },
    {
      "cell_type": "code",
      "metadata": {
        "colab": {
          "base_uri": "https://localhost:8080/"
        },
        "id": "L6gtVGBAmzL5",
        "outputId": "702122d0-ed63-423a-e3cd-6cfa82a20145"
      },
      "source": [
        "data['Datas'].values"
      ],
      "execution_count": 43,
      "outputs": [
        {
          "output_type": "execute_result",
          "data": {
            "text/plain": [
              "array(['2020-01-01T00:00:00.000000000', '2020-02-01T00:00:00.000000000',\n",
              "       '2020-03-01T00:00:00.000000000', '2020-04-01T00:00:00.000000000',\n",
              "       '2020-05-01T00:00:00.000000000', '2020-06-01T00:00:00.000000000',\n",
              "       '2020-07-01T00:00:00.000000000', '2020-08-01T00:00:00.000000000',\n",
              "       '2020-09-01T00:00:00.000000000', '2020-10-01T00:00:00.000000000',\n",
              "       '2020-11-01T00:00:00.000000000', '2020-12-01T00:00:00.000000000'],\n",
              "      dtype='datetime64[ns]')"
            ]
          },
          "metadata": {
            "tags": []
          },
          "execution_count": 43
        }
      ]
    },
    {
      "cell_type": "code",
      "metadata": {
        "id": "WnUe-iX2mz3A"
      },
      "source": [
        "data['Datas'] = ['2020-01-01T00:00:00.000000000', '2020-02-01T00:00:00.000000000',\r\n",
        "       '2020-03-01T00:00:00.000000000', '2020-04-01T00:00:00.000000000',\r\n",
        "       '2020-05-01T00:00:00.000000000', '2020-06-01T00:00:00.000000000',\r\n",
        "       '2020-07-01T00:00:00.000000000', '2020-08-01T00:00:00.000000000',\r\n",
        "       '2020-09-01T00:00:00.000000000', '2020-10-01T00:00:00.000000000',\r\n",
        "       '2020-11-01T00:00:00.000000000', '2020-12-01T00:00:00.000000000']"
      ],
      "execution_count": 44,
      "outputs": []
    },
    {
      "cell_type": "code",
      "metadata": {
        "colab": {
          "base_uri": "https://localhost:8080/"
        },
        "id": "YkD1Aavnm0EK",
        "outputId": "1dff761a-5cac-47ed-f71f-eb5cae04666c"
      },
      "source": [
        "data['Datas']"
      ],
      "execution_count": 45,
      "outputs": [
        {
          "output_type": "execute_result",
          "data": {
            "text/plain": [
              "0     2020-01-01T00:00:00.000000000\n",
              "1     2020-02-01T00:00:00.000000000\n",
              "2     2020-03-01T00:00:00.000000000\n",
              "3     2020-04-01T00:00:00.000000000\n",
              "4     2020-05-01T00:00:00.000000000\n",
              "5     2020-06-01T00:00:00.000000000\n",
              "6     2020-07-01T00:00:00.000000000\n",
              "7     2020-08-01T00:00:00.000000000\n",
              "8     2020-09-01T00:00:00.000000000\n",
              "9     2020-10-01T00:00:00.000000000\n",
              "10    2020-11-01T00:00:00.000000000\n",
              "11    2020-12-01T00:00:00.000000000\n",
              "Name: Datas, dtype: object"
            ]
          },
          "metadata": {
            "tags": []
          },
          "execution_count": 45
        }
      ]
    },
    {
      "cell_type": "code",
      "metadata": {
        "colab": {
          "base_uri": "https://localhost:8080/"
        },
        "id": "-Bx77umslT5U",
        "outputId": "f312e62e-60a5-41e8-db20-fb07c0d01502"
      },
      "source": [
        "data.index"
      ],
      "execution_count": 46,
      "outputs": [
        {
          "output_type": "execute_result",
          "data": {
            "text/plain": [
              "RangeIndex(start=0, stop=12, step=1)"
            ]
          },
          "metadata": {
            "tags": []
          },
          "execution_count": 46
        }
      ]
    },
    {
      "cell_type": "code",
      "metadata": {
        "colab": {
          "base_uri": "https://localhost:8080/"
        },
        "id": "cmBznaoDmFrA",
        "outputId": "eb38358a-4a7d-42bf-9919-f7ce7ef4854a"
      },
      "source": [
        "data.info()"
      ],
      "execution_count": 47,
      "outputs": [
        {
          "output_type": "stream",
          "text": [
            "<class 'pandas.core.frame.DataFrame'>\n",
            "RangeIndex: 12 entries, 0 to 11\n",
            "Data columns (total 2 columns):\n",
            " #   Column   Non-Null Count  Dtype  \n",
            "---  ------   --------------  -----  \n",
            " 0   Datas    12 non-null     object \n",
            " 1   Valores  12 non-null     float64\n",
            "dtypes: float64(1), object(1)\n",
            "memory usage: 320.0+ bytes\n"
          ],
          "name": "stdout"
        }
      ]
    },
    {
      "cell_type": "code",
      "metadata": {
        "colab": {
          "base_uri": "https://localhost:8080/",
          "height": 421
        },
        "id": "UB6_7dgMmF4m",
        "outputId": "b1031ad1-fb9d-4509-9c4c-8a2de63ef2d3"
      },
      "source": [
        "data"
      ],
      "execution_count": 48,
      "outputs": [
        {
          "output_type": "execute_result",
          "data": {
            "text/html": [
              "<div>\n",
              "<style scoped>\n",
              "    .dataframe tbody tr th:only-of-type {\n",
              "        vertical-align: middle;\n",
              "    }\n",
              "\n",
              "    .dataframe tbody tr th {\n",
              "        vertical-align: top;\n",
              "    }\n",
              "\n",
              "    .dataframe thead th {\n",
              "        text-align: right;\n",
              "    }\n",
              "</style>\n",
              "<table border=\"1\" class=\"dataframe\">\n",
              "  <thead>\n",
              "    <tr style=\"text-align: right;\">\n",
              "      <th></th>\n",
              "      <th>Datas</th>\n",
              "      <th>Valores</th>\n",
              "    </tr>\n",
              "  </thead>\n",
              "  <tbody>\n",
              "    <tr>\n",
              "      <th>0</th>\n",
              "      <td>2020-01-01T00:00:00.000000000</td>\n",
              "      <td>11.448137</td>\n",
              "    </tr>\n",
              "    <tr>\n",
              "      <th>1</th>\n",
              "      <td>2020-02-01T00:00:00.000000000</td>\n",
              "      <td>10.729345</td>\n",
              "    </tr>\n",
              "    <tr>\n",
              "      <th>2</th>\n",
              "      <td>2020-03-01T00:00:00.000000000</td>\n",
              "      <td>9.408571</td>\n",
              "    </tr>\n",
              "    <tr>\n",
              "      <th>3</th>\n",
              "      <td>2020-04-01T00:00:00.000000000</td>\n",
              "      <td>9.360383</td>\n",
              "    </tr>\n",
              "    <tr>\n",
              "      <th>4</th>\n",
              "      <td>2020-05-01T00:00:00.000000000</td>\n",
              "      <td>7.836888</td>\n",
              "    </tr>\n",
              "    <tr>\n",
              "      <th>5</th>\n",
              "      <td>2020-06-01T00:00:00.000000000</td>\n",
              "      <td>10.008394</td>\n",
              "    </tr>\n",
              "    <tr>\n",
              "      <th>6</th>\n",
              "      <td>2020-07-01T00:00:00.000000000</td>\n",
              "      <td>10.843004</td>\n",
              "    </tr>\n",
              "    <tr>\n",
              "      <th>7</th>\n",
              "      <td>2020-08-01T00:00:00.000000000</td>\n",
              "      <td>10.572271</td>\n",
              "    </tr>\n",
              "    <tr>\n",
              "      <th>8</th>\n",
              "      <td>2020-09-01T00:00:00.000000000</td>\n",
              "      <td>10.969836</td>\n",
              "    </tr>\n",
              "    <tr>\n",
              "      <th>9</th>\n",
              "      <td>2020-10-01T00:00:00.000000000</td>\n",
              "      <td>10.236444</td>\n",
              "    </tr>\n",
              "    <tr>\n",
              "      <th>10</th>\n",
              "      <td>2020-11-01T00:00:00.000000000</td>\n",
              "      <td>9.887056</td>\n",
              "    </tr>\n",
              "    <tr>\n",
              "      <th>11</th>\n",
              "      <td>2020-12-01T00:00:00.000000000</td>\n",
              "      <td>9.638458</td>\n",
              "    </tr>\n",
              "  </tbody>\n",
              "</table>\n",
              "</div>"
            ],
            "text/plain": [
              "                            Datas    Valores\n",
              "0   2020-01-01T00:00:00.000000000  11.448137\n",
              "1   2020-02-01T00:00:00.000000000  10.729345\n",
              "2   2020-03-01T00:00:00.000000000   9.408571\n",
              "3   2020-04-01T00:00:00.000000000   9.360383\n",
              "4   2020-05-01T00:00:00.000000000   7.836888\n",
              "5   2020-06-01T00:00:00.000000000  10.008394\n",
              "6   2020-07-01T00:00:00.000000000  10.843004\n",
              "7   2020-08-01T00:00:00.000000000  10.572271\n",
              "8   2020-09-01T00:00:00.000000000  10.969836\n",
              "9   2020-10-01T00:00:00.000000000  10.236444\n",
              "10  2020-11-01T00:00:00.000000000   9.887056\n",
              "11  2020-12-01T00:00:00.000000000   9.638458"
            ]
          },
          "metadata": {
            "tags": []
          },
          "execution_count": 48
        }
      ]
    },
    {
      "cell_type": "code",
      "metadata": {
        "id": "Z_LmJ_eMmt90"
      },
      "source": [
        "data['Datas'] = pd.DatetimeIndex(data['Datas'])"
      ],
      "execution_count": 49,
      "outputs": []
    },
    {
      "cell_type": "code",
      "metadata": {
        "colab": {
          "base_uri": "https://localhost:8080/"
        },
        "id": "qo6ivHUSnqzZ",
        "outputId": "18b0158f-795a-4a44-fce8-0437fc740d69"
      },
      "source": [
        "data['Datas']"
      ],
      "execution_count": 50,
      "outputs": [
        {
          "output_type": "execute_result",
          "data": {
            "text/plain": [
              "0    2020-01-01\n",
              "1    2020-02-01\n",
              "2    2020-03-01\n",
              "3    2020-04-01\n",
              "4    2020-05-01\n",
              "5    2020-06-01\n",
              "6    2020-07-01\n",
              "7    2020-08-01\n",
              "8    2020-09-01\n",
              "9    2020-10-01\n",
              "10   2020-11-01\n",
              "11   2020-12-01\n",
              "Name: Datas, dtype: datetime64[ns]"
            ]
          },
          "metadata": {
            "tags": []
          },
          "execution_count": 50
        }
      ]
    },
    {
      "cell_type": "code",
      "metadata": {
        "id": "95rwzVz8nyxq"
      },
      "source": [
        "data.set_index('Datas', inplace=True)"
      ],
      "execution_count": 51,
      "outputs": []
    },
    {
      "cell_type": "code",
      "metadata": {
        "colab": {
          "base_uri": "https://localhost:8080/",
          "height": 452
        },
        "id": "gqmomYdbn99m",
        "outputId": "dc775dee-04ad-4098-82a8-1fd35d6b69b5"
      },
      "source": [
        "data"
      ],
      "execution_count": 52,
      "outputs": [
        {
          "output_type": "execute_result",
          "data": {
            "text/html": [
              "<div>\n",
              "<style scoped>\n",
              "    .dataframe tbody tr th:only-of-type {\n",
              "        vertical-align: middle;\n",
              "    }\n",
              "\n",
              "    .dataframe tbody tr th {\n",
              "        vertical-align: top;\n",
              "    }\n",
              "\n",
              "    .dataframe thead th {\n",
              "        text-align: right;\n",
              "    }\n",
              "</style>\n",
              "<table border=\"1\" class=\"dataframe\">\n",
              "  <thead>\n",
              "    <tr style=\"text-align: right;\">\n",
              "      <th></th>\n",
              "      <th>Valores</th>\n",
              "    </tr>\n",
              "    <tr>\n",
              "      <th>Datas</th>\n",
              "      <th></th>\n",
              "    </tr>\n",
              "  </thead>\n",
              "  <tbody>\n",
              "    <tr>\n",
              "      <th>2020-01-01</th>\n",
              "      <td>11.448137</td>\n",
              "    </tr>\n",
              "    <tr>\n",
              "      <th>2020-02-01</th>\n",
              "      <td>10.729345</td>\n",
              "    </tr>\n",
              "    <tr>\n",
              "      <th>2020-03-01</th>\n",
              "      <td>9.408571</td>\n",
              "    </tr>\n",
              "    <tr>\n",
              "      <th>2020-04-01</th>\n",
              "      <td>9.360383</td>\n",
              "    </tr>\n",
              "    <tr>\n",
              "      <th>2020-05-01</th>\n",
              "      <td>7.836888</td>\n",
              "    </tr>\n",
              "    <tr>\n",
              "      <th>2020-06-01</th>\n",
              "      <td>10.008394</td>\n",
              "    </tr>\n",
              "    <tr>\n",
              "      <th>2020-07-01</th>\n",
              "      <td>10.843004</td>\n",
              "    </tr>\n",
              "    <tr>\n",
              "      <th>2020-08-01</th>\n",
              "      <td>10.572271</td>\n",
              "    </tr>\n",
              "    <tr>\n",
              "      <th>2020-09-01</th>\n",
              "      <td>10.969836</td>\n",
              "    </tr>\n",
              "    <tr>\n",
              "      <th>2020-10-01</th>\n",
              "      <td>10.236444</td>\n",
              "    </tr>\n",
              "    <tr>\n",
              "      <th>2020-11-01</th>\n",
              "      <td>9.887056</td>\n",
              "    </tr>\n",
              "    <tr>\n",
              "      <th>2020-12-01</th>\n",
              "      <td>9.638458</td>\n",
              "    </tr>\n",
              "  </tbody>\n",
              "</table>\n",
              "</div>"
            ],
            "text/plain": [
              "              Valores\n",
              "Datas                \n",
              "2020-01-01  11.448137\n",
              "2020-02-01  10.729345\n",
              "2020-03-01   9.408571\n",
              "2020-04-01   9.360383\n",
              "2020-05-01   7.836888\n",
              "2020-06-01  10.008394\n",
              "2020-07-01  10.843004\n",
              "2020-08-01  10.572271\n",
              "2020-09-01  10.969836\n",
              "2020-10-01  10.236444\n",
              "2020-11-01   9.887056\n",
              "2020-12-01   9.638458"
            ]
          },
          "metadata": {
            "tags": []
          },
          "execution_count": 52
        }
      ]
    },
    {
      "cell_type": "code",
      "metadata": {
        "colab": {
          "base_uri": "https://localhost:8080/"
        },
        "id": "AivZKxfIoDgJ",
        "outputId": "38a7fee4-8db4-4965-d660-57e8036b6a9c"
      },
      "source": [
        "data.index"
      ],
      "execution_count": 53,
      "outputs": [
        {
          "output_type": "execute_result",
          "data": {
            "text/plain": [
              "DatetimeIndex(['2020-01-01', '2020-02-01', '2020-03-01', '2020-04-01',\n",
              "               '2020-05-01', '2020-06-01', '2020-07-01', '2020-08-01',\n",
              "               '2020-09-01', '2020-10-01', '2020-11-01', '2020-12-01'],\n",
              "              dtype='datetime64[ns]', name='Datas', freq=None)"
            ]
          },
          "metadata": {
            "tags": []
          },
          "execution_count": 53
        }
      ]
    },
    {
      "cell_type": "code",
      "metadata": {
        "id": "X2E6tV3VoDzQ"
      },
      "source": [
        "data['Data String']  = data.index.strftime('%d/%b/%y')"
      ],
      "execution_count": 55,
      "outputs": []
    },
    {
      "cell_type": "code",
      "metadata": {
        "colab": {
          "base_uri": "https://localhost:8080/",
          "height": 452
        },
        "id": "wF387DJbokRj",
        "outputId": "9a130a3c-6d2d-45e4-9eaf-1f48c15c8844"
      },
      "source": [
        "data"
      ],
      "execution_count": 56,
      "outputs": [
        {
          "output_type": "execute_result",
          "data": {
            "text/html": [
              "<div>\n",
              "<style scoped>\n",
              "    .dataframe tbody tr th:only-of-type {\n",
              "        vertical-align: middle;\n",
              "    }\n",
              "\n",
              "    .dataframe tbody tr th {\n",
              "        vertical-align: top;\n",
              "    }\n",
              "\n",
              "    .dataframe thead th {\n",
              "        text-align: right;\n",
              "    }\n",
              "</style>\n",
              "<table border=\"1\" class=\"dataframe\">\n",
              "  <thead>\n",
              "    <tr style=\"text-align: right;\">\n",
              "      <th></th>\n",
              "      <th>Valores</th>\n",
              "      <th>Data String</th>\n",
              "    </tr>\n",
              "    <tr>\n",
              "      <th>Datas</th>\n",
              "      <th></th>\n",
              "      <th></th>\n",
              "    </tr>\n",
              "  </thead>\n",
              "  <tbody>\n",
              "    <tr>\n",
              "      <th>2020-01-01</th>\n",
              "      <td>11.448137</td>\n",
              "      <td>01/Jan/20</td>\n",
              "    </tr>\n",
              "    <tr>\n",
              "      <th>2020-02-01</th>\n",
              "      <td>10.729345</td>\n",
              "      <td>01/Feb/20</td>\n",
              "    </tr>\n",
              "    <tr>\n",
              "      <th>2020-03-01</th>\n",
              "      <td>9.408571</td>\n",
              "      <td>01/Mar/20</td>\n",
              "    </tr>\n",
              "    <tr>\n",
              "      <th>2020-04-01</th>\n",
              "      <td>9.360383</td>\n",
              "      <td>01/Apr/20</td>\n",
              "    </tr>\n",
              "    <tr>\n",
              "      <th>2020-05-01</th>\n",
              "      <td>7.836888</td>\n",
              "      <td>01/May/20</td>\n",
              "    </tr>\n",
              "    <tr>\n",
              "      <th>2020-06-01</th>\n",
              "      <td>10.008394</td>\n",
              "      <td>01/Jun/20</td>\n",
              "    </tr>\n",
              "    <tr>\n",
              "      <th>2020-07-01</th>\n",
              "      <td>10.843004</td>\n",
              "      <td>01/Jul/20</td>\n",
              "    </tr>\n",
              "    <tr>\n",
              "      <th>2020-08-01</th>\n",
              "      <td>10.572271</td>\n",
              "      <td>01/Aug/20</td>\n",
              "    </tr>\n",
              "    <tr>\n",
              "      <th>2020-09-01</th>\n",
              "      <td>10.969836</td>\n",
              "      <td>01/Sep/20</td>\n",
              "    </tr>\n",
              "    <tr>\n",
              "      <th>2020-10-01</th>\n",
              "      <td>10.236444</td>\n",
              "      <td>01/Oct/20</td>\n",
              "    </tr>\n",
              "    <tr>\n",
              "      <th>2020-11-01</th>\n",
              "      <td>9.887056</td>\n",
              "      <td>01/Nov/20</td>\n",
              "    </tr>\n",
              "    <tr>\n",
              "      <th>2020-12-01</th>\n",
              "      <td>9.638458</td>\n",
              "      <td>01/Dec/20</td>\n",
              "    </tr>\n",
              "  </tbody>\n",
              "</table>\n",
              "</div>"
            ],
            "text/plain": [
              "              Valores Data String\n",
              "Datas                            \n",
              "2020-01-01  11.448137   01/Jan/20\n",
              "2020-02-01  10.729345   01/Feb/20\n",
              "2020-03-01   9.408571   01/Mar/20\n",
              "2020-04-01   9.360383   01/Apr/20\n",
              "2020-05-01   7.836888   01/May/20\n",
              "2020-06-01  10.008394   01/Jun/20\n",
              "2020-07-01  10.843004   01/Jul/20\n",
              "2020-08-01  10.572271   01/Aug/20\n",
              "2020-09-01  10.969836   01/Sep/20\n",
              "2020-10-01  10.236444   01/Oct/20\n",
              "2020-11-01   9.887056   01/Nov/20\n",
              "2020-12-01   9.638458   01/Dec/20"
            ]
          },
          "metadata": {
            "tags": []
          },
          "execution_count": 56
        }
      ]
    },
    {
      "cell_type": "code",
      "metadata": {
        "id": "bXoQHFoDot32"
      },
      "source": [
        "data['Data String'] = pd.to_datetime(data['Data String'], format='%d/%b/%y')"
      ],
      "execution_count": 58,
      "outputs": []
    },
    {
      "cell_type": "code",
      "metadata": {
        "colab": {
          "base_uri": "https://localhost:8080/",
          "height": 452
        },
        "id": "92V46OHLpLRZ",
        "outputId": "42caab19-2a70-49a0-d848-733c347438ed"
      },
      "source": [
        "data"
      ],
      "execution_count": 59,
      "outputs": [
        {
          "output_type": "execute_result",
          "data": {
            "text/html": [
              "<div>\n",
              "<style scoped>\n",
              "    .dataframe tbody tr th:only-of-type {\n",
              "        vertical-align: middle;\n",
              "    }\n",
              "\n",
              "    .dataframe tbody tr th {\n",
              "        vertical-align: top;\n",
              "    }\n",
              "\n",
              "    .dataframe thead th {\n",
              "        text-align: right;\n",
              "    }\n",
              "</style>\n",
              "<table border=\"1\" class=\"dataframe\">\n",
              "  <thead>\n",
              "    <tr style=\"text-align: right;\">\n",
              "      <th></th>\n",
              "      <th>Valores</th>\n",
              "      <th>Data String</th>\n",
              "    </tr>\n",
              "    <tr>\n",
              "      <th>Datas</th>\n",
              "      <th></th>\n",
              "      <th></th>\n",
              "    </tr>\n",
              "  </thead>\n",
              "  <tbody>\n",
              "    <tr>\n",
              "      <th>2020-01-01</th>\n",
              "      <td>11.448137</td>\n",
              "      <td>2020-01-01</td>\n",
              "    </tr>\n",
              "    <tr>\n",
              "      <th>2020-02-01</th>\n",
              "      <td>10.729345</td>\n",
              "      <td>2020-02-01</td>\n",
              "    </tr>\n",
              "    <tr>\n",
              "      <th>2020-03-01</th>\n",
              "      <td>9.408571</td>\n",
              "      <td>2020-03-01</td>\n",
              "    </tr>\n",
              "    <tr>\n",
              "      <th>2020-04-01</th>\n",
              "      <td>9.360383</td>\n",
              "      <td>2020-04-01</td>\n",
              "    </tr>\n",
              "    <tr>\n",
              "      <th>2020-05-01</th>\n",
              "      <td>7.836888</td>\n",
              "      <td>2020-05-01</td>\n",
              "    </tr>\n",
              "    <tr>\n",
              "      <th>2020-06-01</th>\n",
              "      <td>10.008394</td>\n",
              "      <td>2020-06-01</td>\n",
              "    </tr>\n",
              "    <tr>\n",
              "      <th>2020-07-01</th>\n",
              "      <td>10.843004</td>\n",
              "      <td>2020-07-01</td>\n",
              "    </tr>\n",
              "    <tr>\n",
              "      <th>2020-08-01</th>\n",
              "      <td>10.572271</td>\n",
              "      <td>2020-08-01</td>\n",
              "    </tr>\n",
              "    <tr>\n",
              "      <th>2020-09-01</th>\n",
              "      <td>10.969836</td>\n",
              "      <td>2020-09-01</td>\n",
              "    </tr>\n",
              "    <tr>\n",
              "      <th>2020-10-01</th>\n",
              "      <td>10.236444</td>\n",
              "      <td>2020-10-01</td>\n",
              "    </tr>\n",
              "    <tr>\n",
              "      <th>2020-11-01</th>\n",
              "      <td>9.887056</td>\n",
              "      <td>2020-11-01</td>\n",
              "    </tr>\n",
              "    <tr>\n",
              "      <th>2020-12-01</th>\n",
              "      <td>9.638458</td>\n",
              "      <td>2020-12-01</td>\n",
              "    </tr>\n",
              "  </tbody>\n",
              "</table>\n",
              "</div>"
            ],
            "text/plain": [
              "              Valores Data String\n",
              "Datas                            \n",
              "2020-01-01  11.448137  2020-01-01\n",
              "2020-02-01  10.729345  2020-02-01\n",
              "2020-03-01   9.408571  2020-03-01\n",
              "2020-04-01   9.360383  2020-04-01\n",
              "2020-05-01   7.836888  2020-05-01\n",
              "2020-06-01  10.008394  2020-06-01\n",
              "2020-07-01  10.843004  2020-07-01\n",
              "2020-08-01  10.572271  2020-08-01\n",
              "2020-09-01  10.969836  2020-09-01\n",
              "2020-10-01  10.236444  2020-10-01\n",
              "2020-11-01   9.887056  2020-11-01\n",
              "2020-12-01   9.638458  2020-12-01"
            ]
          },
          "metadata": {
            "tags": []
          },
          "execution_count": 59
        }
      ]
    }
  ]
}