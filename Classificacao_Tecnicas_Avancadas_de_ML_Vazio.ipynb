{
  "nbformat": 4,
  "nbformat_minor": 0,
  "metadata": {
    "kernelspec": {
      "display_name": "Python 3",
      "language": "python",
      "name": "python3"
    },
    "language_info": {
      "codemirror_mode": {
        "name": "ipython",
        "version": 3
      },
      "file_extension": ".py",
      "mimetype": "text/x-python",
      "name": "python",
      "nbconvert_exporter": "python",
      "pygments_lexer": "ipython3",
      "version": "3.7.3"
    },
    "colab": {
      "name": "Classificacao Tecnicas Avancadas de ML - Vazio.ipynb",
      "provenance": [],
      "include_colab_link": true
    }
  },
  "cells": [
    {
      "cell_type": "markdown",
      "metadata": {
        "id": "view-in-github",
        "colab_type": "text"
      },
      "source": [
        "<a href=\"https://colab.research.google.com/github/rochinha23/Curso-Data-Science-e-Machine-Learning-com-Estatistica-e-Python/blob/main/Classificacao_Tecnicas_Avancadas_de_ML_Vazio.ipynb\" target=\"_parent\"><img src=\"https://colab.research.google.com/assets/colab-badge.svg\" alt=\"Open In Colab\"/></a>"
      ]
    },
    {
      "cell_type": "markdown",
      "metadata": {
        "id": "1n861Iu7CQz7"
      },
      "source": [
        " <a name=\"topo\"></a>"
      ]
    },
    {
      "cell_type": "markdown",
      "metadata": {
        "id": "e0K13BWoCQ0A"
      },
      "source": [
        "# Sumário\n",
        "\n",
        "1. [O Naufrágio do Titanic](#titanic)\n",
        "2. [Análise Exploratória de Dados (AED)](#aed)  \n",
        "3. [Visualização de Dados](#vidados)\n",
        "4. [Engenharia de Recursos](#engenharia)\n",
        "5. [Machine Learning](#ml)\n",
        "6. [Validação Cruzada _(Cross-Validation)_](#cv)\n",
        "7. [Matriz de Confusão](#matrix)\n",
        "8. [Curvas ROC e AUC](#rocauc)\n",
        "9. [Customização de Hyper-Parâmetros](#hyperparam)\n",
        "10. [Ensembling](#ensembling)\n",
        "11. [Importância de Recursos](#fimportance)\n",
        "12. [Submissão](#submissao)             "
      ]
    },
    {
      "cell_type": "markdown",
      "metadata": {
        "id": "U7LAPYCECQ0C"
      },
      "source": [
        " <a name=\"titanic\"></a>"
      ]
    },
    {
      "cell_type": "markdown",
      "metadata": {
        "id": "Zq-vHOs9CQ0C"
      },
      "source": [
        "# O Naufrágio do Titanic\n",
        "<img src=\"titanic.jpg\" width=100%>\n",
        "\n",
        "O naufrágio do Titanic é um dos mais infames naufrágios da história.\n",
        "\n",
        "Em 15 de abril de 1912, durante sua viagem inaugural, o amplamente considerado \"inafundável\" RMS Titanic afundou após colidir com um iceberg. Infelizmente, não havia barcos salva-vidas suficientes para todos a bordo, resultando na morte de 1502 dos 2224 passageiros e tripulantes.\n",
        "\n",
        "Embora houvesse algum elemento de sorte envolvido na sobrevivência, parece que alguns grupos de pessoas eram mais propensos a sobreviver do que outros.\n",
        "\n",
        "Nesse desafio, pedimos que você construa um modelo preditivo que responda à pergunta: “que tipo de pessoas têm maior probabilidade de sobreviver?” Usando dados de passageiros (por exemplo, nome, idade, sexo, classe socioeconômica etc.).\n",
        "\n",
        "Página da Competição: https://www.kaggle.com/c/titanic\n",
        "\n",
        "Fontes de Consulta: \n",
        "* https://www.kaggle.com/startupsci/titanic-data-science-solutions\n",
        "* https://www.kaggle.com/ash316/eda-to-prediction-dietanic\n",
        "* https://www.kaggle.com/arthurtok/introduction-to-ensembling-stacking-in-python\n",
        "* https://www.kaggle.com/ldfreeman3/a-data-science-framework-to-achieve-99-accuracy\n",
        "* https://www.kaggle.com/cdeotte/titanic-using-name-only-0-81818\n",
        "* https://www.kaggle.com/cdeotte/titantic-mega-model-0-84210\n",
        "* https://www.kaggle.com/cdeotte/titanic-wcg-xgboost-0-84688\n",
        "* https://towardsdatascience.com/beyond-accuracy-precision-and-recall-3da06bea9f6c\n",
        "* https://www.kaggle.com/reisel/save-the-families\n",
        "* https://www.kaggle.com/gunesevitan/advanced-feature-engineering-tutorial-with-titanic\n",
        "<br>\n",
        "\n",
        "[início](#topo)"
      ]
    },
    {
      "cell_type": "markdown",
      "metadata": {
        "id": "Mht2YQXACQ0E"
      },
      "source": [
        " <a name=\"aed\"></a>"
      ]
    },
    {
      "cell_type": "markdown",
      "metadata": {
        "id": "EUKTf6WfCQ0E"
      },
      "source": [
        "## Análise Exploratória de Dados (AED)\n",
        "Esse passo é essencial, pois é através dele que iremos construir um entendimento intuitivo dos dados, entender como os parâmetros estão relacionados, procurar e encontrar tendências e relações entre diferentes parâmetros.\n",
        "\n",
        "<br>\n",
        "\n",
        "[início](#topo)"
      ]
    },
    {
      "cell_type": "markdown",
      "metadata": {
        "id": "a84sapu1CQ0F"
      },
      "source": [
        "### Importar bibliotecas"
      ]
    },
    {
      "cell_type": "code",
      "metadata": {
        "id": "wgRPkjKPCQ0G"
      },
      "source": [
        "import pandas as pd\r\n",
        "import numpy as np\r\n",
        "import seaborn as sns\r\n",
        "import matplotlib.pyplot as plt\r\n",
        "%matplotlib inline\r\n",
        "\r\n",
        "import io\r\n",
        "\r\n",
        "import warnings\r\n",
        "warnings.filterwarnings('ignore')\r\n"
      ],
      "execution_count": 1,
      "outputs": []
    },
    {
      "cell_type": "markdown",
      "metadata": {
        "id": "muZt9LjYCQ0H"
      },
      "source": [
        "### Ler train e test"
      ]
    },
    {
      "cell_type": "code",
      "metadata": {
        "colab": {
          "resources": {
            "http://localhost:8080/nbextensions/google.colab/files.js": {
              "data": "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",
              "ok": true,
              "headers": [
                [
                  "content-type",
                  "application/javascript"
                ]
              ],
              "status": 200,
              "status_text": ""
            }
          },
          "base_uri": "https://localhost:8080/",
          "height": 72
        },
        "id": "API-_WehCQ0I",
        "outputId": "1d3a5b94-bede-441a-fd00-8c85e2435a98"
      },
      "source": [
        "from google.colab import files\r\n",
        "uploaded = files.upload()"
      ],
      "execution_count": 3,
      "outputs": [
        {
          "output_type": "display_data",
          "data": {
            "text/html": [
              "\n",
              "     <input type=\"file\" id=\"files-c8b91e82-5a78-48f4-9084-8770e8083bbf\" name=\"files[]\" multiple disabled\n",
              "        style=\"border:none\" />\n",
              "     <output id=\"result-c8b91e82-5a78-48f4-9084-8770e8083bbf\">\n",
              "      Upload widget is only available when the cell has been executed in the\n",
              "      current browser session. Please rerun this cell to enable.\n",
              "      </output>\n",
              "      <script src=\"/nbextensions/google.colab/files.js\"></script> "
            ],
            "text/plain": [
              "<IPython.core.display.HTML object>"
            ]
          },
          "metadata": {
            "tags": []
          }
        },
        {
          "output_type": "stream",
          "text": [
            "Saving train.csv to train.csv\n"
          ],
          "name": "stdout"
        }
      ]
    },
    {
      "cell_type": "code",
      "metadata": {
        "colab": {
          "resources": {
            "http://localhost:8080/nbextensions/google.colab/files.js": {
              "data": "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",
              "ok": true,
              "headers": [
                [
                  "content-type",
                  "application/javascript"
                ]
              ],
              "status": 200,
              "status_text": ""
            }
          },
          "base_uri": "https://localhost:8080/",
          "height": 72
        },
        "id": "93c6xX4CDrYw",
        "outputId": "495ee1ae-6537-4b34-fab1-4d7d1976e05b"
      },
      "source": [
        "from google.colab import files\r\n",
        "uploaded2 = files.upload()"
      ],
      "execution_count": 4,
      "outputs": [
        {
          "output_type": "display_data",
          "data": {
            "text/html": [
              "\n",
              "     <input type=\"file\" id=\"files-06768361-db0e-48b2-9e1b-9a93e7a9e466\" name=\"files[]\" multiple disabled\n",
              "        style=\"border:none\" />\n",
              "     <output id=\"result-06768361-db0e-48b2-9e1b-9a93e7a9e466\">\n",
              "      Upload widget is only available when the cell has been executed in the\n",
              "      current browser session. Please rerun this cell to enable.\n",
              "      </output>\n",
              "      <script src=\"/nbextensions/google.colab/files.js\"></script> "
            ],
            "text/plain": [
              "<IPython.core.display.HTML object>"
            ]
          },
          "metadata": {
            "tags": []
          }
        },
        {
          "output_type": "stream",
          "text": [
            "Saving test.csv to test.csv\n"
          ],
          "name": "stdout"
        }
      ]
    },
    {
      "cell_type": "code",
      "metadata": {
        "id": "NFVkN0UIDsBL"
      },
      "source": [
        "train = pd.read_csv('train.csv')"
      ],
      "execution_count": 5,
      "outputs": []
    },
    {
      "cell_type": "code",
      "metadata": {
        "id": "lO8VF1gwDsKB"
      },
      "source": [
        "test = pd.read_csv('test.csv')"
      ],
      "execution_count": 6,
      "outputs": []
    },
    {
      "cell_type": "markdown",
      "metadata": {
        "id": "KT2wAuI1CQ0I"
      },
      "source": [
        "### transformar definir o Id do Passageiro como Index"
      ]
    },
    {
      "cell_type": "code",
      "metadata": {
        "colab": {
          "base_uri": "https://localhost:8080/",
          "height": 496
        },
        "id": "18t6JlSsCQ0J",
        "outputId": "db2ee59c-8adc-4614-d1e8-fec4c2f05552"
      },
      "source": [
        "train.head()"
      ],
      "execution_count": 7,
      "outputs": [
        {
          "output_type": "execute_result",
          "data": {
            "text/html": [
              "<div>\n",
              "<style scoped>\n",
              "    .dataframe tbody tr th:only-of-type {\n",
              "        vertical-align: middle;\n",
              "    }\n",
              "\n",
              "    .dataframe tbody tr th {\n",
              "        vertical-align: top;\n",
              "    }\n",
              "\n",
              "    .dataframe thead th {\n",
              "        text-align: right;\n",
              "    }\n",
              "</style>\n",
              "<table border=\"1\" class=\"dataframe\">\n",
              "  <thead>\n",
              "    <tr style=\"text-align: right;\">\n",
              "      <th></th>\n",
              "      <th>PassengerId</th>\n",
              "      <th>Survived</th>\n",
              "      <th>Pclass</th>\n",
              "      <th>Name</th>\n",
              "      <th>Sex</th>\n",
              "      <th>Age</th>\n",
              "      <th>SibSp</th>\n",
              "      <th>Parch</th>\n",
              "      <th>Ticket</th>\n",
              "      <th>Fare</th>\n",
              "      <th>Cabin</th>\n",
              "      <th>Embarked</th>\n",
              "    </tr>\n",
              "  </thead>\n",
              "  <tbody>\n",
              "    <tr>\n",
              "      <th>0</th>\n",
              "      <td>1</td>\n",
              "      <td>0</td>\n",
              "      <td>3</td>\n",
              "      <td>Braund, Mr. Owen Harris</td>\n",
              "      <td>male</td>\n",
              "      <td>22.0</td>\n",
              "      <td>1</td>\n",
              "      <td>0</td>\n",
              "      <td>A/5 21171</td>\n",
              "      <td>7.2500</td>\n",
              "      <td>NaN</td>\n",
              "      <td>S</td>\n",
              "    </tr>\n",
              "    <tr>\n",
              "      <th>1</th>\n",
              "      <td>2</td>\n",
              "      <td>1</td>\n",
              "      <td>1</td>\n",
              "      <td>Cumings, Mrs. John Bradley (Florence Briggs Th...</td>\n",
              "      <td>female</td>\n",
              "      <td>38.0</td>\n",
              "      <td>1</td>\n",
              "      <td>0</td>\n",
              "      <td>PC 17599</td>\n",
              "      <td>71.2833</td>\n",
              "      <td>C85</td>\n",
              "      <td>C</td>\n",
              "    </tr>\n",
              "    <tr>\n",
              "      <th>2</th>\n",
              "      <td>3</td>\n",
              "      <td>1</td>\n",
              "      <td>3</td>\n",
              "      <td>Heikkinen, Miss. Laina</td>\n",
              "      <td>female</td>\n",
              "      <td>26.0</td>\n",
              "      <td>0</td>\n",
              "      <td>0</td>\n",
              "      <td>STON/O2. 3101282</td>\n",
              "      <td>7.9250</td>\n",
              "      <td>NaN</td>\n",
              "      <td>S</td>\n",
              "    </tr>\n",
              "    <tr>\n",
              "      <th>3</th>\n",
              "      <td>4</td>\n",
              "      <td>1</td>\n",
              "      <td>1</td>\n",
              "      <td>Futrelle, Mrs. Jacques Heath (Lily May Peel)</td>\n",
              "      <td>female</td>\n",
              "      <td>35.0</td>\n",
              "      <td>1</td>\n",
              "      <td>0</td>\n",
              "      <td>113803</td>\n",
              "      <td>53.1000</td>\n",
              "      <td>C123</td>\n",
              "      <td>S</td>\n",
              "    </tr>\n",
              "    <tr>\n",
              "      <th>4</th>\n",
              "      <td>5</td>\n",
              "      <td>0</td>\n",
              "      <td>3</td>\n",
              "      <td>Allen, Mr. William Henry</td>\n",
              "      <td>male</td>\n",
              "      <td>35.0</td>\n",
              "      <td>0</td>\n",
              "      <td>0</td>\n",
              "      <td>373450</td>\n",
              "      <td>8.0500</td>\n",
              "      <td>NaN</td>\n",
              "      <td>S</td>\n",
              "    </tr>\n",
              "  </tbody>\n",
              "</table>\n",
              "</div>"
            ],
            "text/plain": [
              "   PassengerId  Survived  Pclass  ...     Fare Cabin  Embarked\n",
              "0            1         0       3  ...   7.2500   NaN         S\n",
              "1            2         1       1  ...  71.2833   C85         C\n",
              "2            3         1       3  ...   7.9250   NaN         S\n",
              "3            4         1       1  ...  53.1000  C123         S\n",
              "4            5         0       3  ...   8.0500   NaN         S\n",
              "\n",
              "[5 rows x 12 columns]"
            ]
          },
          "metadata": {
            "tags": []
          },
          "execution_count": 7
        }
      ]
    },
    {
      "cell_type": "code",
      "metadata": {
        "id": "KZGS9TilELzz"
      },
      "source": [
        "train.set_index('PassengerId', inplace=True)"
      ],
      "execution_count": 9,
      "outputs": []
    },
    {
      "cell_type": "code",
      "metadata": {
        "id": "_s_MrahcCQ0J"
      },
      "source": [
        "test.set_index('PassengerId',inplace=True)"
      ],
      "execution_count": 11,
      "outputs": []
    },
    {
      "cell_type": "markdown",
      "metadata": {
        "id": "YB1o8DKBCQ0K"
      },
      "source": [
        "### Verificar shape dos dois"
      ]
    },
    {
      "cell_type": "code",
      "metadata": {
        "colab": {
          "base_uri": "https://localhost:8080/"
        },
        "id": "7dZjsB4dCQ0L",
        "outputId": "cf9a09e9-37b9-4dae-f026-77ba8c5ff6ac"
      },
      "source": [
        "train.shape, test.shape"
      ],
      "execution_count": 12,
      "outputs": [
        {
          "output_type": "execute_result",
          "data": {
            "text/plain": [
              "((891, 11), (418, 10))"
            ]
          },
          "metadata": {
            "tags": []
          },
          "execution_count": 12
        }
      ]
    },
    {
      "cell_type": "code",
      "metadata": {
        "colab": {
          "base_uri": "https://localhost:8080/",
          "height": 895
        },
        "id": "LbElcyC1CQ0L",
        "outputId": "e44bb3ad-90c0-4705-a828-e764f4b9056f"
      },
      "source": [
        "data = pd.concat([train,test], sort=True)\r\n",
        "data"
      ],
      "execution_count": 14,
      "outputs": [
        {
          "output_type": "execute_result",
          "data": {
            "text/html": [
              "<div>\n",
              "<style scoped>\n",
              "    .dataframe tbody tr th:only-of-type {\n",
              "        vertical-align: middle;\n",
              "    }\n",
              "\n",
              "    .dataframe tbody tr th {\n",
              "        vertical-align: top;\n",
              "    }\n",
              "\n",
              "    .dataframe thead th {\n",
              "        text-align: right;\n",
              "    }\n",
              "</style>\n",
              "<table border=\"1\" class=\"dataframe\">\n",
              "  <thead>\n",
              "    <tr style=\"text-align: right;\">\n",
              "      <th></th>\n",
              "      <th>Age</th>\n",
              "      <th>Cabin</th>\n",
              "      <th>Embarked</th>\n",
              "      <th>Fare</th>\n",
              "      <th>Name</th>\n",
              "      <th>Parch</th>\n",
              "      <th>Pclass</th>\n",
              "      <th>Sex</th>\n",
              "      <th>SibSp</th>\n",
              "      <th>Survived</th>\n",
              "      <th>Ticket</th>\n",
              "    </tr>\n",
              "    <tr>\n",
              "      <th>PassengerId</th>\n",
              "      <th></th>\n",
              "      <th></th>\n",
              "      <th></th>\n",
              "      <th></th>\n",
              "      <th></th>\n",
              "      <th></th>\n",
              "      <th></th>\n",
              "      <th></th>\n",
              "      <th></th>\n",
              "      <th></th>\n",
              "      <th></th>\n",
              "    </tr>\n",
              "  </thead>\n",
              "  <tbody>\n",
              "    <tr>\n",
              "      <th>1</th>\n",
              "      <td>22.0</td>\n",
              "      <td>NaN</td>\n",
              "      <td>S</td>\n",
              "      <td>7.2500</td>\n",
              "      <td>Braund, Mr. Owen Harris</td>\n",
              "      <td>0</td>\n",
              "      <td>3</td>\n",
              "      <td>male</td>\n",
              "      <td>1</td>\n",
              "      <td>0.0</td>\n",
              "      <td>A/5 21171</td>\n",
              "    </tr>\n",
              "    <tr>\n",
              "      <th>2</th>\n",
              "      <td>38.0</td>\n",
              "      <td>C85</td>\n",
              "      <td>C</td>\n",
              "      <td>71.2833</td>\n",
              "      <td>Cumings, Mrs. John Bradley (Florence Briggs Th...</td>\n",
              "      <td>0</td>\n",
              "      <td>1</td>\n",
              "      <td>female</td>\n",
              "      <td>1</td>\n",
              "      <td>1.0</td>\n",
              "      <td>PC 17599</td>\n",
              "    </tr>\n",
              "    <tr>\n",
              "      <th>3</th>\n",
              "      <td>26.0</td>\n",
              "      <td>NaN</td>\n",
              "      <td>S</td>\n",
              "      <td>7.9250</td>\n",
              "      <td>Heikkinen, Miss. Laina</td>\n",
              "      <td>0</td>\n",
              "      <td>3</td>\n",
              "      <td>female</td>\n",
              "      <td>0</td>\n",
              "      <td>1.0</td>\n",
              "      <td>STON/O2. 3101282</td>\n",
              "    </tr>\n",
              "    <tr>\n",
              "      <th>4</th>\n",
              "      <td>35.0</td>\n",
              "      <td>C123</td>\n",
              "      <td>S</td>\n",
              "      <td>53.1000</td>\n",
              "      <td>Futrelle, Mrs. Jacques Heath (Lily May Peel)</td>\n",
              "      <td>0</td>\n",
              "      <td>1</td>\n",
              "      <td>female</td>\n",
              "      <td>1</td>\n",
              "      <td>1.0</td>\n",
              "      <td>113803</td>\n",
              "    </tr>\n",
              "    <tr>\n",
              "      <th>5</th>\n",
              "      <td>35.0</td>\n",
              "      <td>NaN</td>\n",
              "      <td>S</td>\n",
              "      <td>8.0500</td>\n",
              "      <td>Allen, Mr. William Henry</td>\n",
              "      <td>0</td>\n",
              "      <td>3</td>\n",
              "      <td>male</td>\n",
              "      <td>0</td>\n",
              "      <td>0.0</td>\n",
              "      <td>373450</td>\n",
              "    </tr>\n",
              "    <tr>\n",
              "      <th>...</th>\n",
              "      <td>...</td>\n",
              "      <td>...</td>\n",
              "      <td>...</td>\n",
              "      <td>...</td>\n",
              "      <td>...</td>\n",
              "      <td>...</td>\n",
              "      <td>...</td>\n",
              "      <td>...</td>\n",
              "      <td>...</td>\n",
              "      <td>...</td>\n",
              "      <td>...</td>\n",
              "    </tr>\n",
              "    <tr>\n",
              "      <th>1305</th>\n",
              "      <td>NaN</td>\n",
              "      <td>NaN</td>\n",
              "      <td>S</td>\n",
              "      <td>8.0500</td>\n",
              "      <td>Spector, Mr. Woolf</td>\n",
              "      <td>0</td>\n",
              "      <td>3</td>\n",
              "      <td>male</td>\n",
              "      <td>0</td>\n",
              "      <td>NaN</td>\n",
              "      <td>A.5. 3236</td>\n",
              "    </tr>\n",
              "    <tr>\n",
              "      <th>1306</th>\n",
              "      <td>39.0</td>\n",
              "      <td>C105</td>\n",
              "      <td>C</td>\n",
              "      <td>108.9000</td>\n",
              "      <td>Oliva y Ocana, Dona. Fermina</td>\n",
              "      <td>0</td>\n",
              "      <td>1</td>\n",
              "      <td>female</td>\n",
              "      <td>0</td>\n",
              "      <td>NaN</td>\n",
              "      <td>PC 17758</td>\n",
              "    </tr>\n",
              "    <tr>\n",
              "      <th>1307</th>\n",
              "      <td>38.5</td>\n",
              "      <td>NaN</td>\n",
              "      <td>S</td>\n",
              "      <td>7.2500</td>\n",
              "      <td>Saether, Mr. Simon Sivertsen</td>\n",
              "      <td>0</td>\n",
              "      <td>3</td>\n",
              "      <td>male</td>\n",
              "      <td>0</td>\n",
              "      <td>NaN</td>\n",
              "      <td>SOTON/O.Q. 3101262</td>\n",
              "    </tr>\n",
              "    <tr>\n",
              "      <th>1308</th>\n",
              "      <td>NaN</td>\n",
              "      <td>NaN</td>\n",
              "      <td>S</td>\n",
              "      <td>8.0500</td>\n",
              "      <td>Ware, Mr. Frederick</td>\n",
              "      <td>0</td>\n",
              "      <td>3</td>\n",
              "      <td>male</td>\n",
              "      <td>0</td>\n",
              "      <td>NaN</td>\n",
              "      <td>359309</td>\n",
              "    </tr>\n",
              "    <tr>\n",
              "      <th>1309</th>\n",
              "      <td>NaN</td>\n",
              "      <td>NaN</td>\n",
              "      <td>C</td>\n",
              "      <td>22.3583</td>\n",
              "      <td>Peter, Master. Michael J</td>\n",
              "      <td>1</td>\n",
              "      <td>3</td>\n",
              "      <td>male</td>\n",
              "      <td>1</td>\n",
              "      <td>NaN</td>\n",
              "      <td>2668</td>\n",
              "    </tr>\n",
              "  </tbody>\n",
              "</table>\n",
              "<p>1309 rows × 11 columns</p>\n",
              "</div>"
            ],
            "text/plain": [
              "              Age Cabin Embarked  ...  SibSp Survived              Ticket\n",
              "PassengerId                       ...                                    \n",
              "1            22.0   NaN        S  ...      1      0.0           A/5 21171\n",
              "2            38.0   C85        C  ...      1      1.0            PC 17599\n",
              "3            26.0   NaN        S  ...      0      1.0    STON/O2. 3101282\n",
              "4            35.0  C123        S  ...      1      1.0              113803\n",
              "5            35.0   NaN        S  ...      0      0.0              373450\n",
              "...           ...   ...      ...  ...    ...      ...                 ...\n",
              "1305          NaN   NaN        S  ...      0      NaN           A.5. 3236\n",
              "1306         39.0  C105        C  ...      0      NaN            PC 17758\n",
              "1307         38.5   NaN        S  ...      0      NaN  SOTON/O.Q. 3101262\n",
              "1308          NaN   NaN        S  ...      0      NaN              359309\n",
              "1309          NaN   NaN        C  ...      1      NaN                2668\n",
              "\n",
              "[1309 rows x 11 columns]"
            ]
          },
          "metadata": {
            "tags": []
          },
          "execution_count": 14
        }
      ]
    },
    {
      "cell_type": "markdown",
      "metadata": {
        "id": "vrutFTj0CQ0M"
      },
      "source": [
        "### Traduzir Colunas"
      ]
    },
    {
      "cell_type": "code",
      "metadata": {
        "colab": {
          "base_uri": "https://localhost:8080/"
        },
        "id": "yTrr0NuFCQ0N",
        "outputId": "7bba03c8-7f5b-43a7-d26e-b598bd6de51e"
      },
      "source": [
        "data.columns"
      ],
      "execution_count": 15,
      "outputs": [
        {
          "output_type": "execute_result",
          "data": {
            "text/plain": [
              "Index(['Age', 'Cabin', 'Embarked', 'Fare', 'Name', 'Parch', 'Pclass', 'Sex',\n",
              "       'SibSp', 'Survived', 'Ticket'],\n",
              "      dtype='object')"
            ]
          },
          "metadata": {
            "tags": []
          },
          "execution_count": 15
        }
      ]
    },
    {
      "cell_type": "code",
      "metadata": {
        "id": "h_QRQqDGCQ0N"
      },
      "source": [
        "data.columns = ['Idade', 'Cabine', 'Embarque', 'Tarifa', 'Nome', 'PaisFilhos', 'Classe', \r\n",
        "                'Sexo', 'IrmaosConjuge', 'Sobreviveu', 'Bilhete']"
      ],
      "execution_count": 17,
      "outputs": []
    },
    {
      "cell_type": "code",
      "metadata": {
        "colab": {
          "base_uri": "https://localhost:8080/",
          "height": 527
        },
        "id": "m911CjJ0CQ0O",
        "outputId": "8ddb7a69-9b21-4f9b-df72-db443fa74178"
      },
      "source": [
        "data.head()"
      ],
      "execution_count": 18,
      "outputs": [
        {
          "output_type": "execute_result",
          "data": {
            "text/html": [
              "<div>\n",
              "<style scoped>\n",
              "    .dataframe tbody tr th:only-of-type {\n",
              "        vertical-align: middle;\n",
              "    }\n",
              "\n",
              "    .dataframe tbody tr th {\n",
              "        vertical-align: top;\n",
              "    }\n",
              "\n",
              "    .dataframe thead th {\n",
              "        text-align: right;\n",
              "    }\n",
              "</style>\n",
              "<table border=\"1\" class=\"dataframe\">\n",
              "  <thead>\n",
              "    <tr style=\"text-align: right;\">\n",
              "      <th></th>\n",
              "      <th>Idade</th>\n",
              "      <th>Cabine</th>\n",
              "      <th>Embarque</th>\n",
              "      <th>Tarifa</th>\n",
              "      <th>Nome</th>\n",
              "      <th>PaisFilhos</th>\n",
              "      <th>Classe</th>\n",
              "      <th>Sexo</th>\n",
              "      <th>IrmaosConjuge</th>\n",
              "      <th>Sobreviveu</th>\n",
              "      <th>Bilhete</th>\n",
              "    </tr>\n",
              "    <tr>\n",
              "      <th>PassengerId</th>\n",
              "      <th></th>\n",
              "      <th></th>\n",
              "      <th></th>\n",
              "      <th></th>\n",
              "      <th></th>\n",
              "      <th></th>\n",
              "      <th></th>\n",
              "      <th></th>\n",
              "      <th></th>\n",
              "      <th></th>\n",
              "      <th></th>\n",
              "    </tr>\n",
              "  </thead>\n",
              "  <tbody>\n",
              "    <tr>\n",
              "      <th>1</th>\n",
              "      <td>22.0</td>\n",
              "      <td>NaN</td>\n",
              "      <td>S</td>\n",
              "      <td>7.2500</td>\n",
              "      <td>Braund, Mr. Owen Harris</td>\n",
              "      <td>0</td>\n",
              "      <td>3</td>\n",
              "      <td>male</td>\n",
              "      <td>1</td>\n",
              "      <td>0.0</td>\n",
              "      <td>A/5 21171</td>\n",
              "    </tr>\n",
              "    <tr>\n",
              "      <th>2</th>\n",
              "      <td>38.0</td>\n",
              "      <td>C85</td>\n",
              "      <td>C</td>\n",
              "      <td>71.2833</td>\n",
              "      <td>Cumings, Mrs. John Bradley (Florence Briggs Th...</td>\n",
              "      <td>0</td>\n",
              "      <td>1</td>\n",
              "      <td>female</td>\n",
              "      <td>1</td>\n",
              "      <td>1.0</td>\n",
              "      <td>PC 17599</td>\n",
              "    </tr>\n",
              "    <tr>\n",
              "      <th>3</th>\n",
              "      <td>26.0</td>\n",
              "      <td>NaN</td>\n",
              "      <td>S</td>\n",
              "      <td>7.9250</td>\n",
              "      <td>Heikkinen, Miss. Laina</td>\n",
              "      <td>0</td>\n",
              "      <td>3</td>\n",
              "      <td>female</td>\n",
              "      <td>0</td>\n",
              "      <td>1.0</td>\n",
              "      <td>STON/O2. 3101282</td>\n",
              "    </tr>\n",
              "    <tr>\n",
              "      <th>4</th>\n",
              "      <td>35.0</td>\n",
              "      <td>C123</td>\n",
              "      <td>S</td>\n",
              "      <td>53.1000</td>\n",
              "      <td>Futrelle, Mrs. Jacques Heath (Lily May Peel)</td>\n",
              "      <td>0</td>\n",
              "      <td>1</td>\n",
              "      <td>female</td>\n",
              "      <td>1</td>\n",
              "      <td>1.0</td>\n",
              "      <td>113803</td>\n",
              "    </tr>\n",
              "    <tr>\n",
              "      <th>5</th>\n",
              "      <td>35.0</td>\n",
              "      <td>NaN</td>\n",
              "      <td>S</td>\n",
              "      <td>8.0500</td>\n",
              "      <td>Allen, Mr. William Henry</td>\n",
              "      <td>0</td>\n",
              "      <td>3</td>\n",
              "      <td>male</td>\n",
              "      <td>0</td>\n",
              "      <td>0.0</td>\n",
              "      <td>373450</td>\n",
              "    </tr>\n",
              "  </tbody>\n",
              "</table>\n",
              "</div>"
            ],
            "text/plain": [
              "             Idade Cabine Embarque  ...  IrmaosConjuge Sobreviveu           Bilhete\n",
              "PassengerId                         ...                                            \n",
              "1             22.0    NaN        S  ...              1        0.0         A/5 21171\n",
              "2             38.0    C85        C  ...              1        1.0          PC 17599\n",
              "3             26.0    NaN        S  ...              0        1.0  STON/O2. 3101282\n",
              "4             35.0   C123        S  ...              1        1.0            113803\n",
              "5             35.0    NaN        S  ...              0        0.0            373450\n",
              "\n",
              "[5 rows x 11 columns]"
            ]
          },
          "metadata": {
            "tags": []
          },
          "execution_count": 18
        }
      ]
    },
    {
      "cell_type": "markdown",
      "metadata": {
        "id": "yBf6R_bqCQ0O"
      },
      "source": [
        " <a name=\"mapsex\"></a>"
      ]
    },
    {
      "cell_type": "markdown",
      "metadata": {
        "id": "Fct_4Bx8CQ0P"
      },
      "source": [
        "### Mapear Sexo para \"homem\" e \"mulher\""
      ]
    },
    {
      "cell_type": "code",
      "metadata": {
        "id": "3KTrL4cuCQ0Q"
      },
      "source": [
        "sexo = {'male': 'homem', 'Female': 'mulher'}"
      ],
      "execution_count": 19,
      "outputs": []
    },
    {
      "cell_type": "code",
      "metadata": {
        "id": "M8pylibuCQ0Q"
      },
      "source": [
        "data['Sexo'] = data['Sexo'].map(sexo)"
      ],
      "execution_count": 20,
      "outputs": []
    },
    {
      "cell_type": "markdown",
      "metadata": {
        "id": "Q8UgPCO0CQ0R"
      },
      "source": [
        " <a name=\"portembarque\"></a>"
      ]
    },
    {
      "cell_type": "markdown",
      "metadata": {
        "id": "P0grUctQCQ0S"
      },
      "source": [
        " <a name=\"paracat\"></a>"
      ]
    },
    {
      "cell_type": "markdown",
      "metadata": {
        "id": "Tvc931LACQ0S"
      },
      "source": [
        "### Parâmetros Categóricos  <a name=\"nom\"></a>\n",
        "* ### Nominais"
      ]
    },
    {
      "cell_type": "code",
      "metadata": {
        "id": "wc662_2SCQ0T"
      },
      "source": [
        ""
      ],
      "execution_count": null,
      "outputs": []
    },
    {
      "cell_type": "code",
      "metadata": {
        "id": "HzUq6O9mCQ0T"
      },
      "source": [
        ""
      ],
      "execution_count": null,
      "outputs": []
    },
    {
      "cell_type": "markdown",
      "metadata": {
        "id": "kbW8SMQrCQ0T"
      },
      "source": [
        " <a name=\"ord\"></a>"
      ]
    },
    {
      "cell_type": "markdown",
      "metadata": {
        "id": "6MhQpFqjCQ0U"
      },
      "source": [
        "* ### Ordinais"
      ]
    },
    {
      "cell_type": "code",
      "metadata": {
        "id": "AWvCnrz2CQ0U"
      },
      "source": [
        ""
      ],
      "execution_count": null,
      "outputs": []
    },
    {
      "cell_type": "markdown",
      "metadata": {
        "id": "UkAHymO9CQ0U"
      },
      "source": [
        " <a name=\"paranum\"></a>"
      ]
    },
    {
      "cell_type": "markdown",
      "metadata": {
        "id": "KcTWvYbnCQ0V"
      },
      "source": [
        "### Parâmetros Numéricos  <a name=\"cont\"></a>\n",
        "* ### Contínuos"
      ]
    },
    {
      "cell_type": "code",
      "metadata": {
        "id": "ZwB9BC7-CQ0V"
      },
      "source": [
        ""
      ],
      "execution_count": null,
      "outputs": []
    },
    {
      "cell_type": "markdown",
      "metadata": {
        "id": "FH5MsmYhCQ0W"
      },
      "source": [
        " <a name=\"disc\"></a>"
      ]
    },
    {
      "cell_type": "markdown",
      "metadata": {
        "id": "IicWjFrwCQ0W"
      },
      "source": [
        "* ### Discretos"
      ]
    },
    {
      "cell_type": "code",
      "metadata": {
        "id": "9U0qWGJ7CQ0W"
      },
      "source": [
        ""
      ],
      "execution_count": null,
      "outputs": []
    },
    {
      "cell_type": "markdown",
      "metadata": {
        "id": "yAkwJYnFCQ0X"
      },
      "source": [
        " <a name=\"paraalfa\"></a>"
      ]
    },
    {
      "cell_type": "markdown",
      "metadata": {
        "id": "vnYs7FtrCQ0X"
      },
      "source": [
        "### Parâmetros Alfanuméricos"
      ]
    },
    {
      "cell_type": "code",
      "metadata": {
        "id": "wQCLCkJ0CQ0X"
      },
      "source": [
        ""
      ],
      "execution_count": null,
      "outputs": []
    },
    {
      "cell_type": "markdown",
      "metadata": {
        "id": "lEy9VtBdCQ0Y"
      },
      "source": [
        " <a name=\"missing\"></a>"
      ]
    },
    {
      "cell_type": "markdown",
      "metadata": {
        "id": "HHXwFejmCQ0Y"
      },
      "source": [
        "### Dados incompletos (faltando dados)"
      ]
    },
    {
      "cell_type": "code",
      "metadata": {
        "id": "OkEUIWTQCQ0Z"
      },
      "source": [
        ""
      ],
      "execution_count": null,
      "outputs": []
    },
    {
      "cell_type": "markdown",
      "metadata": {
        "id": "OtpvNEM4CQ0Z"
      },
      "source": [
        "<a name=\"numinfo\"></a>"
      ]
    },
    {
      "cell_type": "markdown",
      "metadata": {
        "id": "oSSQqpGLCQ0a"
      },
      "source": [
        "### Preencher Embarque com Moda"
      ]
    },
    {
      "cell_type": "code",
      "metadata": {
        "id": "ZYoC7m0kCQ0a"
      },
      "source": [
        ""
      ],
      "execution_count": null,
      "outputs": []
    },
    {
      "cell_type": "code",
      "metadata": {
        "id": "fVucEh_uCQ0b"
      },
      "source": [
        ""
      ],
      "execution_count": null,
      "outputs": []
    },
    {
      "cell_type": "markdown",
      "metadata": {
        "id": "X-9hc5odCQ0c"
      },
      "source": [
        "### Informações Gerais (Parâmetros Numéricos)"
      ]
    },
    {
      "cell_type": "code",
      "metadata": {
        "id": "6Jg6fXhVCQ0c"
      },
      "source": [
        ""
      ],
      "execution_count": null,
      "outputs": []
    },
    {
      "cell_type": "markdown",
      "metadata": {
        "id": "3bsajXZOCQ0d"
      },
      "source": [
        " <a name=\"catinfo\"></a>"
      ]
    },
    {
      "cell_type": "markdown",
      "metadata": {
        "id": "XEwlxTTZCQ0d"
      },
      "source": [
        "### Informações Gerais de Parâmetros Categóricos"
      ]
    },
    {
      "cell_type": "code",
      "metadata": {
        "id": "9LMkoOEyCQ0d"
      },
      "source": [
        ""
      ],
      "execution_count": null,
      "outputs": []
    },
    {
      "cell_type": "markdown",
      "metadata": {
        "id": "JT4X3j_iCQ0e"
      },
      "source": [
        " <a name=\"infoamostra\"></a>"
      ]
    },
    {
      "cell_type": "markdown",
      "metadata": {
        "id": "N1Gj0VoyCQ0e"
      },
      "source": [
        "## Informações da Amostra\n",
        "\n",
        "<br>\n",
        "\n",
        "[início](#topo)"
      ]
    },
    {
      "cell_type": "markdown",
      "metadata": {
        "id": "5cmdsSFWCQ0f"
      },
      "source": [
        "### Tamanho da Amostra"
      ]
    },
    {
      "cell_type": "code",
      "metadata": {
        "id": "5qZeC0sGCQ0f"
      },
      "source": [
        ""
      ],
      "execution_count": null,
      "outputs": []
    },
    {
      "cell_type": "markdown",
      "metadata": {
        "id": "nU6JlV0SCQ0g"
      },
      "source": [
        "### Proporção Total da Amostra em relação à População"
      ]
    },
    {
      "cell_type": "code",
      "metadata": {
        "id": "qMbd5TMECQ0g"
      },
      "source": [
        ""
      ],
      "execution_count": null,
      "outputs": []
    },
    {
      "cell_type": "markdown",
      "metadata": {
        "id": "XXWSb_lSCQ0g"
      },
      "source": [
        "### Proporção de Sobreviventes (População)"
      ]
    },
    {
      "cell_type": "code",
      "metadata": {
        "id": "h6c3Z8QdCQ0h"
      },
      "source": [
        ""
      ],
      "execution_count": null,
      "outputs": []
    },
    {
      "cell_type": "markdown",
      "metadata": {
        "id": "4JguCse6CQ0h"
      },
      "source": [
        "### Proporção de Sobreviventes (Amostra)"
      ]
    },
    {
      "cell_type": "code",
      "metadata": {
        "id": "zOGjjJURCQ0i"
      },
      "source": [
        ""
      ],
      "execution_count": null,
      "outputs": []
    },
    {
      "cell_type": "code",
      "metadata": {
        "id": "zE0nsin7CQ0i"
      },
      "source": [
        ""
      ],
      "execution_count": null,
      "outputs": []
    },
    {
      "cell_type": "markdown",
      "metadata": {
        "id": "nwlwi0X2CQ0i"
      },
      "source": [
        " <a name=\"agrupamentos\"></a>"
      ]
    },
    {
      "cell_type": "markdown",
      "metadata": {
        "id": "KAHP1GRgCQ0j"
      },
      "source": [
        "# Agrupamentos\n",
        "\n",
        "<br>\n",
        "\n",
        "[início](#topo)"
      ]
    },
    {
      "cell_type": "markdown",
      "metadata": {
        "id": "APpBV2o3CQ0j"
      },
      "source": [
        "### Agrupar Classe x Sobrevivência"
      ]
    },
    {
      "cell_type": "code",
      "metadata": {
        "id": "4fCKjpWcCQ0j"
      },
      "source": [
        ""
      ],
      "execution_count": null,
      "outputs": []
    },
    {
      "cell_type": "markdown",
      "metadata": {
        "id": "yFKAVo-xCQ0k"
      },
      "source": [
        "* Passageiros de Primeira Classe são muito mais propensos a sobreviver do que de Segunda e Terceira Classe\n",
        "* Passageiros de Segunda Classe são menos propensos a sobreviver do que de Primeira Classe, mas são mais propensos a sobreviver do que de Terceira Classe"
      ]
    },
    {
      "cell_type": "markdown",
      "metadata": {
        "id": "ZjcG6A1FCQ0k"
      },
      "source": [
        "### Agrupar Sexo x Sobrevivência"
      ]
    },
    {
      "cell_type": "code",
      "metadata": {
        "id": "lL-oK09ZCQ0l"
      },
      "source": [
        ""
      ],
      "execution_count": null,
      "outputs": []
    },
    {
      "cell_type": "markdown",
      "metadata": {
        "id": "zKywlhzrCQ0l"
      },
      "source": [
        "* 74% das mulheres sobreviveram em contraste com 18,89% dos homens da nossa amostra"
      ]
    },
    {
      "cell_type": "markdown",
      "metadata": {
        "id": "qey4HL5gCQ0l"
      },
      "source": [
        "### Agrupar IrmaosConjuge x Sobrevivência"
      ]
    },
    {
      "cell_type": "code",
      "metadata": {
        "id": "SJtIN6cWCQ0m"
      },
      "source": [
        ""
      ],
      "execution_count": null,
      "outputs": []
    },
    {
      "cell_type": "markdown",
      "metadata": {
        "id": "mFGKnzRLCQ0m"
      },
      "source": [
        "### Agrupar PaisFilhos x Sobrevivência"
      ]
    },
    {
      "cell_type": "code",
      "metadata": {
        "id": "hBf_KrxHCQ0n"
      },
      "source": [
        ""
      ],
      "execution_count": null,
      "outputs": []
    },
    {
      "cell_type": "markdown",
      "metadata": {
        "id": "9rIuX3wnCQ0n"
      },
      "source": [
        "### Correlação de IrmaosConjuge e PaisFilhos"
      ]
    },
    {
      "cell_type": "code",
      "metadata": {
        "id": "J8_MU6EnCQ0n"
      },
      "source": [
        ""
      ],
      "execution_count": null,
      "outputs": []
    },
    {
      "cell_type": "markdown",
      "metadata": {
        "id": "RteHcC2nCQ0o"
      },
      "source": [
        "* IrmaosConjuge e PaisFilhos não possuem uma correlação muito forte. Talvez seja o caso juntá-los como um único recurso depois"
      ]
    },
    {
      "cell_type": "markdown",
      "metadata": {
        "id": "ocEklvv4CQ0o"
      },
      "source": [
        " <a name=\"vidados\"></a>"
      ]
    },
    {
      "cell_type": "markdown",
      "metadata": {
        "id": "5HBGHgmiCQ0p"
      },
      "source": [
        "# Visualização de Dados\n",
        "Observar os dados de forma visual para averiguar as suposições feitas até agora\n",
        "\n",
        "<br>\n",
        "\n",
        "[início](#topo)"
      ]
    },
    {
      "cell_type": "markdown",
      "metadata": {
        "id": "SSgnyyLbCQ0q"
      },
      "source": [
        "### Gráfico de Barras e Pizza de Sobreviventes"
      ]
    },
    {
      "cell_type": "code",
      "metadata": {
        "id": "StZyzHc4CQ0r"
      },
      "source": [
        ""
      ],
      "execution_count": null,
      "outputs": []
    },
    {
      "cell_type": "markdown",
      "metadata": {
        "id": "UhucuEQACQ0r"
      },
      "source": [
        "## Sobrevivência Por Sexo"
      ]
    },
    {
      "cell_type": "code",
      "metadata": {
        "id": "oXd4E4_8CQ0r"
      },
      "source": [
        ""
      ],
      "execution_count": null,
      "outputs": []
    },
    {
      "cell_type": "code",
      "metadata": {
        "id": "wvFFm7p_CQ0s"
      },
      "source": [
        ""
      ],
      "execution_count": null,
      "outputs": []
    },
    {
      "cell_type": "markdown",
      "metadata": {
        "id": "-hT7CTJJCQ0s"
      },
      "source": [
        "<a name=\"barrassob\"></a>"
      ]
    },
    {
      "cell_type": "markdown",
      "metadata": {
        "id": "n3pOxt5BCQ0t"
      },
      "source": [
        "### Gráfico de Barras de Sobreviventes por Sexo"
      ]
    },
    {
      "cell_type": "code",
      "metadata": {
        "id": "kY3BVPkvCQ0t"
      },
      "source": [
        ""
      ],
      "execution_count": null,
      "outputs": []
    },
    {
      "cell_type": "markdown",
      "metadata": {
        "id": "O19sF_v8CQ0t"
      },
      "source": [
        "<a name=\"histidsob\"></a>"
      ]
    },
    {
      "cell_type": "markdown",
      "metadata": {
        "id": "5F5AljbdCQ0u"
      },
      "source": [
        "### Histograma de Idade x Sobreviveu"
      ]
    },
    {
      "cell_type": "code",
      "metadata": {
        "id": "s6EJ3oJXCQ0u"
      },
      "source": [
        ""
      ],
      "execution_count": null,
      "outputs": []
    },
    {
      "cell_type": "markdown",
      "metadata": {
        "id": "kCECJOjWCQ0u"
      },
      "source": [
        "* Crianças sobreviveram mais\n",
        "* Passageiro mais idoso sobreviveu\n",
        "* A maioria dos passageiros estão na faixa de 18-35 anos (E a maioria não sobreviveu)"
      ]
    },
    {
      "cell_type": "markdown",
      "metadata": {
        "id": "BhNaq5apCQ0v"
      },
      "source": [
        "<a name=\"histclassidsob\"></a>"
      ]
    },
    {
      "cell_type": "markdown",
      "metadata": {
        "id": "yZ5DqwoFCQ0v"
      },
      "source": [
        "### Histograma de Idade x Classe x Sobreviveu com FacetGrid"
      ]
    },
    {
      "cell_type": "code",
      "metadata": {
        "id": "MwxNflVnCQ0w"
      },
      "source": [
        ""
      ],
      "execution_count": null,
      "outputs": []
    },
    {
      "cell_type": "markdown",
      "metadata": {
        "id": "oq_mOy_HCQ0w"
      },
      "source": [
        "<a name=\"chancesporto\"></a>"
      ]
    },
    {
      "cell_type": "markdown",
      "metadata": {
        "id": "b-ptf042CQ0x"
      },
      "source": [
        "### Chances de Sobrevivência por Porto de Embarque"
      ]
    },
    {
      "cell_type": "code",
      "metadata": {
        "id": "S-RfEEpGCQ0x"
      },
      "source": [
        ""
      ],
      "execution_count": null,
      "outputs": []
    },
    {
      "cell_type": "markdown",
      "metadata": {
        "id": "_mHWnnYBCQ0x"
      },
      "source": [
        "<a name=\"pointplotembarque\"></a>"
      ]
    },
    {
      "cell_type": "markdown",
      "metadata": {
        "id": "LbK4-jZBCQ0y"
      },
      "source": [
        "### Embarque x Classe x Sobreviveu"
      ]
    },
    {
      "cell_type": "code",
      "metadata": {
        "id": "OGwvWdYWCQ0y"
      },
      "source": [
        ""
      ],
      "execution_count": null,
      "outputs": []
    },
    {
      "cell_type": "markdown",
      "metadata": {
        "id": "WvnclogrCQ0z"
      },
      "source": [
        "### Agrupar mulheres por sobrevivência"
      ]
    },
    {
      "cell_type": "code",
      "metadata": {
        "id": "zpU3UFiPCQ0z"
      },
      "source": [
        ""
      ],
      "execution_count": null,
      "outputs": []
    },
    {
      "cell_type": "markdown",
      "metadata": {
        "id": "JPDbvfImCQ0z"
      },
      "source": [
        "### Agrupar homens por sobrevivência"
      ]
    },
    {
      "cell_type": "code",
      "metadata": {
        "id": "uD-GXiDLCQ00"
      },
      "source": [
        ""
      ],
      "execution_count": null,
      "outputs": []
    },
    {
      "cell_type": "markdown",
      "metadata": {
        "id": "V4hAOi58CQ00"
      },
      "source": [
        "<a name=\"graficobarras\"></a>"
      ]
    },
    {
      "cell_type": "markdown",
      "metadata": {
        "id": "_7XY3FQPCQ01"
      },
      "source": [
        "### Gráfico de Barras Sexo x Tarifa por Sexo\n",
        "\n",
        "<br>\n",
        "\n",
        "[início](#topo)"
      ]
    },
    {
      "cell_type": "code",
      "metadata": {
        "id": "OXnJaeArCQ01"
      },
      "source": [
        ""
      ],
      "execution_count": null,
      "outputs": []
    },
    {
      "cell_type": "markdown",
      "metadata": {
        "id": "ClMaSgYsCQ01"
      },
      "source": [
        "<a name=\"graficobarrassex\"></a>"
      ]
    },
    {
      "cell_type": "markdown",
      "metadata": {
        "id": "5ok3dt-ACQ02"
      },
      "source": [
        "### Gráfico de Barras Sexo x Tarifa x Embarque x Sobreviveu"
      ]
    },
    {
      "cell_type": "code",
      "metadata": {
        "id": "apZFu0b-CQ02"
      },
      "source": [
        ""
      ],
      "execution_count": null,
      "outputs": []
    },
    {
      "cell_type": "markdown",
      "metadata": {
        "id": "a-px05LPCQ03"
      },
      "source": [
        "<a name=\"pizza\"></a>"
      ]
    },
    {
      "cell_type": "markdown",
      "metadata": {
        "id": "1V0Lgh23CQ03"
      },
      "source": [
        "### Crosstab de Sobrevivência por Classe"
      ]
    },
    {
      "cell_type": "code",
      "metadata": {
        "id": "wgev3-QICQ03"
      },
      "source": [
        ""
      ],
      "execution_count": null,
      "outputs": []
    },
    {
      "cell_type": "markdown",
      "metadata": {
        "id": "9hEDQKojCQ04"
      },
      "source": [
        "<a name=\"vimissing\"></a>"
      ]
    },
    {
      "cell_type": "markdown",
      "metadata": {
        "id": "YOrQpVP2CQ04"
      },
      "source": [
        "## Visualizando Dados Faltando\n",
        "\n",
        "<br>\n",
        "\n",
        "[início](#topo)"
      ]
    },
    {
      "cell_type": "code",
      "metadata": {
        "id": "zBW4szbTCQ05"
      },
      "source": [
        ""
      ],
      "execution_count": null,
      "outputs": []
    },
    {
      "cell_type": "markdown",
      "metadata": {
        "id": "YQ_G-qKTCQ05"
      },
      "source": [
        "### Remover Cabine"
      ]
    },
    {
      "cell_type": "code",
      "metadata": {
        "id": "Evna9VM8CQ05"
      },
      "source": [
        ""
      ],
      "execution_count": null,
      "outputs": []
    },
    {
      "cell_type": "markdown",
      "metadata": {
        "id": "35ikPRLOCQ06"
      },
      "source": [
        "<a name=\"boxplot\"></a>"
      ]
    },
    {
      "cell_type": "markdown",
      "metadata": {
        "id": "7EJP9bt5CQ06"
      },
      "source": [
        "### Boxplot de Classe por Sexo"
      ]
    },
    {
      "cell_type": "code",
      "metadata": {
        "id": "sFYTpS8HCQ06"
      },
      "source": [
        ""
      ],
      "execution_count": null,
      "outputs": []
    },
    {
      "cell_type": "markdown",
      "metadata": {
        "id": "Fb-2luAjCQ07"
      },
      "source": [
        "<a name=\"engenharia\"></a>"
      ]
    },
    {
      "cell_type": "markdown",
      "metadata": {
        "id": "E0164YnHCQ07"
      },
      "source": [
        "# Engenharia de Recursos\n",
        "\n",
        "<br>\n",
        "\n",
        "[início](#topo)"
      ]
    },
    {
      "cell_type": "markdown",
      "metadata": {
        "id": "FujDAXc7CQ08"
      },
      "source": [
        "### Extrair Titulo do Nome"
      ]
    },
    {
      "cell_type": "code",
      "metadata": {
        "id": "S5EydBPaCQ08"
      },
      "source": [
        ""
      ],
      "execution_count": null,
      "outputs": []
    },
    {
      "cell_type": "code",
      "metadata": {
        "id": "Ilk4RY-ZCQ08"
      },
      "source": [
        ""
      ],
      "execution_count": null,
      "outputs": []
    },
    {
      "cell_type": "code",
      "metadata": {
        "id": "2_Co3CPZCQ09"
      },
      "source": [
        ""
      ],
      "execution_count": null,
      "outputs": []
    },
    {
      "cell_type": "code",
      "metadata": {
        "id": "Hd1HfWlyCQ09"
      },
      "source": [
        ""
      ],
      "execution_count": null,
      "outputs": []
    },
    {
      "cell_type": "code",
      "metadata": {
        "id": "NOiu3nAzCQ0-"
      },
      "source": [
        ""
      ],
      "execution_count": null,
      "outputs": []
    },
    {
      "cell_type": "markdown",
      "metadata": {
        "id": "D3dvXrkzCQ0-"
      },
      "source": [
        "### Traduzir \"Titulos\""
      ]
    },
    {
      "cell_type": "code",
      "metadata": {
        "id": "IK2XSLoJCQ0-"
      },
      "source": [
        ""
      ],
      "execution_count": null,
      "outputs": []
    },
    {
      "cell_type": "code",
      "metadata": {
        "id": "ATKdQGiNCQ0_"
      },
      "source": [
        ""
      ],
      "execution_count": null,
      "outputs": []
    },
    {
      "cell_type": "code",
      "metadata": {
        "id": "W6w9oGGGCQ0_"
      },
      "source": [
        ""
      ],
      "execution_count": null,
      "outputs": []
    },
    {
      "cell_type": "markdown",
      "metadata": {
        "id": "fZyY6qe8CQ0_"
      },
      "source": [
        "# Mulheres e Crianças sobreviveram ou morreram juntos?"
      ]
    },
    {
      "cell_type": "markdown",
      "metadata": {
        "id": "aIaHCyn2CQ1A"
      },
      "source": [
        "## Extrair sobrenome para identificar possíveis famílias"
      ]
    },
    {
      "cell_type": "code",
      "metadata": {
        "id": "M0wZZrkBCQ1A"
      },
      "source": [
        ""
      ],
      "execution_count": null,
      "outputs": []
    },
    {
      "cell_type": "markdown",
      "metadata": {
        "id": "MXuncZQPCQ1B"
      },
      "source": [
        "### Criar Feature Sobrenome da Família"
      ]
    },
    {
      "cell_type": "code",
      "metadata": {
        "id": "Rsf4e-rnCQ1B"
      },
      "source": [
        ""
      ],
      "execution_count": null,
      "outputs": []
    },
    {
      "cell_type": "markdown",
      "metadata": {
        "id": "3_8mpbWcCQ1C"
      },
      "source": [
        "### Verificar as maiores famílias"
      ]
    },
    {
      "cell_type": "code",
      "metadata": {
        "id": "mCX3Z3ETCQ1C"
      },
      "source": [
        ""
      ],
      "execution_count": null,
      "outputs": []
    },
    {
      "cell_type": "markdown",
      "metadata": {
        "id": "n12yAQ13CQ1C"
      },
      "source": [
        "### Analisar Sobrevivência de Mulheres e Crianças da Família \"Andersson\""
      ]
    },
    {
      "cell_type": "code",
      "metadata": {
        "id": "bYWVsOF0CQ1D"
      },
      "source": [
        ""
      ],
      "execution_count": null,
      "outputs": []
    },
    {
      "cell_type": "markdown",
      "metadata": {
        "id": "NM44dl_6CQ1D"
      },
      "source": [
        "### Mulheres e Crianças da Família \"Sage\""
      ]
    },
    {
      "cell_type": "code",
      "metadata": {
        "id": "Ga4B82w3CQ1E"
      },
      "source": [
        ""
      ],
      "execution_count": null,
      "outputs": []
    },
    {
      "cell_type": "markdown",
      "metadata": {
        "id": "JaOc9MySCQ1E"
      },
      "source": [
        "### Mulheres e Crianças da Família \"Brown\""
      ]
    },
    {
      "cell_type": "code",
      "metadata": {
        "id": "YNP1b9sJCQ1E"
      },
      "source": [
        ""
      ],
      "execution_count": null,
      "outputs": []
    },
    {
      "cell_type": "markdown",
      "metadata": {
        "id": "7mpbja30CQ1F"
      },
      "source": [
        "### Criar DataFrame \"MulherOuCrianca\""
      ]
    },
    {
      "cell_type": "code",
      "metadata": {
        "id": "Aq9upBKHCQ1F"
      },
      "source": [
        ""
      ],
      "execution_count": null,
      "outputs": []
    },
    {
      "cell_type": "code",
      "metadata": {
        "id": "n3pSZkXtCQ1F"
      },
      "source": [
        ""
      ],
      "execution_count": null,
      "outputs": []
    },
    {
      "cell_type": "markdown",
      "metadata": {
        "id": "9BZsfqPuCQ1G"
      },
      "source": [
        "### Criar Feature \"TamanhoGrupo\"\n",
        "Referente a quantidade de Pessoas que possuem o mesmo sobrenome"
      ]
    },
    {
      "cell_type": "code",
      "metadata": {
        "id": "iRyM1r_jCQ1G"
      },
      "source": [
        ""
      ],
      "execution_count": null,
      "outputs": []
    },
    {
      "cell_type": "code",
      "metadata": {
        "id": "Is5luxq4CQ1G"
      },
      "source": [
        ""
      ],
      "execution_count": null,
      "outputs": []
    },
    {
      "cell_type": "markdown",
      "metadata": {
        "id": "AKvRusijCQ1H"
      },
      "source": [
        "### Sobrevivência Família \"Andersson\""
      ]
    },
    {
      "cell_type": "code",
      "metadata": {
        "id": "akrqtMimCQ1H"
      },
      "source": [
        ""
      ],
      "execution_count": null,
      "outputs": []
    },
    {
      "cell_type": "code",
      "metadata": {
        "id": "rzNJWc2TCQ1I"
      },
      "source": [
        ""
      ],
      "execution_count": null,
      "outputs": []
    },
    {
      "cell_type": "markdown",
      "metadata": {
        "id": "ad5i4yaYCQ1I"
      },
      "source": [
        "### Criar Recurso \"SobrevivenciaGrupo\""
      ]
    },
    {
      "cell_type": "code",
      "metadata": {
        "id": "LyRX2Id0CQ1J"
      },
      "source": [
        ""
      ],
      "execution_count": null,
      "outputs": []
    },
    {
      "cell_type": "code",
      "metadata": {
        "id": "XLePunEsCQ1J"
      },
      "source": [
        ""
      ],
      "execution_count": null,
      "outputs": []
    },
    {
      "cell_type": "code",
      "metadata": {
        "id": "4yqeET3ICQ1J"
      },
      "source": [
        ""
      ],
      "execution_count": null,
      "outputs": []
    },
    {
      "cell_type": "code",
      "metadata": {
        "id": "PaiQzi_PCQ1K"
      },
      "source": [
        ""
      ],
      "execution_count": null,
      "outputs": []
    },
    {
      "cell_type": "code",
      "metadata": {
        "id": "p9shRFSYCQ1K"
      },
      "source": [
        ""
      ],
      "execution_count": null,
      "outputs": []
    },
    {
      "cell_type": "code",
      "metadata": {
        "id": "Uy2wHvKiCQ1K"
      },
      "source": [
        ""
      ],
      "execution_count": null,
      "outputs": []
    },
    {
      "cell_type": "markdown",
      "metadata": {
        "id": "X18FpGjbCQ1L"
      },
      "source": [
        "###  Grupos de Mulheres e Criancas onde todos morreram juntos"
      ]
    },
    {
      "cell_type": "code",
      "metadata": {
        "id": "RurNUchOCQ1L"
      },
      "source": [
        ""
      ],
      "execution_count": null,
      "outputs": []
    },
    {
      "cell_type": "markdown",
      "metadata": {
        "id": "dGwCIxthCQ1L"
      },
      "source": [
        "### Quantidade de Pessoas (morreram)"
      ]
    },
    {
      "cell_type": "code",
      "metadata": {
        "id": "PKBQPMYACQ1M"
      },
      "source": [
        ""
      ],
      "execution_count": null,
      "outputs": []
    },
    {
      "cell_type": "markdown",
      "metadata": {
        "id": "Qlz3Z4bSCQ1M"
      },
      "source": [
        "###  Grupos de Mulheres e Criancas onde todos sobreviveram juntos"
      ]
    },
    {
      "cell_type": "code",
      "metadata": {
        "id": "3dw0riqZCQ1M"
      },
      "source": [
        ""
      ],
      "execution_count": null,
      "outputs": []
    },
    {
      "cell_type": "markdown",
      "metadata": {
        "id": "CQUyR6H2CQ1N"
      },
      "source": [
        "### Quantidade de Pessoas (sobreviveram)"
      ]
    },
    {
      "cell_type": "code",
      "metadata": {
        "id": "GNS2IhC9CQ1N"
      },
      "source": [
        ""
      ],
      "execution_count": null,
      "outputs": []
    },
    {
      "cell_type": "markdown",
      "metadata": {
        "id": "j0_XwkSyCQ1O"
      },
      "source": [
        "###  Grupos de Mulheres e Criancas com sobrevivência mista"
      ]
    },
    {
      "cell_type": "code",
      "metadata": {
        "id": "MBD7L6mJCQ1O"
      },
      "source": [
        ""
      ],
      "execution_count": null,
      "outputs": []
    },
    {
      "cell_type": "markdown",
      "metadata": {
        "id": "EqJ4X_XXCQ1O"
      },
      "source": [
        "### Quantidade de Pessoas (sobrevivência mista)"
      ]
    },
    {
      "cell_type": "code",
      "metadata": {
        "id": "OwpwPKlACQ1P"
      },
      "source": [
        ""
      ],
      "execution_count": null,
      "outputs": []
    },
    {
      "cell_type": "markdown",
      "metadata": {
        "id": "HwBi-DgHCQ1Q"
      },
      "source": [
        "### Criar Recurso ExpecativaDeVida"
      ]
    },
    {
      "cell_type": "code",
      "metadata": {
        "id": "p0N2Nc4oCQ1R"
      },
      "source": [
        ""
      ],
      "execution_count": null,
      "outputs": []
    },
    {
      "cell_type": "code",
      "metadata": {
        "id": "yp9MsOQ4CQ1R"
      },
      "source": [
        ""
      ],
      "execution_count": null,
      "outputs": []
    },
    {
      "cell_type": "markdown",
      "metadata": {
        "id": "dPjV0MFYCQ1U"
      },
      "source": [
        "### Poderíamos linkar com o Bilhete\n",
        "Uma vez que não necessariamente esses grupos são da mesma família, e nem todos que possuem o mesmo sobrenome são da mesma família. Porém, existem divergências ao análisar apenas os bilhetes. O ideal seria combiná-los para gerar ainda mais insights."
      ]
    },
    {
      "cell_type": "markdown",
      "metadata": {
        "id": "wWDX5wXhCQ1W"
      },
      "source": [
        "<a name=\"dummy\"></a>"
      ]
    },
    {
      "cell_type": "markdown",
      "metadata": {
        "id": "a3csU32kCQ1W"
      },
      "source": [
        "### Remover Colunas que não serão mais utilizadas"
      ]
    },
    {
      "cell_type": "code",
      "metadata": {
        "id": "jOKl_7DPCQ1W"
      },
      "source": [
        ""
      ],
      "execution_count": null,
      "outputs": []
    },
    {
      "cell_type": "code",
      "metadata": {
        "id": "156SfAsDCQ1X"
      },
      "source": [
        ""
      ],
      "execution_count": null,
      "outputs": []
    },
    {
      "cell_type": "markdown",
      "metadata": {
        "id": "Pl5XnrqqCQ1X"
      },
      "source": [
        "# Variáveis Dummy\n",
        "\n",
        "<br>\n",
        "\n",
        "[início](#topo)"
      ]
    },
    {
      "cell_type": "code",
      "metadata": {
        "id": "oqqB5BlMCQ1c"
      },
      "source": [
        ""
      ],
      "execution_count": null,
      "outputs": []
    },
    {
      "cell_type": "code",
      "metadata": {
        "id": "gH6RlW7OCQ1c"
      },
      "source": [
        ""
      ],
      "execution_count": null,
      "outputs": []
    },
    {
      "cell_type": "code",
      "metadata": {
        "id": "3nZzPII4CQ1d"
      },
      "source": [
        ""
      ],
      "execution_count": null,
      "outputs": []
    },
    {
      "cell_type": "markdown",
      "metadata": {
        "id": "I-zlkQS8CQ1d"
      },
      "source": [
        "# Usar Predição da Idade\n",
        "\n",
        "<br>\n",
        "\n",
        "[início](#topo)"
      ]
    },
    {
      "cell_type": "code",
      "metadata": {
        "id": "L7fXWo3vCQ1d"
      },
      "source": [
        ""
      ],
      "execution_count": null,
      "outputs": []
    },
    {
      "cell_type": "code",
      "metadata": {
        "id": "GFzGo6D6CQ1e"
      },
      "source": [
        ""
      ],
      "execution_count": null,
      "outputs": []
    },
    {
      "cell_type": "code",
      "metadata": {
        "id": "0jxr4hV-CQ1e"
      },
      "source": [
        ""
      ],
      "execution_count": null,
      "outputs": []
    },
    {
      "cell_type": "code",
      "metadata": {
        "id": "JX3R-oUECQ1e"
      },
      "source": [
        ""
      ],
      "execution_count": null,
      "outputs": []
    },
    {
      "cell_type": "code",
      "metadata": {
        "id": "KiYXeDHiCQ1f"
      },
      "source": [
        ""
      ],
      "execution_count": null,
      "outputs": []
    },
    {
      "cell_type": "code",
      "metadata": {
        "id": "NAjQVI4WCQ1f"
      },
      "source": [
        ""
      ],
      "execution_count": null,
      "outputs": []
    },
    {
      "cell_type": "code",
      "metadata": {
        "id": "NlRKGorKCQ1f"
      },
      "source": [
        ""
      ],
      "execution_count": null,
      "outputs": []
    },
    {
      "cell_type": "markdown",
      "metadata": {
        "id": "3-ZHrc1WCQ1g"
      },
      "source": [
        "## Preencher Tarifa Faltando Com a Média\n",
        "\n",
        "<br>\n",
        "\n",
        "[início](#topo)"
      ]
    },
    {
      "cell_type": "code",
      "metadata": {
        "id": "g3FzuFqECQ1g"
      },
      "source": [
        ""
      ],
      "execution_count": null,
      "outputs": []
    },
    {
      "cell_type": "code",
      "metadata": {
        "id": "8to6mMaqCQ1g"
      },
      "source": [
        ""
      ],
      "execution_count": null,
      "outputs": []
    },
    {
      "cell_type": "code",
      "metadata": {
        "id": "XAZk93JjCQ1h"
      },
      "source": [
        ""
      ],
      "execution_count": null,
      "outputs": []
    },
    {
      "cell_type": "markdown",
      "metadata": {
        "id": "V-AESJdMCQ1h"
      },
      "source": [
        "<a name=\"faixaetaria\"></a>"
      ]
    },
    {
      "cell_type": "markdown",
      "metadata": {
        "id": "8FJ2nFY2CQ1h"
      },
      "source": [
        "# Criar Faixa Etária\n",
        "\n",
        "<br>\n",
        "\n",
        "[início](#topo)"
      ]
    },
    {
      "cell_type": "code",
      "metadata": {
        "id": "wdFXxjPjCQ1i"
      },
      "source": [
        ""
      ],
      "execution_count": null,
      "outputs": []
    },
    {
      "cell_type": "code",
      "metadata": {
        "id": "MQiz1pyBCQ1i"
      },
      "source": [
        ""
      ],
      "execution_count": null,
      "outputs": []
    },
    {
      "cell_type": "markdown",
      "metadata": {
        "id": "ROxQo-uiCQ1i"
      },
      "source": [
        " <a name=\"dummyfe\"></a>"
      ]
    },
    {
      "cell_type": "markdown",
      "metadata": {
        "id": "oBI9TI7vCQ1j"
      },
      "source": [
        "### Dummy Faixa Etaria"
      ]
    },
    {
      "cell_type": "code",
      "metadata": {
        "id": "-hJHsoZXCQ1j"
      },
      "source": [
        ""
      ],
      "execution_count": null,
      "outputs": []
    },
    {
      "cell_type": "code",
      "metadata": {
        "id": "_rLsM3FvCQ1j"
      },
      "source": [
        ""
      ],
      "execution_count": null,
      "outputs": []
    },
    {
      "cell_type": "markdown",
      "metadata": {
        "id": "LEX7uWHSCQ1l"
      },
      "source": [
        " <a name=\"familiares\"></a>"
      ]
    },
    {
      "cell_type": "markdown",
      "metadata": {
        "id": "UafCEAXECQ1m"
      },
      "source": [
        "### Criar Recurso \"Familiares\" _(Feature Engeneering)_ \n",
        "Baseados em IrmaosConjuge e PaisFilhos\n",
        "\n",
        "<br>\n",
        "\n",
        "[início](#topo)"
      ]
    },
    {
      "cell_type": "code",
      "metadata": {
        "id": "hqGovhTaCQ1n"
      },
      "source": [
        ""
      ],
      "execution_count": null,
      "outputs": []
    },
    {
      "cell_type": "code",
      "metadata": {
        "id": "9KJ6ETIeCQ1n"
      },
      "source": [
        ""
      ],
      "execution_count": null,
      "outputs": []
    },
    {
      "cell_type": "markdown",
      "metadata": {
        "id": "WmZEK8g7CQ1o"
      },
      "source": [
        " <a name=\"sozinho\"></a>"
      ]
    },
    {
      "cell_type": "markdown",
      "metadata": {
        "id": "ds6MjAy8CQ1p"
      },
      "source": [
        "### Criar Parâmetro \"Sozinho\"_(Feature Engeneering)_\n",
        "Pessoa que não está com nenhum familiar\n",
        "\n",
        "<br>\n",
        "\n",
        "[início](#topo)"
      ]
    },
    {
      "cell_type": "code",
      "metadata": {
        "id": "Wbime2K5CQ1p"
      },
      "source": [
        ""
      ],
      "execution_count": null,
      "outputs": []
    },
    {
      "cell_type": "code",
      "metadata": {
        "id": "y8S3qM-OCQ1q"
      },
      "source": [
        ""
      ],
      "execution_count": null,
      "outputs": []
    },
    {
      "cell_type": "code",
      "metadata": {
        "id": "D99hktHLCQ1q"
      },
      "source": [
        ""
      ],
      "execution_count": null,
      "outputs": []
    },
    {
      "cell_type": "markdown",
      "metadata": {
        "id": "RYE1Lee7CQ1r"
      },
      "source": [
        "## Atualizar train e test "
      ]
    },
    {
      "cell_type": "code",
      "metadata": {
        "id": "OLeBl2DfCQ1r"
      },
      "source": [
        ""
      ],
      "execution_count": null,
      "outputs": []
    },
    {
      "cell_type": "code",
      "metadata": {
        "id": "UNZ21NKuCQ1s"
      },
      "source": [
        ""
      ],
      "execution_count": null,
      "outputs": []
    },
    {
      "cell_type": "code",
      "metadata": {
        "id": "tQnjv8pvCQ1s"
      },
      "source": [
        ""
      ],
      "execution_count": null,
      "outputs": []
    },
    {
      "cell_type": "code",
      "metadata": {
        "id": "V-ZZsbICCQ1t"
      },
      "source": [
        ""
      ],
      "execution_count": null,
      "outputs": []
    },
    {
      "cell_type": "code",
      "metadata": {
        "id": "pXHrLVb6CQ1t"
      },
      "source": [
        ""
      ],
      "execution_count": null,
      "outputs": []
    },
    {
      "cell_type": "code",
      "metadata": {
        "id": "vHVUtATJCQ1u"
      },
      "source": [
        ""
      ],
      "execution_count": null,
      "outputs": []
    },
    {
      "cell_type": "code",
      "metadata": {
        "id": "qHZO9FOECQ1u"
      },
      "source": [
        ""
      ],
      "execution_count": null,
      "outputs": []
    },
    {
      "cell_type": "code",
      "metadata": {
        "id": "RlzHLKJWCQ1v"
      },
      "source": [
        ""
      ],
      "execution_count": null,
      "outputs": []
    },
    {
      "cell_type": "markdown",
      "metadata": {
        "id": "6oF8NFfyCQ1v"
      },
      "source": [
        "## Utilizar train para treinar o modelo"
      ]
    },
    {
      "cell_type": "code",
      "metadata": {
        "id": "VvxGhWMjCQ1w"
      },
      "source": [
        ""
      ],
      "execution_count": null,
      "outputs": []
    },
    {
      "cell_type": "code",
      "metadata": {
        "id": "yfChW1SrCQ1w"
      },
      "source": [
        ""
      ],
      "execution_count": null,
      "outputs": []
    },
    {
      "cell_type": "code",
      "metadata": {
        "id": "IyLxxgc3CQ1x"
      },
      "source": [
        ""
      ],
      "execution_count": null,
      "outputs": []
    },
    {
      "cell_type": "markdown",
      "metadata": {
        "id": "NILCF8xOCQ1x"
      },
      "source": [
        "### Escolher colunas"
      ]
    },
    {
      "cell_type": "code",
      "metadata": {
        "id": "PBb18uxUCQ1x"
      },
      "source": [
        ""
      ],
      "execution_count": null,
      "outputs": []
    },
    {
      "cell_type": "code",
      "metadata": {
        "id": "ElDIXmfFCQ1y"
      },
      "source": [
        ""
      ],
      "execution_count": null,
      "outputs": []
    },
    {
      "cell_type": "code",
      "metadata": {
        "id": "hzY344l5CQ1y"
      },
      "source": [
        ""
      ],
      "execution_count": null,
      "outputs": []
    },
    {
      "cell_type": "markdown",
      "metadata": {
        "id": "l_1AdRI1CQ1y"
      },
      "source": [
        "### Averiguando Shapes "
      ]
    },
    {
      "cell_type": "code",
      "metadata": {
        "id": "GOSPj2iGCQ1z"
      },
      "source": [
        ""
      ],
      "execution_count": null,
      "outputs": []
    },
    {
      "cell_type": "markdown",
      "metadata": {
        "id": "PVegWyYXCQ1z"
      },
      "source": [
        "### Importar train_test_split para dividir e preparar para treino"
      ]
    },
    {
      "cell_type": "code",
      "metadata": {
        "id": "JHViSPR6CQ1z"
      },
      "source": [
        ""
      ],
      "execution_count": null,
      "outputs": []
    },
    {
      "cell_type": "markdown",
      "metadata": {
        "id": "HxVXhF72CQ10"
      },
      "source": [
        "### Dividir 70% para treinar, 30% para testar"
      ]
    },
    {
      "cell_type": "code",
      "metadata": {
        "id": "Fb_LuEUmCQ11"
      },
      "source": [
        ""
      ],
      "execution_count": null,
      "outputs": []
    },
    {
      "cell_type": "code",
      "metadata": {
        "id": "Nwu2bGVUCQ11"
      },
      "source": [
        ""
      ],
      "execution_count": null,
      "outputs": []
    },
    {
      "cell_type": "code",
      "metadata": {
        "id": "UvHQhpMHCQ11"
      },
      "source": [
        ""
      ],
      "execution_count": null,
      "outputs": []
    },
    {
      "cell_type": "markdown",
      "metadata": {
        "id": "uP2CnZF6CQ12"
      },
      "source": [
        "<a name=\"ml\"></a>"
      ]
    },
    {
      "cell_type": "markdown",
      "metadata": {
        "id": "dzZzqou3CQ12"
      },
      "source": [
        "# Machine Learning <a name=\"modelospred\"></a>\n",
        "\n",
        "<br>\n",
        "\n",
        "[início](#topo)"
      ]
    },
    {
      "cell_type": "markdown",
      "metadata": {
        "id": "0opCzKnECQ12"
      },
      "source": [
        "## Importando Modelos Preditivos"
      ]
    },
    {
      "cell_type": "code",
      "metadata": {
        "id": "ozly4KsaCQ13"
      },
      "source": [
        "from sklearn.ensemble import (AdaBoostClassifier, \n",
        "                              GradientBoostingClassifier, \n",
        "                              ExtraTreesClassifier,\n",
        "                              RandomForestClassifier)"
      ],
      "execution_count": null,
      "outputs": []
    },
    {
      "cell_type": "code",
      "metadata": {
        "id": "FlVWgQRpCQ13"
      },
      "source": [
        "from sklearn.linear_model import LogisticRegression\n",
        "from sklearn.svm import SVC, LinearSVC\n",
        "from sklearn.neighbors import KNeighborsClassifier\n",
        "from sklearn.naive_bayes import GaussianNB\n",
        "from sklearn.linear_model import Perceptron\n",
        "from sklearn.linear_model import SGDClassifier\n",
        "from sklearn.tree import DecisionTreeClassifier"
      ],
      "execution_count": null,
      "outputs": []
    },
    {
      "cell_type": "markdown",
      "metadata": {
        "id": "WV-I3G1nCQ14"
      },
      "source": [
        "<a name=\"LogisticRegression\"></a>"
      ]
    },
    {
      "cell_type": "markdown",
      "metadata": {
        "id": "591iKeJqCQ14"
      },
      "source": [
        "### Criar classe ModeloAuxiliar \n",
        "Uma classe modelo para evitar duplicação de códigos"
      ]
    },
    {
      "cell_type": "code",
      "metadata": {
        "id": "0C7c9XlMCQ15"
      },
      "source": [
        "class ModeloAuxiliar(object):\n",
        "    def __init__(self, clf, seed=123, params=None):\n",
        "        if params:\n",
        "            params['random_state'] = seed\n",
        "            self.clf = clf(**params)\n",
        "        else:\n",
        "            self.clf = clf()\n",
        "    def predict(self, x):\n",
        "        return self.clf.predict(x)\n",
        "    \n",
        "    def fit(self,x,y):\n",
        "        return self.clf.fit(x,y)\n",
        "    \n",
        "    def feature_importances(self,x,y):\n",
        "        return self.clf.fit(x,y).feature_importances_\n",
        "    \n",
        "    def score(self,x,y):\n",
        "        return self.clf.score(x,y)"
      ],
      "execution_count": null,
      "outputs": []
    },
    {
      "cell_type": "code",
      "metadata": {
        "id": "TzwnI0qDCQ15"
      },
      "source": [
        "modelos = [{'nome': 'logreg',\n",
        "            'modelo': LogisticRegression},\n",
        "           {'nome': 'etree',\n",
        "            'modelo': ExtraTreesClassifier},\n",
        "           {'nome': 'gradboost',\n",
        "             'modelo': GradientBoostingClassifier}, \n",
        "           {'nome': 'adaboost',\n",
        "             'modelo': AdaBoostClassifier},\n",
        "           {'nome': 'SVC',\n",
        "            'modelo': SVC},\n",
        "           {'nome': 'KNN',\n",
        "            'modelo': KNeighborsClassifier},\n",
        "           {'nome': 'GaussianNB',\n",
        "            'modelo': GaussianNB},\n",
        "           {'nome': 'Perceptron',\n",
        "            'modelo': Perceptron},\n",
        "           {'nome': 'LinearSVC',\n",
        "            'modelo': LinearSVC},\n",
        "           {'nome': 'SGD',\n",
        "            'modelo': SGDClassifier},\n",
        "           {'nome': 'Dtree',\n",
        "            'modelo': DecisionTreeClassifier},\n",
        "           {'nome': 'RForest',\n",
        "            'modelo': RandomForestClassifier}\n",
        "          ]"
      ],
      "execution_count": null,
      "outputs": []
    },
    {
      "cell_type": "code",
      "metadata": {
        "id": "x7FI1RQKCQ16"
      },
      "source": [
        ""
      ],
      "execution_count": null,
      "outputs": []
    },
    {
      "cell_type": "code",
      "metadata": {
        "id": "N0YF_83ECQ16"
      },
      "source": [
        ""
      ],
      "execution_count": null,
      "outputs": []
    },
    {
      "cell_type": "markdown",
      "metadata": {
        "id": "41LXQ6qpCQ16"
      },
      "source": [
        "<a name=\"ranking\"></a>"
      ]
    },
    {
      "cell_type": "markdown",
      "metadata": {
        "id": "IF0TGnt2CQ17"
      },
      "source": [
        "# Ranking de Modelos Por Score\n",
        "\n",
        "<br>\n",
        "\n",
        "[início](#topo)"
      ]
    },
    {
      "cell_type": "code",
      "metadata": {
        "id": "-5C9uJGFCQ17"
      },
      "source": [
        ""
      ],
      "execution_count": null,
      "outputs": []
    },
    {
      "cell_type": "code",
      "metadata": {
        "id": "jmBRNzdQCQ17"
      },
      "source": [
        ""
      ],
      "execution_count": null,
      "outputs": []
    },
    {
      "cell_type": "markdown",
      "metadata": {
        "id": "sOAA5h9cCQ18"
      },
      "source": [
        "<a name=\"cv\"></a>"
      ]
    },
    {
      "cell_type": "markdown",
      "metadata": {
        "id": "wMpxpYuLCQ18"
      },
      "source": [
        "# Validação Cruzada _(Cross-Validation)_\n",
        "\n",
        "<br>\n",
        "\n",
        "[início](#topo)"
      ]
    },
    {
      "cell_type": "code",
      "metadata": {
        "id": "ewUcmwQnCQ18"
      },
      "source": [
        "from sklearn.model_selection import KFold \n",
        "from sklearn.model_selection import cross_val_score \n",
        "from sklearn.model_selection import cross_val_predict "
      ],
      "execution_count": null,
      "outputs": []
    },
    {
      "cell_type": "code",
      "metadata": {
        "id": "BagWV0woCQ19"
      },
      "source": [
        ""
      ],
      "execution_count": null,
      "outputs": []
    },
    {
      "cell_type": "code",
      "metadata": {
        "id": "HQeYb3bpCQ19"
      },
      "source": [
        ""
      ],
      "execution_count": null,
      "outputs": []
    },
    {
      "cell_type": "code",
      "metadata": {
        "id": "_SpZkMZWCQ19"
      },
      "source": [
        ""
      ],
      "execution_count": null,
      "outputs": []
    },
    {
      "cell_type": "code",
      "metadata": {
        "id": "WomfmJrtCQ1-"
      },
      "source": [
        ""
      ],
      "execution_count": null,
      "outputs": []
    },
    {
      "cell_type": "code",
      "metadata": {
        "id": "cx5fXRkECQ1-"
      },
      "source": [
        ""
      ],
      "execution_count": null,
      "outputs": []
    },
    {
      "cell_type": "code",
      "metadata": {
        "id": "mvZZTSDBCQ1-"
      },
      "source": [
        ""
      ],
      "execution_count": null,
      "outputs": []
    },
    {
      "cell_type": "markdown",
      "metadata": {
        "id": "9Xl5FCX2CQ1_"
      },
      "source": [
        "<a name=\"matrix\"></a>"
      ]
    },
    {
      "cell_type": "markdown",
      "metadata": {
        "id": "Aa9JG3CxCQ1_"
      },
      "source": [
        "# Matriz de Confusão \n",
        "\n",
        "Essa média as vezes pode ser enganosa. Nós podemos analisar a Matriz de Confusão _(Confusion Matrix)_ que nos mostra aonde o modelo errou. Falsos Positivos x Falso Negativos.\n",
        "\n",
        "<br>\n",
        "\n",
        "[início](#topo)"
      ]
    },
    {
      "cell_type": "code",
      "metadata": {
        "id": "NRdKFWndCQ1_"
      },
      "source": [
        ""
      ],
      "execution_count": null,
      "outputs": []
    },
    {
      "cell_type": "code",
      "metadata": {
        "id": "SPBS2KLiCQ2A"
      },
      "source": [
        ""
      ],
      "execution_count": null,
      "outputs": []
    },
    {
      "cell_type": "markdown",
      "metadata": {
        "id": "nOeHvV9tCQ2A"
      },
      "source": [
        "### Interpretando a Matriz de Confusão\n",
        "A diagonal da esquerda mostra o total de predições corretas, a da direita mostra o total de predições erradas.\n",
        "\n",
        "* O número de predições corretas para AdaBoost é de **167(para mortos) + 76(sobreviventes)**.<br><br>\n",
        "\n",
        "* **Erros**  \n",
        "    * Classificou erradamente **3 como mortos (falso negativo)** \n",
        "    * E **22 como vivos (falso positivo)**"
      ]
    },
    {
      "cell_type": "markdown",
      "metadata": {
        "id": "KpL8eBLACQ2A"
      },
      "source": [
        "<a name=\"precision\"></a>"
      ]
    },
    {
      "cell_type": "markdown",
      "metadata": {
        "id": "kB1gvM7GCQ2B"
      },
      "source": [
        "$$Precisão = {\\frac {Verdadeiros Positivos}{Verdadeiros Positivos + Falsos Positivos}} $$"
      ]
    },
    {
      "cell_type": "markdown",
      "metadata": {
        "id": "Xw2-CCrYCQ2B"
      },
      "source": [
        "<a name=\"accuracy\"></a>"
      ]
    },
    {
      "cell_type": "markdown",
      "metadata": {
        "id": "v1wU3c5LCQ2C"
      },
      "source": [
        "$$Revocação = {\\frac {Verdadeiros Positivos}{Verdadeiros Positivos + Falsos Negativos}} $$"
      ]
    },
    {
      "cell_type": "markdown",
      "metadata": {
        "id": "fJ41fbDiCQ2C"
      },
      "source": [
        "<a name=\"accuracy\"></a>"
      ]
    },
    {
      "cell_type": "markdown",
      "metadata": {
        "id": "ALqCrrUuCQ2C"
      },
      "source": [
        "$$Acuracidade = {\\frac {Verdadeiros Positivos+Verdadeiros Negativos}{Total}} $$"
      ]
    },
    {
      "cell_type": "markdown",
      "metadata": {
        "id": "MUnkxh8qCQ2D"
      },
      "source": [
        "<a name=\"accuracy\"></a>"
      ]
    },
    {
      "cell_type": "markdown",
      "metadata": {
        "id": "siRRvFVSCQ2D"
      },
      "source": [
        "$$F1-Score = 2 x{\\frac {Precisão \\cdot Revocação}{Precisão + Revocação}} $$"
      ]
    },
    {
      "cell_type": "markdown",
      "metadata": {
        "id": "BJ_QS2vmCQ2D"
      },
      "source": [
        "### Importando métricas do Sklearn"
      ]
    },
    {
      "cell_type": "code",
      "metadata": {
        "id": "S3ygl8JmCQ2E"
      },
      "source": [
        ""
      ],
      "execution_count": null,
      "outputs": []
    },
    {
      "cell_type": "markdown",
      "metadata": {
        "id": "Tg2umwhGCQ2E"
      },
      "source": [
        "### Revocação"
      ]
    },
    {
      "cell_type": "code",
      "metadata": {
        "id": "t1ioZx0gCQ2F"
      },
      "source": [
        ""
      ],
      "execution_count": null,
      "outputs": []
    },
    {
      "cell_type": "markdown",
      "metadata": {
        "id": "1zosOs8vCQ2F"
      },
      "source": [
        "### Acuracidade"
      ]
    },
    {
      "cell_type": "code",
      "metadata": {
        "id": "gnfrhazBCQ2F"
      },
      "source": [
        ""
      ],
      "execution_count": null,
      "outputs": []
    },
    {
      "cell_type": "markdown",
      "metadata": {
        "id": "t8U6n4eBCQ2G"
      },
      "source": [
        "### Precisão"
      ]
    },
    {
      "cell_type": "code",
      "metadata": {
        "id": "S54M8pGCCQ2G"
      },
      "source": [
        ""
      ],
      "execution_count": null,
      "outputs": []
    },
    {
      "cell_type": "markdown",
      "metadata": {
        "id": "kPm5cNZuCQ2G"
      },
      "source": [
        "### F1-Score"
      ]
    },
    {
      "cell_type": "code",
      "metadata": {
        "id": "THmGZc91CQ2G"
      },
      "source": [
        ""
      ],
      "execution_count": null,
      "outputs": []
    },
    {
      "cell_type": "markdown",
      "metadata": {
        "id": "f2-jMf-LCQ2H"
      },
      "source": [
        "<a name=\"rocauc\"></a>"
      ]
    },
    {
      "cell_type": "markdown",
      "metadata": {
        "id": "64KfgwO9CQ2H"
      },
      "source": [
        "# Curvas ROC e AUC "
      ]
    },
    {
      "cell_type": "markdown",
      "metadata": {
        "id": "n0srQ19xCQ2H"
      },
      "source": [
        "O formato da curva contem várias informações, dentre elas, a taxa esperada de falsos positivos e taxa esperada de falsos negativos. \n",
        "* O quanto menor for o eixo x menor a quantidade de falsos positivos e maior verdadeiros negativos. \n",
        "* Quanto maiores os valores no eixo y, maior a quantidade de verdadeiros positivos e menor a quantidade de falsos negativos.\n",
        "\n",
        "<br>\n",
        "\n",
        "[início](#topo)"
      ]
    },
    {
      "cell_type": "code",
      "metadata": {
        "id": "ZcYIXUn1CQ2I"
      },
      "source": [
        ""
      ],
      "execution_count": null,
      "outputs": []
    },
    {
      "cell_type": "code",
      "metadata": {
        "id": "3m7sJ-ZOCQ2I"
      },
      "source": [
        ""
      ],
      "execution_count": null,
      "outputs": []
    },
    {
      "cell_type": "markdown",
      "metadata": {
        "id": "Gr70oNA8CQ2I"
      },
      "source": [
        "## Selecionando Threshold (Limite)"
      ]
    },
    {
      "cell_type": "code",
      "metadata": {
        "id": "CIOGOcjZCQ2J"
      },
      "source": [
        ""
      ],
      "execution_count": null,
      "outputs": []
    },
    {
      "cell_type": "code",
      "metadata": {
        "id": "0OYp-XByCQ2J"
      },
      "source": [
        ""
      ],
      "execution_count": null,
      "outputs": []
    },
    {
      "cell_type": "code",
      "metadata": {
        "id": "O-FJD1gkCQ2J"
      },
      "source": [
        ""
      ],
      "execution_count": null,
      "outputs": []
    },
    {
      "cell_type": "markdown",
      "metadata": {
        "id": "kLxN9ap6CQ2J"
      },
      "source": [
        "<a name=\"hyperparam\"></a>"
      ]
    },
    {
      "cell_type": "markdown",
      "metadata": {
        "id": "HU7GjwD4CQ2K"
      },
      "source": [
        "# Customização de Hyper-Parâmetros \n",
        "\n",
        "<br>\n",
        "\n",
        "[início](#topo)"
      ]
    },
    {
      "cell_type": "markdown",
      "metadata": {
        "id": "g4QdaDziCQ2K"
      },
      "source": [
        "**Parâmetros**\n",
        "\n",
        "**n_jobs**: Quantidade de núcleos do CPU usados no processo de treino do modelo preditivo. Se for -1, todos os núcleos serão usados.\n",
        "\n",
        "**n_estimators**: Quantidade de árvores de classificação usadas no modelo preditivo (10 é o padrão)\n",
        "\n",
        "**max_depth**: Profundidade de árvore ou a quantidade de nós que ela deve se expandir. Se esse valor for muito alto, existe a chance de o modelo super-adequar _(overfit)_ o modelo.\n",
        "\n",
        "**min_samples_leaf**: O número mínimo de amostras requeridas para ser considerado um ramo. Isso tende a suavizar o modelo.\n",
        "\n",
        "**verbose**: Controla a saída de textos durante o processo de aprendizagem/treino. O valor 0 não mostra nenhum texto, enquanto 3 mostra o processo de aprendizagem de árvore a cada iteração."
      ]
    },
    {
      "cell_type": "code",
      "metadata": {
        "id": "cdkmaCC8CQ2K"
      },
      "source": [
        "from sklearn.model_selection import GridSearchCV"
      ],
      "execution_count": null,
      "outputs": []
    },
    {
      "cell_type": "markdown",
      "metadata": {
        "id": "CTYAYNKfCQ2L"
      },
      "source": [
        "* ### Random Forest"
      ]
    },
    {
      "cell_type": "code",
      "metadata": {
        "id": "b6CkKI9kCQ2L"
      },
      "source": [
        ""
      ],
      "execution_count": null,
      "outputs": []
    },
    {
      "cell_type": "code",
      "metadata": {
        "id": "RkmKWzCOCQ2L"
      },
      "source": [
        ""
      ],
      "execution_count": null,
      "outputs": []
    },
    {
      "cell_type": "markdown",
      "metadata": {
        "id": "gzKmVULPCQ2M"
      },
      "source": [
        "<a name=\"ensembling\"></a>"
      ]
    },
    {
      "cell_type": "markdown",
      "metadata": {
        "id": "OYr9rx0QCQ2M"
      },
      "source": [
        "# Ensembling\n",
        "Uma forma de aumentar a acuracidade ou performance do modelo preditivo. Ensembling é a combinação de vários modelos preditivos de forma a ter uma versão final mais poderosa e mais estável. Ensembling pode ser feito de 3 formas:\n",
        "* Classificão de Votos (Voting Classifier)\n",
        "* Ensacamento (Bagging)\n",
        "* Impulsionamento (Boosting)\n",
        "\n",
        "<br>\n",
        "\n",
        "[início](#topo)"
      ]
    },
    {
      "cell_type": "markdown",
      "metadata": {
        "id": "kfZFPZf3CQ2M"
      },
      "source": [
        "<a name=\"voting\"></a>"
      ]
    },
    {
      "cell_type": "markdown",
      "metadata": {
        "id": "lKvFTAApCQ2N"
      },
      "source": [
        "* ### Classificação de Votos"
      ]
    },
    {
      "cell_type": "code",
      "metadata": {
        "id": "-qvm_ZCiCQ2N"
      },
      "source": [
        ""
      ],
      "execution_count": null,
      "outputs": []
    },
    {
      "cell_type": "code",
      "metadata": {
        "id": "CQi40I1JCQ2O"
      },
      "source": [
        ""
      ],
      "execution_count": null,
      "outputs": []
    },
    {
      "cell_type": "code",
      "metadata": {
        "id": "KVwmgiM9CQ2O"
      },
      "source": [
        ""
      ],
      "execution_count": null,
      "outputs": []
    },
    {
      "cell_type": "markdown",
      "metadata": {
        "id": "cTSw4MuKCQ2P"
      },
      "source": [
        "<a name=\"bagging\"></a>"
      ]
    },
    {
      "cell_type": "markdown",
      "metadata": {
        "id": "_YGFS3LpCQ2P"
      },
      "source": [
        "* ### Ensacamento\n",
        "O Ensacamento aplica classificadores similares em pequenas partições, depois tira a média reduzindo a variância. Diferente da técnica de Classificação de Votos, Ensacamento usa classificadores similares aumentando a estabilidade. \n",
        "\n",
        "* #### Ensacamento KNN\n",
        "Ele é ideal para usar com modelos que possuem muita variância. Pode ser usado com um pequeno valor de n_neighbours, como com um pequeno valor de n_estimators."
      ]
    },
    {
      "cell_type": "code",
      "metadata": {
        "id": "HGg_dTXBCQ2Q"
      },
      "source": [
        "from sklearn.ensemble import BaggingClassifier"
      ],
      "execution_count": null,
      "outputs": []
    },
    {
      "cell_type": "code",
      "metadata": {
        "id": "bavizrCdCQ2Q"
      },
      "source": [
        ""
      ],
      "execution_count": null,
      "outputs": []
    },
    {
      "cell_type": "markdown",
      "metadata": {
        "id": "pN0Yw2ttCQ2V"
      },
      "source": [
        "* #### Ensacamento DecisionTree\n"
      ]
    },
    {
      "cell_type": "code",
      "metadata": {
        "id": "94UDFiH7CQ2V"
      },
      "source": [
        ""
      ],
      "execution_count": null,
      "outputs": []
    },
    {
      "cell_type": "markdown",
      "metadata": {
        "id": "c13b4VjzCQ2W"
      },
      "source": [
        "<a name=\"boosting\"></a>"
      ]
    },
    {
      "cell_type": "markdown",
      "metadata": {
        "id": "gEE0iMQfCQ2X"
      },
      "source": [
        "* ### Impulsionamento\n",
        "Impulsionamento é uma técnica ensembling que usa aprendizado sequenciado de classificadores. É um melhoramento gradual de um modelo fraco. O modelo é treinado no dataframe completo, de forma a focar nos erros, tentando melhorá-los iterativamente de forma contínua. \n",
        "\n",
        "* #### Exemplos (Impulsionamento Adaptativo): \n",
        "    * AdaBoost  \n",
        "    * GradientBoostingClassifier \n",
        "<br>\n",
        "\n",
        "[início](#topo)"
      ]
    },
    {
      "cell_type": "markdown",
      "metadata": {
        "id": "MpU0jf3cCQ2Y"
      },
      "source": [
        "* ### GradientBoostingClassifier"
      ]
    },
    {
      "cell_type": "code",
      "metadata": {
        "id": "URxXKlpHCQ2Y"
      },
      "source": [
        ""
      ],
      "execution_count": null,
      "outputs": []
    },
    {
      "cell_type": "markdown",
      "metadata": {
        "id": "YzRBStokCQ2Z"
      },
      "source": [
        "* ### Configurando Hyper-Parâmetros para o AdaBoost"
      ]
    },
    {
      "cell_type": "code",
      "metadata": {
        "id": "7eFZulRpCQ2Z"
      },
      "source": [
        ""
      ],
      "execution_count": null,
      "outputs": []
    },
    {
      "cell_type": "code",
      "metadata": {
        "id": "v_en9afuCQ2a"
      },
      "source": [
        ""
      ],
      "execution_count": null,
      "outputs": []
    },
    {
      "cell_type": "markdown",
      "metadata": {
        "id": "bcq0_lMOCQ2a"
      },
      "source": [
        "<a name=\"combinado\"></a>"
      ]
    },
    {
      "cell_type": "markdown",
      "metadata": {
        "id": "w203d3R-CQ2b"
      },
      "source": [
        "<a name=\"fimportance\"></a>"
      ]
    },
    {
      "cell_type": "markdown",
      "metadata": {
        "id": "wItI4aw5CQ2b"
      },
      "source": [
        "# Importância de Recursos _(Feature Importance)_ \n",
        "\n",
        "<br>\n",
        "\n",
        "[início](#topo)"
      ]
    },
    {
      "cell_type": "code",
      "metadata": {
        "id": "23H33FG7CQ2c"
      },
      "source": [
        ""
      ],
      "execution_count": null,
      "outputs": []
    },
    {
      "cell_type": "code",
      "metadata": {
        "id": "UyzzPEkrCQ2d"
      },
      "source": [
        ""
      ],
      "execution_count": null,
      "outputs": []
    },
    {
      "cell_type": "code",
      "metadata": {
        "id": "evsXbirBCQ2f"
      },
      "source": [
        ""
      ],
      "execution_count": null,
      "outputs": []
    },
    {
      "cell_type": "code",
      "metadata": {
        "id": "M4Pg3n02CQ2f"
      },
      "source": [
        ""
      ],
      "execution_count": null,
      "outputs": []
    },
    {
      "cell_type": "code",
      "metadata": {
        "id": "uUNHMl_pCQ2g"
      },
      "source": [
        ""
      ],
      "execution_count": null,
      "outputs": []
    },
    {
      "cell_type": "code",
      "metadata": {
        "id": "_N9suqx7CQ2g"
      },
      "source": [
        ""
      ],
      "execution_count": null,
      "outputs": []
    },
    {
      "cell_type": "code",
      "metadata": {
        "id": "49zjo9EQCQ2h"
      },
      "source": [
        ""
      ],
      "execution_count": null,
      "outputs": []
    },
    {
      "cell_type": "code",
      "metadata": {
        "id": "u9eXhjqKCQ2i"
      },
      "source": [
        ""
      ],
      "execution_count": null,
      "outputs": []
    },
    {
      "cell_type": "code",
      "metadata": {
        "id": "QxzxYfGxCQ2i"
      },
      "source": [
        ""
      ],
      "execution_count": null,
      "outputs": []
    },
    {
      "cell_type": "code",
      "metadata": {
        "id": "f6AoOamcCQ2i"
      },
      "source": [
        ""
      ],
      "execution_count": null,
      "outputs": []
    },
    {
      "cell_type": "code",
      "metadata": {
        "id": "vVxkiMTdCQ2j"
      },
      "source": [
        ""
      ],
      "execution_count": null,
      "outputs": []
    },
    {
      "cell_type": "code",
      "metadata": {
        "id": "OxKswQVpCQ2j"
      },
      "source": [
        ""
      ],
      "execution_count": null,
      "outputs": []
    },
    {
      "cell_type": "code",
      "metadata": {
        "id": "c0pGFsDMCQ2k"
      },
      "source": [
        ""
      ],
      "execution_count": null,
      "outputs": []
    },
    {
      "cell_type": "code",
      "metadata": {
        "id": "pgevZBvkCQ2k"
      },
      "source": [
        ""
      ],
      "execution_count": null,
      "outputs": []
    },
    {
      "cell_type": "markdown",
      "metadata": {
        "id": "uIaLFewKCQ2l"
      },
      "source": [
        "<a name=\"submissao\"></a>"
      ]
    },
    {
      "cell_type": "markdown",
      "metadata": {
        "id": "t9gB6FceCQ2m"
      },
      "source": [
        "# Submissão\n",
        "\n",
        "<br>\n",
        "\n",
        "[início](#topo)"
      ]
    },
    {
      "cell_type": "code",
      "metadata": {
        "id": "GSRXibWGCQ2m"
      },
      "source": [
        ""
      ],
      "execution_count": null,
      "outputs": []
    },
    {
      "cell_type": "code",
      "metadata": {
        "id": "E54-vJL-CQ2n"
      },
      "source": [
        ""
      ],
      "execution_count": null,
      "outputs": []
    },
    {
      "cell_type": "code",
      "metadata": {
        "id": "zQm2dPfOCQ2n"
      },
      "source": [
        ""
      ],
      "execution_count": null,
      "outputs": []
    },
    {
      "cell_type": "code",
      "metadata": {
        "id": "URNutdrMCQ2o"
      },
      "source": [
        ""
      ],
      "execution_count": null,
      "outputs": []
    },
    {
      "cell_type": "code",
      "metadata": {
        "id": "9TY91dZYCQ2p"
      },
      "source": [
        ""
      ],
      "execution_count": null,
      "outputs": []
    }
  ]
}